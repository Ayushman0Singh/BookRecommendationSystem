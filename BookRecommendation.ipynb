{
  "nbformat": 4,
  "nbformat_minor": 0,
  "metadata": {
    "colab": {
      "name": "BookRecommendation.ipynb",
      "provenance": [],
      "authorship_tag": "ABX9TyNX6ObAZ6FdSRt/pXNdR+HK",
      "include_colab_link": true
    },
    "kernelspec": {
      "name": "python3",
      "display_name": "Python 3"
    },
    "language_info": {
      "name": "python"
    }
  },
  "cells": [
    {
      "cell_type": "markdown",
      "metadata": {
        "id": "view-in-github",
        "colab_type": "text"
      },
      "source": [
        "<a href=\"https://colab.research.google.com/github/Ayushman0Singh/BookRecommendationSystem/blob/main/BookRecommendation.ipynb\" target=\"_parent\"><img src=\"https://colab.research.google.com/assets/colab-badge.svg\" alt=\"Open In Colab\"/></a>"
      ]
    },
    {
      "cell_type": "markdown",
      "source": [
        "# **BOOK RECOMMENDATION**"
      ],
      "metadata": {
        "id": "Lm756o33cRpZ"
      }
    },
    {
      "cell_type": "markdown",
      "source": [
        "# Business Problem"
      ],
      "metadata": {
        "id": "MdHEEq-PfNxa"
      }
    },
    {
      "cell_type": "markdown",
      "source": [
        "Online book reading and selling websites like Kindle and Goodreads compete against each other on many factors. One of those important factors is their book recommendation system. A book recommendation system is designed to recommend books of interest to the buyer.\n",
        "\n",
        "\n",
        "The purpose of a book recommendation system is to predict buyer’s interest and recommend books to them accordingly. A book recommendation system can take into account many parameters like book content and book quality by filtering user reviews.I will try to make a recommendation system for our given data set."
      ],
      "metadata": {
        "id": "92MpluFddPnA"
      }
    },
    {
      "cell_type": "code",
      "execution_count": 1,
      "metadata": {
        "id": "J5L4ImAmp14J"
      },
      "outputs": [],
      "source": [
        "#importing necessary libraries \n",
        "import numpy as np \n",
        "import pandas as pd\n",
        "import seaborn as sns\n",
        "import matplotlib.pyplot as plt\n",
        "from sklearn.model_selection import train_test_split\n",
        "import random\n",
        "# we will import libraries further as per need"
      ]
    },
    {
      "cell_type": "code",
      "source": [
        "from google.colab import drive # mounting drive\n",
        "drive.mount('/content/drive')"
      ],
      "metadata": {
        "colab": {
          "base_uri": "https://localhost:8080/"
        },
        "id": "mRjjIHfUf6XQ",
        "outputId": "6cda3536-813c-4052-a66b-f868c4d85560"
      },
      "execution_count": 2,
      "outputs": [
        {
          "output_type": "stream",
          "name": "stdout",
          "text": [
            "Mounted at /content/drive\n"
          ]
        }
      ]
    },
    {
      "cell_type": "markdown",
      "source": [
        "We have been given 3 data sets, Lets have a look at all the data provided to us and its properties"
      ],
      "metadata": {
        "id": "aSYyTsCWg42p"
      }
    },
    {
      "cell_type": "code",
      "source": [
        "books = pd.read_csv(\"/content/drive/MyDrive/Almabetter/Capstone Projects/Unsupervised ML/Copy of Books.csv\")\n",
        "users = pd.read_csv(\"/content/drive/MyDrive/Almabetter/Capstone Projects/Unsupervised ML/Copy of Users.csv\")\n",
        "ratings = pd.read_csv(\"/content/drive/MyDrive/Almabetter/Capstone Projects/Unsupervised ML/Copy of Ratings.csv\")"
      ],
      "metadata": {
        "colab": {
          "base_uri": "https://localhost:8080/"
        },
        "id": "KBugC6Wnfq5G",
        "outputId": "17fc587f-8f42-4684-cba0-d743a887fc3b"
      },
      "execution_count": 3,
      "outputs": [
        {
          "output_type": "stream",
          "name": "stderr",
          "text": [
            "/usr/local/lib/python3.7/dist-packages/IPython/core/interactiveshell.py:2882: DtypeWarning: Columns (3) have mixed types.Specify dtype option on import or set low_memory=False.\n",
            "  exec(code_obj, self.user_global_ns, self.user_ns)\n"
          ]
        }
      ]
    },
    {
      "cell_type": "code",
      "source": [
        "books.head(4) # checking the head and columns "
      ],
      "metadata": {
        "colab": {
          "base_uri": "https://localhost:8080/",
          "height": 412
        },
        "id": "gGqsJCshhoJK",
        "outputId": "254c1e67-4a1f-4da1-e089-592b2b754278"
      },
      "execution_count": null,
      "outputs": [
        {
          "output_type": "execute_result",
          "data": {
            "text/plain": [
              "         ISBN                                         Book-Title  \\\n",
              "0  0195153448                                Classical Mythology   \n",
              "1  0002005018                                       Clara Callan   \n",
              "2  0060973129                               Decision in Normandy   \n",
              "3  0374157065  Flu: The Story of the Great Influenza Pandemic...   \n",
              "\n",
              "            Book-Author Year-Of-Publication                Publisher  \\\n",
              "0    Mark P. O. Morford                2002  Oxford University Press   \n",
              "1  Richard Bruce Wright                2001    HarperFlamingo Canada   \n",
              "2          Carlo D'Este                1991          HarperPerennial   \n",
              "3      Gina Bari Kolata                1999     Farrar Straus Giroux   \n",
              "\n",
              "                                         Image-URL-S  \\\n",
              "0  http://images.amazon.com/images/P/0195153448.0...   \n",
              "1  http://images.amazon.com/images/P/0002005018.0...   \n",
              "2  http://images.amazon.com/images/P/0060973129.0...   \n",
              "3  http://images.amazon.com/images/P/0374157065.0...   \n",
              "\n",
              "                                         Image-URL-M  \\\n",
              "0  http://images.amazon.com/images/P/0195153448.0...   \n",
              "1  http://images.amazon.com/images/P/0002005018.0...   \n",
              "2  http://images.amazon.com/images/P/0060973129.0...   \n",
              "3  http://images.amazon.com/images/P/0374157065.0...   \n",
              "\n",
              "                                         Image-URL-L  \n",
              "0  http://images.amazon.com/images/P/0195153448.0...  \n",
              "1  http://images.amazon.com/images/P/0002005018.0...  \n",
              "2  http://images.amazon.com/images/P/0060973129.0...  \n",
              "3  http://images.amazon.com/images/P/0374157065.0...  "
            ],
            "text/html": [
              "\n",
              "  <div id=\"df-44c41c5f-4606-4e0f-ad53-76c5c5030a93\">\n",
              "    <div class=\"colab-df-container\">\n",
              "      <div>\n",
              "<style scoped>\n",
              "    .dataframe tbody tr th:only-of-type {\n",
              "        vertical-align: middle;\n",
              "    }\n",
              "\n",
              "    .dataframe tbody tr th {\n",
              "        vertical-align: top;\n",
              "    }\n",
              "\n",
              "    .dataframe thead th {\n",
              "        text-align: right;\n",
              "    }\n",
              "</style>\n",
              "<table border=\"1\" class=\"dataframe\">\n",
              "  <thead>\n",
              "    <tr style=\"text-align: right;\">\n",
              "      <th></th>\n",
              "      <th>ISBN</th>\n",
              "      <th>Book-Title</th>\n",
              "      <th>Book-Author</th>\n",
              "      <th>Year-Of-Publication</th>\n",
              "      <th>Publisher</th>\n",
              "      <th>Image-URL-S</th>\n",
              "      <th>Image-URL-M</th>\n",
              "      <th>Image-URL-L</th>\n",
              "    </tr>\n",
              "  </thead>\n",
              "  <tbody>\n",
              "    <tr>\n",
              "      <th>0</th>\n",
              "      <td>0195153448</td>\n",
              "      <td>Classical Mythology</td>\n",
              "      <td>Mark P. O. Morford</td>\n",
              "      <td>2002</td>\n",
              "      <td>Oxford University Press</td>\n",
              "      <td>http://images.amazon.com/images/P/0195153448.0...</td>\n",
              "      <td>http://images.amazon.com/images/P/0195153448.0...</td>\n",
              "      <td>http://images.amazon.com/images/P/0195153448.0...</td>\n",
              "    </tr>\n",
              "    <tr>\n",
              "      <th>1</th>\n",
              "      <td>0002005018</td>\n",
              "      <td>Clara Callan</td>\n",
              "      <td>Richard Bruce Wright</td>\n",
              "      <td>2001</td>\n",
              "      <td>HarperFlamingo Canada</td>\n",
              "      <td>http://images.amazon.com/images/P/0002005018.0...</td>\n",
              "      <td>http://images.amazon.com/images/P/0002005018.0...</td>\n",
              "      <td>http://images.amazon.com/images/P/0002005018.0...</td>\n",
              "    </tr>\n",
              "    <tr>\n",
              "      <th>2</th>\n",
              "      <td>0060973129</td>\n",
              "      <td>Decision in Normandy</td>\n",
              "      <td>Carlo D'Este</td>\n",
              "      <td>1991</td>\n",
              "      <td>HarperPerennial</td>\n",
              "      <td>http://images.amazon.com/images/P/0060973129.0...</td>\n",
              "      <td>http://images.amazon.com/images/P/0060973129.0...</td>\n",
              "      <td>http://images.amazon.com/images/P/0060973129.0...</td>\n",
              "    </tr>\n",
              "    <tr>\n",
              "      <th>3</th>\n",
              "      <td>0374157065</td>\n",
              "      <td>Flu: The Story of the Great Influenza Pandemic...</td>\n",
              "      <td>Gina Bari Kolata</td>\n",
              "      <td>1999</td>\n",
              "      <td>Farrar Straus Giroux</td>\n",
              "      <td>http://images.amazon.com/images/P/0374157065.0...</td>\n",
              "      <td>http://images.amazon.com/images/P/0374157065.0...</td>\n",
              "      <td>http://images.amazon.com/images/P/0374157065.0...</td>\n",
              "    </tr>\n",
              "  </tbody>\n",
              "</table>\n",
              "</div>\n",
              "      <button class=\"colab-df-convert\" onclick=\"convertToInteractive('df-44c41c5f-4606-4e0f-ad53-76c5c5030a93')\"\n",
              "              title=\"Convert this dataframe to an interactive table.\"\n",
              "              style=\"display:none;\">\n",
              "        \n",
              "  <svg xmlns=\"http://www.w3.org/2000/svg\" height=\"24px\"viewBox=\"0 0 24 24\"\n",
              "       width=\"24px\">\n",
              "    <path d=\"M0 0h24v24H0V0z\" fill=\"none\"/>\n",
              "    <path d=\"M18.56 5.44l.94 2.06.94-2.06 2.06-.94-2.06-.94-.94-2.06-.94 2.06-2.06.94zm-11 1L8.5 8.5l.94-2.06 2.06-.94-2.06-.94L8.5 2.5l-.94 2.06-2.06.94zm10 10l.94 2.06.94-2.06 2.06-.94-2.06-.94-.94-2.06-.94 2.06-2.06.94z\"/><path d=\"M17.41 7.96l-1.37-1.37c-.4-.4-.92-.59-1.43-.59-.52 0-1.04.2-1.43.59L10.3 9.45l-7.72 7.72c-.78.78-.78 2.05 0 2.83L4 21.41c.39.39.9.59 1.41.59.51 0 1.02-.2 1.41-.59l7.78-7.78 2.81-2.81c.8-.78.8-2.07 0-2.86zM5.41 20L4 18.59l7.72-7.72 1.47 1.35L5.41 20z\"/>\n",
              "  </svg>\n",
              "      </button>\n",
              "      \n",
              "  <style>\n",
              "    .colab-df-container {\n",
              "      display:flex;\n",
              "      flex-wrap:wrap;\n",
              "      gap: 12px;\n",
              "    }\n",
              "\n",
              "    .colab-df-convert {\n",
              "      background-color: #E8F0FE;\n",
              "      border: none;\n",
              "      border-radius: 50%;\n",
              "      cursor: pointer;\n",
              "      display: none;\n",
              "      fill: #1967D2;\n",
              "      height: 32px;\n",
              "      padding: 0 0 0 0;\n",
              "      width: 32px;\n",
              "    }\n",
              "\n",
              "    .colab-df-convert:hover {\n",
              "      background-color: #E2EBFA;\n",
              "      box-shadow: 0px 1px 2px rgba(60, 64, 67, 0.3), 0px 1px 3px 1px rgba(60, 64, 67, 0.15);\n",
              "      fill: #174EA6;\n",
              "    }\n",
              "\n",
              "    [theme=dark] .colab-df-convert {\n",
              "      background-color: #3B4455;\n",
              "      fill: #D2E3FC;\n",
              "    }\n",
              "\n",
              "    [theme=dark] .colab-df-convert:hover {\n",
              "      background-color: #434B5C;\n",
              "      box-shadow: 0px 1px 3px 1px rgba(0, 0, 0, 0.15);\n",
              "      filter: drop-shadow(0px 1px 2px rgba(0, 0, 0, 0.3));\n",
              "      fill: #FFFFFF;\n",
              "    }\n",
              "  </style>\n",
              "\n",
              "      <script>\n",
              "        const buttonEl =\n",
              "          document.querySelector('#df-44c41c5f-4606-4e0f-ad53-76c5c5030a93 button.colab-df-convert');\n",
              "        buttonEl.style.display =\n",
              "          google.colab.kernel.accessAllowed ? 'block' : 'none';\n",
              "\n",
              "        async function convertToInteractive(key) {\n",
              "          const element = document.querySelector('#df-44c41c5f-4606-4e0f-ad53-76c5c5030a93');\n",
              "          const dataTable =\n",
              "            await google.colab.kernel.invokeFunction('convertToInteractive',\n",
              "                                                     [key], {});\n",
              "          if (!dataTable) return;\n",
              "\n",
              "          const docLinkHtml = 'Like what you see? Visit the ' +\n",
              "            '<a target=\"_blank\" href=https://colab.research.google.com/notebooks/data_table.ipynb>data table notebook</a>'\n",
              "            + ' to learn more about interactive tables.';\n",
              "          element.innerHTML = '';\n",
              "          dataTable['output_type'] = 'display_data';\n",
              "          await google.colab.output.renderOutput(dataTable, element);\n",
              "          const docLink = document.createElement('div');\n",
              "          docLink.innerHTML = docLinkHtml;\n",
              "          element.appendChild(docLink);\n",
              "        }\n",
              "      </script>\n",
              "    </div>\n",
              "  </div>\n",
              "  "
            ]
          },
          "metadata": {},
          "execution_count": 5
        }
      ]
    },
    {
      "cell_type": "code",
      "source": [
        "users.head(5) #first look at the given data"
      ],
      "metadata": {
        "colab": {
          "base_uri": "https://localhost:8080/",
          "height": 206
        },
        "id": "X6d9sQGdYBvB",
        "outputId": "9925e461-0597-47c9-dc41-9602ee3148bd"
      },
      "execution_count": null,
      "outputs": [
        {
          "output_type": "execute_result",
          "data": {
            "text/plain": [
              "   User-ID                            Location   Age\n",
              "0        1                  nyc, new york, usa   NaN\n",
              "1        2           stockton, california, usa  18.0\n",
              "2        3     moscow, yukon territory, russia   NaN\n",
              "3        4           porto, v.n.gaia, portugal  17.0\n",
              "4        5  farnborough, hants, united kingdom   NaN"
            ],
            "text/html": [
              "\n",
              "  <div id=\"df-a5231054-a016-4daa-a6e9-b0b0ce6d92f9\">\n",
              "    <div class=\"colab-df-container\">\n",
              "      <div>\n",
              "<style scoped>\n",
              "    .dataframe tbody tr th:only-of-type {\n",
              "        vertical-align: middle;\n",
              "    }\n",
              "\n",
              "    .dataframe tbody tr th {\n",
              "        vertical-align: top;\n",
              "    }\n",
              "\n",
              "    .dataframe thead th {\n",
              "        text-align: right;\n",
              "    }\n",
              "</style>\n",
              "<table border=\"1\" class=\"dataframe\">\n",
              "  <thead>\n",
              "    <tr style=\"text-align: right;\">\n",
              "      <th></th>\n",
              "      <th>User-ID</th>\n",
              "      <th>Location</th>\n",
              "      <th>Age</th>\n",
              "    </tr>\n",
              "  </thead>\n",
              "  <tbody>\n",
              "    <tr>\n",
              "      <th>0</th>\n",
              "      <td>1</td>\n",
              "      <td>nyc, new york, usa</td>\n",
              "      <td>NaN</td>\n",
              "    </tr>\n",
              "    <tr>\n",
              "      <th>1</th>\n",
              "      <td>2</td>\n",
              "      <td>stockton, california, usa</td>\n",
              "      <td>18.0</td>\n",
              "    </tr>\n",
              "    <tr>\n",
              "      <th>2</th>\n",
              "      <td>3</td>\n",
              "      <td>moscow, yukon territory, russia</td>\n",
              "      <td>NaN</td>\n",
              "    </tr>\n",
              "    <tr>\n",
              "      <th>3</th>\n",
              "      <td>4</td>\n",
              "      <td>porto, v.n.gaia, portugal</td>\n",
              "      <td>17.0</td>\n",
              "    </tr>\n",
              "    <tr>\n",
              "      <th>4</th>\n",
              "      <td>5</td>\n",
              "      <td>farnborough, hants, united kingdom</td>\n",
              "      <td>NaN</td>\n",
              "    </tr>\n",
              "  </tbody>\n",
              "</table>\n",
              "</div>\n",
              "      <button class=\"colab-df-convert\" onclick=\"convertToInteractive('df-a5231054-a016-4daa-a6e9-b0b0ce6d92f9')\"\n",
              "              title=\"Convert this dataframe to an interactive table.\"\n",
              "              style=\"display:none;\">\n",
              "        \n",
              "  <svg xmlns=\"http://www.w3.org/2000/svg\" height=\"24px\"viewBox=\"0 0 24 24\"\n",
              "       width=\"24px\">\n",
              "    <path d=\"M0 0h24v24H0V0z\" fill=\"none\"/>\n",
              "    <path d=\"M18.56 5.44l.94 2.06.94-2.06 2.06-.94-2.06-.94-.94-2.06-.94 2.06-2.06.94zm-11 1L8.5 8.5l.94-2.06 2.06-.94-2.06-.94L8.5 2.5l-.94 2.06-2.06.94zm10 10l.94 2.06.94-2.06 2.06-.94-2.06-.94-.94-2.06-.94 2.06-2.06.94z\"/><path d=\"M17.41 7.96l-1.37-1.37c-.4-.4-.92-.59-1.43-.59-.52 0-1.04.2-1.43.59L10.3 9.45l-7.72 7.72c-.78.78-.78 2.05 0 2.83L4 21.41c.39.39.9.59 1.41.59.51 0 1.02-.2 1.41-.59l7.78-7.78 2.81-2.81c.8-.78.8-2.07 0-2.86zM5.41 20L4 18.59l7.72-7.72 1.47 1.35L5.41 20z\"/>\n",
              "  </svg>\n",
              "      </button>\n",
              "      \n",
              "  <style>\n",
              "    .colab-df-container {\n",
              "      display:flex;\n",
              "      flex-wrap:wrap;\n",
              "      gap: 12px;\n",
              "    }\n",
              "\n",
              "    .colab-df-convert {\n",
              "      background-color: #E8F0FE;\n",
              "      border: none;\n",
              "      border-radius: 50%;\n",
              "      cursor: pointer;\n",
              "      display: none;\n",
              "      fill: #1967D2;\n",
              "      height: 32px;\n",
              "      padding: 0 0 0 0;\n",
              "      width: 32px;\n",
              "    }\n",
              "\n",
              "    .colab-df-convert:hover {\n",
              "      background-color: #E2EBFA;\n",
              "      box-shadow: 0px 1px 2px rgba(60, 64, 67, 0.3), 0px 1px 3px 1px rgba(60, 64, 67, 0.15);\n",
              "      fill: #174EA6;\n",
              "    }\n",
              "\n",
              "    [theme=dark] .colab-df-convert {\n",
              "      background-color: #3B4455;\n",
              "      fill: #D2E3FC;\n",
              "    }\n",
              "\n",
              "    [theme=dark] .colab-df-convert:hover {\n",
              "      background-color: #434B5C;\n",
              "      box-shadow: 0px 1px 3px 1px rgba(0, 0, 0, 0.15);\n",
              "      filter: drop-shadow(0px 1px 2px rgba(0, 0, 0, 0.3));\n",
              "      fill: #FFFFFF;\n",
              "    }\n",
              "  </style>\n",
              "\n",
              "      <script>\n",
              "        const buttonEl =\n",
              "          document.querySelector('#df-a5231054-a016-4daa-a6e9-b0b0ce6d92f9 button.colab-df-convert');\n",
              "        buttonEl.style.display =\n",
              "          google.colab.kernel.accessAllowed ? 'block' : 'none';\n",
              "\n",
              "        async function convertToInteractive(key) {\n",
              "          const element = document.querySelector('#df-a5231054-a016-4daa-a6e9-b0b0ce6d92f9');\n",
              "          const dataTable =\n",
              "            await google.colab.kernel.invokeFunction('convertToInteractive',\n",
              "                                                     [key], {});\n",
              "          if (!dataTable) return;\n",
              "\n",
              "          const docLinkHtml = 'Like what you see? Visit the ' +\n",
              "            '<a target=\"_blank\" href=https://colab.research.google.com/notebooks/data_table.ipynb>data table notebook</a>'\n",
              "            + ' to learn more about interactive tables.';\n",
              "          element.innerHTML = '';\n",
              "          dataTable['output_type'] = 'display_data';\n",
              "          await google.colab.output.renderOutput(dataTable, element);\n",
              "          const docLink = document.createElement('div');\n",
              "          docLink.innerHTML = docLinkHtml;\n",
              "          element.appendChild(docLink);\n",
              "        }\n",
              "      </script>\n",
              "    </div>\n",
              "  </div>\n",
              "  "
            ]
          },
          "metadata": {},
          "execution_count": 6
        }
      ]
    },
    {
      "cell_type": "code",
      "source": [
        "ratings.head(5) # chcking the given data-sets"
      ],
      "metadata": {
        "colab": {
          "base_uri": "https://localhost:8080/",
          "height": 206
        },
        "id": "7ldIYh6RYE8x",
        "outputId": "4f5f9086-b3a8-4579-a56b-1a99a9a48f0e"
      },
      "execution_count": null,
      "outputs": [
        {
          "output_type": "execute_result",
          "data": {
            "text/plain": [
              "   User-ID        ISBN  Book-Rating\n",
              "0   276725  034545104X            0\n",
              "1   276726  0155061224            5\n",
              "2   276727  0446520802            0\n",
              "3   276729  052165615X            3\n",
              "4   276729  0521795028            6"
            ],
            "text/html": [
              "\n",
              "  <div id=\"df-dabcb515-a388-416e-b054-fa7e362e77d8\">\n",
              "    <div class=\"colab-df-container\">\n",
              "      <div>\n",
              "<style scoped>\n",
              "    .dataframe tbody tr th:only-of-type {\n",
              "        vertical-align: middle;\n",
              "    }\n",
              "\n",
              "    .dataframe tbody tr th {\n",
              "        vertical-align: top;\n",
              "    }\n",
              "\n",
              "    .dataframe thead th {\n",
              "        text-align: right;\n",
              "    }\n",
              "</style>\n",
              "<table border=\"1\" class=\"dataframe\">\n",
              "  <thead>\n",
              "    <tr style=\"text-align: right;\">\n",
              "      <th></th>\n",
              "      <th>User-ID</th>\n",
              "      <th>ISBN</th>\n",
              "      <th>Book-Rating</th>\n",
              "    </tr>\n",
              "  </thead>\n",
              "  <tbody>\n",
              "    <tr>\n",
              "      <th>0</th>\n",
              "      <td>276725</td>\n",
              "      <td>034545104X</td>\n",
              "      <td>0</td>\n",
              "    </tr>\n",
              "    <tr>\n",
              "      <th>1</th>\n",
              "      <td>276726</td>\n",
              "      <td>0155061224</td>\n",
              "      <td>5</td>\n",
              "    </tr>\n",
              "    <tr>\n",
              "      <th>2</th>\n",
              "      <td>276727</td>\n",
              "      <td>0446520802</td>\n",
              "      <td>0</td>\n",
              "    </tr>\n",
              "    <tr>\n",
              "      <th>3</th>\n",
              "      <td>276729</td>\n",
              "      <td>052165615X</td>\n",
              "      <td>3</td>\n",
              "    </tr>\n",
              "    <tr>\n",
              "      <th>4</th>\n",
              "      <td>276729</td>\n",
              "      <td>0521795028</td>\n",
              "      <td>6</td>\n",
              "    </tr>\n",
              "  </tbody>\n",
              "</table>\n",
              "</div>\n",
              "      <button class=\"colab-df-convert\" onclick=\"convertToInteractive('df-dabcb515-a388-416e-b054-fa7e362e77d8')\"\n",
              "              title=\"Convert this dataframe to an interactive table.\"\n",
              "              style=\"display:none;\">\n",
              "        \n",
              "  <svg xmlns=\"http://www.w3.org/2000/svg\" height=\"24px\"viewBox=\"0 0 24 24\"\n",
              "       width=\"24px\">\n",
              "    <path d=\"M0 0h24v24H0V0z\" fill=\"none\"/>\n",
              "    <path d=\"M18.56 5.44l.94 2.06.94-2.06 2.06-.94-2.06-.94-.94-2.06-.94 2.06-2.06.94zm-11 1L8.5 8.5l.94-2.06 2.06-.94-2.06-.94L8.5 2.5l-.94 2.06-2.06.94zm10 10l.94 2.06.94-2.06 2.06-.94-2.06-.94-.94-2.06-.94 2.06-2.06.94z\"/><path d=\"M17.41 7.96l-1.37-1.37c-.4-.4-.92-.59-1.43-.59-.52 0-1.04.2-1.43.59L10.3 9.45l-7.72 7.72c-.78.78-.78 2.05 0 2.83L4 21.41c.39.39.9.59 1.41.59.51 0 1.02-.2 1.41-.59l7.78-7.78 2.81-2.81c.8-.78.8-2.07 0-2.86zM5.41 20L4 18.59l7.72-7.72 1.47 1.35L5.41 20z\"/>\n",
              "  </svg>\n",
              "      </button>\n",
              "      \n",
              "  <style>\n",
              "    .colab-df-container {\n",
              "      display:flex;\n",
              "      flex-wrap:wrap;\n",
              "      gap: 12px;\n",
              "    }\n",
              "\n",
              "    .colab-df-convert {\n",
              "      background-color: #E8F0FE;\n",
              "      border: none;\n",
              "      border-radius: 50%;\n",
              "      cursor: pointer;\n",
              "      display: none;\n",
              "      fill: #1967D2;\n",
              "      height: 32px;\n",
              "      padding: 0 0 0 0;\n",
              "      width: 32px;\n",
              "    }\n",
              "\n",
              "    .colab-df-convert:hover {\n",
              "      background-color: #E2EBFA;\n",
              "      box-shadow: 0px 1px 2px rgba(60, 64, 67, 0.3), 0px 1px 3px 1px rgba(60, 64, 67, 0.15);\n",
              "      fill: #174EA6;\n",
              "    }\n",
              "\n",
              "    [theme=dark] .colab-df-convert {\n",
              "      background-color: #3B4455;\n",
              "      fill: #D2E3FC;\n",
              "    }\n",
              "\n",
              "    [theme=dark] .colab-df-convert:hover {\n",
              "      background-color: #434B5C;\n",
              "      box-shadow: 0px 1px 3px 1px rgba(0, 0, 0, 0.15);\n",
              "      filter: drop-shadow(0px 1px 2px rgba(0, 0, 0, 0.3));\n",
              "      fill: #FFFFFF;\n",
              "    }\n",
              "  </style>\n",
              "\n",
              "      <script>\n",
              "        const buttonEl =\n",
              "          document.querySelector('#df-dabcb515-a388-416e-b054-fa7e362e77d8 button.colab-df-convert');\n",
              "        buttonEl.style.display =\n",
              "          google.colab.kernel.accessAllowed ? 'block' : 'none';\n",
              "\n",
              "        async function convertToInteractive(key) {\n",
              "          const element = document.querySelector('#df-dabcb515-a388-416e-b054-fa7e362e77d8');\n",
              "          const dataTable =\n",
              "            await google.colab.kernel.invokeFunction('convertToInteractive',\n",
              "                                                     [key], {});\n",
              "          if (!dataTable) return;\n",
              "\n",
              "          const docLinkHtml = 'Like what you see? Visit the ' +\n",
              "            '<a target=\"_blank\" href=https://colab.research.google.com/notebooks/data_table.ipynb>data table notebook</a>'\n",
              "            + ' to learn more about interactive tables.';\n",
              "          element.innerHTML = '';\n",
              "          dataTable['output_type'] = 'display_data';\n",
              "          await google.colab.output.renderOutput(dataTable, element);\n",
              "          const docLink = document.createElement('div');\n",
              "          docLink.innerHTML = docLinkHtml;\n",
              "          element.appendChild(docLink);\n",
              "        }\n",
              "      </script>\n",
              "    </div>\n",
              "  </div>\n",
              "  "
            ]
          },
          "metadata": {},
          "execution_count": 7
        }
      ]
    },
    {
      "cell_type": "code",
      "source": [
        "#dimensions of book dataframe\n",
        "books.shape"
      ],
      "metadata": {
        "colab": {
          "base_uri": "https://localhost:8080/"
        },
        "id": "Yai0x-7niEqP",
        "outputId": "47d89d86-805c-48a4-dff0-665088031192"
      },
      "execution_count": null,
      "outputs": [
        {
          "output_type": "execute_result",
          "data": {
            "text/plain": [
              "(271360, 8)"
            ]
          },
          "metadata": {},
          "execution_count": 63
        }
      ]
    },
    {
      "cell_type": "code",
      "source": [
        "#checking shape\n",
        "users.shape"
      ],
      "metadata": {
        "colab": {
          "base_uri": "https://localhost:8080/"
        },
        "id": "eCHFFUt_hoO0",
        "outputId": "4f121979-10cc-41ee-84e6-27e2ead7c4a4"
      },
      "execution_count": null,
      "outputs": [
        {
          "output_type": "execute_result",
          "data": {
            "text/plain": [
              "(278858, 3)"
            ]
          },
          "metadata": {},
          "execution_count": 64
        }
      ]
    },
    {
      "cell_type": "code",
      "source": [
        "ratings.shape"
      ],
      "metadata": {
        "colab": {
          "base_uri": "https://localhost:8080/"
        },
        "id": "3WLMUYi3BdxL",
        "outputId": "254409f4-f72e-4762-f931-fe9790b22ea0"
      },
      "execution_count": 5,
      "outputs": [
        {
          "output_type": "execute_result",
          "data": {
            "text/plain": [
              "(1149780, 3)"
            ]
          },
          "metadata": {},
          "execution_count": 5
        }
      ]
    },
    {
      "cell_type": "code",
      "source": [
        "# dimensions of the 3rd data set\n",
        "ratings['Book-Rating'].value_counts()"
      ],
      "metadata": {
        "colab": {
          "base_uri": "https://localhost:8080/"
        },
        "id": "8OlWxAguibFc",
        "outputId": "cacfb160-6b0d-4970-ec2f-8b6f66662f1a"
      },
      "execution_count": null,
      "outputs": [
        {
          "output_type": "execute_result",
          "data": {
            "text/plain": [
              "0     716109\n",
              "8     103736\n",
              "10     78610\n",
              "7      76457\n",
              "9      67541\n",
              "5      50974\n",
              "6      36924\n",
              "4       8904\n",
              "3       5996\n",
              "2       2759\n",
              "1       1770\n",
              "Name: Book-Rating, dtype: int64"
            ]
          },
          "metadata": {},
          "execution_count": 65
        }
      ]
    },
    {
      "cell_type": "markdown",
      "source": [
        "Many users have rated books 0"
      ],
      "metadata": {
        "id": "5gPJ2qD5YUOn"
      }
    },
    {
      "cell_type": "markdown",
      "source": [
        "# Data Cleaning"
      ],
      "metadata": {
        "id": "Fc8RSPgtlpUl"
      }
    },
    {
      "cell_type": "markdown",
      "source": [
        "Before moving onto the data visualisation and EDA. First, lets make sure our data is ready to use.\n"
      ],
      "metadata": {
        "id": "WQ1nOcVSl1zA"
      }
    },
    {
      "cell_type": "markdown",
      "source": [
        "**Checking for null values data**"
      ],
      "metadata": {
        "id": "te9isOEpkiBn"
      }
    },
    {
      "cell_type": "code",
      "source": [
        "# Books data-frame null values\n",
        "books.isnull().sum()"
      ],
      "metadata": {
        "colab": {
          "base_uri": "https://localhost:8080/"
        },
        "id": "HF3i7OLiioUU",
        "outputId": "2c8478df-7fdb-4798-86c2-c72c99952a0d"
      },
      "execution_count": null,
      "outputs": [
        {
          "output_type": "execute_result",
          "data": {
            "text/plain": [
              "ISBN                   0\n",
              "Book-Title             0\n",
              "Book-Author            1\n",
              "Year-Of-Publication    0\n",
              "Publisher              2\n",
              "Image-URL-S            0\n",
              "Image-URL-M            0\n",
              "Image-URL-L            3\n",
              "dtype: int64"
            ]
          },
          "metadata": {},
          "execution_count": 8
        }
      ]
    },
    {
      "cell_type": "code",
      "source": [
        "# Users data-frame null values\n",
        "users.isnull().sum()"
      ],
      "metadata": {
        "colab": {
          "base_uri": "https://localhost:8080/"
        },
        "id": "vbgMsLNZYiXT",
        "outputId": "e407925b-d859-4ac3-f0c6-c81affa25463"
      },
      "execution_count": null,
      "outputs": [
        {
          "output_type": "execute_result",
          "data": {
            "text/plain": [
              "User-ID          0\n",
              "Location         0\n",
              "Age         110762\n",
              "dtype: int64"
            ]
          },
          "metadata": {},
          "execution_count": 9
        }
      ]
    },
    {
      "cell_type": "code",
      "source": [
        "#checking the ratings df for null values\n",
        "ratings.isnull().sum()"
      ],
      "metadata": {
        "colab": {
          "base_uri": "https://localhost:8080/"
        },
        "id": "4lY6lWGJibIh",
        "outputId": "16b98fee-2603-4cba-9764-4ac13b479e8e"
      },
      "execution_count": null,
      "outputs": [
        {
          "output_type": "execute_result",
          "data": {
            "text/plain": [
              "User-ID        0\n",
              "ISBN           0\n",
              "Book-Rating    0\n",
              "dtype: int64"
            ]
          },
          "metadata": {},
          "execution_count": 10
        }
      ]
    },
    {
      "cell_type": "markdown",
      "source": [
        "Whatever null values we have will be dealt with when do feature engineering and apply constraints. "
      ],
      "metadata": {
        "id": "4MA33LyCc0O9"
      }
    },
    {
      "cell_type": "markdown",
      "source": [
        "# Exploratory Data Analysis"
      ],
      "metadata": {
        "id": "O3zMVyjbi8g3"
      }
    },
    {
      "cell_type": "markdown",
      "source": [
        "**Rating Distribution**"
      ],
      "metadata": {
        "id": "SYtIn2sJnV1v"
      }
    },
    {
      "cell_type": "code",
      "source": [
        "# show the distribution of rating\n",
        "plt.figure(figsize=(12, 6))\n",
        "sns.countplot(x='Book-Rating', data=ratings)\n",
        "plt.title('Rating Distribution')\n",
        "plt.xticks(rotation=90)\n",
        "plt.ylabel('Number of Books')\n",
        "plt.show()\n",
        "print('Average rating recieved by all the apps is {}.'.format(ratings['Book-Rating'].mean()))"
      ],
      "metadata": {
        "colab": {
          "base_uri": "https://localhost:8080/",
          "height": 424
        },
        "id": "UXlm2bIVnbfk",
        "outputId": "cc3d7cfa-eca2-49a3-dadb-3721e216bd8d"
      },
      "execution_count": null,
      "outputs": [
        {
          "output_type": "display_data",
          "data": {
            "text/plain": [
              "<Figure size 864x432 with 1 Axes>"
            ],
            "image/png": "[encoded data removed]"
          },
          "metadata": {
            "needs_background": "light"
          }
        },
        {
          "output_type": "stream",
          "name": "stdout",
          "text": [
            "Average rating recieved by all the apps is 2.8669501991685364.\n"
          ]
        }
      ]
    },
    {
      "cell_type": "markdown",
      "source": [
        "Most of the ratings are zero\n",
        "\n"
      ],
      "metadata": {
        "id": "pBhR8OuDn-7W"
      }
    },
    {
      "cell_type": "markdown",
      "source": [
        "**HYPOTHESIS**: Most of the users are between the age of 20 to 30 "
      ],
      "metadata": {
        "id": "G1haZsUMzHA1"
      }
    },
    {
      "cell_type": "code",
      "source": [
        "# plotting the age of thee users \n",
        "plt.figure(figsize=(12, 6))\n",
        "sns.histplot(data=users['Age'], bins=np.arange(0,100,10))\n",
        "plt.title('Age Distribution\\n')\n",
        "plt.xlabel('Age')\n",
        "plt.ylabel('Count')"
      ],
      "metadata": {
        "colab": {
          "base_uri": "https://localhost:8080/",
          "height": 436
        },
        "id": "6fJUH6zlyFaL",
        "outputId": "a462a022-19d0-4aab-b750-589e8dc66ca7"
      },
      "execution_count": null,
      "outputs": [
        {
          "output_type": "execute_result",
          "data": {
            "text/plain": [
              "Text(0, 0.5, 'Count')"
            ]
          },
          "metadata": {},
          "execution_count": 12
        },
        {
          "output_type": "display_data",
          "data": {
            "text/plain": [
              "<Figure size 864x432 with 1 Axes>"
            ],
            "image/png": "[encoded data removed]"
          },
          "metadata": {
            "needs_background": "light"
          }
        }
      ]
    },
    {
      "cell_type": "markdown",
      "source": [
        "This verifies our hypothesis most of the users are in the age group of 20-30, followed by 30-40."
      ],
      "metadata": {
        "id": "_JJHpwhnY23g"
      }
    },
    {
      "cell_type": "markdown",
      "source": [
        "# Data cleaning and feature Engineering"
      ],
      "metadata": {
        "id": "OxaTJUiechxP"
      }
    },
    {
      "cell_type": "markdown",
      "source": [
        "We will be using Two methods for our Books recommendation system, first we will use a memory Based colaborative model. Then we will also make a model based Colaboraative recomendation system. We will not be using content based algorithms for recommendation since we do not have enough indivisual features for users and the books. Users only has one extra feature. Moreover we might run into the cold-start problem. \n",
        "\n",
        "For this exercise we will be using two models:\n",
        "\n",
        "**1) Memory based Collaborative filtering (using KNN)**\n",
        "\n",
        "**2) Model based Collaborative filtering (using SVD)**\n"
      ],
      "metadata": {
        "id": "vGnaeO2N0vsm"
      }
    },
    {
      "cell_type": "markdown",
      "source": [
        "I tried to apply the above mentioned models to the full data set but I ran into memory problems. To solve these issues I applied a general threshold for our models. This also takes care of the cold start problem.\n",
        "\n",
        "To reduce the data size we will try to apply certain constraints on the data frame. We can apply many different types of constraints to the dataset. These constraints include:\n",
        "\n",
        "1. **Popularity Threshold**: Minimum number of user-ratings for a book.\n",
        "2. **Active user Threshold**: Minimum number of books read for a unique user to be included in the recommendation system. \n",
        "3. **Regional Recommendation**: We will also recommend stuff regionally. The user will get recommendations from the users of the same location. We will do it for 1 region to not run into memory problems "
      ],
      "metadata": {
        "id": "I7fncK8vHfHg"
      }
    },
    {
      "cell_type": "markdown",
      "source": [
        "**Active User Threshold**\n",
        "\n",
        "\n",
        "Remove users with less than 50 ratings(**inactive users**).\n",
        "\n",
        "To to that, we will apply value_counts on user-id, each repetation of user means a new rating for a book by the same user. Then we will pick up users with atleast 50 repetions/ratings and filter them in our ratings data frame.\n",
        "This also makes sure that all our users are consistent readers. "
      ],
      "metadata": {
        "id": "ha1akQEVDpHX"
      }
    },
    {
      "cell_type": "code",
      "source": [
        "# checking the number of users and thier number ratings\n",
        "counts1 = ratings['User-ID'].value_counts()\n",
        "print(counts1)"
      ],
      "metadata": {
        "colab": {
          "base_uri": "https://localhost:8080/"
        },
        "id": "pvpr3wigNcq9",
        "outputId": "94ff931c-c60d-4c5d-b430-f4be27dff0ce"
      },
      "execution_count": 6,
      "outputs": [
        {
          "output_type": "stream",
          "name": "stdout",
          "text": [
            "11676     13602\n",
            "198711     7550\n",
            "153662     6109\n",
            "98391      5891\n",
            "35859      5850\n",
            "          ...  \n",
            "116180        1\n",
            "116166        1\n",
            "116154        1\n",
            "116137        1\n",
            "276723        1\n",
            "Name: User-ID, Length: 105283, dtype: int64\n"
          ]
        }
      ]
    },
    {
      "cell_type": "code",
      "source": [
        "#keeping users with more than 50 ratings \n",
        "counts1_50 = counts1[counts1 >= 50].index # list of user-ids with more than 200 ratings\n",
        "ratings = ratings[ratings['User-ID'].isin(counts1_50)]  # updating the whole data frame with only users with high ratings"
      ],
      "metadata": {
        "id": "wlQPHxrbDrDZ"
      },
      "execution_count": 7,
      "outputs": []
    },
    {
      "cell_type": "code",
      "source": [
        "ratings"
      ],
      "metadata": {
        "colab": {
          "base_uri": "https://localhost:8080/",
          "height": 424
        },
        "id": "o948KShHUIUD",
        "outputId": "5c8812cf-35e1-4620-87fd-7b7ea3b0bc32"
      },
      "execution_count": 8,
      "outputs": [
        {
          "output_type": "execute_result",
          "data": {
            "text/plain": [
              "         User-ID        ISBN  Book-Rating\n",
              "173       276847  0446364193            0\n",
              "174       276847  3257200552            5\n",
              "175       276847  3379015180            0\n",
              "176       276847  3404145909            8\n",
              "177       276847  3404148576            8\n",
              "...          ...         ...          ...\n",
              "1149744   276688  0836236688           10\n",
              "1149745   276688  0892966548           10\n",
              "1149746   276688  1551669315            6\n",
              "1149747   276688  1575660792            7\n",
              "1149748   276688  1580600506            0\n",
              "\n",
              "[768472 rows x 3 columns]"
            ],
            "text/html": [
              "\n",
              "  <div id=\"df-1c45bbdf-c998-4b8d-b6c7-6b5712f2a4b0\">\n",
              "    <div class=\"colab-df-container\">\n",
              "      <div>\n",
              "<style scoped>\n",
              "    .dataframe tbody tr th:only-of-type {\n",
              "        vertical-align: middle;\n",
              "    }\n",
              "\n",
              "    .dataframe tbody tr th {\n",
              "        vertical-align: top;\n",
              "    }\n",
              "\n",
              "    .dataframe thead th {\n",
              "        text-align: right;\n",
              "    }\n",
              "</style>\n",
              "<table border=\"1\" class=\"dataframe\">\n",
              "  <thead>\n",
              "    <tr style=\"text-align: right;\">\n",
              "      <th></th>\n",
              "      <th>User-ID</th>\n",
              "      <th>ISBN</th>\n",
              "      <th>Book-Rating</th>\n",
              "    </tr>\n",
              "  </thead>\n",
              "  <tbody>\n",
              "    <tr>\n",
              "      <th>173</th>\n",
              "      <td>276847</td>\n",
              "      <td>0446364193</td>\n",
              "      <td>0</td>\n",
              "    </tr>\n",
              "    <tr>\n",
              "      <th>174</th>\n",
              "      <td>276847</td>\n",
              "      <td>3257200552</td>\n",
              "      <td>5</td>\n",
              "    </tr>\n",
              "    <tr>\n",
              "      <th>175</th>\n",
              "      <td>276847</td>\n",
              "      <td>3379015180</td>\n",
              "      <td>0</td>\n",
              "    </tr>\n",
              "    <tr>\n",
              "      <th>176</th>\n",
              "      <td>276847</td>\n",
              "      <td>3404145909</td>\n",
              "      <td>8</td>\n",
              "    </tr>\n",
              "    <tr>\n",
              "      <th>177</th>\n",
              "      <td>276847</td>\n",
              "      <td>3404148576</td>\n",
              "      <td>8</td>\n",
              "    </tr>\n",
              "    <tr>\n",
              "      <th>...</th>\n",
              "      <td>...</td>\n",
              "      <td>...</td>\n",
              "      <td>...</td>\n",
              "    </tr>\n",
              "    <tr>\n",
              "      <th>1149744</th>\n",
              "      <td>276688</td>\n",
              "      <td>0836236688</td>\n",
              "      <td>10</td>\n",
              "    </tr>\n",
              "    <tr>\n",
              "      <th>1149745</th>\n",
              "      <td>276688</td>\n",
              "      <td>0892966548</td>\n",
              "      <td>10</td>\n",
              "    </tr>\n",
              "    <tr>\n",
              "      <th>1149746</th>\n",
              "      <td>276688</td>\n",
              "      <td>1551669315</td>\n",
              "      <td>6</td>\n",
              "    </tr>\n",
              "    <tr>\n",
              "      <th>1149747</th>\n",
              "      <td>276688</td>\n",
              "      <td>1575660792</td>\n",
              "      <td>7</td>\n",
              "    </tr>\n",
              "    <tr>\n",
              "      <th>1149748</th>\n",
              "      <td>276688</td>\n",
              "      <td>1580600506</td>\n",
              "      <td>0</td>\n",
              "    </tr>\n",
              "  </tbody>\n",
              "</table>\n",
              "<p>768472 rows × 3 columns</p>\n",
              "</div>\n",
              "      <button class=\"colab-df-convert\" onclick=\"convertToInteractive('df-1c45bbdf-c998-4b8d-b6c7-6b5712f2a4b0')\"\n",
              "              title=\"Convert this dataframe to an interactive table.\"\n",
              "              style=\"display:none;\">\n",
              "        \n",
              "  <svg xmlns=\"http://www.w3.org/2000/svg\" height=\"24px\"viewBox=\"0 0 24 24\"\n",
              "       width=\"24px\">\n",
              "    <path d=\"M0 0h24v24H0V0z\" fill=\"none\"/>\n",
              "    <path d=\"M18.56 5.44l.94 2.06.94-2.06 2.06-.94-2.06-.94-.94-2.06-.94 2.06-2.06.94zm-11 1L8.5 8.5l.94-2.06 2.06-.94-2.06-.94L8.5 2.5l-.94 2.06-2.06.94zm10 10l.94 2.06.94-2.06 2.06-.94-2.06-.94-.94-2.06-.94 2.06-2.06.94z\"/><path d=\"M17.41 7.96l-1.37-1.37c-.4-.4-.92-.59-1.43-.59-.52 0-1.04.2-1.43.59L10.3 9.45l-7.72 7.72c-.78.78-.78 2.05 0 2.83L4 21.41c.39.39.9.59 1.41.59.51 0 1.02-.2 1.41-.59l7.78-7.78 2.81-2.81c.8-.78.8-2.07 0-2.86zM5.41 20L4 18.59l7.72-7.72 1.47 1.35L5.41 20z\"/>\n",
              "  </svg>\n",
              "      </button>\n",
              "      \n",
              "  <style>\n",
              "    .colab-df-container {\n",
              "      display:flex;\n",
              "      flex-wrap:wrap;\n",
              "      gap: 12px;\n",
              "    }\n",
              "\n",
              "    .colab-df-convert {\n",
              "      background-color: #E8F0FE;\n",
              "      border: none;\n",
              "      border-radius: 50%;\n",
              "      cursor: pointer;\n",
              "      display: none;\n",
              "      fill: #1967D2;\n",
              "      height: 32px;\n",
              "      padding: 0 0 0 0;\n",
              "      width: 32px;\n",
              "    }\n",
              "\n",
              "    .colab-df-convert:hover {\n",
              "      background-color: #E2EBFA;\n",
              "      box-shadow: 0px 1px 2px rgba(60, 64, 67, 0.3), 0px 1px 3px 1px rgba(60, 64, 67, 0.15);\n",
              "      fill: #174EA6;\n",
              "    }\n",
              "\n",
              "    [theme=dark] .colab-df-convert {\n",
              "      background-color: #3B4455;\n",
              "      fill: #D2E3FC;\n",
              "    }\n",
              "\n",
              "    [theme=dark] .colab-df-convert:hover {\n",
              "      background-color: #434B5C;\n",
              "      box-shadow: 0px 1px 3px 1px rgba(0, 0, 0, 0.15);\n",
              "      filter: drop-shadow(0px 1px 2px rgba(0, 0, 0, 0.3));\n",
              "      fill: #FFFFFF;\n",
              "    }\n",
              "  </style>\n",
              "\n",
              "      <script>\n",
              "        const buttonEl =\n",
              "          document.querySelector('#df-1c45bbdf-c998-4b8d-b6c7-6b5712f2a4b0 button.colab-df-convert');\n",
              "        buttonEl.style.display =\n",
              "          google.colab.kernel.accessAllowed ? 'block' : 'none';\n",
              "\n",
              "        async function convertToInteractive(key) {\n",
              "          const element = document.querySelector('#df-1c45bbdf-c998-4b8d-b6c7-6b5712f2a4b0');\n",
              "          const dataTable =\n",
              "            await google.colab.kernel.invokeFunction('convertToInteractive',\n",
              "                                                     [key], {});\n",
              "          if (!dataTable) return;\n",
              "\n",
              "          const docLinkHtml = 'Like what you see? Visit the ' +\n",
              "            '<a target=\"_blank\" href=https://colab.research.google.com/notebooks/data_table.ipynb>data table notebook</a>'\n",
              "            + ' to learn more about interactive tables.';\n",
              "          element.innerHTML = '';\n",
              "          dataTable['output_type'] = 'display_data';\n",
              "          await google.colab.output.renderOutput(dataTable, element);\n",
              "          const docLink = document.createElement('div');\n",
              "          docLink.innerHTML = docLinkHtml;\n",
              "          element.appendChild(docLink);\n",
              "        }\n",
              "      </script>\n",
              "    </div>\n",
              "  </div>\n",
              "  "
            ]
          },
          "metadata": {},
          "execution_count": 8
        }
      ]
    },
    {
      "cell_type": "code",
      "source": [
        "ratings['User-ID'].value_counts()"
      ],
      "metadata": {
        "colab": {
          "base_uri": "https://localhost:8080/"
        },
        "id": "YozwbqegTvkl",
        "outputId": "eacb004b-e687-40f9-a804-899926a606f8"
      },
      "execution_count": 9,
      "outputs": [
        {
          "output_type": "execute_result",
          "data": {
            "text/plain": [
              "11676     13602\n",
              "198711     7550\n",
              "153662     6109\n",
              "98391      5891\n",
              "35859      5850\n",
              "          ...  \n",
              "112240       50\n",
              "206438       50\n",
              "270801       50\n",
              "101620       50\n",
              "265784       50\n",
              "Name: User-ID, Length: 3427, dtype: int64"
            ]
          },
          "metadata": {},
          "execution_count": 9
        }
      ]
    },
    {
      "cell_type": "markdown",
      "source": [
        "\n",
        "Starting from the original data set, we will be only looking at the popular books. In order to find out which books are popular, we combine books data with ratings data."
      ],
      "metadata": {
        "id": "77uLi0JdCNqi"
      }
    },
    {
      "cell_type": "code",
      "source": [
        "# merging rating with users\n",
        "combine_book_rating = pd.merge(ratings, books,how = 'inner', on='ISBN') #merging two dataframes (inner join since we only want ifo of users with high rating)\n",
        "columns =['Book-Author',\t'Year-Of-Publication',\t'Publisher',\t'Image-URL-S',\t'Image-URL-M',\t'Image-URL-L'] #list of unnecessary columns\n",
        "combine_book_rating = combine_book_rating.drop(columns, axis=1) #droping those columns\n",
        "combine_book_rating.head()"
      ],
      "metadata": {
        "colab": {
          "base_uri": "https://localhost:8080/",
          "height": 206
        },
        "id": "7WM3JhND_15f",
        "outputId": "83bdeaad-e5b3-40ba-e8d9-9bb18586c805"
      },
      "execution_count": 10,
      "outputs": [
        {
          "output_type": "execute_result",
          "data": {
            "text/plain": [
              "   User-ID        ISBN  Book-Rating                               Book-Title\n",
              "0   276847  0446364193            0  Along Came a Spider (Alex Cross Novels)\n",
              "1   278418  0446364193            0  Along Came a Spider (Alex Cross Novels)\n",
              "2     5483  0446364193            0  Along Came a Spider (Alex Cross Novels)\n",
              "3     7346  0446364193            0  Along Came a Spider (Alex Cross Novels)\n",
              "4     8362  0446364193            0  Along Came a Spider (Alex Cross Novels)"
            ],
            "text/html": [
              "\n",
              "  <div id=\"df-986b4196-9244-40ad-8a85-0e16179e6f1e\">\n",
              "    <div class=\"colab-df-container\">\n",
              "      <div>\n",
              "<style scoped>\n",
              "    .dataframe tbody tr th:only-of-type {\n",
              "        vertical-align: middle;\n",
              "    }\n",
              "\n",
              "    .dataframe tbody tr th {\n",
              "        vertical-align: top;\n",
              "    }\n",
              "\n",
              "    .dataframe thead th {\n",
              "        text-align: right;\n",
              "    }\n",
              "</style>\n",
              "<table border=\"1\" class=\"dataframe\">\n",
              "  <thead>\n",
              "    <tr style=\"text-align: right;\">\n",
              "      <th></th>\n",
              "      <th>User-ID</th>\n",
              "      <th>ISBN</th>\n",
              "      <th>Book-Rating</th>\n",
              "      <th>Book-Title</th>\n",
              "    </tr>\n",
              "  </thead>\n",
              "  <tbody>\n",
              "    <tr>\n",
              "      <th>0</th>\n",
              "      <td>276847</td>\n",
              "      <td>0446364193</td>\n",
              "      <td>0</td>\n",
              "      <td>Along Came a Spider (Alex Cross Novels)</td>\n",
              "    </tr>\n",
              "    <tr>\n",
              "      <th>1</th>\n",
              "      <td>278418</td>\n",
              "      <td>0446364193</td>\n",
              "      <td>0</td>\n",
              "      <td>Along Came a Spider (Alex Cross Novels)</td>\n",
              "    </tr>\n",
              "    <tr>\n",
              "      <th>2</th>\n",
              "      <td>5483</td>\n",
              "      <td>0446364193</td>\n",
              "      <td>0</td>\n",
              "      <td>Along Came a Spider (Alex Cross Novels)</td>\n",
              "    </tr>\n",
              "    <tr>\n",
              "      <th>3</th>\n",
              "      <td>7346</td>\n",
              "      <td>0446364193</td>\n",
              "      <td>0</td>\n",
              "      <td>Along Came a Spider (Alex Cross Novels)</td>\n",
              "    </tr>\n",
              "    <tr>\n",
              "      <th>4</th>\n",
              "      <td>8362</td>\n",
              "      <td>0446364193</td>\n",
              "      <td>0</td>\n",
              "      <td>Along Came a Spider (Alex Cross Novels)</td>\n",
              "    </tr>\n",
              "  </tbody>\n",
              "</table>\n",
              "</div>\n",
              "      <button class=\"colab-df-convert\" onclick=\"convertToInteractive('df-986b4196-9244-40ad-8a85-0e16179e6f1e')\"\n",
              "              title=\"Convert this dataframe to an interactive table.\"\n",
              "              style=\"display:none;\">\n",
              "        \n",
              "  <svg xmlns=\"http://www.w3.org/2000/svg\" height=\"24px\"viewBox=\"0 0 24 24\"\n",
              "       width=\"24px\">\n",
              "    <path d=\"M0 0h24v24H0V0z\" fill=\"none\"/>\n",
              "    <path d=\"M18.56 5.44l.94 2.06.94-2.06 2.06-.94-2.06-.94-.94-2.06-.94 2.06-2.06.94zm-11 1L8.5 8.5l.94-2.06 2.06-.94-2.06-.94L8.5 2.5l-.94 2.06-2.06.94zm10 10l.94 2.06.94-2.06 2.06-.94-2.06-.94-.94-2.06-.94 2.06-2.06.94z\"/><path d=\"M17.41 7.96l-1.37-1.37c-.4-.4-.92-.59-1.43-.59-.52 0-1.04.2-1.43.59L10.3 9.45l-7.72 7.72c-.78.78-.78 2.05 0 2.83L4 21.41c.39.39.9.59 1.41.59.51 0 1.02-.2 1.41-.59l7.78-7.78 2.81-2.81c.8-.78.8-2.07 0-2.86zM5.41 20L4 18.59l7.72-7.72 1.47 1.35L5.41 20z\"/>\n",
              "  </svg>\n",
              "      </button>\n",
              "      \n",
              "  <style>\n",
              "    .colab-df-container {\n",
              "      display:flex;\n",
              "      flex-wrap:wrap;\n",
              "      gap: 12px;\n",
              "    }\n",
              "\n",
              "    .colab-df-convert {\n",
              "      background-color: #E8F0FE;\n",
              "      border: none;\n",
              "      border-radius: 50%;\n",
              "      cursor: pointer;\n",
              "      display: none;\n",
              "      fill: #1967D2;\n",
              "      height: 32px;\n",
              "      padding: 0 0 0 0;\n",
              "      width: 32px;\n",
              "    }\n",
              "\n",
              "    .colab-df-convert:hover {\n",
              "      background-color: #E2EBFA;\n",
              "      box-shadow: 0px 1px 2px rgba(60, 64, 67, 0.3), 0px 1px 3px 1px rgba(60, 64, 67, 0.15);\n",
              "      fill: #174EA6;\n",
              "    }\n",
              "\n",
              "    [theme=dark] .colab-df-convert {\n",
              "      background-color: #3B4455;\n",
              "      fill: #D2E3FC;\n",
              "    }\n",
              "\n",
              "    [theme=dark] .colab-df-convert:hover {\n",
              "      background-color: #434B5C;\n",
              "      box-shadow: 0px 1px 3px 1px rgba(0, 0, 0, 0.15);\n",
              "      filter: drop-shadow(0px 1px 2px rgba(0, 0, 0, 0.3));\n",
              "      fill: #FFFFFF;\n",
              "    }\n",
              "  </style>\n",
              "\n",
              "      <script>\n",
              "        const buttonEl =\n",
              "          document.querySelector('#df-986b4196-9244-40ad-8a85-0e16179e6f1e button.colab-df-convert');\n",
              "        buttonEl.style.display =\n",
              "          google.colab.kernel.accessAllowed ? 'block' : 'none';\n",
              "\n",
              "        async function convertToInteractive(key) {\n",
              "          const element = document.querySelector('#df-986b4196-9244-40ad-8a85-0e16179e6f1e');\n",
              "          const dataTable =\n",
              "            await google.colab.kernel.invokeFunction('convertToInteractive',\n",
              "                                                     [key], {});\n",
              "          if (!dataTable) return;\n",
              "\n",
              "          const docLinkHtml = 'Like what you see? Visit the ' +\n",
              "            '<a target=\"_blank\" href=https://colab.research.google.com/notebooks/data_table.ipynb>data table notebook</a>'\n",
              "            + ' to learn more about interactive tables.';\n",
              "          element.innerHTML = '';\n",
              "          dataTable['output_type'] = 'display_data';\n",
              "          await google.colab.output.renderOutput(dataTable, element);\n",
              "          const docLink = document.createElement('div');\n",
              "          docLink.innerHTML = docLinkHtml;\n",
              "          element.appendChild(docLink);\n",
              "        }\n",
              "      </script>\n",
              "    </div>\n",
              "  </div>\n",
              "  "
            ]
          },
          "metadata": {},
          "execution_count": 10
        }
      ]
    },
    {
      "cell_type": "markdown",
      "source": [
        "**Book Populatity Threshold**\n",
        "\n",
        "Next we will apply the constraint where we have a minimum number of ratings for a book to be considered in our recomendation system. "
      ],
      "metadata": {
        "id": "5Ti_-8LeghDy"
      }
    },
    {
      "cell_type": "code",
      "source": [
        "#collecting total rating counts\n",
        "combine_book_rating = combine_book_rating.dropna(axis = 0, subset = ['Book-Title']) # clearing null/nan values from Book-Title\n",
        "#counting number of ratings for a book and renaming the columns appropiately\n",
        "book_rating_Count = combine_book_rating.groupby(by = ['Book-Title'])['Book-Rating'].count().reset_index().rename(columns = {'Book-Rating': 'totalRatingCount'})\n",
        "book_rating_Count.head()"
      ],
      "metadata": {
        "colab": {
          "base_uri": "https://localhost:8080/",
          "height": 206
        },
        "id": "okNYlGcvCh4e",
        "outputId": "6999935b-d344-4078-8265-a0a767c23ecc"
      },
      "execution_count": 11,
      "outputs": [
        {
          "output_type": "execute_result",
          "data": {
            "text/plain": [
              "                                          Book-Title  totalRatingCount\n",
              "0   A Light in the Storm: The Civil War Diary of ...                 4\n",
              "1                              Always Have Popsicles                 1\n",
              "2               Apple Magic (The Collector's series)                 1\n",
              "3   Ask Lily (Young Women of Faith: Lily Series, ...                 1\n",
              "4   Beyond IBM: Leadership Marketing and Finance ...                 1"
            ],
            "text/html": [
              "\n",
              "  <div id=\"df-51a888e0-c61b-4522-b7c7-0989ca0adeb0\">\n",
              "    <div class=\"colab-df-container\">\n",
              "      <div>\n",
              "<style scoped>\n",
              "    .dataframe tbody tr th:only-of-type {\n",
              "        vertical-align: middle;\n",
              "    }\n",
              "\n",
              "    .dataframe tbody tr th {\n",
              "        vertical-align: top;\n",
              "    }\n",
              "\n",
              "    .dataframe thead th {\n",
              "        text-align: right;\n",
              "    }\n",
              "</style>\n",
              "<table border=\"1\" class=\"dataframe\">\n",
              "  <thead>\n",
              "    <tr style=\"text-align: right;\">\n",
              "      <th></th>\n",
              "      <th>Book-Title</th>\n",
              "      <th>totalRatingCount</th>\n",
              "    </tr>\n",
              "  </thead>\n",
              "  <tbody>\n",
              "    <tr>\n",
              "      <th>0</th>\n",
              "      <td>A Light in the Storm: The Civil War Diary of ...</td>\n",
              "      <td>4</td>\n",
              "    </tr>\n",
              "    <tr>\n",
              "      <th>1</th>\n",
              "      <td>Always Have Popsicles</td>\n",
              "      <td>1</td>\n",
              "    </tr>\n",
              "    <tr>\n",
              "      <th>2</th>\n",
              "      <td>Apple Magic (The Collector's series)</td>\n",
              "      <td>1</td>\n",
              "    </tr>\n",
              "    <tr>\n",
              "      <th>3</th>\n",
              "      <td>Ask Lily (Young Women of Faith: Lily Series, ...</td>\n",
              "      <td>1</td>\n",
              "    </tr>\n",
              "    <tr>\n",
              "      <th>4</th>\n",
              "      <td>Beyond IBM: Leadership Marketing and Finance ...</td>\n",
              "      <td>1</td>\n",
              "    </tr>\n",
              "  </tbody>\n",
              "</table>\n",
              "</div>\n",
              "      <button class=\"colab-df-convert\" onclick=\"convertToInteractive('df-51a888e0-c61b-4522-b7c7-0989ca0adeb0')\"\n",
              "              title=\"Convert this dataframe to an interactive table.\"\n",
              "              style=\"display:none;\">\n",
              "        \n",
              "  <svg xmlns=\"http://www.w3.org/2000/svg\" height=\"24px\"viewBox=\"0 0 24 24\"\n",
              "       width=\"24px\">\n",
              "    <path d=\"M0 0h24v24H0V0z\" fill=\"none\"/>\n",
              "    <path d=\"M18.56 5.44l.94 2.06.94-2.06 2.06-.94-2.06-.94-.94-2.06-.94 2.06-2.06.94zm-11 1L8.5 8.5l.94-2.06 2.06-.94-2.06-.94L8.5 2.5l-.94 2.06-2.06.94zm10 10l.94 2.06.94-2.06 2.06-.94-2.06-.94-.94-2.06-.94 2.06-2.06.94z\"/><path d=\"M17.41 7.96l-1.37-1.37c-.4-.4-.92-.59-1.43-.59-.52 0-1.04.2-1.43.59L10.3 9.45l-7.72 7.72c-.78.78-.78 2.05 0 2.83L4 21.41c.39.39.9.59 1.41.59.51 0 1.02-.2 1.41-.59l7.78-7.78 2.81-2.81c.8-.78.8-2.07 0-2.86zM5.41 20L4 18.59l7.72-7.72 1.47 1.35L5.41 20z\"/>\n",
              "  </svg>\n",
              "      </button>\n",
              "      \n",
              "  <style>\n",
              "    .colab-df-container {\n",
              "      display:flex;\n",
              "      flex-wrap:wrap;\n",
              "      gap: 12px;\n",
              "    }\n",
              "\n",
              "    .colab-df-convert {\n",
              "      background-color: #E8F0FE;\n",
              "      border: none;\n",
              "      border-radius: 50%;\n",
              "      cursor: pointer;\n",
              "      display: none;\n",
              "      fill: #1967D2;\n",
              "      height: 32px;\n",
              "      padding: 0 0 0 0;\n",
              "      width: 32px;\n",
              "    }\n",
              "\n",
              "    .colab-df-convert:hover {\n",
              "      background-color: #E2EBFA;\n",
              "      box-shadow: 0px 1px 2px rgba(60, 64, 67, 0.3), 0px 1px 3px 1px rgba(60, 64, 67, 0.15);\n",
              "      fill: #174EA6;\n",
              "    }\n",
              "\n",
              "    [theme=dark] .colab-df-convert {\n",
              "      background-color: #3B4455;\n",
              "      fill: #D2E3FC;\n",
              "    }\n",
              "\n",
              "    [theme=dark] .colab-df-convert:hover {\n",
              "      background-color: #434B5C;\n",
              "      box-shadow: 0px 1px 3px 1px rgba(0, 0, 0, 0.15);\n",
              "      filter: drop-shadow(0px 1px 2px rgba(0, 0, 0, 0.3));\n",
              "      fill: #FFFFFF;\n",
              "    }\n",
              "  </style>\n",
              "\n",
              "      <script>\n",
              "        const buttonEl =\n",
              "          document.querySelector('#df-51a888e0-c61b-4522-b7c7-0989ca0adeb0 button.colab-df-convert');\n",
              "        buttonEl.style.display =\n",
              "          google.colab.kernel.accessAllowed ? 'block' : 'none';\n",
              "\n",
              "        async function convertToInteractive(key) {\n",
              "          const element = document.querySelector('#df-51a888e0-c61b-4522-b7c7-0989ca0adeb0');\n",
              "          const dataTable =\n",
              "            await google.colab.kernel.invokeFunction('convertToInteractive',\n",
              "                                                     [key], {});\n",
              "          if (!dataTable) return;\n",
              "\n",
              "          const docLinkHtml = 'Like what you see? Visit the ' +\n",
              "            '<a target=\"_blank\" href=https://colab.research.google.com/notebooks/data_table.ipynb>data table notebook</a>'\n",
              "            + ' to learn more about interactive tables.';\n",
              "          element.innerHTML = '';\n",
              "          dataTable['output_type'] = 'display_data';\n",
              "          await google.colab.output.renderOutput(dataTable, element);\n",
              "          const docLink = document.createElement('div');\n",
              "          docLink.innerHTML = docLinkHtml;\n",
              "          element.appendChild(docLink);\n",
              "        }\n",
              "      </script>\n",
              "    </div>\n",
              "  </div>\n",
              "  "
            ]
          },
          "metadata": {},
          "execution_count": 11
        }
      ]
    },
    {
      "cell_type": "code",
      "source": [
        "#combine with main data frame\n",
        "#use left join since we want rating count for all the books in combined_book_rating column\n",
        "rating_with_totalRatingCount = combine_book_rating.merge(book_rating_Count, left_on = 'Book-Title', right_on = 'Book-Title', how = 'left')\n",
        "rating_with_totalRatingCount.head()"
      ],
      "metadata": {
        "colab": {
          "base_uri": "https://localhost:8080/",
          "height": 206
        },
        "id": "Z-fdAKMr_1_y",
        "outputId": "1b1f94fe-a9f8-41e3-9f6f-fdc39e304fe3"
      },
      "execution_count": 12,
      "outputs": [
        {
          "output_type": "execute_result",
          "data": {
            "text/plain": [
              "   User-ID        ISBN  Book-Rating                               Book-Title  \\\n",
              "0   276847  0446364193            0  Along Came a Spider (Alex Cross Novels)   \n",
              "1   278418  0446364193            0  Along Came a Spider (Alex Cross Novels)   \n",
              "2     5483  0446364193            0  Along Came a Spider (Alex Cross Novels)   \n",
              "3     7346  0446364193            0  Along Came a Spider (Alex Cross Novels)   \n",
              "4     8362  0446364193            0  Along Came a Spider (Alex Cross Novels)   \n",
              "\n",
              "   totalRatingCount  \n",
              "0               198  \n",
              "1               198  \n",
              "2               198  \n",
              "3               198  \n",
              "4               198  "
            ],
            "text/html": [
              "\n",
              "  <div id=\"df-72ddc597-378f-4213-b7c6-353dbaefdfd4\">\n",
              "    <div class=\"colab-df-container\">\n",
              "      <div>\n",
              "<style scoped>\n",
              "    .dataframe tbody tr th:only-of-type {\n",
              "        vertical-align: middle;\n",
              "    }\n",
              "\n",
              "    .dataframe tbody tr th {\n",
              "        vertical-align: top;\n",
              "    }\n",
              "\n",
              "    .dataframe thead th {\n",
              "        text-align: right;\n",
              "    }\n",
              "</style>\n",
              "<table border=\"1\" class=\"dataframe\">\n",
              "  <thead>\n",
              "    <tr style=\"text-align: right;\">\n",
              "      <th></th>\n",
              "      <th>User-ID</th>\n",
              "      <th>ISBN</th>\n",
              "      <th>Book-Rating</th>\n",
              "      <th>Book-Title</th>\n",
              "      <th>totalRatingCount</th>\n",
              "    </tr>\n",
              "  </thead>\n",
              "  <tbody>\n",
              "    <tr>\n",
              "      <th>0</th>\n",
              "      <td>276847</td>\n",
              "      <td>0446364193</td>\n",
              "      <td>0</td>\n",
              "      <td>Along Came a Spider (Alex Cross Novels)</td>\n",
              "      <td>198</td>\n",
              "    </tr>\n",
              "    <tr>\n",
              "      <th>1</th>\n",
              "      <td>278418</td>\n",
              "      <td>0446364193</td>\n",
              "      <td>0</td>\n",
              "      <td>Along Came a Spider (Alex Cross Novels)</td>\n",
              "      <td>198</td>\n",
              "    </tr>\n",
              "    <tr>\n",
              "      <th>2</th>\n",
              "      <td>5483</td>\n",
              "      <td>0446364193</td>\n",
              "      <td>0</td>\n",
              "      <td>Along Came a Spider (Alex Cross Novels)</td>\n",
              "      <td>198</td>\n",
              "    </tr>\n",
              "    <tr>\n",
              "      <th>3</th>\n",
              "      <td>7346</td>\n",
              "      <td>0446364193</td>\n",
              "      <td>0</td>\n",
              "      <td>Along Came a Spider (Alex Cross Novels)</td>\n",
              "      <td>198</td>\n",
              "    </tr>\n",
              "    <tr>\n",
              "      <th>4</th>\n",
              "      <td>8362</td>\n",
              "      <td>0446364193</td>\n",
              "      <td>0</td>\n",
              "      <td>Along Came a Spider (Alex Cross Novels)</td>\n",
              "      <td>198</td>\n",
              "    </tr>\n",
              "  </tbody>\n",
              "</table>\n",
              "</div>\n",
              "      <button class=\"colab-df-convert\" onclick=\"convertToInteractive('df-72ddc597-378f-4213-b7c6-353dbaefdfd4')\"\n",
              "              title=\"Convert this dataframe to an interactive table.\"\n",
              "              style=\"display:none;\">\n",
              "        \n",
              "  <svg xmlns=\"http://www.w3.org/2000/svg\" height=\"24px\"viewBox=\"0 0 24 24\"\n",
              "       width=\"24px\">\n",
              "    <path d=\"M0 0h24v24H0V0z\" fill=\"none\"/>\n",
              "    <path d=\"M18.56 5.44l.94 2.06.94-2.06 2.06-.94-2.06-.94-.94-2.06-.94 2.06-2.06.94zm-11 1L8.5 8.5l.94-2.06 2.06-.94-2.06-.94L8.5 2.5l-.94 2.06-2.06.94zm10 10l.94 2.06.94-2.06 2.06-.94-2.06-.94-.94-2.06-.94 2.06-2.06.94z\"/><path d=\"M17.41 7.96l-1.37-1.37c-.4-.4-.92-.59-1.43-.59-.52 0-1.04.2-1.43.59L10.3 9.45l-7.72 7.72c-.78.78-.78 2.05 0 2.83L4 21.41c.39.39.9.59 1.41.59.51 0 1.02-.2 1.41-.59l7.78-7.78 2.81-2.81c.8-.78.8-2.07 0-2.86zM5.41 20L4 18.59l7.72-7.72 1.47 1.35L5.41 20z\"/>\n",
              "  </svg>\n",
              "      </button>\n",
              "      \n",
              "  <style>\n",
              "    .colab-df-container {\n",
              "      display:flex;\n",
              "      flex-wrap:wrap;\n",
              "      gap: 12px;\n",
              "    }\n",
              "\n",
              "    .colab-df-convert {\n",
              "      background-color: #E8F0FE;\n",
              "      border: none;\n",
              "      border-radius: 50%;\n",
              "      cursor: pointer;\n",
              "      display: none;\n",
              "      fill: #1967D2;\n",
              "      height: 32px;\n",
              "      padding: 0 0 0 0;\n",
              "      width: 32px;\n",
              "    }\n",
              "\n",
              "    .colab-df-convert:hover {\n",
              "      background-color: #E2EBFA;\n",
              "      box-shadow: 0px 1px 2px rgba(60, 64, 67, 0.3), 0px 1px 3px 1px rgba(60, 64, 67, 0.15);\n",
              "      fill: #174EA6;\n",
              "    }\n",
              "\n",
              "    [theme=dark] .colab-df-convert {\n",
              "      background-color: #3B4455;\n",
              "      fill: #D2E3FC;\n",
              "    }\n",
              "\n",
              "    [theme=dark] .colab-df-convert:hover {\n",
              "      background-color: #434B5C;\n",
              "      box-shadow: 0px 1px 3px 1px rgba(0, 0, 0, 0.15);\n",
              "      filter: drop-shadow(0px 1px 2px rgba(0, 0, 0, 0.3));\n",
              "      fill: #FFFFFF;\n",
              "    }\n",
              "  </style>\n",
              "\n",
              "      <script>\n",
              "        const buttonEl =\n",
              "          document.querySelector('#df-72ddc597-378f-4213-b7c6-353dbaefdfd4 button.colab-df-convert');\n",
              "        buttonEl.style.display =\n",
              "          google.colab.kernel.accessAllowed ? 'block' : 'none';\n",
              "\n",
              "        async function convertToInteractive(key) {\n",
              "          const element = document.querySelector('#df-72ddc597-378f-4213-b7c6-353dbaefdfd4');\n",
              "          const dataTable =\n",
              "            await google.colab.kernel.invokeFunction('convertToInteractive',\n",
              "                                                     [key], {});\n",
              "          if (!dataTable) return;\n",
              "\n",
              "          const docLinkHtml = 'Like what you see? Visit the ' +\n",
              "            '<a target=\"_blank\" href=https://colab.research.google.com/notebooks/data_table.ipynb>data table notebook</a>'\n",
              "            + ' to learn more about interactive tables.';\n",
              "          element.innerHTML = '';\n",
              "          dataTable['output_type'] = 'display_data';\n",
              "          await google.colab.output.renderOutput(dataTable, element);\n",
              "          const docLink = document.createElement('div');\n",
              "          docLink.innerHTML = docLinkHtml;\n",
              "          element.appendChild(docLink);\n",
              "        }\n",
              "      </script>\n",
              "    </div>\n",
              "  </div>\n",
              "  "
            ]
          },
          "metadata": {},
          "execution_count": 12
        }
      ]
    },
    {
      "cell_type": "code",
      "source": [
        "# looking at distribution of totalratingsCount\n",
        "rating_with_totalRatingCount.describe()"
      ],
      "metadata": {
        "colab": {
          "base_uri": "https://localhost:8080/",
          "height": 300
        },
        "id": "-wK1UtaU_2DL",
        "outputId": "003e3a52-5fc3-4332-d041-1526a3cbcafc"
      },
      "execution_count": 13,
      "outputs": [
        {
          "output_type": "execute_result",
          "data": {
            "text/plain": [
              "             User-ID    Book-Rating  totalRatingCount\n",
              "count  703434.000000  703434.000000     703434.000000\n",
              "mean   140983.957487       2.288061         35.008956\n",
              "std     80538.878058       3.677189         68.959965\n",
              "min       183.000000       0.000000          1.000000\n",
              "25%     71207.000000       0.000000          2.000000\n",
              "50%    142479.000000       0.000000          8.000000\n",
              "75%    212645.000000       6.000000         34.000000\n",
              "max    278843.000000      10.000000        852.000000"
            ],
            "text/html": [
              "\n",
              "  <div id=\"df-64c27d6e-9ef2-415f-90db-01696f5fa19f\">\n",
              "    <div class=\"colab-df-container\">\n",
              "      <div>\n",
              "<style scoped>\n",
              "    .dataframe tbody tr th:only-of-type {\n",
              "        vertical-align: middle;\n",
              "    }\n",
              "\n",
              "    .dataframe tbody tr th {\n",
              "        vertical-align: top;\n",
              "    }\n",
              "\n",
              "    .dataframe thead th {\n",
              "        text-align: right;\n",
              "    }\n",
              "</style>\n",
              "<table border=\"1\" class=\"dataframe\">\n",
              "  <thead>\n",
              "    <tr style=\"text-align: right;\">\n",
              "      <th></th>\n",
              "      <th>User-ID</th>\n",
              "      <th>Book-Rating</th>\n",
              "      <th>totalRatingCount</th>\n",
              "    </tr>\n",
              "  </thead>\n",
              "  <tbody>\n",
              "    <tr>\n",
              "      <th>count</th>\n",
              "      <td>703434.000000</td>\n",
              "      <td>703434.000000</td>\n",
              "      <td>703434.000000</td>\n",
              "    </tr>\n",
              "    <tr>\n",
              "      <th>mean</th>\n",
              "      <td>140983.957487</td>\n",
              "      <td>2.288061</td>\n",
              "      <td>35.008956</td>\n",
              "    </tr>\n",
              "    <tr>\n",
              "      <th>std</th>\n",
              "      <td>80538.878058</td>\n",
              "      <td>3.677189</td>\n",
              "      <td>68.959965</td>\n",
              "    </tr>\n",
              "    <tr>\n",
              "      <th>min</th>\n",
              "      <td>183.000000</td>\n",
              "      <td>0.000000</td>\n",
              "      <td>1.000000</td>\n",
              "    </tr>\n",
              "    <tr>\n",
              "      <th>25%</th>\n",
              "      <td>71207.000000</td>\n",
              "      <td>0.000000</td>\n",
              "      <td>2.000000</td>\n",
              "    </tr>\n",
              "    <tr>\n",
              "      <th>50%</th>\n",
              "      <td>142479.000000</td>\n",
              "      <td>0.000000</td>\n",
              "      <td>8.000000</td>\n",
              "    </tr>\n",
              "    <tr>\n",
              "      <th>75%</th>\n",
              "      <td>212645.000000</td>\n",
              "      <td>6.000000</td>\n",
              "      <td>34.000000</td>\n",
              "    </tr>\n",
              "    <tr>\n",
              "      <th>max</th>\n",
              "      <td>278843.000000</td>\n",
              "      <td>10.000000</td>\n",
              "      <td>852.000000</td>\n",
              "    </tr>\n",
              "  </tbody>\n",
              "</table>\n",
              "</div>\n",
              "      <button class=\"colab-df-convert\" onclick=\"convertToInteractive('df-64c27d6e-9ef2-415f-90db-01696f5fa19f')\"\n",
              "              title=\"Convert this dataframe to an interactive table.\"\n",
              "              style=\"display:none;\">\n",
              "        \n",
              "  <svg xmlns=\"http://www.w3.org/2000/svg\" height=\"24px\"viewBox=\"0 0 24 24\"\n",
              "       width=\"24px\">\n",
              "    <path d=\"M0 0h24v24H0V0z\" fill=\"none\"/>\n",
              "    <path d=\"M18.56 5.44l.94 2.06.94-2.06 2.06-.94-2.06-.94-.94-2.06-.94 2.06-2.06.94zm-11 1L8.5 8.5l.94-2.06 2.06-.94-2.06-.94L8.5 2.5l-.94 2.06-2.06.94zm10 10l.94 2.06.94-2.06 2.06-.94-2.06-.94-.94-2.06-.94 2.06-2.06.94z\"/><path d=\"M17.41 7.96l-1.37-1.37c-.4-.4-.92-.59-1.43-.59-.52 0-1.04.2-1.43.59L10.3 9.45l-7.72 7.72c-.78.78-.78 2.05 0 2.83L4 21.41c.39.39.9.59 1.41.59.51 0 1.02-.2 1.41-.59l7.78-7.78 2.81-2.81c.8-.78.8-2.07 0-2.86zM5.41 20L4 18.59l7.72-7.72 1.47 1.35L5.41 20z\"/>\n",
              "  </svg>\n",
              "      </button>\n",
              "      \n",
              "  <style>\n",
              "    .colab-df-container {\n",
              "      display:flex;\n",
              "      flex-wrap:wrap;\n",
              "      gap: 12px;\n",
              "    }\n",
              "\n",
              "    .colab-df-convert {\n",
              "      background-color: #E8F0FE;\n",
              "      border: none;\n",
              "      border-radius: 50%;\n",
              "      cursor: pointer;\n",
              "      display: none;\n",
              "      fill: #1967D2;\n",
              "      height: 32px;\n",
              "      padding: 0 0 0 0;\n",
              "      width: 32px;\n",
              "    }\n",
              "\n",
              "    .colab-df-convert:hover {\n",
              "      background-color: #E2EBFA;\n",
              "      box-shadow: 0px 1px 2px rgba(60, 64, 67, 0.3), 0px 1px 3px 1px rgba(60, 64, 67, 0.15);\n",
              "      fill: #174EA6;\n",
              "    }\n",
              "\n",
              "    [theme=dark] .colab-df-convert {\n",
              "      background-color: #3B4455;\n",
              "      fill: #D2E3FC;\n",
              "    }\n",
              "\n",
              "    [theme=dark] .colab-df-convert:hover {\n",
              "      background-color: #434B5C;\n",
              "      box-shadow: 0px 1px 3px 1px rgba(0, 0, 0, 0.15);\n",
              "      filter: drop-shadow(0px 1px 2px rgba(0, 0, 0, 0.3));\n",
              "      fill: #FFFFFF;\n",
              "    }\n",
              "  </style>\n",
              "\n",
              "      <script>\n",
              "        const buttonEl =\n",
              "          document.querySelector('#df-64c27d6e-9ef2-415f-90db-01696f5fa19f button.colab-df-convert');\n",
              "        buttonEl.style.display =\n",
              "          google.colab.kernel.accessAllowed ? 'block' : 'none';\n",
              "\n",
              "        async function convertToInteractive(key) {\n",
              "          const element = document.querySelector('#df-64c27d6e-9ef2-415f-90db-01696f5fa19f');\n",
              "          const dataTable =\n",
              "            await google.colab.kernel.invokeFunction('convertToInteractive',\n",
              "                                                     [key], {});\n",
              "          if (!dataTable) return;\n",
              "\n",
              "          const docLinkHtml = 'Like what you see? Visit the ' +\n",
              "            '<a target=\"_blank\" href=https://colab.research.google.com/notebooks/data_table.ipynb>data table notebook</a>'\n",
              "            + ' to learn more about interactive tables.';\n",
              "          element.innerHTML = '';\n",
              "          dataTable['output_type'] = 'display_data';\n",
              "          await google.colab.output.renderOutput(dataTable, element);\n",
              "          const docLink = document.createElement('div');\n",
              "          docLink.innerHTML = docLinkHtml;\n",
              "          element.appendChild(docLink);\n",
              "        }\n",
              "      </script>\n",
              "    </div>\n",
              "  </div>\n",
              "  "
            ]
          },
          "metadata": {},
          "execution_count": 13
        }
      ]
    },
    {
      "cell_type": "code",
      "source": [
        "#checking each quantiles of total ratings count closely to decide threshold\n",
        "print(rating_with_totalRatingCount['totalRatingCount'].quantile(np.arange(0.1, 1, .05)))"
      ],
      "metadata": {
        "colab": {
          "base_uri": "https://localhost:8080/"
        },
        "id": "MXG9gtoF_2Im",
        "outputId": "212dc31d-dda8-48d8-fc17-24b9b4d81ed0"
      },
      "execution_count": null,
      "outputs": [
        {
          "output_type": "stream",
          "name": "stdout",
          "text": [
            "0.10      1.0\n",
            "0.15      1.0\n",
            "0.20      2.0\n",
            "0.25      2.0\n",
            "0.30      3.0\n",
            "0.35      4.0\n",
            "0.40      5.0\n",
            "0.45      6.0\n",
            "0.50      8.0\n",
            "0.55     11.0\n",
            "0.60     14.0\n",
            "0.65     19.0\n",
            "0.70     25.0\n",
            "0.75     34.0\n",
            "0.80     47.0\n",
            "0.85     67.0\n",
            "0.90    101.0\n",
            "0.95    164.0\n",
            "Name: totalRatingCount, dtype: float64\n"
          ]
        }
      ]
    },
    {
      "cell_type": "markdown",
      "source": [
        "We can see that there are many books with rating count more than ~30 this is just the distribution of total rating count. Lets, consider a threshold required count to be around 50. This will include many popular books which have been read by atleast 50 users. This will also make the opinion of users for a book more concrete, since there will be atleast 50 bad or good ratings for each of the books included."
      ],
      "metadata": {
        "id": "NP0jfb-kyaio"
      }
    },
    {
      "cell_type": "code",
      "source": [
        "popularity_threshold = 50\n",
        "rating_popular_book = rating_with_totalRatingCount[rating_with_totalRatingCount['totalRatingCount'] >= 50]\n",
        "rating_popular_book"
      ],
      "metadata": {
        "colab": {
          "base_uri": "https://localhost:8080/",
          "height": 424
        },
        "id": "mfx7q7HVqUya",
        "outputId": "e637c430-f987-4292-9050-a207002c5149"
      },
      "execution_count": 14,
      "outputs": [
        {
          "output_type": "execute_result",
          "data": {
            "text/plain": [
              "        User-ID        ISBN  Book-Rating  \\\n",
              "0        276847  0446364193            0   \n",
              "1        278418  0446364193            0   \n",
              "2          5483  0446364193            0   \n",
              "3          7346  0446364193            0   \n",
              "4          8362  0446364193            0   \n",
              "...         ...         ...          ...   \n",
              "702519   274061  1551663147           10   \n",
              "702928   274808  0449701913            0   \n",
              "703220   275970  0865714215            0   \n",
              "703272   275970  1586210661            9   \n",
              "703432   276688  0788192043            0   \n",
              "\n",
              "                                     Book-Title  totalRatingCount  \n",
              "0       Along Came a Spider (Alex Cross Novels)               198  \n",
              "1       Along Came a Spider (Alex Cross Novels)               198  \n",
              "2       Along Came a Spider (Alex Cross Novels)               198  \n",
              "3       Along Came a Spider (Alex Cross Novels)               198  \n",
              "4       Along Came a Spider (Alex Cross Novels)               198  \n",
              "...                                         ...               ...  \n",
              "702519                                    Fever                58  \n",
              "702928                               Homecoming                82  \n",
              "703220                           Stormy Weather                59  \n",
              "703272                   Me Talk Pretty One Day               257  \n",
              "703432                The Hundred Secret Senses               202  \n",
              "\n",
              "[135998 rows x 5 columns]"
            ],
            "text/html": [
              "\n",
              "  <div id=\"df-7c5d07ae-a2ce-4597-bc6d-71597e766c37\">\n",
              "    <div class=\"colab-df-container\">\n",
              "      <div>\n",
              "<style scoped>\n",
              "    .dataframe tbody tr th:only-of-type {\n",
              "        vertical-align: middle;\n",
              "    }\n",
              "\n",
              "    .dataframe tbody tr th {\n",
              "        vertical-align: top;\n",
              "    }\n",
              "\n",
              "    .dataframe thead th {\n",
              "        text-align: right;\n",
              "    }\n",
              "</style>\n",
              "<table border=\"1\" class=\"dataframe\">\n",
              "  <thead>\n",
              "    <tr style=\"text-align: right;\">\n",
              "      <th></th>\n",
              "      <th>User-ID</th>\n",
              "      <th>ISBN</th>\n",
              "      <th>Book-Rating</th>\n",
              "      <th>Book-Title</th>\n",
              "      <th>totalRatingCount</th>\n",
              "    </tr>\n",
              "  </thead>\n",
              "  <tbody>\n",
              "    <tr>\n",
              "      <th>0</th>\n",
              "      <td>276847</td>\n",
              "      <td>0446364193</td>\n",
              "      <td>0</td>\n",
              "      <td>Along Came a Spider (Alex Cross Novels)</td>\n",
              "      <td>198</td>\n",
              "    </tr>\n",
              "    <tr>\n",
              "      <th>1</th>\n",
              "      <td>278418</td>\n",
              "      <td>0446364193</td>\n",
              "      <td>0</td>\n",
              "      <td>Along Came a Spider (Alex Cross Novels)</td>\n",
              "      <td>198</td>\n",
              "    </tr>\n",
              "    <tr>\n",
              "      <th>2</th>\n",
              "      <td>5483</td>\n",
              "      <td>0446364193</td>\n",
              "      <td>0</td>\n",
              "      <td>Along Came a Spider (Alex Cross Novels)</td>\n",
              "      <td>198</td>\n",
              "    </tr>\n",
              "    <tr>\n",
              "      <th>3</th>\n",
              "      <td>7346</td>\n",
              "      <td>0446364193</td>\n",
              "      <td>0</td>\n",
              "      <td>Along Came a Spider (Alex Cross Novels)</td>\n",
              "      <td>198</td>\n",
              "    </tr>\n",
              "    <tr>\n",
              "      <th>4</th>\n",
              "      <td>8362</td>\n",
              "      <td>0446364193</td>\n",
              "      <td>0</td>\n",
              "      <td>Along Came a Spider (Alex Cross Novels)</td>\n",
              "      <td>198</td>\n",
              "    </tr>\n",
              "    <tr>\n",
              "      <th>...</th>\n",
              "      <td>...</td>\n",
              "      <td>...</td>\n",
              "      <td>...</td>\n",
              "      <td>...</td>\n",
              "      <td>...</td>\n",
              "    </tr>\n",
              "    <tr>\n",
              "      <th>702519</th>\n",
              "      <td>274061</td>\n",
              "      <td>1551663147</td>\n",
              "      <td>10</td>\n",
              "      <td>Fever</td>\n",
              "      <td>58</td>\n",
              "    </tr>\n",
              "    <tr>\n",
              "      <th>702928</th>\n",
              "      <td>274808</td>\n",
              "      <td>0449701913</td>\n",
              "      <td>0</td>\n",
              "      <td>Homecoming</td>\n",
              "      <td>82</td>\n",
              "    </tr>\n",
              "    <tr>\n",
              "      <th>703220</th>\n",
              "      <td>275970</td>\n",
              "      <td>0865714215</td>\n",
              "      <td>0</td>\n",
              "      <td>Stormy Weather</td>\n",
              "      <td>59</td>\n",
              "    </tr>\n",
              "    <tr>\n",
              "      <th>703272</th>\n",
              "      <td>275970</td>\n",
              "      <td>1586210661</td>\n",
              "      <td>9</td>\n",
              "      <td>Me Talk Pretty One Day</td>\n",
              "      <td>257</td>\n",
              "    </tr>\n",
              "    <tr>\n",
              "      <th>703432</th>\n",
              "      <td>276688</td>\n",
              "      <td>0788192043</td>\n",
              "      <td>0</td>\n",
              "      <td>The Hundred Secret Senses</td>\n",
              "      <td>202</td>\n",
              "    </tr>\n",
              "  </tbody>\n",
              "</table>\n",
              "<p>135998 rows × 5 columns</p>\n",
              "</div>\n",
              "      <button class=\"colab-df-convert\" onclick=\"convertToInteractive('df-7c5d07ae-a2ce-4597-bc6d-71597e766c37')\"\n",
              "              title=\"Convert this dataframe to an interactive table.\"\n",
              "              style=\"display:none;\">\n",
              "        \n",
              "  <svg xmlns=\"http://www.w3.org/2000/svg\" height=\"24px\"viewBox=\"0 0 24 24\"\n",
              "       width=\"24px\">\n",
              "    <path d=\"M0 0h24v24H0V0z\" fill=\"none\"/>\n",
              "    <path d=\"M18.56 5.44l.94 2.06.94-2.06 2.06-.94-2.06-.94-.94-2.06-.94 2.06-2.06.94zm-11 1L8.5 8.5l.94-2.06 2.06-.94-2.06-.94L8.5 2.5l-.94 2.06-2.06.94zm10 10l.94 2.06.94-2.06 2.06-.94-2.06-.94-.94-2.06-.94 2.06-2.06.94z\"/><path d=\"M17.41 7.96l-1.37-1.37c-.4-.4-.92-.59-1.43-.59-.52 0-1.04.2-1.43.59L10.3 9.45l-7.72 7.72c-.78.78-.78 2.05 0 2.83L4 21.41c.39.39.9.59 1.41.59.51 0 1.02-.2 1.41-.59l7.78-7.78 2.81-2.81c.8-.78.8-2.07 0-2.86zM5.41 20L4 18.59l7.72-7.72 1.47 1.35L5.41 20z\"/>\n",
              "  </svg>\n",
              "      </button>\n",
              "      \n",
              "  <style>\n",
              "    .colab-df-container {\n",
              "      display:flex;\n",
              "      flex-wrap:wrap;\n",
              "      gap: 12px;\n",
              "    }\n",
              "\n",
              "    .colab-df-convert {\n",
              "      background-color: #E8F0FE;\n",
              "      border: none;\n",
              "      border-radius: 50%;\n",
              "      cursor: pointer;\n",
              "      display: none;\n",
              "      fill: #1967D2;\n",
              "      height: 32px;\n",
              "      padding: 0 0 0 0;\n",
              "      width: 32px;\n",
              "    }\n",
              "\n",
              "    .colab-df-convert:hover {\n",
              "      background-color: #E2EBFA;\n",
              "      box-shadow: 0px 1px 2px rgba(60, 64, 67, 0.3), 0px 1px 3px 1px rgba(60, 64, 67, 0.15);\n",
              "      fill: #174EA6;\n",
              "    }\n",
              "\n",
              "    [theme=dark] .colab-df-convert {\n",
              "      background-color: #3B4455;\n",
              "      fill: #D2E3FC;\n",
              "    }\n",
              "\n",
              "    [theme=dark] .colab-df-convert:hover {\n",
              "      background-color: #434B5C;\n",
              "      box-shadow: 0px 1px 3px 1px rgba(0, 0, 0, 0.15);\n",
              "      filter: drop-shadow(0px 1px 2px rgba(0, 0, 0, 0.3));\n",
              "      fill: #FFFFFF;\n",
              "    }\n",
              "  </style>\n",
              "\n",
              "      <script>\n",
              "        const buttonEl =\n",
              "          document.querySelector('#df-7c5d07ae-a2ce-4597-bc6d-71597e766c37 button.colab-df-convert');\n",
              "        buttonEl.style.display =\n",
              "          google.colab.kernel.accessAllowed ? 'block' : 'none';\n",
              "\n",
              "        async function convertToInteractive(key) {\n",
              "          const element = document.querySelector('#df-7c5d07ae-a2ce-4597-bc6d-71597e766c37');\n",
              "          const dataTable =\n",
              "            await google.colab.kernel.invokeFunction('convertToInteractive',\n",
              "                                                     [key], {});\n",
              "          if (!dataTable) return;\n",
              "\n",
              "          const docLinkHtml = 'Like what you see? Visit the ' +\n",
              "            '<a target=\"_blank\" href=https://colab.research.google.com/notebooks/data_table.ipynb>data table notebook</a>'\n",
              "            + ' to learn more about interactive tables.';\n",
              "          element.innerHTML = '';\n",
              "          dataTable['output_type'] = 'display_data';\n",
              "          await google.colab.output.renderOutput(dataTable, element);\n",
              "          const docLink = document.createElement('div');\n",
              "          docLink.innerHTML = docLinkHtml;\n",
              "          element.appendChild(docLink);\n",
              "        }\n",
              "      </script>\n",
              "    </div>\n",
              "  </div>\n",
              "  "
            ]
          },
          "metadata": {},
          "execution_count": 14
        }
      ]
    },
    {
      "cell_type": "markdown",
      "source": [
        "# Collaborative Filtering Using k-Nearest Neighbors (kNN) / Memory based Model"
      ],
      "metadata": {
        "id": "2XsIhKMPEB73"
      }
    },
    {
      "cell_type": "markdown",
      "source": [
        "**Applying a Country/regional Threshold**\n"
      ],
      "metadata": {
        "id": "VBd7T8H_LG3P"
      }
    },
    {
      "cell_type": "markdown",
      "source": [
        "In order to improve computing speed, and not run into the “MemoryError” issue, I will limit our user data to those in the India and US. And then combine user data with the rating data and total rating count data.\n",
        "\n",
        "Lets have a look at number of users from each of these countries."
      ],
      "metadata": {
        "id": "EORDd9QXK__N"
      }
    },
    {
      "cell_type": "code",
      "source": [
        "#mergeing the books+ratings data frame with the user info data frame\n",
        "combined = rating_popular_book.merge(users, left_on = 'User-ID', right_on = 'User-ID', how = 'left')\n",
        "# users with location as Undia or US \n",
        "india_us_user_rating = combined[combined['Location'].str.contains(\"india|usa\")]\n",
        "india_us_user_rating= india_us_user_rating.drop('Age', axis=1)\n",
        "india_us_user_rating.head()"
      ],
      "metadata": {
        "colab": {
          "base_uri": "https://localhost:8080/",
          "height": 206
        },
        "id": "OCoQ26KwKgFs",
        "outputId": "03c93aa2-5645-4244-9ab4-efe5c75a1a5c"
      },
      "execution_count": 15,
      "outputs": [
        {
          "output_type": "execute_result",
          "data": {
            "text/plain": [
              "    User-ID        ISBN  Book-Rating                               Book-Title  \\\n",
              "1    278418  0446364193            0  Along Came a Spider (Alex Cross Novels)   \n",
              "3      7346  0446364193            0  Along Came a Spider (Alex Cross Novels)   \n",
              "4      8362  0446364193            0  Along Came a Spider (Alex Cross Novels)   \n",
              "8     14521  0446364193            0  Along Came a Spider (Alex Cross Novels)   \n",
              "10    16795  0446364193            8  Along Came a Spider (Alex Cross Novels)   \n",
              "\n",
              "    totalRatingCount                       Location  \n",
              "1                198           omaha, nebraska, usa  \n",
              "3                198     sunnyvale, california, usa  \n",
              "4                198   los angeles, california, usa  \n",
              "8                198  providence, rhode island, usa  \n",
              "10               198  mechanicsville, maryland, usa  "
            ],
            "text/html": [
              "\n",
              "  <div id=\"df-70dd5ede-c3e3-465f-a679-fc19fb5dee40\">\n",
              "    <div class=\"colab-df-container\">\n",
              "      <div>\n",
              "<style scoped>\n",
              "    .dataframe tbody tr th:only-of-type {\n",
              "        vertical-align: middle;\n",
              "    }\n",
              "\n",
              "    .dataframe tbody tr th {\n",
              "        vertical-align: top;\n",
              "    }\n",
              "\n",
              "    .dataframe thead th {\n",
              "        text-align: right;\n",
              "    }\n",
              "</style>\n",
              "<table border=\"1\" class=\"dataframe\">\n",
              "  <thead>\n",
              "    <tr style=\"text-align: right;\">\n",
              "      <th></th>\n",
              "      <th>User-ID</th>\n",
              "      <th>ISBN</th>\n",
              "      <th>Book-Rating</th>\n",
              "      <th>Book-Title</th>\n",
              "      <th>totalRatingCount</th>\n",
              "      <th>Location</th>\n",
              "    </tr>\n",
              "  </thead>\n",
              "  <tbody>\n",
              "    <tr>\n",
              "      <th>1</th>\n",
              "      <td>278418</td>\n",
              "      <td>0446364193</td>\n",
              "      <td>0</td>\n",
              "      <td>Along Came a Spider (Alex Cross Novels)</td>\n",
              "      <td>198</td>\n",
              "      <td>omaha, nebraska, usa</td>\n",
              "    </tr>\n",
              "    <tr>\n",
              "      <th>3</th>\n",
              "      <td>7346</td>\n",
              "      <td>0446364193</td>\n",
              "      <td>0</td>\n",
              "      <td>Along Came a Spider (Alex Cross Novels)</td>\n",
              "      <td>198</td>\n",
              "      <td>sunnyvale, california, usa</td>\n",
              "    </tr>\n",
              "    <tr>\n",
              "      <th>4</th>\n",
              "      <td>8362</td>\n",
              "      <td>0446364193</td>\n",
              "      <td>0</td>\n",
              "      <td>Along Came a Spider (Alex Cross Novels)</td>\n",
              "      <td>198</td>\n",
              "      <td>los angeles, california, usa</td>\n",
              "    </tr>\n",
              "    <tr>\n",
              "      <th>8</th>\n",
              "      <td>14521</td>\n",
              "      <td>0446364193</td>\n",
              "      <td>0</td>\n",
              "      <td>Along Came a Spider (Alex Cross Novels)</td>\n",
              "      <td>198</td>\n",
              "      <td>providence, rhode island, usa</td>\n",
              "    </tr>\n",
              "    <tr>\n",
              "      <th>10</th>\n",
              "      <td>16795</td>\n",
              "      <td>0446364193</td>\n",
              "      <td>8</td>\n",
              "      <td>Along Came a Spider (Alex Cross Novels)</td>\n",
              "      <td>198</td>\n",
              "      <td>mechanicsville, maryland, usa</td>\n",
              "    </tr>\n",
              "  </tbody>\n",
              "</table>\n",
              "</div>\n",
              "      <button class=\"colab-df-convert\" onclick=\"convertToInteractive('df-70dd5ede-c3e3-465f-a679-fc19fb5dee40')\"\n",
              "              title=\"Convert this dataframe to an interactive table.\"\n",
              "              style=\"display:none;\">\n",
              "        \n",
              "  <svg xmlns=\"http://www.w3.org/2000/svg\" height=\"24px\"viewBox=\"0 0 24 24\"\n",
              "       width=\"24px\">\n",
              "    <path d=\"M0 0h24v24H0V0z\" fill=\"none\"/>\n",
              "    <path d=\"M18.56 5.44l.94 2.06.94-2.06 2.06-.94-2.06-.94-.94-2.06-.94 2.06-2.06.94zm-11 1L8.5 8.5l.94-2.06 2.06-.94-2.06-.94L8.5 2.5l-.94 2.06-2.06.94zm10 10l.94 2.06.94-2.06 2.06-.94-2.06-.94-.94-2.06-.94 2.06-2.06.94z\"/><path d=\"M17.41 7.96l-1.37-1.37c-.4-.4-.92-.59-1.43-.59-.52 0-1.04.2-1.43.59L10.3 9.45l-7.72 7.72c-.78.78-.78 2.05 0 2.83L4 21.41c.39.39.9.59 1.41.59.51 0 1.02-.2 1.41-.59l7.78-7.78 2.81-2.81c.8-.78.8-2.07 0-2.86zM5.41 20L4 18.59l7.72-7.72 1.47 1.35L5.41 20z\"/>\n",
              "  </svg>\n",
              "      </button>\n",
              "      \n",
              "  <style>\n",
              "    .colab-df-container {\n",
              "      display:flex;\n",
              "      flex-wrap:wrap;\n",
              "      gap: 12px;\n",
              "    }\n",
              "\n",
              "    .colab-df-convert {\n",
              "      background-color: #E8F0FE;\n",
              "      border: none;\n",
              "      border-radius: 50%;\n",
              "      cursor: pointer;\n",
              "      display: none;\n",
              "      fill: #1967D2;\n",
              "      height: 32px;\n",
              "      padding: 0 0 0 0;\n",
              "      width: 32px;\n",
              "    }\n",
              "\n",
              "    .colab-df-convert:hover {\n",
              "      background-color: #E2EBFA;\n",
              "      box-shadow: 0px 1px 2px rgba(60, 64, 67, 0.3), 0px 1px 3px 1px rgba(60, 64, 67, 0.15);\n",
              "      fill: #174EA6;\n",
              "    }\n",
              "\n",
              "    [theme=dark] .colab-df-convert {\n",
              "      background-color: #3B4455;\n",
              "      fill: #D2E3FC;\n",
              "    }\n",
              "\n",
              "    [theme=dark] .colab-df-convert:hover {\n",
              "      background-color: #434B5C;\n",
              "      box-shadow: 0px 1px 3px 1px rgba(0, 0, 0, 0.15);\n",
              "      filter: drop-shadow(0px 1px 2px rgba(0, 0, 0, 0.3));\n",
              "      fill: #FFFFFF;\n",
              "    }\n",
              "  </style>\n",
              "\n",
              "      <script>\n",
              "        const buttonEl =\n",
              "          document.querySelector('#df-70dd5ede-c3e3-465f-a679-fc19fb5dee40 button.colab-df-convert');\n",
              "        buttonEl.style.display =\n",
              "          google.colab.kernel.accessAllowed ? 'block' : 'none';\n",
              "\n",
              "        async function convertToInteractive(key) {\n",
              "          const element = document.querySelector('#df-70dd5ede-c3e3-465f-a679-fc19fb5dee40');\n",
              "          const dataTable =\n",
              "            await google.colab.kernel.invokeFunction('convertToInteractive',\n",
              "                                                     [key], {});\n",
              "          if (!dataTable) return;\n",
              "\n",
              "          const docLinkHtml = 'Like what you see? Visit the ' +\n",
              "            '<a target=\"_blank\" href=https://colab.research.google.com/notebooks/data_table.ipynb>data table notebook</a>'\n",
              "            + ' to learn more about interactive tables.';\n",
              "          element.innerHTML = '';\n",
              "          dataTable['output_type'] = 'display_data';\n",
              "          await google.colab.output.renderOutput(dataTable, element);\n",
              "          const docLink = document.createElement('div');\n",
              "          docLink.innerHTML = docLinkHtml;\n",
              "          element.appendChild(docLink);\n",
              "        }\n",
              "      </script>\n",
              "    </div>\n",
              "  </div>\n",
              "  "
            ]
          },
          "metadata": {},
          "execution_count": 15
        }
      ]
    },
    {
      "cell_type": "markdown",
      "source": [
        "**Implementing KNN**"
      ],
      "metadata": {
        "id": "Vt8YBtvTSmG7"
      }
    },
    {
      "cell_type": "markdown",
      "source": [
        "We use unsupervised algorithms with sklearn.neighbors. The algorithm we use to compute the nearest neighbors is “brute”, and we specify “metric=cosine” so that the algorithm will calculate the cosine similarity between rating vectors. Finally, we fit the model."
      ],
      "metadata": {
        "id": "UKS7Do3ETtGU"
      }
    },
    {
      "cell_type": "code",
      "source": [
        "from scipy.sparse import csr_matrix\n",
        "from sklearn.neighbors import NearestNeighbors\n",
        "\n",
        "india_us_user_rating = india_us_user_rating.drop_duplicates(['User-ID', 'Book-Title'])  #dropping duplicates since we dont need it in the pivot matrix\n",
        "india_us_user_rating_pivot = india_us_user_rating.pivot(index = 'Book-Title', columns = 'User-ID', values = 'Book-Rating').fillna(0) #filling nan values with zeroes\n",
        "plt.spy(india_us_user_rating_pivot) #checking the non-zero values in the matrix\n",
        "india_us_user_rating_matrix = csr_matrix(india_us_user_rating_pivot.values)\n",
        "model_knn = NearestNeighbors(metric = 'cosine', algorithm = 'brute')\n",
        "model_knn.fit(india_us_user_rating_matrix)"
      ],
      "metadata": {
        "colab": {
          "base_uri": "https://localhost:8080/",
          "height": 286
        },
        "id": "C7Ud6WgE0idO",
        "outputId": "2ac6cc70-68ac-4d82-dc7e-ad1b9dfd080f"
      },
      "execution_count": 16,
      "outputs": [
        {
          "output_type": "execute_result",
          "data": {
            "text/plain": [
              "NearestNeighbors(algorithm='brute', metric='cosine')"
            ]
          },
          "metadata": {},
          "execution_count": 16
        },
        {
          "output_type": "display_data",
          "data": {
            "text/plain": [
              "<Figure size 432x288 with 1 Axes>"
            ],
            "image/png": "[encoded data removed]"
          },
          "metadata": {
            "needs_background": "light"
          }
        }
      ]
    },
    {
      "cell_type": "code",
      "source": [
        "plt.spy(india_us_user_rating_matrix)"
      ],
      "metadata": {
        "colab": {
          "base_uri": "https://localhost:8080/",
          "height": 286
        },
        "id": "_tuZlNaJOToC",
        "outputId": "066481db-3193-4f46-ab23-ad729d9efe84"
      },
      "execution_count": 17,
      "outputs": [
        {
          "output_type": "execute_result",
          "data": {
            "text/plain": [
              "<matplotlib.lines.Line2D at 0x7ff35d27f290>"
            ]
          },
          "metadata": {},
          "execution_count": 17
        },
        {
          "output_type": "display_data",
          "data": {
            "text/plain": [
              "<Figure size 432x288 with 1 Axes>"
            ],
            "image/png": "[encoded data removed]"
          },
          "metadata": {
            "needs_background": "light"
          }
        }
      ]
    },
    {
      "cell_type": "code",
      "source": [
        "india_us_user_rating_pivot.shape[1]"
      ],
      "metadata": {
        "id": "laL5dTFBbMOr",
        "colab": {
          "base_uri": "https://localhost:8080/"
        },
        "outputId": "0de055d0-e5d3-4be0-f6a6-e3e7f1dac408"
      },
      "execution_count": 18,
      "outputs": [
        {
          "output_type": "execute_result",
          "data": {
            "text/plain": [
              "2105"
            ]
          },
          "metadata": {},
          "execution_count": 18
        }
      ]
    },
    {
      "cell_type": "code",
      "source": [
        "#generating recommendations\n",
        "random_userbook_rating_index = np.random.choice(india_us_user_rating_pivot.shape[0]) #pick a random row from the pivot table\n",
        "distances, indices = model_knn.kneighbors(india_us_user_rating_pivot.iloc[random_userbook_rating_index,].values.reshape(1, -1), n_neighbors = 6) # provide the row as features to the kNN\n",
        "for i in range(0, len(distances.flatten())):   #loop through all the recomendations\n",
        "    if i == 0:  #selected book \n",
        "        print('Recommendations for {0}:\\n'.format(india_us_user_rating_pivot.index[random_userbook_rating_index])) \n",
        "    else:  \n",
        "        #recomendations based on cosine distance of the books from selected book\n",
        "        print('{0}: {1}, with distance of {2}:'.format(i,india_us_user_rating_pivot.index[indices.flatten()[i]], distances.flatten()[i]))\n",
        "        "
      ],
      "metadata": {
        "id": "Y59lz_Cf0irS",
        "colab": {
          "base_uri": "https://localhost:8080/"
        },
        "outputId": "406258c9-f069-41cb-9126-67aed6423db1"
      },
      "execution_count": 19,
      "outputs": [
        {
          "output_type": "stream",
          "name": "stdout",
          "text": [
            "Recommendations for The Witness:\n",
            "\n",
            "1: Remembrance, with distance of 0.7365797401021335:\n",
            "2: Palomino, with distance of 0.7483094136209615:\n",
            "3: The Other Daughter, with distance of 0.7702795923929324:\n",
            "4: The House on Hope Street, with distance of 0.7783463022876238:\n",
            "5: Mixed Blessings, with distance of 0.7858904320494958:\n"
          ]
        }
      ]
    },
    {
      "cell_type": "code",
      "source": [
        "random_userbook_rating_index = np.random.choice(india_us_user_rating_pivot.shape[0]) #pick a random row from the pivot table\n",
        "distances, indices = model_knn.kneighbors(india_us_user_rating_pivot.iloc[random_userbook_rating_index,].values.reshape(1, -1), n_neighbors = 6) # provide the row as features to the kNN\n",
        "for i in range(0, len(distances.flatten())):\n",
        "    if i == 0:\n",
        "        print('Recommendations for {0}:\\n'.format(india_us_user_rating_pivot.index[random_userbook_rating_index]))\n",
        "    else:\n",
        "        print('{0}: {1}, with distance of {2}:'.format(i,india_us_user_rating_pivot.index[indices.flatten()[i]], distances.flatten()[i]))"
      ],
      "metadata": {
        "id": "4aDE04rieMWH",
        "colab": {
          "base_uri": "https://localhost:8080/"
        },
        "outputId": "92afbcc1-eac6-4962-aae6-c94da028cadc"
      },
      "execution_count": 20,
      "outputs": [
        {
          "output_type": "stream",
          "name": "stdout",
          "text": [
            "Recommendations for The Tale of the Body Thief (Vampire Chronicles (Paperback)):\n",
            "\n",
            "1: The Queen of the Damned (Vampire Chronicles (Paperback)), with distance of 0.4404717219029749:\n",
            "2: The Vampire Lestat (Vampire Chronicles, Book II), with distance of 0.5266563409730081:\n",
            "3: Interview with the Vampire, with distance of 0.6021358732868319:\n",
            "4: Lasher: Lives of the Mayfair Witches (Lives of the Mayfair Witches), with distance of 0.6807281272817947:\n",
            "5: Vittorio the Vampire: New Tales of the Vampires, with distance of 0.7021215149592276:\n"
          ]
        }
      ]
    },
    {
      "cell_type": "markdown",
      "source": [
        "We have sucessfully impleted collaborative filering using KNN. The user-interacction matrix that we ended up with was quite small after all the constraints. Lets try to implement matrix factorisation **without any regional constraints**. \n",
        "\n",
        "This time we will apply the **matrix-factorisation method/SVD** method for recommendations. We will assume some latent interactions between the users and items. Then we will try to come up with the user item interaction matrix by ourselves using SVD, in the process we would be filling the non-interacted items with a rating. We can rank these up for the best recommendations. "
      ],
      "metadata": {
        "id": "t_tPqZdS_E1Z"
      }
    },
    {
      "cell_type": "markdown",
      "source": [
        "# **Matrix Factorisation** / Model based approach"
      ],
      "metadata": {
        "id": "ldKsXnFbLeIK"
      }
    },
    {
      "cell_type": "code",
      "source": [
        "#we will be using this matrix for the matrix factorisation method. \n",
        "rating_popular_book.drop(columns=['ISBN','totalRatingCount'], inplace = True) #removing useless columns"
      ],
      "metadata": {
        "colab": {
          "base_uri": "https://localhost:8080/"
        },
        "id": "WdOWZScq_jHq",
        "outputId": "0ab326da-6f8b-4d8a-b3dd-755644f6b01e"
      },
      "execution_count": null,
      "outputs": [
        {
          "output_type": "stream",
          "name": "stderr",
          "text": [
            "/usr/local/lib/python3.7/dist-packages/pandas/core/frame.py:4913: SettingWithCopyWarning: \n",
            "A value is trying to be set on a copy of a slice from a DataFrame\n",
            "\n",
            "See the caveats in the documentation: https://pandas.pydata.org/pandas-docs/stable/user_guide/indexing.html#returning-a-view-versus-a-copy\n",
            "  errors=errors,\n"
          ]
        }
      ]
    },
    {
      "cell_type": "code",
      "source": [
        "rating_popular_book['User-ID'].value_counts() #checking user-id counts\n",
        "#since we are going to stratify 'User-ID' for our test train split, lets make sure all the user-ids have multiple instances"
      ],
      "metadata": {
        "colab": {
          "base_uri": "https://localhost:8080/"
        },
        "id": "OlprfG8FBRpN",
        "outputId": "c9ceb679-d792-4b4d-8b81-91460cc8d3df"
      },
      "execution_count": null,
      "outputs": [
        {
          "output_type": "execute_result",
          "data": {
            "text/plain": [
              "11676     1546\n",
              "35859      704\n",
              "76352      625\n",
              "16795      580\n",
              "153662     573\n",
              "          ... \n",
              "21155        1\n",
              "32110        1\n",
              "77039        1\n",
              "643          1\n",
              "257198       1\n",
              "Name: User-ID, Length: 3274, dtype: int64"
            ]
          },
          "metadata": {},
          "execution_count": 30
        }
      ]
    },
    {
      "cell_type": "code",
      "source": [
        "#counting # of user-ids with 1 rating\n",
        "k = rating_popular_book['User-ID'].value_counts().reset_index() #creating a matrix with user-id counts\n",
        "k[k['User-ID'] == 1].shape[0]   #checking the number of User_ids which have only been repeated once"
      ],
      "metadata": {
        "colab": {
          "base_uri": "https://localhost:8080/"
        },
        "id": "peRgDs9VBAj0",
        "outputId": "d97d7418-ee83-4c00-91fe-a1a36a2b0e8a"
      },
      "execution_count": null,
      "outputs": [
        {
          "output_type": "execute_result",
          "data": {
            "text/plain": [
              "114"
            ]
          },
          "metadata": {},
          "execution_count": 31
        }
      ]
    },
    {
      "cell_type": "code",
      "source": [
        "#removing the rows with unique user_ID, since we need more than 1 to straify.\n",
        "rating_popular_book = rating_popular_book[rating_popular_book.duplicated(subset=[\"User-ID\"], keep=False)] "
      ],
      "metadata": {
        "id": "hlOXtUWMKchu"
      },
      "execution_count": null,
      "outputs": []
    },
    {
      "cell_type": "code",
      "source": [
        "rating_popular_book.drop_duplicates(inplace = True)\n",
        "rating_popular_book.head(10)"
      ],
      "metadata": {
        "colab": {
          "base_uri": "https://localhost:8080/",
          "height": 450
        },
        "id": "6LJg3TsCSzCc",
        "outputId": "6c32fcca-533d-4b20-9783-e223d714f0aa"
      },
      "execution_count": null,
      "outputs": [
        {
          "output_type": "stream",
          "name": "stderr",
          "text": [
            "/usr/local/lib/python3.7/dist-packages/pandas/util/_decorators.py:311: SettingWithCopyWarning: \n",
            "A value is trying to be set on a copy of a slice from a DataFrame\n",
            "\n",
            "See the caveats in the documentation: https://pandas.pydata.org/pandas-docs/stable/user_guide/indexing.html#returning-a-view-versus-a-copy\n",
            "  return func(*args, **kwargs)\n"
          ]
        },
        {
          "output_type": "execute_result",
          "data": {
            "text/plain": [
              "    User-ID  Book-Rating                               Book-Title\n",
              "1    278418            0  Along Came a Spider (Alex Cross Novels)\n",
              "2      5483            0  Along Came a Spider (Alex Cross Novels)\n",
              "3      7346            0  Along Came a Spider (Alex Cross Novels)\n",
              "4      8362            0  Along Came a Spider (Alex Cross Novels)\n",
              "5      9177            7  Along Came a Spider (Alex Cross Novels)\n",
              "6     11400            0  Along Came a Spider (Alex Cross Novels)\n",
              "7     11676            8  Along Came a Spider (Alex Cross Novels)\n",
              "8     14521            0  Along Came a Spider (Alex Cross Novels)\n",
              "9     15418            0  Along Came a Spider (Alex Cross Novels)\n",
              "10    16795            8  Along Came a Spider (Alex Cross Novels)"
            ],
            "text/html": [
              "\n",
              "  <div id=\"df-83c827d8-5cd5-4bc8-b2b0-75857404defd\">\n",
              "    <div class=\"colab-df-container\">\n",
              "      <div>\n",
              "<style scoped>\n",
              "    .dataframe tbody tr th:only-of-type {\n",
              "        vertical-align: middle;\n",
              "    }\n",
              "\n",
              "    .dataframe tbody tr th {\n",
              "        vertical-align: top;\n",
              "    }\n",
              "\n",
              "    .dataframe thead th {\n",
              "        text-align: right;\n",
              "    }\n",
              "</style>\n",
              "<table border=\"1\" class=\"dataframe\">\n",
              "  <thead>\n",
              "    <tr style=\"text-align: right;\">\n",
              "      <th></th>\n",
              "      <th>User-ID</th>\n",
              "      <th>Book-Rating</th>\n",
              "      <th>Book-Title</th>\n",
              "    </tr>\n",
              "  </thead>\n",
              "  <tbody>\n",
              "    <tr>\n",
              "      <th>1</th>\n",
              "      <td>278418</td>\n",
              "      <td>0</td>\n",
              "      <td>Along Came a Spider (Alex Cross Novels)</td>\n",
              "    </tr>\n",
              "    <tr>\n",
              "      <th>2</th>\n",
              "      <td>5483</td>\n",
              "      <td>0</td>\n",
              "      <td>Along Came a Spider (Alex Cross Novels)</td>\n",
              "    </tr>\n",
              "    <tr>\n",
              "      <th>3</th>\n",
              "      <td>7346</td>\n",
              "      <td>0</td>\n",
              "      <td>Along Came a Spider (Alex Cross Novels)</td>\n",
              "    </tr>\n",
              "    <tr>\n",
              "      <th>4</th>\n",
              "      <td>8362</td>\n",
              "      <td>0</td>\n",
              "      <td>Along Came a Spider (Alex Cross Novels)</td>\n",
              "    </tr>\n",
              "    <tr>\n",
              "      <th>5</th>\n",
              "      <td>9177</td>\n",
              "      <td>7</td>\n",
              "      <td>Along Came a Spider (Alex Cross Novels)</td>\n",
              "    </tr>\n",
              "    <tr>\n",
              "      <th>6</th>\n",
              "      <td>11400</td>\n",
              "      <td>0</td>\n",
              "      <td>Along Came a Spider (Alex Cross Novels)</td>\n",
              "    </tr>\n",
              "    <tr>\n",
              "      <th>7</th>\n",
              "      <td>11676</td>\n",
              "      <td>8</td>\n",
              "      <td>Along Came a Spider (Alex Cross Novels)</td>\n",
              "    </tr>\n",
              "    <tr>\n",
              "      <th>8</th>\n",
              "      <td>14521</td>\n",
              "      <td>0</td>\n",
              "      <td>Along Came a Spider (Alex Cross Novels)</td>\n",
              "    </tr>\n",
              "    <tr>\n",
              "      <th>9</th>\n",
              "      <td>15418</td>\n",
              "      <td>0</td>\n",
              "      <td>Along Came a Spider (Alex Cross Novels)</td>\n",
              "    </tr>\n",
              "    <tr>\n",
              "      <th>10</th>\n",
              "      <td>16795</td>\n",
              "      <td>8</td>\n",
              "      <td>Along Came a Spider (Alex Cross Novels)</td>\n",
              "    </tr>\n",
              "  </tbody>\n",
              "</table>\n",
              "</div>\n",
              "      <button class=\"colab-df-convert\" onclick=\"convertToInteractive('df-83c827d8-5cd5-4bc8-b2b0-75857404defd')\"\n",
              "              title=\"Convert this dataframe to an interactive table.\"\n",
              "              style=\"display:none;\">\n",
              "        \n",
              "  <svg xmlns=\"http://www.w3.org/2000/svg\" height=\"24px\"viewBox=\"0 0 24 24\"\n",
              "       width=\"24px\">\n",
              "    <path d=\"M0 0h24v24H0V0z\" fill=\"none\"/>\n",
              "    <path d=\"M18.56 5.44l.94 2.06.94-2.06 2.06-.94-2.06-.94-.94-2.06-.94 2.06-2.06.94zm-11 1L8.5 8.5l.94-2.06 2.06-.94-2.06-.94L8.5 2.5l-.94 2.06-2.06.94zm10 10l.94 2.06.94-2.06 2.06-.94-2.06-.94-.94-2.06-.94 2.06-2.06.94z\"/><path d=\"M17.41 7.96l-1.37-1.37c-.4-.4-.92-.59-1.43-.59-.52 0-1.04.2-1.43.59L10.3 9.45l-7.72 7.72c-.78.78-.78 2.05 0 2.83L4 21.41c.39.39.9.59 1.41.59.51 0 1.02-.2 1.41-.59l7.78-7.78 2.81-2.81c.8-.78.8-2.07 0-2.86zM5.41 20L4 18.59l7.72-7.72 1.47 1.35L5.41 20z\"/>\n",
              "  </svg>\n",
              "      </button>\n",
              "      \n",
              "  <style>\n",
              "    .colab-df-container {\n",
              "      display:flex;\n",
              "      flex-wrap:wrap;\n",
              "      gap: 12px;\n",
              "    }\n",
              "\n",
              "    .colab-df-convert {\n",
              "      background-color: #E8F0FE;\n",
              "      border: none;\n",
              "      border-radius: 50%;\n",
              "      cursor: pointer;\n",
              "      display: none;\n",
              "      fill: #1967D2;\n",
              "      height: 32px;\n",
              "      padding: 0 0 0 0;\n",
              "      width: 32px;\n",
              "    }\n",
              "\n",
              "    .colab-df-convert:hover {\n",
              "      background-color: #E2EBFA;\n",
              "      box-shadow: 0px 1px 2px rgba(60, 64, 67, 0.3), 0px 1px 3px 1px rgba(60, 64, 67, 0.15);\n",
              "      fill: #174EA6;\n",
              "    }\n",
              "\n",
              "    [theme=dark] .colab-df-convert {\n",
              "      background-color: #3B4455;\n",
              "      fill: #D2E3FC;\n",
              "    }\n",
              "\n",
              "    [theme=dark] .colab-df-convert:hover {\n",
              "      background-color: #434B5C;\n",
              "      box-shadow: 0px 1px 3px 1px rgba(0, 0, 0, 0.15);\n",
              "      filter: drop-shadow(0px 1px 2px rgba(0, 0, 0, 0.3));\n",
              "      fill: #FFFFFF;\n",
              "    }\n",
              "  </style>\n",
              "\n",
              "      <script>\n",
              "        const buttonEl =\n",
              "          document.querySelector('#df-83c827d8-5cd5-4bc8-b2b0-75857404defd button.colab-df-convert');\n",
              "        buttonEl.style.display =\n",
              "          google.colab.kernel.accessAllowed ? 'block' : 'none';\n",
              "\n",
              "        async function convertToInteractive(key) {\n",
              "          const element = document.querySelector('#df-83c827d8-5cd5-4bc8-b2b0-75857404defd');\n",
              "          const dataTable =\n",
              "            await google.colab.kernel.invokeFunction('convertToInteractive',\n",
              "                                                     [key], {});\n",
              "          if (!dataTable) return;\n",
              "\n",
              "          const docLinkHtml = 'Like what you see? Visit the ' +\n",
              "            '<a target=\"_blank\" href=https://colab.research.google.com/notebooks/data_table.ipynb>data table notebook</a>'\n",
              "            + ' to learn more about interactive tables.';\n",
              "          element.innerHTML = '';\n",
              "          dataTable['output_type'] = 'display_data';\n",
              "          await google.colab.output.renderOutput(dataTable, element);\n",
              "          const docLink = document.createElement('div');\n",
              "          docLink.innerHTML = docLinkHtml;\n",
              "          element.appendChild(docLink);\n",
              "        }\n",
              "      </script>\n",
              "    </div>\n",
              "  </div>\n",
              "  "
            ]
          },
          "metadata": {},
          "execution_count": 33
        }
      ]
    },
    {
      "cell_type": "markdown",
      "source": [
        "Since we will be developing an evaluation system for the recommendation system, We need to do a test train split. "
      ],
      "metadata": {
        "id": "MHLbtoXH6jUK"
      }
    },
    {
      "cell_type": "code",
      "source": [
        "interactions_train_df, interactions_test_df = train_test_split(rating_popular_book, #spliting the user-item rating dataframe                                        \n",
        "                                   stratify=rating_popular_book.loc[:,'User-ID'],          #stratify using user-id column\n",
        "                                   test_size=0.20,                                   #using 20 percent data as test set\n",
        "                                   random_state=42)\n",
        "\n",
        "print('# interactions on Train set: %d' % len(interactions_train_df))\n",
        "print('# interactions on Test set: %d' % len(interactions_test_df))"
      ],
      "metadata": {
        "colab": {
          "base_uri": "https://localhost:8080/"
        },
        "id": "AsUm73pD65yj",
        "outputId": "f4a0e00d-fbcc-46aa-d9cb-b32f682f6e82"
      },
      "execution_count": null,
      "outputs": [
        {
          "output_type": "stream",
          "name": "stdout",
          "text": [
            "# interactions on Train set: 107327\n",
            "# interactions on Test set: 26832\n"
          ]
        }
      ]
    },
    {
      "cell_type": "code",
      "source": [
        "#Creating a sparse pivot table with users in rows and items in columns\n",
        "pivot_matrix = interactions_train_df.pivot_table(index='User-ID', columns='Book-Title', values='Book-Rating', aggfunc='sum').fillna(0) #agreegating any duplicate entries #filling nan values with 0\n",
        "plt.spy(pivot_matrix)  # visualising the sparse matrix\n",
        "pivot_matrix"
      ],
      "metadata": {
        "colab": {
          "base_uri": "https://localhost:8080/",
          "height": 962
        },
        "id": "sns4sIqEkEZ8",
        "outputId": "0797c71c-80fe-4e59-856d-3d152385e316"
      },
      "execution_count": null,
      "outputs": [
        {
          "output_type": "execute_result",
          "data": {
            "text/plain": [
              "Book-Title  1984  1st to Die: A Novel  2010: Odyssey Two  204 Rosewood Lane  \\\n",
              "User-ID                                                                       \n",
              "243          0.0                  0.0                0.0                0.0   \n",
              "254          9.0                  0.0                0.0                0.0   \n",
              "507          0.0                  0.0                0.0                0.0   \n",
              "638          0.0                  0.0                0.0                0.0   \n",
              "741          0.0                  0.0                0.0                0.0   \n",
              "...          ...                  ...                ...                ...   \n",
              "278188       0.0                  0.0                0.0                0.0   \n",
              "278418       0.0                  0.0                0.0                0.0   \n",
              "278582       0.0                  0.0                0.0                0.0   \n",
              "278633       0.0                  0.0                0.0                0.0   \n",
              "278843       0.0                  0.0                0.0                0.0   \n",
              "\n",
              "Book-Title  24 Hours  2nd Chance  4 Blondes  84 Charing Cross Road  \\\n",
              "User-ID                                                              \n",
              "243              0.0         0.0        0.0                    0.0   \n",
              "254              0.0         0.0        0.0                    0.0   \n",
              "507              0.0         0.0        0.0                    0.0   \n",
              "638              0.0         9.0        0.0                    0.0   \n",
              "741              0.0         0.0        0.0                    0.0   \n",
              "...              ...         ...        ...                    ...   \n",
              "278188           0.0         0.0        0.0                    0.0   \n",
              "278418           0.0         0.0        0.0                    0.0   \n",
              "278582           0.0         0.0        0.0                    0.0   \n",
              "278633           0.0         0.0        0.0                    0.0   \n",
              "278843           0.0         0.0        0.0                    0.0   \n",
              "\n",
              "Book-Title  A 2nd Helping of Chicken Soup for the Soul (Chicken Soup for the Soul Series (Paper))  \\\n",
              "User-ID                                                                                             \n",
              "243                                                       0.0                                       \n",
              "254                                                       0.0                                       \n",
              "507                                                       0.0                                       \n",
              "638                                                       0.0                                       \n",
              "741                                                       0.0                                       \n",
              "...                                                       ...                                       \n",
              "278188                                                    0.0                                       \n",
              "278418                                                    0.0                                       \n",
              "278582                                                    0.0                                       \n",
              "278633                                                    0.0                                       \n",
              "278843                                                    0.0                                       \n",
              "\n",
              "Book-Title  A Beautiful Mind: The Life of Mathematical Genius and Nobel Laureate John Nash  \\\n",
              "User-ID                                                                                      \n",
              "243                                                       0.0                                \n",
              "254                                                       0.0                                \n",
              "507                                                       0.0                                \n",
              "638                                                       0.0                                \n",
              "741                                                       0.0                                \n",
              "...                                                       ...                                \n",
              "278188                                                    0.0                                \n",
              "278418                                                    0.0                                \n",
              "278582                                                    0.0                                \n",
              "278633                                                    0.0                                \n",
              "278843                                                    0.0                                \n",
              "\n",
              "Book-Title  ...  Women Who Run with the Wolves  \\\n",
              "User-ID     ...                                  \n",
              "243         ...                            0.0   \n",
              "254         ...                            0.0   \n",
              "507         ...                            0.0   \n",
              "638         ...                            0.0   \n",
              "741         ...                            0.0   \n",
              "...         ...                            ...   \n",
              "278188      ...                            0.0   \n",
              "278418      ...                            0.0   \n",
              "278582      ...                            0.0   \n",
              "278633      ...                            0.0   \n",
              "278843      ...                            0.0   \n",
              "\n",
              "Book-Title  Word Freak: Heartbreak, Triumph, Genius, and Obsession in the World of Competitive Scrabble Players  \\\n",
              "User-ID                                                                                                           \n",
              "243                                                       0.0                                                     \n",
              "254                                                       0.0                                                     \n",
              "507                                                       0.0                                                     \n",
              "638                                                       0.0                                                     \n",
              "741                                                       0.0                                                     \n",
              "...                                                       ...                                                     \n",
              "278188                                                    0.0                                                     \n",
              "278418                                                    0.0                                                     \n",
              "278582                                                    0.0                                                     \n",
              "278633                                                    0.0                                                     \n",
              "278843                                                    0.0                                                     \n",
              "\n",
              "Book-Title  Writ of Execution  Wuthering Heights  \\\n",
              "User-ID                                            \n",
              "243                       0.0                0.0   \n",
              "254                       0.0                0.0   \n",
              "507                       0.0                0.0   \n",
              "638                       0.0                0.0   \n",
              "741                       0.0                0.0   \n",
              "...                       ...                ...   \n",
              "278188                    0.0                0.0   \n",
              "278418                    0.0                0.0   \n",
              "278582                    0.0                0.0   \n",
              "278633                    0.0                0.0   \n",
              "278843                    0.0                0.0   \n",
              "\n",
              "Book-Title  Wuthering Heights (Penguin Classics)  Year of Wonders  \\\n",
              "User-ID                                                             \n",
              "243                                          0.0              0.0   \n",
              "254                                          0.0              0.0   \n",
              "507                                          0.0              0.0   \n",
              "638                                          0.0              0.0   \n",
              "741                                          0.0              0.0   \n",
              "...                                          ...              ...   \n",
              "278188                                       0.0              0.0   \n",
              "278418                                       0.0              0.0   \n",
              "278582                                       0.0              0.0   \n",
              "278633                                       0.0              0.0   \n",
              "278843                                       0.0              0.0   \n",
              "\n",
              "Book-Title  You Belong To Me  \\\n",
              "User-ID                        \n",
              "243                      0.0   \n",
              "254                      0.0   \n",
              "507                      0.0   \n",
              "638                      0.0   \n",
              "741                      0.0   \n",
              "...                      ...   \n",
              "278188                   0.0   \n",
              "278418                   0.0   \n",
              "278582                   0.0   \n",
              "278633                   0.0   \n",
              "278843                   0.0   \n",
              "\n",
              "Book-Title  Zen and the Art of Motorcycle Maintenance: An Inquiry into Values  \\\n",
              "User-ID                                                                         \n",
              "243                                                       0.0                   \n",
              "254                                                       0.0                   \n",
              "507                                                       0.0                   \n",
              "638                                                       0.0                   \n",
              "741                                                       0.0                   \n",
              "...                                                       ...                   \n",
              "278188                                                    0.0                   \n",
              "278418                                                    0.0                   \n",
              "278582                                                    0.0                   \n",
              "278633                                                    0.0                   \n",
              "278843                                                    0.0                   \n",
              "\n",
              "Book-Title  Zoya  \\O\\\" Is for Outlaw\"  \n",
              "User-ID                                \n",
              "243          0.0                  0.0  \n",
              "254          0.0                  0.0  \n",
              "507          0.0                  0.0  \n",
              "638          0.0                  0.0  \n",
              "741          0.0                  0.0  \n",
              "...          ...                  ...  \n",
              "278188       0.0                  0.0  \n",
              "278418       0.0                  0.0  \n",
              "278582       0.0                  0.0  \n",
              "278633       0.0                  0.0  \n",
              "278843       0.0                  0.0  \n",
              "\n",
              "[3160 rows x 1388 columns]"
            ],
            "text/html": [
              "\n",
              "  <div id=\"df-f5ee7fa1-7d93-400b-9135-13878dafe1b3\">\n",
              "    <div class=\"colab-df-container\">\n",
              "      <div>\n",
              "<style scoped>\n",
              "    .dataframe tbody tr th:only-of-type {\n",
              "        vertical-align: middle;\n",
              "    }\n",
              "\n",
              "    .dataframe tbody tr th {\n",
              "        vertical-align: top;\n",
              "    }\n",
              "\n",
              "    .dataframe thead th {\n",
              "        text-align: right;\n",
              "    }\n",
              "</style>\n",
              "<table border=\"1\" class=\"dataframe\">\n",
              "  <thead>\n",
              "    <tr style=\"text-align: right;\">\n",
              "      <th>Book-Title</th>\n",
              "      <th>1984</th>\n",
              "      <th>1st to Die: A Novel</th>\n",
              "      <th>2010: Odyssey Two</th>\n",
              "      <th>204 Rosewood Lane</th>\n",
              "      <th>24 Hours</th>\n",
              "      <th>2nd Chance</th>\n",
              "      <th>4 Blondes</th>\n",
              "      <th>84 Charing Cross Road</th>\n",
              "      <th>A 2nd Helping of Chicken Soup for the Soul (Chicken Soup for the Soul Series (Paper))</th>\n",
              "      <th>A Beautiful Mind: The Life of Mathematical Genius and Nobel Laureate John Nash</th>\n",
              "      <th>...</th>\n",
              "      <th>Women Who Run with the Wolves</th>\n",
              "      <th>Word Freak: Heartbreak, Triumph, Genius, and Obsession in the World of Competitive Scrabble Players</th>\n",
              "      <th>Writ of Execution</th>\n",
              "      <th>Wuthering Heights</th>\n",
              "      <th>Wuthering Heights (Penguin Classics)</th>\n",
              "      <th>Year of Wonders</th>\n",
              "      <th>You Belong To Me</th>\n",
              "      <th>Zen and the Art of Motorcycle Maintenance: An Inquiry into Values</th>\n",
              "      <th>Zoya</th>\n",
              "      <th>\\O\\\" Is for Outlaw\"</th>\n",
              "    </tr>\n",
              "    <tr>\n",
              "      <th>User-ID</th>\n",
              "      <th></th>\n",
              "      <th></th>\n",
              "      <th></th>\n",
              "      <th></th>\n",
              "      <th></th>\n",
              "      <th></th>\n",
              "      <th></th>\n",
              "      <th></th>\n",
              "      <th></th>\n",
              "      <th></th>\n",
              "      <th></th>\n",
              "      <th></th>\n",
              "      <th></th>\n",
              "      <th></th>\n",
              "      <th></th>\n",
              "      <th></th>\n",
              "      <th></th>\n",
              "      <th></th>\n",
              "      <th></th>\n",
              "      <th></th>\n",
              "      <th></th>\n",
              "    </tr>\n",
              "  </thead>\n",
              "  <tbody>\n",
              "    <tr>\n",
              "      <th>243</th>\n",
              "      <td>0.0</td>\n",
              "      <td>0.0</td>\n",
              "      <td>0.0</td>\n",
              "      <td>0.0</td>\n",
              "      <td>0.0</td>\n",
              "      <td>0.0</td>\n",
              "      <td>0.0</td>\n",
              "      <td>0.0</td>\n",
              "      <td>0.0</td>\n",
              "      <td>0.0</td>\n",
              "      <td>...</td>\n",
              "      <td>0.0</td>\n",
              "      <td>0.0</td>\n",
              "      <td>0.0</td>\n",
              "      <td>0.0</td>\n",
              "      <td>0.0</td>\n",
              "      <td>0.0</td>\n",
              "      <td>0.0</td>\n",
              "      <td>0.0</td>\n",
              "      <td>0.0</td>\n",
              "      <td>0.0</td>\n",
              "    </tr>\n",
              "    <tr>\n",
              "      <th>254</th>\n",
              "      <td>9.0</td>\n",
              "      <td>0.0</td>\n",
              "      <td>0.0</td>\n",
              "      <td>0.0</td>\n",
              "      <td>0.0</td>\n",
              "      <td>0.0</td>\n",
              "      <td>0.0</td>\n",
              "      <td>0.0</td>\n",
              "      <td>0.0</td>\n",
              "      <td>0.0</td>\n",
              "      <td>...</td>\n",
              "      <td>0.0</td>\n",
              "      <td>0.0</td>\n",
              "      <td>0.0</td>\n",
              "      <td>0.0</td>\n",
              "      <td>0.0</td>\n",
              "      <td>0.0</td>\n",
              "      <td>0.0</td>\n",
              "      <td>0.0</td>\n",
              "      <td>0.0</td>\n",
              "      <td>0.0</td>\n",
              "    </tr>\n",
              "    <tr>\n",
              "      <th>507</th>\n",
              "      <td>0.0</td>\n",
              "      <td>0.0</td>\n",
              "      <td>0.0</td>\n",
              "      <td>0.0</td>\n",
              "      <td>0.0</td>\n",
              "      <td>0.0</td>\n",
              "      <td>0.0</td>\n",
              "      <td>0.0</td>\n",
              "      <td>0.0</td>\n",
              "      <td>0.0</td>\n",
              "      <td>...</td>\n",
              "      <td>0.0</td>\n",
              "      <td>0.0</td>\n",
              "      <td>0.0</td>\n",
              "      <td>0.0</td>\n",
              "      <td>0.0</td>\n",
              "      <td>0.0</td>\n",
              "      <td>0.0</td>\n",
              "      <td>0.0</td>\n",
              "      <td>0.0</td>\n",
              "      <td>0.0</td>\n",
              "    </tr>\n",
              "    <tr>\n",
              "      <th>638</th>\n",
              "      <td>0.0</td>\n",
              "      <td>0.0</td>\n",
              "      <td>0.0</td>\n",
              "      <td>0.0</td>\n",
              "      <td>0.0</td>\n",
              "      <td>9.0</td>\n",
              "      <td>0.0</td>\n",
              "      <td>0.0</td>\n",
              "      <td>0.0</td>\n",
              "      <td>0.0</td>\n",
              "      <td>...</td>\n",
              "      <td>0.0</td>\n",
              "      <td>0.0</td>\n",
              "      <td>0.0</td>\n",
              "      <td>0.0</td>\n",
              "      <td>0.0</td>\n",
              "      <td>0.0</td>\n",
              "      <td>0.0</td>\n",
              "      <td>0.0</td>\n",
              "      <td>0.0</td>\n",
              "      <td>0.0</td>\n",
              "    </tr>\n",
              "    <tr>\n",
              "      <th>741</th>\n",
              "      <td>0.0</td>\n",
              "      <td>0.0</td>\n",
              "      <td>0.0</td>\n",
              "      <td>0.0</td>\n",
              "      <td>0.0</td>\n",
              "      <td>0.0</td>\n",
              "      <td>0.0</td>\n",
              "      <td>0.0</td>\n",
              "      <td>0.0</td>\n",
              "      <td>0.0</td>\n",
              "      <td>...</td>\n",
              "      <td>0.0</td>\n",
              "      <td>0.0</td>\n",
              "      <td>0.0</td>\n",
              "      <td>0.0</td>\n",
              "      <td>0.0</td>\n",
              "      <td>0.0</td>\n",
              "      <td>0.0</td>\n",
              "      <td>0.0</td>\n",
              "      <td>0.0</td>\n",
              "      <td>0.0</td>\n",
              "    </tr>\n",
              "    <tr>\n",
              "      <th>...</th>\n",
              "      <td>...</td>\n",
              "      <td>...</td>\n",
              "      <td>...</td>\n",
              "      <td>...</td>\n",
              "      <td>...</td>\n",
              "      <td>...</td>\n",
              "      <td>...</td>\n",
              "      <td>...</td>\n",
              "      <td>...</td>\n",
              "      <td>...</td>\n",
              "      <td>...</td>\n",
              "      <td>...</td>\n",
              "      <td>...</td>\n",
              "      <td>...</td>\n",
              "      <td>...</td>\n",
              "      <td>...</td>\n",
              "      <td>...</td>\n",
              "      <td>...</td>\n",
              "      <td>...</td>\n",
              "      <td>...</td>\n",
              "      <td>...</td>\n",
              "    </tr>\n",
              "    <tr>\n",
              "      <th>278188</th>\n",
              "      <td>0.0</td>\n",
              "      <td>0.0</td>\n",
              "      <td>0.0</td>\n",
              "      <td>0.0</td>\n",
              "      <td>0.0</td>\n",
              "      <td>0.0</td>\n",
              "      <td>0.0</td>\n",
              "      <td>0.0</td>\n",
              "      <td>0.0</td>\n",
              "      <td>0.0</td>\n",
              "      <td>...</td>\n",
              "      <td>0.0</td>\n",
              "      <td>0.0</td>\n",
              "      <td>0.0</td>\n",
              "      <td>0.0</td>\n",
              "      <td>0.0</td>\n",
              "      <td>0.0</td>\n",
              "      <td>0.0</td>\n",
              "      <td>0.0</td>\n",
              "      <td>0.0</td>\n",
              "      <td>0.0</td>\n",
              "    </tr>\n",
              "    <tr>\n",
              "      <th>278418</th>\n",
              "      <td>0.0</td>\n",
              "      <td>0.0</td>\n",
              "      <td>0.0</td>\n",
              "      <td>0.0</td>\n",
              "      <td>0.0</td>\n",
              "      <td>0.0</td>\n",
              "      <td>0.0</td>\n",
              "      <td>0.0</td>\n",
              "      <td>0.0</td>\n",
              "      <td>0.0</td>\n",
              "      <td>...</td>\n",
              "      <td>0.0</td>\n",
              "      <td>0.0</td>\n",
              "      <td>0.0</td>\n",
              "      <td>0.0</td>\n",
              "      <td>0.0</td>\n",
              "      <td>0.0</td>\n",
              "      <td>0.0</td>\n",
              "      <td>0.0</td>\n",
              "      <td>0.0</td>\n",
              "      <td>0.0</td>\n",
              "    </tr>\n",
              "    <tr>\n",
              "      <th>278582</th>\n",
              "      <td>0.0</td>\n",
              "      <td>0.0</td>\n",
              "      <td>0.0</td>\n",
              "      <td>0.0</td>\n",
              "      <td>0.0</td>\n",
              "      <td>0.0</td>\n",
              "      <td>0.0</td>\n",
              "      <td>0.0</td>\n",
              "      <td>0.0</td>\n",
              "      <td>0.0</td>\n",
              "      <td>...</td>\n",
              "      <td>0.0</td>\n",
              "      <td>0.0</td>\n",
              "      <td>0.0</td>\n",
              "      <td>0.0</td>\n",
              "      <td>0.0</td>\n",
              "      <td>0.0</td>\n",
              "      <td>0.0</td>\n",
              "      <td>0.0</td>\n",
              "      <td>0.0</td>\n",
              "      <td>0.0</td>\n",
              "    </tr>\n",
              "    <tr>\n",
              "      <th>278633</th>\n",
              "      <td>0.0</td>\n",
              "      <td>0.0</td>\n",
              "      <td>0.0</td>\n",
              "      <td>0.0</td>\n",
              "      <td>0.0</td>\n",
              "      <td>0.0</td>\n",
              "      <td>0.0</td>\n",
              "      <td>0.0</td>\n",
              "      <td>0.0</td>\n",
              "      <td>0.0</td>\n",
              "      <td>...</td>\n",
              "      <td>0.0</td>\n",
              "      <td>0.0</td>\n",
              "      <td>0.0</td>\n",
              "      <td>0.0</td>\n",
              "      <td>0.0</td>\n",
              "      <td>0.0</td>\n",
              "      <td>0.0</td>\n",
              "      <td>0.0</td>\n",
              "      <td>0.0</td>\n",
              "      <td>0.0</td>\n",
              "    </tr>\n",
              "    <tr>\n",
              "      <th>278843</th>\n",
              "      <td>0.0</td>\n",
              "      <td>0.0</td>\n",
              "      <td>0.0</td>\n",
              "      <td>0.0</td>\n",
              "      <td>0.0</td>\n",
              "      <td>0.0</td>\n",
              "      <td>0.0</td>\n",
              "      <td>0.0</td>\n",
              "      <td>0.0</td>\n",
              "      <td>0.0</td>\n",
              "      <td>...</td>\n",
              "      <td>0.0</td>\n",
              "      <td>0.0</td>\n",
              "      <td>0.0</td>\n",
              "      <td>0.0</td>\n",
              "      <td>0.0</td>\n",
              "      <td>0.0</td>\n",
              "      <td>0.0</td>\n",
              "      <td>0.0</td>\n",
              "      <td>0.0</td>\n",
              "      <td>0.0</td>\n",
              "    </tr>\n",
              "  </tbody>\n",
              "</table>\n",
              "<p>3160 rows × 1388 columns</p>\n",
              "</div>\n",
              "      <button class=\"colab-df-convert\" onclick=\"convertToInteractive('df-f5ee7fa1-7d93-400b-9135-13878dafe1b3')\"\n",
              "              title=\"Convert this dataframe to an interactive table.\"\n",
              "              style=\"display:none;\">\n",
              "        \n",
              "  <svg xmlns=\"http://www.w3.org/2000/svg\" height=\"24px\"viewBox=\"0 0 24 24\"\n",
              "       width=\"24px\">\n",
              "    <path d=\"M0 0h24v24H0V0z\" fill=\"none\"/>\n",
              "    <path d=\"M18.56 5.44l.94 2.06.94-2.06 2.06-.94-2.06-.94-.94-2.06-.94 2.06-2.06.94zm-11 1L8.5 8.5l.94-2.06 2.06-.94-2.06-.94L8.5 2.5l-.94 2.06-2.06.94zm10 10l.94 2.06.94-2.06 2.06-.94-2.06-.94-.94-2.06-.94 2.06-2.06.94z\"/><path d=\"M17.41 7.96l-1.37-1.37c-.4-.4-.92-.59-1.43-.59-.52 0-1.04.2-1.43.59L10.3 9.45l-7.72 7.72c-.78.78-.78 2.05 0 2.83L4 21.41c.39.39.9.59 1.41.59.51 0 1.02-.2 1.41-.59l7.78-7.78 2.81-2.81c.8-.78.8-2.07 0-2.86zM5.41 20L4 18.59l7.72-7.72 1.47 1.35L5.41 20z\"/>\n",
              "  </svg>\n",
              "      </button>\n",
              "      \n",
              "  <style>\n",
              "    .colab-df-container {\n",
              "      display:flex;\n",
              "      flex-wrap:wrap;\n",
              "      gap: 12px;\n",
              "    }\n",
              "\n",
              "    .colab-df-convert {\n",
              "      background-color: #E8F0FE;\n",
              "      border: none;\n",
              "      border-radius: 50%;\n",
              "      cursor: pointer;\n",
              "      display: none;\n",
              "      fill: #1967D2;\n",
              "      height: 32px;\n",
              "      padding: 0 0 0 0;\n",
              "      width: 32px;\n",
              "    }\n",
              "\n",
              "    .colab-df-convert:hover {\n",
              "      background-color: #E2EBFA;\n",
              "      box-shadow: 0px 1px 2px rgba(60, 64, 67, 0.3), 0px 1px 3px 1px rgba(60, 64, 67, 0.15);\n",
              "      fill: #174EA6;\n",
              "    }\n",
              "\n",
              "    [theme=dark] .colab-df-convert {\n",
              "      background-color: #3B4455;\n",
              "      fill: #D2E3FC;\n",
              "    }\n",
              "\n",
              "    [theme=dark] .colab-df-convert:hover {\n",
              "      background-color: #434B5C;\n",
              "      box-shadow: 0px 1px 3px 1px rgba(0, 0, 0, 0.15);\n",
              "      filter: drop-shadow(0px 1px 2px rgba(0, 0, 0, 0.3));\n",
              "      fill: #FFFFFF;\n",
              "    }\n",
              "  </style>\n",
              "\n",
              "      <script>\n",
              "        const buttonEl =\n",
              "          document.querySelector('#df-f5ee7fa1-7d93-400b-9135-13878dafe1b3 button.colab-df-convert');\n",
              "        buttonEl.style.display =\n",
              "          google.colab.kernel.accessAllowed ? 'block' : 'none';\n",
              "\n",
              "        async function convertToInteractive(key) {\n",
              "          const element = document.querySelector('#df-f5ee7fa1-7d93-400b-9135-13878dafe1b3');\n",
              "          const dataTable =\n",
              "            await google.colab.kernel.invokeFunction('convertToInteractive',\n",
              "                                                     [key], {});\n",
              "          if (!dataTable) return;\n",
              "\n",
              "          const docLinkHtml = 'Like what you see? Visit the ' +\n",
              "            '<a target=\"_blank\" href=https://colab.research.google.com/notebooks/data_table.ipynb>data table notebook</a>'\n",
              "            + ' to learn more about interactive tables.';\n",
              "          element.innerHTML = '';\n",
              "          dataTable['output_type'] = 'display_data';\n",
              "          await google.colab.output.renderOutput(dataTable, element);\n",
              "          const docLink = document.createElement('div');\n",
              "          docLink.innerHTML = docLinkHtml;\n",
              "          element.appendChild(docLink);\n",
              "        }\n",
              "      </script>\n",
              "    </div>\n",
              "  </div>\n",
              "  "
            ]
          },
          "metadata": {},
          "execution_count": 35
        },
        {
          "output_type": "display_data",
          "data": {
            "text/plain": [
              "<Figure size 432x288 with 1 Axes>"
            ],
            "image/png": "[encoded data removed]"
          },
          "metadata": {
            "needs_background": "light"
          }
        }
      ]
    },
    {
      "cell_type": "code",
      "source": [
        "from scipy.sparse.linalg import svds\n",
        "# The number of factors to factor the user-item matrix.\n",
        "NUMBER_OF_FACTORS_MF = 15\n",
        "\n",
        "#Performs matrix factorization of the original user item matrix\n",
        "U, sigma, Vt = svds(pivot_matrix, k = NUMBER_OF_FACTORS_MF)"
      ],
      "metadata": {
        "id": "8vL5XrIakEdF"
      },
      "execution_count": null,
      "outputs": []
    },
    {
      "cell_type": "code",
      "source": [
        "#checking shapes\n",
        "print(U.shape)\n",
        "print(sigma.shape)\n",
        "print(Vt.shape)"
      ],
      "metadata": {
        "colab": {
          "base_uri": "https://localhost:8080/"
        },
        "id": "Gkj9qZIokEf6",
        "outputId": "13b69f77-493c-4ac9-d293-4607f25a737f"
      },
      "execution_count": null,
      "outputs": [
        {
          "output_type": "stream",
          "name": "stdout",
          "text": [
            "(3160, 15)\n",
            "(15,)\n",
            "(15, 1388)\n"
          ]
        }
      ]
    },
    {
      "cell_type": "code",
      "source": [
        "sigma"
      ],
      "metadata": {
        "colab": {
          "base_uri": "https://localhost:8080/"
        },
        "id": "jGvZSLEZEGqi",
        "outputId": "22f4f4b3-ca12-434a-e065-09f5b8ea5cb0"
      },
      "execution_count": null,
      "outputs": [
        {
          "output_type": "execute_result",
          "data": {
            "text/plain": [
              "array([102.64282866, 104.14509991, 105.63581134, 107.40139552,\n",
              "       108.21391414, 112.58900599, 116.39487734, 119.00598201,\n",
              "       121.35875999, 129.66673451, 143.77277009, 154.29425051,\n",
              "       157.37440403, 168.98612117, 315.80167559])"
            ]
          },
          "metadata": {},
          "execution_count": 38
        }
      ]
    },
    {
      "cell_type": "markdown",
      "source": [
        "Sigma here is an 1-d array with 15 elements we need to convert it to a diagonal matrix so that the matrix multiplication goes smoothly and the dimensions are correct."
      ],
      "metadata": {
        "id": "dNxc1v4REJEa"
      }
    },
    {
      "cell_type": "code",
      "source": [
        "#making sigma a diagonal matrix\n",
        "sigma = np.diag(sigma)"
      ],
      "metadata": {
        "id": "CPkDwT2EEkPv"
      },
      "execution_count": null,
      "outputs": []
    },
    {
      "cell_type": "code",
      "source": [
        "#reconstructing the original matrix without any zeros \n",
        "all_user_predicted_ratings = np.dot(np.dot(U, sigma), Vt) \n",
        "all_user_predicted_ratings "
      ],
      "metadata": {
        "colab": {
          "base_uri": "https://localhost:8080/"
        },
        "id": "NNV0Cj31AFNM",
        "outputId": "3e2e8920-b4bb-4f56-85eb-6cb828b006e5"
      },
      "execution_count": null,
      "outputs": [
        {
          "output_type": "execute_result",
          "data": {
            "text/plain": [
              "array([[ 0.07831169,  0.28809135, -0.05987431, ...,  0.0023029 ,\n",
              "         0.01904172,  0.03237394],\n",
              "       [ 0.72217337, -0.2408723 ,  0.12697158, ...,  0.10299453,\n",
              "        -0.1092843 , -0.08781371],\n",
              "       [ 0.07406308,  0.06711496,  0.01656322, ...,  0.02645115,\n",
              "        -0.00957172,  0.02069292],\n",
              "       ...,\n",
              "       [-0.03366059,  0.47107149, -0.00170053, ...,  0.00963403,\n",
              "        -0.05168145,  0.41409815],\n",
              "       [-0.20896504,  0.49168467, -0.0185815 , ..., -0.01539093,\n",
              "         0.2027585 , -0.12402904],\n",
              "       [ 0.14345853,  0.17779363,  0.05815941, ...,  0.16057147,\n",
              "         0.0162529 , -0.07573075]])"
            ]
          },
          "metadata": {},
          "execution_count": 40
        }
      ]
    },
    {
      "cell_type": "code",
      "source": [
        "#checking if martix shape is same as the original matrix\n",
        "all_user_predicted_ratings.shape"
      ],
      "metadata": {
        "colab": {
          "base_uri": "https://localhost:8080/"
        },
        "id": "snpDB6KaDyPh",
        "outputId": "9dd0bb8d-979e-4e53-b302-57c23d8c3b17"
      },
      "execution_count": null,
      "outputs": [
        {
          "output_type": "execute_result",
          "data": {
            "text/plain": [
              "(3160, 1388)"
            ]
          },
          "metadata": {},
          "execution_count": 41
        }
      ]
    },
    {
      "cell_type": "code",
      "source": [
        "# converting back to a dataframe\n",
        "# defining index as book-title\n",
        "# defining the columns as all the filtered user-ids\n",
        "prediction_df = pd.DataFrame(all_user_predicted_ratings.transpose(), index= pivot_matrix.columns, columns=pivot_matrix.index) "
      ],
      "metadata": {
        "id": "-MG0U370W02O"
      },
      "execution_count": null,
      "outputs": []
    },
    {
      "cell_type": "code",
      "source": [
        "prediction_df"
      ],
      "metadata": {
        "colab": {
          "base_uri": "https://localhost:8080/",
          "height": 727
        },
        "id": "wttI5UYJXw6w",
        "outputId": "33e4d95b-7057-4d6c-9788-14e0d238fd17"
      },
      "execution_count": null,
      "outputs": [
        {
          "output_type": "execute_result",
          "data": {
            "text/plain": [
              "User-ID                                               243       254     \\\n",
              "Book-Title                                                               \n",
              "1984                                                0.078312  0.722173   \n",
              "1st to Die: A Novel                                 0.288091 -0.240872   \n",
              "2010: Odyssey Two                                  -0.059874  0.126972   \n",
              "204 Rosewood Lane                                  -0.037039 -0.046640   \n",
              "24 Hours                                            0.027190  0.156728   \n",
              "...                                                      ...       ...   \n",
              "Year of Wonders                                     0.275314 -0.058480   \n",
              "You Belong To Me                                    0.078173  0.279694   \n",
              "Zen and the Art of Motorcycle Maintenance: An I...  0.002303  0.102995   \n",
              "Zoya                                                0.019042 -0.109284   \n",
              "\\O\\\" Is for Outlaw\"                                 0.032374 -0.087814   \n",
              "\n",
              "User-ID                                               507       638     \\\n",
              "Book-Title                                                               \n",
              "1984                                                0.074063  0.316916   \n",
              "1st to Die: A Novel                                 0.067115  0.493063   \n",
              "2010: Odyssey Two                                   0.016563 -0.065790   \n",
              "204 Rosewood Lane                                   0.044110  0.216825   \n",
              "24 Hours                                            0.029255  0.129316   \n",
              "...                                                      ...       ...   \n",
              "Year of Wonders                                     0.024676  0.308737   \n",
              "You Belong To Me                                   -0.017976 -0.270285   \n",
              "Zen and the Art of Motorcycle Maintenance: An I...  0.026451 -0.257474   \n",
              "Zoya                                               -0.009572  0.262357   \n",
              "\\O\\\" Is for Outlaw\"                                 0.020693  0.092857   \n",
              "\n",
              "User-ID                                             741       882     \\\n",
              "Book-Title                                                             \n",
              "1984                                                   0.0  0.326251   \n",
              "1st to Die: A Novel                                    0.0  0.076661   \n",
              "2010: Odyssey Two                                      0.0  0.099510   \n",
              "204 Rosewood Lane                                      0.0  0.002028   \n",
              "24 Hours                                               0.0  0.034671   \n",
              "...                                                    ...       ...   \n",
              "Year of Wonders                                        0.0  0.365453   \n",
              "You Belong To Me                                       0.0  0.151927   \n",
              "Zen and the Art of Motorcycle Maintenance: An I...     0.0  0.248131   \n",
              "Zoya                                                   0.0 -0.010516   \n",
              "\\O\\\" Is for Outlaw\"                                    0.0 -0.098838   \n",
              "\n",
              "User-ID                                               929       1025    \\\n",
              "Book-Title                                                               \n",
              "1984                                                0.268172  0.097105   \n",
              "1st to Die: A Novel                                -0.021846 -0.091436   \n",
              "2010: Odyssey Two                                   0.101754  0.009741   \n",
              "204 Rosewood Lane                                  -0.039388 -0.005729   \n",
              "24 Hours                                            0.018901 -0.014110   \n",
              "...                                                      ...       ...   \n",
              "Year of Wonders                                     0.128019  0.076569   \n",
              "You Belong To Me                                   -0.060024 -0.069308   \n",
              "Zen and the Art of Motorcycle Maintenance: An I...  0.172262  0.052206   \n",
              "Zoya                                               -0.011257 -0.028754   \n",
              "\\O\\\" Is for Outlaw\"                                 0.114997  0.036082   \n",
              "\n",
              "User-ID                                               1211      1424    ...  \\\n",
              "Book-Title                                                              ...   \n",
              "1984                                                0.097692  0.104299  ...   \n",
              "1st to Die: A Novel                                 0.153738  0.049661  ...   \n",
              "2010: Odyssey Two                                  -0.030161  0.029572  ...   \n",
              "204 Rosewood Lane                                   0.049553 -0.057323  ...   \n",
              "24 Hours                                            0.030308 -0.020937  ...   \n",
              "...                                                      ...       ...  ...   \n",
              "Year of Wonders                                     0.102664  0.203266  ...   \n",
              "You Belong To Me                                    0.147749 -0.014244  ...   \n",
              "Zen and the Art of Motorcycle Maintenance: An I...  0.014027  0.115813  ...   \n",
              "Zoya                                                0.009137 -0.004814  ...   \n",
              "\\O\\\" Is for Outlaw\"                                -0.128237 -0.028765  ...   \n",
              "\n",
              "User-ID                                               277928    277965  \\\n",
              "Book-Title                                                               \n",
              "1984                                                0.054319  0.040176   \n",
              "1st to Die: A Novel                                 0.040731  0.159338   \n",
              "2010: Odyssey Two                                  -0.021704 -0.037910   \n",
              "204 Rosewood Lane                                  -0.012999  0.011223   \n",
              "24 Hours                                            0.046818  0.005826   \n",
              "...                                                      ...       ...   \n",
              "Year of Wonders                                    -0.027567  0.099664   \n",
              "You Belong To Me                                    0.018296  0.013844   \n",
              "Zen and the Art of Motorcycle Maintenance: An I... -0.038521  0.000686   \n",
              "Zoya                                                0.057203  0.043742   \n",
              "\\O\\\" Is for Outlaw\"                                 0.021843  0.056264   \n",
              "\n",
              "User-ID                                               278026    278137  \\\n",
              "Book-Title                                                               \n",
              "1984                                               -0.083306  0.257352   \n",
              "1st to Die: A Novel                                 0.571516 -0.006343   \n",
              "2010: Odyssey Two                                   0.055791  0.098980   \n",
              "204 Rosewood Lane                                   0.110877 -0.028277   \n",
              "24 Hours                                            0.016878  0.003977   \n",
              "...                                                      ...       ...   \n",
              "Year of Wonders                                     0.012403  0.058252   \n",
              "You Belong To Me                                    0.127969 -0.184287   \n",
              "Zen and the Art of Motorcycle Maintenance: An I...  0.075946  0.172756   \n",
              "Zoya                                                0.026295  0.027464   \n",
              "\\O\\\" Is for Outlaw\"                                 0.180584 -0.028097   \n",
              "\n",
              "User-ID                                             278144    278188  \\\n",
              "Book-Title                                                             \n",
              "1984                                                   0.0  0.069914   \n",
              "1st to Die: A Novel                                    0.0  0.226944   \n",
              "2010: Odyssey Two                                      0.0 -0.000464   \n",
              "204 Rosewood Lane                                      0.0 -0.022164   \n",
              "24 Hours                                               0.0  0.061226   \n",
              "...                                                    ...       ...   \n",
              "Year of Wonders                                        0.0 -0.019674   \n",
              "You Belong To Me                                       0.0  0.006854   \n",
              "Zen and the Art of Motorcycle Maintenance: An I...     0.0 -0.002482   \n",
              "Zoya                                                   0.0  0.078837   \n",
              "\\O\\\" Is for Outlaw\"                                    0.0 -0.004292   \n",
              "\n",
              "User-ID                                               278418    278582  \\\n",
              "Book-Title                                                               \n",
              "1984                                                0.009089 -0.033661   \n",
              "1st to Die: A Novel                                 0.036485  0.471071   \n",
              "2010: Odyssey Two                                   0.092353 -0.001701   \n",
              "204 Rosewood Lane                                   0.036037  0.155142   \n",
              "24 Hours                                            0.016150  0.011238   \n",
              "...                                                      ...       ...   \n",
              "Year of Wonders                                     0.023531 -0.109061   \n",
              "You Belong To Me                                    0.072615  0.039710   \n",
              "Zen and the Art of Motorcycle Maintenance: An I...  0.094948  0.009634   \n",
              "Zoya                                                0.003072 -0.051681   \n",
              "\\O\\\" Is for Outlaw\"                                 0.038935  0.414098   \n",
              "\n",
              "User-ID                                               278633    278843  \n",
              "Book-Title                                                              \n",
              "1984                                               -0.208965  0.143459  \n",
              "1st to Die: A Novel                                 0.491685  0.177794  \n",
              "2010: Odyssey Two                                  -0.018582  0.058159  \n",
              "204 Rosewood Lane                                   0.002465 -0.059686  \n",
              "24 Hours                                           -0.069275  0.003661  \n",
              "...                                                      ...       ...  \n",
              "Year of Wonders                                     0.254900  0.088352  \n",
              "You Belong To Me                                    0.145223  0.029655  \n",
              "Zen and the Art of Motorcycle Maintenance: An I... -0.015391  0.160571  \n",
              "Zoya                                                0.202758  0.016253  \n",
              "\\O\\\" Is for Outlaw\"                                -0.124029 -0.075731  \n",
              "\n",
              "[1388 rows x 3160 columns]"
            ],
            "text/html": [
              "\n",
              "  <div id=\"df-849d47c8-1f9e-4cee-ab6b-83c2d6db2937\">\n",
              "    <div class=\"colab-df-container\">\n",
              "      <div>\n",
              "<style scoped>\n",
              "    .dataframe tbody tr th:only-of-type {\n",
              "        vertical-align: middle;\n",
              "    }\n",
              "\n",
              "    .dataframe tbody tr th {\n",
              "        vertical-align: top;\n",
              "    }\n",
              "\n",
              "    .dataframe thead th {\n",
              "        text-align: right;\n",
              "    }\n",
              "</style>\n",
              "<table border=\"1\" class=\"dataframe\">\n",
              "  <thead>\n",
              "    <tr style=\"text-align: right;\">\n",
              "      <th>User-ID</th>\n",
              "      <th>243</th>\n",
              "      <th>254</th>\n",
              "      <th>507</th>\n",
              "      <th>638</th>\n",
              "      <th>741</th>\n",
              "      <th>882</th>\n",
              "      <th>929</th>\n",
              "      <th>1025</th>\n",
              "      <th>1211</th>\n",
              "      <th>1424</th>\n",
              "      <th>...</th>\n",
              "      <th>277928</th>\n",
              "      <th>277965</th>\n",
              "      <th>278026</th>\n",
              "      <th>278137</th>\n",
              "      <th>278144</th>\n",
              "      <th>278188</th>\n",
              "      <th>278418</th>\n",
              "      <th>278582</th>\n",
              "      <th>278633</th>\n",
              "      <th>278843</th>\n",
              "    </tr>\n",
              "    <tr>\n",
              "      <th>Book-Title</th>\n",
              "      <th></th>\n",
              "      <th></th>\n",
              "      <th></th>\n",
              "      <th></th>\n",
              "      <th></th>\n",
              "      <th></th>\n",
              "      <th></th>\n",
              "      <th></th>\n",
              "      <th></th>\n",
              "      <th></th>\n",
              "      <th></th>\n",
              "      <th></th>\n",
              "      <th></th>\n",
              "      <th></th>\n",
              "      <th></th>\n",
              "      <th></th>\n",
              "      <th></th>\n",
              "      <th></th>\n",
              "      <th></th>\n",
              "      <th></th>\n",
              "      <th></th>\n",
              "    </tr>\n",
              "  </thead>\n",
              "  <tbody>\n",
              "    <tr>\n",
              "      <th>1984</th>\n",
              "      <td>0.078312</td>\n",
              "      <td>0.722173</td>\n",
              "      <td>0.074063</td>\n",
              "      <td>0.316916</td>\n",
              "      <td>0.0</td>\n",
              "      <td>0.326251</td>\n",
              "      <td>0.268172</td>\n",
              "      <td>0.097105</td>\n",
              "      <td>0.097692</td>\n",
              "      <td>0.104299</td>\n",
              "      <td>...</td>\n",
              "      <td>0.054319</td>\n",
              "      <td>0.040176</td>\n",
              "      <td>-0.083306</td>\n",
              "      <td>0.257352</td>\n",
              "      <td>0.0</td>\n",
              "      <td>0.069914</td>\n",
              "      <td>0.009089</td>\n",
              "      <td>-0.033661</td>\n",
              "      <td>-0.208965</td>\n",
              "      <td>0.143459</td>\n",
              "    </tr>\n",
              "    <tr>\n",
              "      <th>1st to Die: A Novel</th>\n",
              "      <td>0.288091</td>\n",
              "      <td>-0.240872</td>\n",
              "      <td>0.067115</td>\n",
              "      <td>0.493063</td>\n",
              "      <td>0.0</td>\n",
              "      <td>0.076661</td>\n",
              "      <td>-0.021846</td>\n",
              "      <td>-0.091436</td>\n",
              "      <td>0.153738</td>\n",
              "      <td>0.049661</td>\n",
              "      <td>...</td>\n",
              "      <td>0.040731</td>\n",
              "      <td>0.159338</td>\n",
              "      <td>0.571516</td>\n",
              "      <td>-0.006343</td>\n",
              "      <td>0.0</td>\n",
              "      <td>0.226944</td>\n",
              "      <td>0.036485</td>\n",
              "      <td>0.471071</td>\n",
              "      <td>0.491685</td>\n",
              "      <td>0.177794</td>\n",
              "    </tr>\n",
              "    <tr>\n",
              "      <th>2010: Odyssey Two</th>\n",
              "      <td>-0.059874</td>\n",
              "      <td>0.126972</td>\n",
              "      <td>0.016563</td>\n",
              "      <td>-0.065790</td>\n",
              "      <td>0.0</td>\n",
              "      <td>0.099510</td>\n",
              "      <td>0.101754</td>\n",
              "      <td>0.009741</td>\n",
              "      <td>-0.030161</td>\n",
              "      <td>0.029572</td>\n",
              "      <td>...</td>\n",
              "      <td>-0.021704</td>\n",
              "      <td>-0.037910</td>\n",
              "      <td>0.055791</td>\n",
              "      <td>0.098980</td>\n",
              "      <td>0.0</td>\n",
              "      <td>-0.000464</td>\n",
              "      <td>0.092353</td>\n",
              "      <td>-0.001701</td>\n",
              "      <td>-0.018582</td>\n",
              "      <td>0.058159</td>\n",
              "    </tr>\n",
              "    <tr>\n",
              "      <th>204 Rosewood Lane</th>\n",
              "      <td>-0.037039</td>\n",
              "      <td>-0.046640</td>\n",
              "      <td>0.044110</td>\n",
              "      <td>0.216825</td>\n",
              "      <td>0.0</td>\n",
              "      <td>0.002028</td>\n",
              "      <td>-0.039388</td>\n",
              "      <td>-0.005729</td>\n",
              "      <td>0.049553</td>\n",
              "      <td>-0.057323</td>\n",
              "      <td>...</td>\n",
              "      <td>-0.012999</td>\n",
              "      <td>0.011223</td>\n",
              "      <td>0.110877</td>\n",
              "      <td>-0.028277</td>\n",
              "      <td>0.0</td>\n",
              "      <td>-0.022164</td>\n",
              "      <td>0.036037</td>\n",
              "      <td>0.155142</td>\n",
              "      <td>0.002465</td>\n",
              "      <td>-0.059686</td>\n",
              "    </tr>\n",
              "    <tr>\n",
              "      <th>24 Hours</th>\n",
              "      <td>0.027190</td>\n",
              "      <td>0.156728</td>\n",
              "      <td>0.029255</td>\n",
              "      <td>0.129316</td>\n",
              "      <td>0.0</td>\n",
              "      <td>0.034671</td>\n",
              "      <td>0.018901</td>\n",
              "      <td>-0.014110</td>\n",
              "      <td>0.030308</td>\n",
              "      <td>-0.020937</td>\n",
              "      <td>...</td>\n",
              "      <td>0.046818</td>\n",
              "      <td>0.005826</td>\n",
              "      <td>0.016878</td>\n",
              "      <td>0.003977</td>\n",
              "      <td>0.0</td>\n",
              "      <td>0.061226</td>\n",
              "      <td>0.016150</td>\n",
              "      <td>0.011238</td>\n",
              "      <td>-0.069275</td>\n",
              "      <td>0.003661</td>\n",
              "    </tr>\n",
              "    <tr>\n",
              "      <th>...</th>\n",
              "      <td>...</td>\n",
              "      <td>...</td>\n",
              "      <td>...</td>\n",
              "      <td>...</td>\n",
              "      <td>...</td>\n",
              "      <td>...</td>\n",
              "      <td>...</td>\n",
              "      <td>...</td>\n",
              "      <td>...</td>\n",
              "      <td>...</td>\n",
              "      <td>...</td>\n",
              "      <td>...</td>\n",
              "      <td>...</td>\n",
              "      <td>...</td>\n",
              "      <td>...</td>\n",
              "      <td>...</td>\n",
              "      <td>...</td>\n",
              "      <td>...</td>\n",
              "      <td>...</td>\n",
              "      <td>...</td>\n",
              "      <td>...</td>\n",
              "    </tr>\n",
              "    <tr>\n",
              "      <th>Year of Wonders</th>\n",
              "      <td>0.275314</td>\n",
              "      <td>-0.058480</td>\n",
              "      <td>0.024676</td>\n",
              "      <td>0.308737</td>\n",
              "      <td>0.0</td>\n",
              "      <td>0.365453</td>\n",
              "      <td>0.128019</td>\n",
              "      <td>0.076569</td>\n",
              "      <td>0.102664</td>\n",
              "      <td>0.203266</td>\n",
              "      <td>...</td>\n",
              "      <td>-0.027567</td>\n",
              "      <td>0.099664</td>\n",
              "      <td>0.012403</td>\n",
              "      <td>0.058252</td>\n",
              "      <td>0.0</td>\n",
              "      <td>-0.019674</td>\n",
              "      <td>0.023531</td>\n",
              "      <td>-0.109061</td>\n",
              "      <td>0.254900</td>\n",
              "      <td>0.088352</td>\n",
              "    </tr>\n",
              "    <tr>\n",
              "      <th>You Belong To Me</th>\n",
              "      <td>0.078173</td>\n",
              "      <td>0.279694</td>\n",
              "      <td>-0.017976</td>\n",
              "      <td>-0.270285</td>\n",
              "      <td>0.0</td>\n",
              "      <td>0.151927</td>\n",
              "      <td>-0.060024</td>\n",
              "      <td>-0.069308</td>\n",
              "      <td>0.147749</td>\n",
              "      <td>-0.014244</td>\n",
              "      <td>...</td>\n",
              "      <td>0.018296</td>\n",
              "      <td>0.013844</td>\n",
              "      <td>0.127969</td>\n",
              "      <td>-0.184287</td>\n",
              "      <td>0.0</td>\n",
              "      <td>0.006854</td>\n",
              "      <td>0.072615</td>\n",
              "      <td>0.039710</td>\n",
              "      <td>0.145223</td>\n",
              "      <td>0.029655</td>\n",
              "    </tr>\n",
              "    <tr>\n",
              "      <th>Zen and the Art of Motorcycle Maintenance: An Inquiry into Values</th>\n",
              "      <td>0.002303</td>\n",
              "      <td>0.102995</td>\n",
              "      <td>0.026451</td>\n",
              "      <td>-0.257474</td>\n",
              "      <td>0.0</td>\n",
              "      <td>0.248131</td>\n",
              "      <td>0.172262</td>\n",
              "      <td>0.052206</td>\n",
              "      <td>0.014027</td>\n",
              "      <td>0.115813</td>\n",
              "      <td>...</td>\n",
              "      <td>-0.038521</td>\n",
              "      <td>0.000686</td>\n",
              "      <td>0.075946</td>\n",
              "      <td>0.172756</td>\n",
              "      <td>0.0</td>\n",
              "      <td>-0.002482</td>\n",
              "      <td>0.094948</td>\n",
              "      <td>0.009634</td>\n",
              "      <td>-0.015391</td>\n",
              "      <td>0.160571</td>\n",
              "    </tr>\n",
              "    <tr>\n",
              "      <th>Zoya</th>\n",
              "      <td>0.019042</td>\n",
              "      <td>-0.109284</td>\n",
              "      <td>-0.009572</td>\n",
              "      <td>0.262357</td>\n",
              "      <td>0.0</td>\n",
              "      <td>-0.010516</td>\n",
              "      <td>-0.011257</td>\n",
              "      <td>-0.028754</td>\n",
              "      <td>0.009137</td>\n",
              "      <td>-0.004814</td>\n",
              "      <td>...</td>\n",
              "      <td>0.057203</td>\n",
              "      <td>0.043742</td>\n",
              "      <td>0.026295</td>\n",
              "      <td>0.027464</td>\n",
              "      <td>0.0</td>\n",
              "      <td>0.078837</td>\n",
              "      <td>0.003072</td>\n",
              "      <td>-0.051681</td>\n",
              "      <td>0.202758</td>\n",
              "      <td>0.016253</td>\n",
              "    </tr>\n",
              "    <tr>\n",
              "      <th>\\O\\\" Is for Outlaw\"</th>\n",
              "      <td>0.032374</td>\n",
              "      <td>-0.087814</td>\n",
              "      <td>0.020693</td>\n",
              "      <td>0.092857</td>\n",
              "      <td>0.0</td>\n",
              "      <td>-0.098838</td>\n",
              "      <td>0.114997</td>\n",
              "      <td>0.036082</td>\n",
              "      <td>-0.128237</td>\n",
              "      <td>-0.028765</td>\n",
              "      <td>...</td>\n",
              "      <td>0.021843</td>\n",
              "      <td>0.056264</td>\n",
              "      <td>0.180584</td>\n",
              "      <td>-0.028097</td>\n",
              "      <td>0.0</td>\n",
              "      <td>-0.004292</td>\n",
              "      <td>0.038935</td>\n",
              "      <td>0.414098</td>\n",
              "      <td>-0.124029</td>\n",
              "      <td>-0.075731</td>\n",
              "    </tr>\n",
              "  </tbody>\n",
              "</table>\n",
              "<p>1388 rows × 3160 columns</p>\n",
              "</div>\n",
              "      <button class=\"colab-df-convert\" onclick=\"convertToInteractive('df-849d47c8-1f9e-4cee-ab6b-83c2d6db2937')\"\n",
              "              title=\"Convert this dataframe to an interactive table.\"\n",
              "              style=\"display:none;\">\n",
              "        \n",
              "  <svg xmlns=\"http://www.w3.org/2000/svg\" height=\"24px\"viewBox=\"0 0 24 24\"\n",
              "       width=\"24px\">\n",
              "    <path d=\"M0 0h24v24H0V0z\" fill=\"none\"/>\n",
              "    <path d=\"M18.56 5.44l.94 2.06.94-2.06 2.06-.94-2.06-.94-.94-2.06-.94 2.06-2.06.94zm-11 1L8.5 8.5l.94-2.06 2.06-.94-2.06-.94L8.5 2.5l-.94 2.06-2.06.94zm10 10l.94 2.06.94-2.06 2.06-.94-2.06-.94-.94-2.06-.94 2.06-2.06.94z\"/><path d=\"M17.41 7.96l-1.37-1.37c-.4-.4-.92-.59-1.43-.59-.52 0-1.04.2-1.43.59L10.3 9.45l-7.72 7.72c-.78.78-.78 2.05 0 2.83L4 21.41c.39.39.9.59 1.41.59.51 0 1.02-.2 1.41-.59l7.78-7.78 2.81-2.81c.8-.78.8-2.07 0-2.86zM5.41 20L4 18.59l7.72-7.72 1.47 1.35L5.41 20z\"/>\n",
              "  </svg>\n",
              "      </button>\n",
              "      \n",
              "  <style>\n",
              "    .colab-df-container {\n",
              "      display:flex;\n",
              "      flex-wrap:wrap;\n",
              "      gap: 12px;\n",
              "    }\n",
              "\n",
              "    .colab-df-convert {\n",
              "      background-color: #E8F0FE;\n",
              "      border: none;\n",
              "      border-radius: 50%;\n",
              "      cursor: pointer;\n",
              "      display: none;\n",
              "      fill: #1967D2;\n",
              "      height: 32px;\n",
              "      padding: 0 0 0 0;\n",
              "      width: 32px;\n",
              "    }\n",
              "\n",
              "    .colab-df-convert:hover {\n",
              "      background-color: #E2EBFA;\n",
              "      box-shadow: 0px 1px 2px rgba(60, 64, 67, 0.3), 0px 1px 3px 1px rgba(60, 64, 67, 0.15);\n",
              "      fill: #174EA6;\n",
              "    }\n",
              "\n",
              "    [theme=dark] .colab-df-convert {\n",
              "      background-color: #3B4455;\n",
              "      fill: #D2E3FC;\n",
              "    }\n",
              "\n",
              "    [theme=dark] .colab-df-convert:hover {\n",
              "      background-color: #434B5C;\n",
              "      box-shadow: 0px 1px 3px 1px rgba(0, 0, 0, 0.15);\n",
              "      filter: drop-shadow(0px 1px 2px rgba(0, 0, 0, 0.3));\n",
              "      fill: #FFFFFF;\n",
              "    }\n",
              "  </style>\n",
              "\n",
              "      <script>\n",
              "        const buttonEl =\n",
              "          document.querySelector('#df-849d47c8-1f9e-4cee-ab6b-83c2d6db2937 button.colab-df-convert');\n",
              "        buttonEl.style.display =\n",
              "          google.colab.kernel.accessAllowed ? 'block' : 'none';\n",
              "\n",
              "        async function convertToInteractive(key) {\n",
              "          const element = document.querySelector('#df-849d47c8-1f9e-4cee-ab6b-83c2d6db2937');\n",
              "          const dataTable =\n",
              "            await google.colab.kernel.invokeFunction('convertToInteractive',\n",
              "                                                     [key], {});\n",
              "          if (!dataTable) return;\n",
              "\n",
              "          const docLinkHtml = 'Like what you see? Visit the ' +\n",
              "            '<a target=\"_blank\" href=https://colab.research.google.com/notebooks/data_table.ipynb>data table notebook</a>'\n",
              "            + ' to learn more about interactive tables.';\n",
              "          element.innerHTML = '';\n",
              "          dataTable['output_type'] = 'display_data';\n",
              "          await google.colab.output.renderOutput(dataTable, element);\n",
              "          const docLink = document.createElement('div');\n",
              "          docLink.innerHTML = docLinkHtml;\n",
              "          element.appendChild(docLink);\n",
              "        }\n",
              "      </script>\n",
              "    </div>\n",
              "  </div>\n",
              "  "
            ]
          },
          "metadata": {},
          "execution_count": 43
        }
      ]
    },
    {
      "cell_type": "markdown",
      "source": [
        "Now we have all the potential ratings for all the items and users. All thats left is to pick up these ratings of previously uninteracted items for each indivisual user and sort them in descending order to have a recommendation list for that user.\n",
        "\n",
        "We also have to ignore the books which the user has already read and rated. Lets try it for a random user  638."
      ],
      "metadata": {
        "id": "28RIOQTwtHsS"
      }
    },
    {
      "cell_type": "code",
      "source": [
        "a = pivot_matrix.loc[638,:].reset_index() #making a data frame of ratings for an user\n",
        "unread_books = a[a[638] < 0.1]['Book-Title']      # filtering the books user has not read  #keeping a non-zero threshold to include all the uninteracted books\n",
        "unread_books  #books user hasnt interacted with yet "
      ],
      "metadata": {
        "colab": {
          "base_uri": "https://localhost:8080/"
        },
        "id": "7id9MVgjPfMR",
        "outputId": "c7fc7f8f-e60f-46b3-d85d-95ab65ba59d7"
      },
      "execution_count": null,
      "outputs": [
        {
          "output_type": "execute_result",
          "data": {
            "text/plain": [
              "0                                                    1984\n",
              "1                                     1st to Die: A Novel\n",
              "2                                       2010: Odyssey Two\n",
              "3                                       204 Rosewood Lane\n",
              "4                                                24 Hours\n",
              "                              ...                        \n",
              "1383                                      Year of Wonders\n",
              "1384                                     You Belong To Me\n",
              "1385    Zen and the Art of Motorcycle Maintenance: An ...\n",
              "1386                                                 Zoya\n",
              "1387                                  \\O\\\" Is for Outlaw\"\n",
              "Name: Book-Title, Length: 1366, dtype: object"
            ]
          },
          "metadata": {},
          "execution_count": 44
        }
      ]
    },
    {
      "cell_type": "code",
      "source": [
        "sorted_user_predictions = prediction_df[638].sort_values(ascending=False).reset_index().rename(columns = {638:'RecommendationStrength'})   #best recommendations for the user \n",
        "#making sure the recommendations are uninteracted books\n",
        "recommendations = sorted_user_predictions[sorted_user_predictions['Book-Title'].isin(unread_books)].sort_values('RecommendationStrength', ascending = False)\n",
        "recommendations.set_index('Book-Title', inplace=True) #setting books as index"
      ],
      "metadata": {
        "id": "TNqj3_4xS5_X"
      },
      "execution_count": null,
      "outputs": []
    },
    {
      "cell_type": "code",
      "source": [
        "#extracting the top 5 recommendations. \n",
        "list(recommendations.index[0:5])"
      ],
      "metadata": {
        "id": "chtaKKUsVNN9",
        "colab": {
          "base_uri": "https://localhost:8080/"
        },
        "outputId": "f822e29d-a61e-40df-99ad-d72b9f2be48d"
      },
      "execution_count": null,
      "outputs": [
        {
          "output_type": "execute_result",
          "data": {
            "text/plain": [
              "['The Fellowship of the Ring (The Lord of the Rings, Part 1)',\n",
              " \"Where the Heart Is (Oprah's Book Club (Paperback))\",\n",
              " 'The Return of the King (The Lord of the Rings, Part 3)',\n",
              " 'A Painted House',\n",
              " 'The Notebook']"
            ]
          },
          "metadata": {},
          "execution_count": 46
        }
      ]
    },
    {
      "cell_type": "markdown",
      "source": [
        "Now that we have successfully gotten recomendations for a user. Lets write a function to do the same for a chosen user. "
      ],
      "metadata": {
        "id": "HDlKKZ2YWYnH"
      }
    },
    {
      "cell_type": "code",
      "source": [
        "#fuction for top 5 recommendations for a user\n",
        "def recommend_book(user_id):\n",
        "  a = pivot_matrix.loc[user_id,:].reset_index() #making a data frame of ratings for an user\n",
        "  unread_books = a[a[user_id] < 0.1]['Book-Title']      # filtering the books user has not read, uninteracted items are rated zero. \n",
        "  sorted_user_predictions = prediction_df[user_id].sort_values(ascending=False).reset_index().rename(columns = {user_id:'RecommendationStrength'})# getting best recommendations from the reconstructed matrix\n",
        "  recommendations = sorted_user_predictions[sorted_user_predictions['Book-Title'].isin(unread_books)].sort_values('RecommendationStrength', ascending = False) #making sure we are not recommending already interacted items. \n",
        "  recommendations.set_index('Book-Title', inplace=True) #setting index as book title\n",
        "  return list(recommendations.index[0:5]) #extracting the enquired information"
      ],
      "metadata": {
        "id": "vyEHCEesfjV1"
      },
      "execution_count": null,
      "outputs": []
    },
    {
      "cell_type": "code",
      "source": [
        "recommend_book(638)"
      ],
      "metadata": {
        "colab": {
          "base_uri": "https://localhost:8080/"
        },
        "id": "WdT1wHxcYlC6",
        "outputId": "a62305b1-c501-4f78-b71d-dd47b9dbaccc"
      },
      "execution_count": null,
      "outputs": [
        {
          "output_type": "execute_result",
          "data": {
            "text/plain": [
              "['The Fellowship of the Ring (The Lord of the Rings, Part 1)',\n",
              " \"Where the Heart Is (Oprah's Book Club (Paperback))\",\n",
              " 'The Return of the King (The Lord of the Rings, Part 3)',\n",
              " 'A Painted House',\n",
              " 'The Notebook']"
            ]
          },
          "metadata": {},
          "execution_count": 48
        }
      ]
    },
    {
      "cell_type": "code",
      "source": [
        "prediction_df.columns"
      ],
      "metadata": {
        "colab": {
          "base_uri": "https://localhost:8080/"
        },
        "id": "gyuIzvzALyl8",
        "outputId": "cc8659c8-be4e-43b7-c503-e2db7a3f0fb8"
      },
      "execution_count": null,
      "outputs": [
        {
          "output_type": "execute_result",
          "data": {
            "text/plain": [
              "Int64Index([   243,    254,    507,    638,    741,    882,    929,   1025,\n",
              "              1211,   1424,\n",
              "            ...\n",
              "            277928, 277965, 278026, 278137, 278144, 278188, 278418, 278582,\n",
              "            278633, 278843],\n",
              "           dtype='int64', name='User-ID', length=3160)"
            ]
          },
          "metadata": {},
          "execution_count": 49
        }
      ]
    },
    {
      "cell_type": "markdown",
      "source": [
        "# Evaluation "
      ],
      "metadata": {
        "id": "4qW8I1fPceWx"
      }
    },
    {
      "cell_type": "code",
      "source": [
        "#settinng User-Id as index in all our interactions data frame (full,train,test)\n",
        "full_df_indexed = rating_popular_book.set_index('User-ID')\n",
        "interactions_train_indexed_df = interactions_train_df.set_index('User-ID')\n",
        "interactions_test_indexed_df = interactions_test_df.set_index('User-ID')"
      ],
      "metadata": {
        "id": "_JwEmzo9hKR1"
      },
      "execution_count": null,
      "outputs": []
    },
    {
      "cell_type": "code",
      "source": [
        "# Function for getting the set of items which a user has interacted with\n",
        "def get_items_interacted(user,interactions_df):\n",
        "  interacted_items = interactions_df.loc[user]['Book-Title']  #interacted-books for the user\n",
        "  return set(interacted_items)  #converting to set\n",
        "\n",
        "# Function for getting the set of items which a user has not interacted with in training set\n",
        "def non_inter_items_train(user, seed = 42): \n",
        "  interacted_items = get_items_interacted(user, interactions_train_indexed_df)                            # taking all the interacted items from train set\n",
        "  all_items = set(interactions_train_df['Book-Title'])                                                    # all the items in train set\n",
        "  non_interacted_items = all_items - interacted_items                                                     # non-interacted items\n",
        "  random.seed(seed)                                                                                       # defining a random seed for consistency across users\n",
        "  non_interacted_items_sample = random.sample(non_interacted_items, 100)                                  # taking 100 non interacted items\n",
        "  return set(non_interacted_items_sample)                                                                 # set of the 100 non-interacted items from the train\n",
        "\n",
        "# Function to recommend the highest predicted rating content that the user hasn't seen yet\n",
        "def recommend_items(user_id, items_to_ignore=[], topn=10):\n",
        "  sorted_user_predictions = prediction_df[user_id].sort_values(ascending=False).reset_index().rename(columns = {user_id:'RecommendationStrength'})\n",
        "  recommendations_df = sorted_user_predictions[~sorted_user_predictions['Book-Title'].isin(items_to_ignore)].sort_values('RecommendationStrength', ascending = False)\n",
        "  return recommendations_df\n",
        "\n",
        "# Function to verify whether a particular item_id was present in the set of top N recommended items\n",
        "def top_n(book_name, recommended_items, topn):\n",
        "  try:\n",
        "      index = next(i for i, c in enumerate(recommended_items) if c == book_name)  #getting the item rank according to recommendation strength\n",
        "  except:\n",
        "      index = -1   #default value for index                                                            \n",
        "  hit = int(index in range(0, topn))            # hit is integer of true or false/ true when rank is in topn\n",
        "  return hit, index"
      ],
      "metadata": {
        "id": "3Kp_0TGHRHta"
      },
      "execution_count": null,
      "outputs": []
    },
    {
      "cell_type": "markdown",
      "source": [
        "We will be using the above defined functions to make our evaluator for the recommendation system. Now lets get to writing our recommedation systems"
      ],
      "metadata": {
        "id": "igr27S9W8bWB"
      }
    },
    {
      "cell_type": "markdown",
      "source": [
        "### This evaluation method works as follows:\n",
        "\n",
        "* ### For each user\n",
        "    *  For each item the user has interacted in test set\n",
        "        *  Sample 100 other items the user has never interacted.   \n",
        "        *  Ask the recommender model to produce a ranked list of recommended items, from a set composed of one interacted item and the 100 non-interacted items\n",
        "        *  Compute the Top-N accuracy metrics for this user and interacted item from the recommendations ranked list\n",
        "* ### Aggregate the global Top-N accuracy metrics"
      ],
      "metadata": {
        "id": "qb3GmuWPulRO"
      }
    },
    {
      "cell_type": "code",
      "source": [
        "# write a Function to evaluate the performance of model for each user\n",
        "def evaluate_model_for_user(user_id):\n",
        "  #getting items in test set\n",
        "  interacted_values_testset = interactions_test_indexed_df.loc[user_id]\n",
        "  person_interacted_items_testset = set(interacted_values_testset['Book-Title'])\n",
        "  \n",
        "  interacted_items_count_testset = len(person_interacted_items_testset) \n",
        "  \n",
        "  # Getting a ranked recommendation list from the model for a given user\n",
        "  person_recs_df = recommend_items(user_id, items_to_ignore=get_items_interacted(user_id, interactions_train_indexed_df),topn=10000000000)\n",
        "  \n",
        "  hits_at_5_count = 0\n",
        "  hits_at_10_count = 0\n",
        "\n",
        "  # For each item the user has interacted in test set\n",
        "  for book in person_interacted_items_testset:\n",
        "\n",
        "    #getting a random sample of 100 people from train set and combing with our test set item\n",
        "    non_interacted_items_sample = non_inter_items_train(user_id)\n",
        "    items_to_filter_recs = non_interacted_items_sample.union(set([book]))\n",
        "\n",
        "    # Filtering only recommendations that are either the interacted item or from a random sample of 100 non-interacted items\n",
        "    valid_recs_df = person_recs_df[person_recs_df['Book-Title'].isin(items_to_filter_recs)]                    \n",
        "    valid_recs = valid_recs_df['Book-Title'].values\n",
        "            \n",
        "    # Verifying if the current interacted item is among the Top-N recommended items\n",
        "    hit_at_5, index_at_5 = top_n(book, valid_recs, 5)\n",
        "    hits_at_5_count += hit_at_5\n",
        "    hit_at_10, index_at_10 = top_n(book, valid_recs, 10)\n",
        "    hits_at_10_count += hit_at_10\n",
        "\n",
        "  # Recall is the rate of the interacted items that are ranked among the Top-N recommended items\n",
        "  recall_at_5 = hits_at_5_count / float(interacted_items_count_testset)\n",
        "  recall_at_10 = hits_at_10_count / float(interacted_items_count_testset)\n",
        "\n",
        "  user_metrics = {'hits@5_count':hits_at_5_count, \n",
        "                          'hits@10_count':hits_at_10_count, \n",
        "                          'interacted_count': interacted_items_count_testset,\n",
        "                          'recall@5': recall_at_5,\n",
        "                          'recall@10': recall_at_10}\n",
        "  return user_metrics\n",
        "\n",
        "\n",
        "# Function to evaluate the performance of model for all users( overall performance )\n"
      ],
      "metadata": {
        "id": "5RUsrNyWZX9e"
      },
      "execution_count": null,
      "outputs": []
    },
    {
      "cell_type": "code",
      "source": [
        "evaluate_model_for_user(28204)"
      ],
      "metadata": {
        "colab": {
          "base_uri": "https://localhost:8080/"
        },
        "id": "-K7HzRT1J48q",
        "outputId": "cc96ddae-2a73-4a6d-81e7-51529ca281ea"
      },
      "execution_count": null,
      "outputs": [
        {
          "output_type": "execute_result",
          "data": {
            "text/plain": [
              "{'hits@10_count': 5,\n",
              " 'hits@5_count': 4,\n",
              " 'interacted_count': 34,\n",
              " 'recall@10': 0.14705882352941177,\n",
              " 'recall@5': 0.11764705882352941}"
            ]
          },
          "metadata": {},
          "execution_count": 53
        }
      ]
    },
    {
      "cell_type": "code",
      "source": [
        "# storing metrics of all the users in the test-set       \n",
        "people_metrics = [] \n",
        "for idx, person_id in enumerate(list(interactions_test_indexed_df.index.unique().values)):    \n",
        "  person_metrics = evaluate_model_for_user(person_id)  \n",
        "  person_metrics['_person_id'] = person_id\n",
        "  people_metrics.append(person_metrics)\n",
        "            \n",
        "print('%d users processed' % idx)\n"
      ],
      "metadata": {
        "id": "FYFrLlIFZX_8",
        "colab": {
          "base_uri": "https://localhost:8080/"
        },
        "outputId": "76aada99-8634-4c2d-8721-7d93c52565b4"
      },
      "execution_count": null,
      "outputs": [
        {
          "output_type": "stream",
          "name": "stdout",
          "text": [
            "3042 users processed\n"
          ]
        }
      ]
    },
    {
      "cell_type": "code",
      "source": [
        "# Evaluating global metrics \n",
        "detailed_results_df = pd.DataFrame(people_metrics).sort_values('interacted_count', ascending=False)\n",
        "global_recall_at_5 = detailed_results_df['hits@5_count'].sum() / float(detailed_results_df['interacted_count'].sum())\n",
        "global_recall_at_10 = detailed_results_df['hits@10_count'].sum() / float(detailed_results_df['interacted_count'].sum())\n",
        "        \n",
        "global_metrics = {'recall@5': global_recall_at_5,'recall@10': global_recall_at_10} \n",
        "\n",
        "print(global_metrics)                    "
      ],
      "metadata": {
        "colab": {
          "base_uri": "https://localhost:8080/"
        },
        "id": "oroPGfM1PMJs",
        "outputId": "ccf9201a-4c69-4238-f078-f1586572238e"
      },
      "execution_count": null,
      "outputs": [
        {
          "output_type": "stream",
          "name": "stdout",
          "text": [
            "{'recall@5': 0.14052035431005216, 'recall@10': 0.21635134718064258}\n"
          ]
        }
      ]
    },
    {
      "cell_type": "markdown",
      "source": [
        "# Conclusion"
      ],
      "metadata": {
        "id": "qU0JHO_7VPPY"
      }
    },
    {
      "cell_type": "markdown",
      "source": [
        "\n",
        "\n",
        "This brings us to the end of our exercise.\n",
        "We running a recommendation system with the whole data set but we kept running into memory problems. \n",
        "\n",
        "So, I put some constraints on the data set and tried collaborative filtering for our recommendations. We used both memory-based and model-based approaches. \n",
        "I also developed an top_n evaluation system for my model-based collaborative filtering approach.\n",
        "\n",
        "Thanks for reading!"
      ],
      "metadata": {
        "id": "jf3318CGY4Bq"
      }
    }
  ]
}