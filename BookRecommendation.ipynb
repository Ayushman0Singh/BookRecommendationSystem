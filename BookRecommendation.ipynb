{
  "nbformat": 4,
  "nbformat_minor": 0,
  "metadata": {
    "colab": {
      "name": "BookRecommendation.ipynb",
      "provenance": [],
      "authorship_tag": "ABX9TyPEg30mqZIPvAWOu0I1looF",
      "include_colab_link": true
    },
    "kernelspec": {
      "name": "python3",
      "display_name": "Python 3"
    },
    "language_info": {
      "name": "python"
    }
  },
  "cells": [
    {
      "cell_type": "markdown",
      "metadata": {
        "id": "view-in-github",
        "colab_type": "text"
      },
      "source": [
        "<a href=\"https://colab.research.google.com/github/Ayushman0Singh/BookRecommendation/blob/main/BookRecommendation.ipynb\" target=\"_parent\"><img src=\"https://colab.research.google.com/assets/colab-badge.svg\" alt=\"Open In Colab\"/></a>"
      ]
    },
    {
      "cell_type": "markdown",
      "source": [
        "# **BOOK RECOMMENDATION**"
      ],
      "metadata": {
        "id": "Lm756o33cRpZ"
      }
    },
    {
      "cell_type": "markdown",
      "source": [
        "# Business Problem"
      ],
      "metadata": {
        "id": "MdHEEq-PfNxa"
      }
    },
    {
      "cell_type": "markdown",
      "source": [
        "Online book reading and selling websites like Kindle and Goodreads compete against each other on many factors. One of those important factors is their book recommendation system. A book recommendation system is designed to recommend books of interest to the buyer.\n",
        "\n",
        "\n",
        "The purpose of a book recommendation system is to predict buyer’s interest and recommend books to them accordingly. A book recommendation system can take into account many parameters like book content and book quality by filtering user reviews.I will try to make a recommendation system for our given data set."
      ],
      "metadata": {
        "id": "92MpluFddPnA"
      }
    },
    {
      "cell_type": "code",
      "execution_count": 2,
      "metadata": {
        "id": "J5L4ImAmp14J"
      },
      "outputs": [],
      "source": [
        "#importing necessary libraries \n",
        "import numpy as np \n",
        "import pandas as pd\n",
        "import seaborn as sns\n",
        "import matplotlib.pyplot as plt\n",
        "# we will import libraries further as per need"
      ]
    },
    {
      "cell_type": "code",
      "source": [
        "from google.colab import drive # mounting drive\n",
        "drive.mount('/content/drive')"
      ],
      "metadata": {
        "colab": {
          "base_uri": "https://localhost:8080/"
        },
        "id": "mRjjIHfUf6XQ",
        "outputId": "66b531aa-7d8b-4ec3-f14f-2cf3fa99a4e4"
      },
      "execution_count": 4,
      "outputs": [
        {
          "output_type": "stream",
          "name": "stdout",
          "text": [
            "Mounted at /content/drive\n"
          ]
        }
      ]
    },
    {
      "cell_type": "markdown",
      "source": [
        "We have been given 3 data sets, Lets have a look at all the data provided to us and its properties"
      ],
      "metadata": {
        "id": "aSYyTsCWg42p"
      }
    },
    {
      "cell_type": "code",
      "source": [
        "books = pd.read_csv(\"/content/drive/MyDrive/Almabetter/Capstone Projects/Unsupervised ML/Copy of Books.csv\")\n",
        "users = pd.read_csv(\"/content/drive/MyDrive/Almabetter/Capstone Projects/Unsupervised ML/Copy of Users.csv\")\n",
        "ratings = pd.read_csv(\"/content/drive/MyDrive/Almabetter/Capstone Projects/Unsupervised ML/Copy of Ratings.csv\")"
      ],
      "metadata": {
        "colab": {
          "base_uri": "https://localhost:8080/"
        },
        "id": "KBugC6Wnfq5G",
        "outputId": "8bf44e50-fc0b-4053-b2b8-fcb489f3a017"
      },
      "execution_count": 17,
      "outputs": [
        {
          "output_type": "stream",
          "name": "stderr",
          "text": [
            "/usr/local/lib/python3.7/dist-packages/IPython/core/interactiveshell.py:2882: DtypeWarning: Columns (3) have mixed types.Specify dtype option on import or set low_memory=False.\n",
            "  exec(code_obj, self.user_global_ns, self.user_ns)\n"
          ]
        }
      ]
    },
    {
      "cell_type": "code",
      "source": [
        "books.head(4) # checking the head and columns "
      ],
      "metadata": {
        "colab": {
          "base_uri": "https://localhost:8080/",
          "height": 412
        },
        "id": "gGqsJCshhoJK",
        "outputId": "3552d348-77b0-4b3c-b69e-a43dcdc2a6b4"
      },
      "execution_count": 4,
      "outputs": [
        {
          "output_type": "execute_result",
          "data": {
            "text/plain": [
              "         ISBN                                         Book-Title  \\\n",
              "0  0195153448                                Classical Mythology   \n",
              "1  0002005018                                       Clara Callan   \n",
              "2  0060973129                               Decision in Normandy   \n",
              "3  0374157065  Flu: The Story of the Great Influenza Pandemic...   \n",
              "\n",
              "            Book-Author Year-Of-Publication                Publisher  \\\n",
              "0    Mark P. O. Morford                2002  Oxford University Press   \n",
              "1  Richard Bruce Wright                2001    HarperFlamingo Canada   \n",
              "2          Carlo D'Este                1991          HarperPerennial   \n",
              "3      Gina Bari Kolata                1999     Farrar Straus Giroux   \n",
              "\n",
              "                                         Image-URL-S  \\\n",
              "0  http://images.amazon.com/images/P/0195153448.0...   \n",
              "1  http://images.amazon.com/images/P/0002005018.0...   \n",
              "2  http://images.amazon.com/images/P/0060973129.0...   \n",
              "3  http://images.amazon.com/images/P/0374157065.0...   \n",
              "\n",
              "                                         Image-URL-M  \\\n",
              "0  http://images.amazon.com/images/P/0195153448.0...   \n",
              "1  http://images.amazon.com/images/P/0002005018.0...   \n",
              "2  http://images.amazon.com/images/P/0060973129.0...   \n",
              "3  http://images.amazon.com/images/P/0374157065.0...   \n",
              "\n",
              "                                         Image-URL-L  \n",
              "0  http://images.amazon.com/images/P/0195153448.0...  \n",
              "1  http://images.amazon.com/images/P/0002005018.0...  \n",
              "2  http://images.amazon.com/images/P/0060973129.0...  \n",
              "3  http://images.amazon.com/images/P/0374157065.0...  "
            ],
            "text/html": [
              "\n",
              "  <div id=\"df-da734602-81f7-43e0-bce4-4909d1a23b81\">\n",
              "    <div class=\"colab-df-container\">\n",
              "      <div>\n",
              "<style scoped>\n",
              "    .dataframe tbody tr th:only-of-type {\n",
              "        vertical-align: middle;\n",
              "    }\n",
              "\n",
              "    .dataframe tbody tr th {\n",
              "        vertical-align: top;\n",
              "    }\n",
              "\n",
              "    .dataframe thead th {\n",
              "        text-align: right;\n",
              "    }\n",
              "</style>\n",
              "<table border=\"1\" class=\"dataframe\">\n",
              "  <thead>\n",
              "    <tr style=\"text-align: right;\">\n",
              "      <th></th>\n",
              "      <th>ISBN</th>\n",
              "      <th>Book-Title</th>\n",
              "      <th>Book-Author</th>\n",
              "      <th>Year-Of-Publication</th>\n",
              "      <th>Publisher</th>\n",
              "      <th>Image-URL-S</th>\n",
              "      <th>Image-URL-M</th>\n",
              "      <th>Image-URL-L</th>\n",
              "    </tr>\n",
              "  </thead>\n",
              "  <tbody>\n",
              "    <tr>\n",
              "      <th>0</th>\n",
              "      <td>0195153448</td>\n",
              "      <td>Classical Mythology</td>\n",
              "      <td>Mark P. O. Morford</td>\n",
              "      <td>2002</td>\n",
              "      <td>Oxford University Press</td>\n",
              "      <td>http://images.amazon.com/images/P/0195153448.0...</td>\n",
              "      <td>http://images.amazon.com/images/P/0195153448.0...</td>\n",
              "      <td>http://images.amazon.com/images/P/0195153448.0...</td>\n",
              "    </tr>\n",
              "    <tr>\n",
              "      <th>1</th>\n",
              "      <td>0002005018</td>\n",
              "      <td>Clara Callan</td>\n",
              "      <td>Richard Bruce Wright</td>\n",
              "      <td>2001</td>\n",
              "      <td>HarperFlamingo Canada</td>\n",
              "      <td>http://images.amazon.com/images/P/0002005018.0...</td>\n",
              "      <td>http://images.amazon.com/images/P/0002005018.0...</td>\n",
              "      <td>http://images.amazon.com/images/P/0002005018.0...</td>\n",
              "    </tr>\n",
              "    <tr>\n",
              "      <th>2</th>\n",
              "      <td>0060973129</td>\n",
              "      <td>Decision in Normandy</td>\n",
              "      <td>Carlo D'Este</td>\n",
              "      <td>1991</td>\n",
              "      <td>HarperPerennial</td>\n",
              "      <td>http://images.amazon.com/images/P/0060973129.0...</td>\n",
              "      <td>http://images.amazon.com/images/P/0060973129.0...</td>\n",
              "      <td>http://images.amazon.com/images/P/0060973129.0...</td>\n",
              "    </tr>\n",
              "    <tr>\n",
              "      <th>3</th>\n",
              "      <td>0374157065</td>\n",
              "      <td>Flu: The Story of the Great Influenza Pandemic...</td>\n",
              "      <td>Gina Bari Kolata</td>\n",
              "      <td>1999</td>\n",
              "      <td>Farrar Straus Giroux</td>\n",
              "      <td>http://images.amazon.com/images/P/0374157065.0...</td>\n",
              "      <td>http://images.amazon.com/images/P/0374157065.0...</td>\n",
              "      <td>http://images.amazon.com/images/P/0374157065.0...</td>\n",
              "    </tr>\n",
              "  </tbody>\n",
              "</table>\n",
              "</div>\n",
              "      <button class=\"colab-df-convert\" onclick=\"convertToInteractive('df-da734602-81f7-43e0-bce4-4909d1a23b81')\"\n",
              "              title=\"Convert this dataframe to an interactive table.\"\n",
              "              style=\"display:none;\">\n",
              "        \n",
              "  <svg xmlns=\"http://www.w3.org/2000/svg\" height=\"24px\"viewBox=\"0 0 24 24\"\n",
              "       width=\"24px\">\n",
              "    <path d=\"M0 0h24v24H0V0z\" fill=\"none\"/>\n",
              "    <path d=\"M18.56 5.44l.94 2.06.94-2.06 2.06-.94-2.06-.94-.94-2.06-.94 2.06-2.06.94zm-11 1L8.5 8.5l.94-2.06 2.06-.94-2.06-.94L8.5 2.5l-.94 2.06-2.06.94zm10 10l.94 2.06.94-2.06 2.06-.94-2.06-.94-.94-2.06-.94 2.06-2.06.94z\"/><path d=\"M17.41 7.96l-1.37-1.37c-.4-.4-.92-.59-1.43-.59-.52 0-1.04.2-1.43.59L10.3 9.45l-7.72 7.72c-.78.78-.78 2.05 0 2.83L4 21.41c.39.39.9.59 1.41.59.51 0 1.02-.2 1.41-.59l7.78-7.78 2.81-2.81c.8-.78.8-2.07 0-2.86zM5.41 20L4 18.59l7.72-7.72 1.47 1.35L5.41 20z\"/>\n",
              "  </svg>\n",
              "      </button>\n",
              "      \n",
              "  <style>\n",
              "    .colab-df-container {\n",
              "      display:flex;\n",
              "      flex-wrap:wrap;\n",
              "      gap: 12px;\n",
              "    }\n",
              "\n",
              "    .colab-df-convert {\n",
              "      background-color: #E8F0FE;\n",
              "      border: none;\n",
              "      border-radius: 50%;\n",
              "      cursor: pointer;\n",
              "      display: none;\n",
              "      fill: #1967D2;\n",
              "      height: 32px;\n",
              "      padding: 0 0 0 0;\n",
              "      width: 32px;\n",
              "    }\n",
              "\n",
              "    .colab-df-convert:hover {\n",
              "      background-color: #E2EBFA;\n",
              "      box-shadow: 0px 1px 2px rgba(60, 64, 67, 0.3), 0px 1px 3px 1px rgba(60, 64, 67, 0.15);\n",
              "      fill: #174EA6;\n",
              "    }\n",
              "\n",
              "    [theme=dark] .colab-df-convert {\n",
              "      background-color: #3B4455;\n",
              "      fill: #D2E3FC;\n",
              "    }\n",
              "\n",
              "    [theme=dark] .colab-df-convert:hover {\n",
              "      background-color: #434B5C;\n",
              "      box-shadow: 0px 1px 3px 1px rgba(0, 0, 0, 0.15);\n",
              "      filter: drop-shadow(0px 1px 2px rgba(0, 0, 0, 0.3));\n",
              "      fill: #FFFFFF;\n",
              "    }\n",
              "  </style>\n",
              "\n",
              "      <script>\n",
              "        const buttonEl =\n",
              "          document.querySelector('#df-da734602-81f7-43e0-bce4-4909d1a23b81 button.colab-df-convert');\n",
              "        buttonEl.style.display =\n",
              "          google.colab.kernel.accessAllowed ? 'block' : 'none';\n",
              "\n",
              "        async function convertToInteractive(key) {\n",
              "          const element = document.querySelector('#df-da734602-81f7-43e0-bce4-4909d1a23b81');\n",
              "          const dataTable =\n",
              "            await google.colab.kernel.invokeFunction('convertToInteractive',\n",
              "                                                     [key], {});\n",
              "          if (!dataTable) return;\n",
              "\n",
              "          const docLinkHtml = 'Like what you see? Visit the ' +\n",
              "            '<a target=\"_blank\" href=https://colab.research.google.com/notebooks/data_table.ipynb>data table notebook</a>'\n",
              "            + ' to learn more about interactive tables.';\n",
              "          element.innerHTML = '';\n",
              "          dataTable['output_type'] = 'display_data';\n",
              "          await google.colab.output.renderOutput(dataTable, element);\n",
              "          const docLink = document.createElement('div');\n",
              "          docLink.innerHTML = docLinkHtml;\n",
              "          element.appendChild(docLink);\n",
              "        }\n",
              "      </script>\n",
              "    </div>\n",
              "  </div>\n",
              "  "
            ]
          },
          "metadata": {},
          "execution_count": 4
        }
      ]
    },
    {
      "cell_type": "code",
      "source": [
        "books[books['Book-Title'] == 'Now You See Her']"
      ],
      "metadata": {
        "colab": {
          "base_uri": "https://localhost:8080/",
          "height": 631
        },
        "id": "qdxmh8F3cfGw",
        "outputId": "7d1b067c-6c13-49f3-ffd7-29e315a755aa"
      },
      "execution_count": null,
      "outputs": [
        {
          "output_type": "execute_result",
          "data": {
            "text/plain": [
              "              ISBN       Book-Title   Book-Author Year-Of-Publication  \\\n",
              "2129    0743482891  Now You See Her  Linda Howard                2003   \n",
              "10536   0671034057  Now You See Her  Linda Howard                1999   \n",
              "70044   0671568825  Now You See Her  Linda Howard                1998   \n",
              "83507   0679415831  Now You See Her  Whitney Otto                1994   \n",
              "85940   0345378261  Now You See Her  Whitney Otto                1995   \n",
              "148242  0743527534  Now You See Her  Linda Howard                2002   \n",
              "\n",
              "               Publisher                                        Image-URL-S  \\\n",
              "2129        Pocket Books  http://images.amazon.com/images/P/0743482891.0...   \n",
              "10536       Pocket Books  http://images.amazon.com/images/P/0671034057.0...   \n",
              "70044              Atria  http://images.amazon.com/images/P/0671568825.0...   \n",
              "83507   Random House Inc  http://images.amazon.com/images/P/0679415831.0...   \n",
              "85940   Ballantine Books  http://images.amazon.com/images/P/0345378261.0...   \n",
              "148242            Encore  http://images.amazon.com/images/P/0743527534.0...   \n",
              "\n",
              "                                              Image-URL-M  \\\n",
              "2129    http://images.amazon.com/images/P/0743482891.0...   \n",
              "10536   http://images.amazon.com/images/P/0671034057.0...   \n",
              "70044   http://images.amazon.com/images/P/0671568825.0...   \n",
              "83507   http://images.amazon.com/images/P/0679415831.0...   \n",
              "85940   http://images.amazon.com/images/P/0345378261.0...   \n",
              "148242  http://images.amazon.com/images/P/0743527534.0...   \n",
              "\n",
              "                                              Image-URL-L  \n",
              "2129    http://images.amazon.com/images/P/0743482891.0...  \n",
              "10536   http://images.amazon.com/images/P/0671034057.0...  \n",
              "70044   http://images.amazon.com/images/P/0671568825.0...  \n",
              "83507   http://images.amazon.com/images/P/0679415831.0...  \n",
              "85940   http://images.amazon.com/images/P/0345378261.0...  \n",
              "148242  http://images.amazon.com/images/P/0743527534.0...  "
            ],
            "text/html": [
              "\n",
              "  <div id=\"df-997a9fc3-4d7e-4e96-8793-a2a577216bd5\">\n",
              "    <div class=\"colab-df-container\">\n",
              "      <div>\n",
              "<style scoped>\n",
              "    .dataframe tbody tr th:only-of-type {\n",
              "        vertical-align: middle;\n",
              "    }\n",
              "\n",
              "    .dataframe tbody tr th {\n",
              "        vertical-align: top;\n",
              "    }\n",
              "\n",
              "    .dataframe thead th {\n",
              "        text-align: right;\n",
              "    }\n",
              "</style>\n",
              "<table border=\"1\" class=\"dataframe\">\n",
              "  <thead>\n",
              "    <tr style=\"text-align: right;\">\n",
              "      <th></th>\n",
              "      <th>ISBN</th>\n",
              "      <th>Book-Title</th>\n",
              "      <th>Book-Author</th>\n",
              "      <th>Year-Of-Publication</th>\n",
              "      <th>Publisher</th>\n",
              "      <th>Image-URL-S</th>\n",
              "      <th>Image-URL-M</th>\n",
              "      <th>Image-URL-L</th>\n",
              "    </tr>\n",
              "  </thead>\n",
              "  <tbody>\n",
              "    <tr>\n",
              "      <th>2129</th>\n",
              "      <td>0743482891</td>\n",
              "      <td>Now You See Her</td>\n",
              "      <td>Linda Howard</td>\n",
              "      <td>2003</td>\n",
              "      <td>Pocket Books</td>\n",
              "      <td>http://images.amazon.com/images/P/0743482891.0...</td>\n",
              "      <td>http://images.amazon.com/images/P/0743482891.0...</td>\n",
              "      <td>http://images.amazon.com/images/P/0743482891.0...</td>\n",
              "    </tr>\n",
              "    <tr>\n",
              "      <th>10536</th>\n",
              "      <td>0671034057</td>\n",
              "      <td>Now You See Her</td>\n",
              "      <td>Linda Howard</td>\n",
              "      <td>1999</td>\n",
              "      <td>Pocket Books</td>\n",
              "      <td>http://images.amazon.com/images/P/0671034057.0...</td>\n",
              "      <td>http://images.amazon.com/images/P/0671034057.0...</td>\n",
              "      <td>http://images.amazon.com/images/P/0671034057.0...</td>\n",
              "    </tr>\n",
              "    <tr>\n",
              "      <th>70044</th>\n",
              "      <td>0671568825</td>\n",
              "      <td>Now You See Her</td>\n",
              "      <td>Linda Howard</td>\n",
              "      <td>1998</td>\n",
              "      <td>Atria</td>\n",
              "      <td>http://images.amazon.com/images/P/0671568825.0...</td>\n",
              "      <td>http://images.amazon.com/images/P/0671568825.0...</td>\n",
              "      <td>http://images.amazon.com/images/P/0671568825.0...</td>\n",
              "    </tr>\n",
              "    <tr>\n",
              "      <th>83507</th>\n",
              "      <td>0679415831</td>\n",
              "      <td>Now You See Her</td>\n",
              "      <td>Whitney Otto</td>\n",
              "      <td>1994</td>\n",
              "      <td>Random House Inc</td>\n",
              "      <td>http://images.amazon.com/images/P/0679415831.0...</td>\n",
              "      <td>http://images.amazon.com/images/P/0679415831.0...</td>\n",
              "      <td>http://images.amazon.com/images/P/0679415831.0...</td>\n",
              "    </tr>\n",
              "    <tr>\n",
              "      <th>85940</th>\n",
              "      <td>0345378261</td>\n",
              "      <td>Now You See Her</td>\n",
              "      <td>Whitney Otto</td>\n",
              "      <td>1995</td>\n",
              "      <td>Ballantine Books</td>\n",
              "      <td>http://images.amazon.com/images/P/0345378261.0...</td>\n",
              "      <td>http://images.amazon.com/images/P/0345378261.0...</td>\n",
              "      <td>http://images.amazon.com/images/P/0345378261.0...</td>\n",
              "    </tr>\n",
              "    <tr>\n",
              "      <th>148242</th>\n",
              "      <td>0743527534</td>\n",
              "      <td>Now You See Her</td>\n",
              "      <td>Linda Howard</td>\n",
              "      <td>2002</td>\n",
              "      <td>Encore</td>\n",
              "      <td>http://images.amazon.com/images/P/0743527534.0...</td>\n",
              "      <td>http://images.amazon.com/images/P/0743527534.0...</td>\n",
              "      <td>http://images.amazon.com/images/P/0743527534.0...</td>\n",
              "    </tr>\n",
              "  </tbody>\n",
              "</table>\n",
              "</div>\n",
              "      <button class=\"colab-df-convert\" onclick=\"convertToInteractive('df-997a9fc3-4d7e-4e96-8793-a2a577216bd5')\"\n",
              "              title=\"Convert this dataframe to an interactive table.\"\n",
              "              style=\"display:none;\">\n",
              "        \n",
              "  <svg xmlns=\"http://www.w3.org/2000/svg\" height=\"24px\"viewBox=\"0 0 24 24\"\n",
              "       width=\"24px\">\n",
              "    <path d=\"M0 0h24v24H0V0z\" fill=\"none\"/>\n",
              "    <path d=\"M18.56 5.44l.94 2.06.94-2.06 2.06-.94-2.06-.94-.94-2.06-.94 2.06-2.06.94zm-11 1L8.5 8.5l.94-2.06 2.06-.94-2.06-.94L8.5 2.5l-.94 2.06-2.06.94zm10 10l.94 2.06.94-2.06 2.06-.94-2.06-.94-.94-2.06-.94 2.06-2.06.94z\"/><path d=\"M17.41 7.96l-1.37-1.37c-.4-.4-.92-.59-1.43-.59-.52 0-1.04.2-1.43.59L10.3 9.45l-7.72 7.72c-.78.78-.78 2.05 0 2.83L4 21.41c.39.39.9.59 1.41.59.51 0 1.02-.2 1.41-.59l7.78-7.78 2.81-2.81c.8-.78.8-2.07 0-2.86zM5.41 20L4 18.59l7.72-7.72 1.47 1.35L5.41 20z\"/>\n",
              "  </svg>\n",
              "      </button>\n",
              "      \n",
              "  <style>\n",
              "    .colab-df-container {\n",
              "      display:flex;\n",
              "      flex-wrap:wrap;\n",
              "      gap: 12px;\n",
              "    }\n",
              "\n",
              "    .colab-df-convert {\n",
              "      background-color: #E8F0FE;\n",
              "      border: none;\n",
              "      border-radius: 50%;\n",
              "      cursor: pointer;\n",
              "      display: none;\n",
              "      fill: #1967D2;\n",
              "      height: 32px;\n",
              "      padding: 0 0 0 0;\n",
              "      width: 32px;\n",
              "    }\n",
              "\n",
              "    .colab-df-convert:hover {\n",
              "      background-color: #E2EBFA;\n",
              "      box-shadow: 0px 1px 2px rgba(60, 64, 67, 0.3), 0px 1px 3px 1px rgba(60, 64, 67, 0.15);\n",
              "      fill: #174EA6;\n",
              "    }\n",
              "\n",
              "    [theme=dark] .colab-df-convert {\n",
              "      background-color: #3B4455;\n",
              "      fill: #D2E3FC;\n",
              "    }\n",
              "\n",
              "    [theme=dark] .colab-df-convert:hover {\n",
              "      background-color: #434B5C;\n",
              "      box-shadow: 0px 1px 3px 1px rgba(0, 0, 0, 0.15);\n",
              "      filter: drop-shadow(0px 1px 2px rgba(0, 0, 0, 0.3));\n",
              "      fill: #FFFFFF;\n",
              "    }\n",
              "  </style>\n",
              "\n",
              "      <script>\n",
              "        const buttonEl =\n",
              "          document.querySelector('#df-997a9fc3-4d7e-4e96-8793-a2a577216bd5 button.colab-df-convert');\n",
              "        buttonEl.style.display =\n",
              "          google.colab.kernel.accessAllowed ? 'block' : 'none';\n",
              "\n",
              "        async function convertToInteractive(key) {\n",
              "          const element = document.querySelector('#df-997a9fc3-4d7e-4e96-8793-a2a577216bd5');\n",
              "          const dataTable =\n",
              "            await google.colab.kernel.invokeFunction('convertToInteractive',\n",
              "                                                     [key], {});\n",
              "          if (!dataTable) return;\n",
              "\n",
              "          const docLinkHtml = 'Like what you see? Visit the ' +\n",
              "            '<a target=\"_blank\" href=https://colab.research.google.com/notebooks/data_table.ipynb>data table notebook</a>'\n",
              "            + ' to learn more about interactive tables.';\n",
              "          element.innerHTML = '';\n",
              "          dataTable['output_type'] = 'display_data';\n",
              "          await google.colab.output.renderOutput(dataTable, element);\n",
              "          const docLink = document.createElement('div');\n",
              "          docLink.innerHTML = docLinkHtml;\n",
              "          element.appendChild(docLink);\n",
              "        }\n",
              "      </script>\n",
              "    </div>\n",
              "  </div>\n",
              "  "
            ]
          },
          "metadata": {},
          "execution_count": 51
        }
      ]
    },
    {
      "cell_type": "code",
      "source": [
        "#dimensions of book dataframe\n",
        "books.shape"
      ],
      "metadata": {
        "colab": {
          "base_uri": "https://localhost:8080/"
        },
        "id": "Yai0x-7niEqP",
        "outputId": "0e3e966c-d235-423f-c8cd-aa0ef4da201d"
      },
      "execution_count": null,
      "outputs": [
        {
          "output_type": "execute_result",
          "data": {
            "text/plain": [
              "(271360, 8)"
            ]
          },
          "metadata": {},
          "execution_count": 11
        }
      ]
    },
    {
      "cell_type": "code",
      "source": [
        "#checking users head/columns\n",
        "users.head(5)"
      ],
      "metadata": {
        "colab": {
          "base_uri": "https://localhost:8080/",
          "height": 206
        },
        "id": "EPv18IUGhoL6",
        "outputId": "f9198a50-da45-4b74-fc2e-1c8632939bcf"
      },
      "execution_count": null,
      "outputs": [
        {
          "output_type": "execute_result",
          "data": {
            "text/plain": [
              "   User-ID                            Location   Age\n",
              "0        1                  nyc, new york, usa   NaN\n",
              "1        2           stockton, california, usa  18.0\n",
              "2        3     moscow, yukon territory, russia   NaN\n",
              "3        4           porto, v.n.gaia, portugal  17.0\n",
              "4        5  farnborough, hants, united kingdom   NaN"
            ],
            "text/html": [
              "\n",
              "  <div id=\"df-3ca65a16-0f3e-4aad-bf72-0781ac775809\">\n",
              "    <div class=\"colab-df-container\">\n",
              "      <div>\n",
              "<style scoped>\n",
              "    .dataframe tbody tr th:only-of-type {\n",
              "        vertical-align: middle;\n",
              "    }\n",
              "\n",
              "    .dataframe tbody tr th {\n",
              "        vertical-align: top;\n",
              "    }\n",
              "\n",
              "    .dataframe thead th {\n",
              "        text-align: right;\n",
              "    }\n",
              "</style>\n",
              "<table border=\"1\" class=\"dataframe\">\n",
              "  <thead>\n",
              "    <tr style=\"text-align: right;\">\n",
              "      <th></th>\n",
              "      <th>User-ID</th>\n",
              "      <th>Location</th>\n",
              "      <th>Age</th>\n",
              "    </tr>\n",
              "  </thead>\n",
              "  <tbody>\n",
              "    <tr>\n",
              "      <th>0</th>\n",
              "      <td>1</td>\n",
              "      <td>nyc, new york, usa</td>\n",
              "      <td>NaN</td>\n",
              "    </tr>\n",
              "    <tr>\n",
              "      <th>1</th>\n",
              "      <td>2</td>\n",
              "      <td>stockton, california, usa</td>\n",
              "      <td>18.0</td>\n",
              "    </tr>\n",
              "    <tr>\n",
              "      <th>2</th>\n",
              "      <td>3</td>\n",
              "      <td>moscow, yukon territory, russia</td>\n",
              "      <td>NaN</td>\n",
              "    </tr>\n",
              "    <tr>\n",
              "      <th>3</th>\n",
              "      <td>4</td>\n",
              "      <td>porto, v.n.gaia, portugal</td>\n",
              "      <td>17.0</td>\n",
              "    </tr>\n",
              "    <tr>\n",
              "      <th>4</th>\n",
              "      <td>5</td>\n",
              "      <td>farnborough, hants, united kingdom</td>\n",
              "      <td>NaN</td>\n",
              "    </tr>\n",
              "  </tbody>\n",
              "</table>\n",
              "</div>\n",
              "      <button class=\"colab-df-convert\" onclick=\"convertToInteractive('df-3ca65a16-0f3e-4aad-bf72-0781ac775809')\"\n",
              "              title=\"Convert this dataframe to an interactive table.\"\n",
              "              style=\"display:none;\">\n",
              "        \n",
              "  <svg xmlns=\"http://www.w3.org/2000/svg\" height=\"24px\"viewBox=\"0 0 24 24\"\n",
              "       width=\"24px\">\n",
              "    <path d=\"M0 0h24v24H0V0z\" fill=\"none\"/>\n",
              "    <path d=\"M18.56 5.44l.94 2.06.94-2.06 2.06-.94-2.06-.94-.94-2.06-.94 2.06-2.06.94zm-11 1L8.5 8.5l.94-2.06 2.06-.94-2.06-.94L8.5 2.5l-.94 2.06-2.06.94zm10 10l.94 2.06.94-2.06 2.06-.94-2.06-.94-.94-2.06-.94 2.06-2.06.94z\"/><path d=\"M17.41 7.96l-1.37-1.37c-.4-.4-.92-.59-1.43-.59-.52 0-1.04.2-1.43.59L10.3 9.45l-7.72 7.72c-.78.78-.78 2.05 0 2.83L4 21.41c.39.39.9.59 1.41.59.51 0 1.02-.2 1.41-.59l7.78-7.78 2.81-2.81c.8-.78.8-2.07 0-2.86zM5.41 20L4 18.59l7.72-7.72 1.47 1.35L5.41 20z\"/>\n",
              "  </svg>\n",
              "      </button>\n",
              "      \n",
              "  <style>\n",
              "    .colab-df-container {\n",
              "      display:flex;\n",
              "      flex-wrap:wrap;\n",
              "      gap: 12px;\n",
              "    }\n",
              "\n",
              "    .colab-df-convert {\n",
              "      background-color: #E8F0FE;\n",
              "      border: none;\n",
              "      border-radius: 50%;\n",
              "      cursor: pointer;\n",
              "      display: none;\n",
              "      fill: #1967D2;\n",
              "      height: 32px;\n",
              "      padding: 0 0 0 0;\n",
              "      width: 32px;\n",
              "    }\n",
              "\n",
              "    .colab-df-convert:hover {\n",
              "      background-color: #E2EBFA;\n",
              "      box-shadow: 0px 1px 2px rgba(60, 64, 67, 0.3), 0px 1px 3px 1px rgba(60, 64, 67, 0.15);\n",
              "      fill: #174EA6;\n",
              "    }\n",
              "\n",
              "    [theme=dark] .colab-df-convert {\n",
              "      background-color: #3B4455;\n",
              "      fill: #D2E3FC;\n",
              "    }\n",
              "\n",
              "    [theme=dark] .colab-df-convert:hover {\n",
              "      background-color: #434B5C;\n",
              "      box-shadow: 0px 1px 3px 1px rgba(0, 0, 0, 0.15);\n",
              "      filter: drop-shadow(0px 1px 2px rgba(0, 0, 0, 0.3));\n",
              "      fill: #FFFFFF;\n",
              "    }\n",
              "  </style>\n",
              "\n",
              "      <script>\n",
              "        const buttonEl =\n",
              "          document.querySelector('#df-3ca65a16-0f3e-4aad-bf72-0781ac775809 button.colab-df-convert');\n",
              "        buttonEl.style.display =\n",
              "          google.colab.kernel.accessAllowed ? 'block' : 'none';\n",
              "\n",
              "        async function convertToInteractive(key) {\n",
              "          const element = document.querySelector('#df-3ca65a16-0f3e-4aad-bf72-0781ac775809');\n",
              "          const dataTable =\n",
              "            await google.colab.kernel.invokeFunction('convertToInteractive',\n",
              "                                                     [key], {});\n",
              "          if (!dataTable) return;\n",
              "\n",
              "          const docLinkHtml = 'Like what you see? Visit the ' +\n",
              "            '<a target=\"_blank\" href=https://colab.research.google.com/notebooks/data_table.ipynb>data table notebook</a>'\n",
              "            + ' to learn more about interactive tables.';\n",
              "          element.innerHTML = '';\n",
              "          dataTable['output_type'] = 'display_data';\n",
              "          await google.colab.output.renderOutput(dataTable, element);\n",
              "          const docLink = document.createElement('div');\n",
              "          docLink.innerHTML = docLinkHtml;\n",
              "          element.appendChild(docLink);\n",
              "        }\n",
              "      </script>\n",
              "    </div>\n",
              "  </div>\n",
              "  "
            ]
          },
          "metadata": {},
          "execution_count": 12
        }
      ]
    },
    {
      "cell_type": "code",
      "source": [
        "#checking shape\n",
        "users.shape"
      ],
      "metadata": {
        "colab": {
          "base_uri": "https://localhost:8080/"
        },
        "id": "eCHFFUt_hoO0",
        "outputId": "5f1fa114-c266-4517-ebcc-17e6ee6beab1"
      },
      "execution_count": null,
      "outputs": [
        {
          "output_type": "execute_result",
          "data": {
            "text/plain": [
              "(278858, 3)"
            ]
          },
          "metadata": {},
          "execution_count": 13
        }
      ]
    },
    {
      "cell_type": "code",
      "source": [
        "#checking our 3rd data-set\n",
        "ratings.head(5)"
      ],
      "metadata": {
        "colab": {
          "base_uri": "https://localhost:8080/",
          "height": 206
        },
        "id": "s5Epq0d4hoRM",
        "outputId": "12e0b1ea-1b06-4aa6-c7ea-8a22a667a0c3"
      },
      "execution_count": null,
      "outputs": [
        {
          "output_type": "execute_result",
          "data": {
            "text/plain": [
              "   User-ID        ISBN  Book-Rating\n",
              "0   276725  034545104X            0\n",
              "1   276726  0155061224            5\n",
              "2   276727  0446520802            0\n",
              "3   276729  052165615X            3\n",
              "4   276729  0521795028            6"
            ],
            "text/html": [
              "\n",
              "  <div id=\"df-5f5894b9-7c35-4afa-a3c8-da4bc92a3bbf\">\n",
              "    <div class=\"colab-df-container\">\n",
              "      <div>\n",
              "<style scoped>\n",
              "    .dataframe tbody tr th:only-of-type {\n",
              "        vertical-align: middle;\n",
              "    }\n",
              "\n",
              "    .dataframe tbody tr th {\n",
              "        vertical-align: top;\n",
              "    }\n",
              "\n",
              "    .dataframe thead th {\n",
              "        text-align: right;\n",
              "    }\n",
              "</style>\n",
              "<table border=\"1\" class=\"dataframe\">\n",
              "  <thead>\n",
              "    <tr style=\"text-align: right;\">\n",
              "      <th></th>\n",
              "      <th>User-ID</th>\n",
              "      <th>ISBN</th>\n",
              "      <th>Book-Rating</th>\n",
              "    </tr>\n",
              "  </thead>\n",
              "  <tbody>\n",
              "    <tr>\n",
              "      <th>0</th>\n",
              "      <td>276725</td>\n",
              "      <td>034545104X</td>\n",
              "      <td>0</td>\n",
              "    </tr>\n",
              "    <tr>\n",
              "      <th>1</th>\n",
              "      <td>276726</td>\n",
              "      <td>0155061224</td>\n",
              "      <td>5</td>\n",
              "    </tr>\n",
              "    <tr>\n",
              "      <th>2</th>\n",
              "      <td>276727</td>\n",
              "      <td>0446520802</td>\n",
              "      <td>0</td>\n",
              "    </tr>\n",
              "    <tr>\n",
              "      <th>3</th>\n",
              "      <td>276729</td>\n",
              "      <td>052165615X</td>\n",
              "      <td>3</td>\n",
              "    </tr>\n",
              "    <tr>\n",
              "      <th>4</th>\n",
              "      <td>276729</td>\n",
              "      <td>0521795028</td>\n",
              "      <td>6</td>\n",
              "    </tr>\n",
              "  </tbody>\n",
              "</table>\n",
              "</div>\n",
              "      <button class=\"colab-df-convert\" onclick=\"convertToInteractive('df-5f5894b9-7c35-4afa-a3c8-da4bc92a3bbf')\"\n",
              "              title=\"Convert this dataframe to an interactive table.\"\n",
              "              style=\"display:none;\">\n",
              "        \n",
              "  <svg xmlns=\"http://www.w3.org/2000/svg\" height=\"24px\"viewBox=\"0 0 24 24\"\n",
              "       width=\"24px\">\n",
              "    <path d=\"M0 0h24v24H0V0z\" fill=\"none\"/>\n",
              "    <path d=\"M18.56 5.44l.94 2.06.94-2.06 2.06-.94-2.06-.94-.94-2.06-.94 2.06-2.06.94zm-11 1L8.5 8.5l.94-2.06 2.06-.94-2.06-.94L8.5 2.5l-.94 2.06-2.06.94zm10 10l.94 2.06.94-2.06 2.06-.94-2.06-.94-.94-2.06-.94 2.06-2.06.94z\"/><path d=\"M17.41 7.96l-1.37-1.37c-.4-.4-.92-.59-1.43-.59-.52 0-1.04.2-1.43.59L10.3 9.45l-7.72 7.72c-.78.78-.78 2.05 0 2.83L4 21.41c.39.39.9.59 1.41.59.51 0 1.02-.2 1.41-.59l7.78-7.78 2.81-2.81c.8-.78.8-2.07 0-2.86zM5.41 20L4 18.59l7.72-7.72 1.47 1.35L5.41 20z\"/>\n",
              "  </svg>\n",
              "      </button>\n",
              "      \n",
              "  <style>\n",
              "    .colab-df-container {\n",
              "      display:flex;\n",
              "      flex-wrap:wrap;\n",
              "      gap: 12px;\n",
              "    }\n",
              "\n",
              "    .colab-df-convert {\n",
              "      background-color: #E8F0FE;\n",
              "      border: none;\n",
              "      border-radius: 50%;\n",
              "      cursor: pointer;\n",
              "      display: none;\n",
              "      fill: #1967D2;\n",
              "      height: 32px;\n",
              "      padding: 0 0 0 0;\n",
              "      width: 32px;\n",
              "    }\n",
              "\n",
              "    .colab-df-convert:hover {\n",
              "      background-color: #E2EBFA;\n",
              "      box-shadow: 0px 1px 2px rgba(60, 64, 67, 0.3), 0px 1px 3px 1px rgba(60, 64, 67, 0.15);\n",
              "      fill: #174EA6;\n",
              "    }\n",
              "\n",
              "    [theme=dark] .colab-df-convert {\n",
              "      background-color: #3B4455;\n",
              "      fill: #D2E3FC;\n",
              "    }\n",
              "\n",
              "    [theme=dark] .colab-df-convert:hover {\n",
              "      background-color: #434B5C;\n",
              "      box-shadow: 0px 1px 3px 1px rgba(0, 0, 0, 0.15);\n",
              "      filter: drop-shadow(0px 1px 2px rgba(0, 0, 0, 0.3));\n",
              "      fill: #FFFFFF;\n",
              "    }\n",
              "  </style>\n",
              "\n",
              "      <script>\n",
              "        const buttonEl =\n",
              "          document.querySelector('#df-5f5894b9-7c35-4afa-a3c8-da4bc92a3bbf button.colab-df-convert');\n",
              "        buttonEl.style.display =\n",
              "          google.colab.kernel.accessAllowed ? 'block' : 'none';\n",
              "\n",
              "        async function convertToInteractive(key) {\n",
              "          const element = document.querySelector('#df-5f5894b9-7c35-4afa-a3c8-da4bc92a3bbf');\n",
              "          const dataTable =\n",
              "            await google.colab.kernel.invokeFunction('convertToInteractive',\n",
              "                                                     [key], {});\n",
              "          if (!dataTable) return;\n",
              "\n",
              "          const docLinkHtml = 'Like what you see? Visit the ' +\n",
              "            '<a target=\"_blank\" href=https://colab.research.google.com/notebooks/data_table.ipynb>data table notebook</a>'\n",
              "            + ' to learn more about interactive tables.';\n",
              "          element.innerHTML = '';\n",
              "          dataTable['output_type'] = 'display_data';\n",
              "          await google.colab.output.renderOutput(dataTable, element);\n",
              "          const docLink = document.createElement('div');\n",
              "          docLink.innerHTML = docLinkHtml;\n",
              "          element.appendChild(docLink);\n",
              "        }\n",
              "      </script>\n",
              "    </div>\n",
              "  </div>\n",
              "  "
            ]
          },
          "metadata": {},
          "execution_count": 4
        }
      ]
    },
    {
      "cell_type": "code",
      "source": [
        "# dimensions of the 3rd data set\n",
        "ratings.shape"
      ],
      "metadata": {
        "colab": {
          "base_uri": "https://localhost:8080/"
        },
        "id": "8OlWxAguibFc",
        "outputId": "e194046d-391f-4244-d703-3a1dd82764e3"
      },
      "execution_count": null,
      "outputs": [
        {
          "output_type": "execute_result",
          "data": {
            "text/plain": [
              "(1149780, 3)"
            ]
          },
          "metadata": {},
          "execution_count": 17
        }
      ]
    },
    {
      "cell_type": "markdown",
      "source": [
        "# Data Cleaning and Feature Engineering"
      ],
      "metadata": {
        "id": "Fc8RSPgtlpUl"
      }
    },
    {
      "cell_type": "markdown",
      "source": [
        "Before moving onto the data visualisation and EDA. First, lets make sure our data is ready to use.\n"
      ],
      "metadata": {
        "id": "WQ1nOcVSl1zA"
      }
    },
    {
      "cell_type": "markdown",
      "source": [
        "**Checking for null values data**"
      ],
      "metadata": {
        "id": "te9isOEpkiBn"
      }
    },
    {
      "cell_type": "code",
      "source": [
        "books.isnull().sum()"
      ],
      "metadata": {
        "colab": {
          "base_uri": "https://localhost:8080/"
        },
        "id": "HF3i7OLiioUU",
        "outputId": "00f385c9-66e2-4220-b9cf-4e19e094c304"
      },
      "execution_count": null,
      "outputs": [
        {
          "output_type": "execute_result",
          "data": {
            "text/plain": [
              "ISBN                   0\n",
              "Book-Title             0\n",
              "Book-Author            1\n",
              "Year-Of-Publication    0\n",
              "Publisher              2\n",
              "Image-URL-S            0\n",
              "Image-URL-M            0\n",
              "Image-URL-L            3\n",
              "dtype: int64"
            ]
          },
          "metadata": {},
          "execution_count": 18
        }
      ]
    },
    {
      "cell_type": "code",
      "source": [
        "#checking the ratings df for null values\n",
        "ratings.isnull().sum()"
      ],
      "metadata": {
        "colab": {
          "base_uri": "https://localhost:8080/"
        },
        "id": "4lY6lWGJibIh",
        "outputId": "d5b13838-6584-4ced-f00f-33da35798dfc"
      },
      "execution_count": null,
      "outputs": [
        {
          "output_type": "execute_result",
          "data": {
            "text/plain": [
              "User-ID        0\n",
              "ISBN           0\n",
              "Book-Rating    0\n",
              "dtype: int64"
            ]
          },
          "metadata": {},
          "execution_count": 22
        }
      ]
    },
    {
      "cell_type": "markdown",
      "source": [
        "# Exploratory Data Analysis"
      ],
      "metadata": {
        "id": "O3zMVyjbi8g3"
      }
    },
    {
      "cell_type": "markdown",
      "source": [
        "**Rating Distribution**"
      ],
      "metadata": {
        "id": "SYtIn2sJnV1v"
      }
    },
    {
      "cell_type": "code",
      "source": [
        "# show the distribution of rating\n",
        "plt.figure(figsize=(12, 6))\n",
        "sns.countplot(x='Book-Rating', data=ratings)\n",
        "plt.title('Rating Distribution')\n",
        "plt.xticks(rotation=90)\n",
        "plt.ylabel('Number of Books')\n",
        "plt.show()\n",
        "print('Average rating recieved by all the apps is {}.'.format(ratings['Book-Rating'].mean()))"
      ],
      "metadata": {
        "colab": {
          "base_uri": "https://localhost:8080/",
          "height": 424
        },
        "id": "UXlm2bIVnbfk",
        "outputId": "79bf186d-d113-43dd-c5d8-a432d5ab25b7"
      },
      "execution_count": null,
      "outputs": [
        {
          "output_type": "display_data",
          "data": {
            "text/plain": [
              "<Figure size 864x432 with 1 Axes>"
            ],
            "image/png": "[encoded data removed]"
          },
          "metadata": {
            "needs_background": "light"
          }
        },
        {
          "output_type": "stream",
          "name": "stdout",
          "text": [
            "Average rating recieved by all the apps is 2.8669501991685364.\n"
          ]
        }
      ]
    },
    {
      "cell_type": "markdown",
      "source": [
        "Most of the rating are zero\n",
        "\n"
      ],
      "metadata": {
        "id": "pBhR8OuDn-7W"
      }
    },
    {
      "cell_type": "markdown",
      "source": [
        "**HYPOTHESIS**: Most of the users are between the age of 20 to 30 "
      ],
      "metadata": {
        "id": "G1haZsUMzHA1"
      }
    },
    {
      "cell_type": "code",
      "source": [
        "# plotting the age of thee users \n",
        "plt.figure(figsize=(12, 6))\n",
        "sns.histplot(data=users['Age'], bins=np.arange(0,100,10))\n",
        "plt.title('Age Distribution\\n')\n",
        "plt.xlabel('Age')\n",
        "plt.ylabel('Count')"
      ],
      "metadata": {
        "colab": {
          "base_uri": "https://localhost:8080/",
          "height": 436
        },
        "id": "6fJUH6zlyFaL",
        "outputId": "717c632a-c7c8-4f48-bd59-649755999818"
      },
      "execution_count": null,
      "outputs": [
        {
          "output_type": "execute_result",
          "data": {
            "text/plain": [
              "Text(0, 0.5, 'Count')"
            ]
          },
          "metadata": {},
          "execution_count": 28
        },
        {
          "output_type": "display_data",
          "data": {
            "text/plain": [
              "<Figure size 864x432 with 1 Axes>"
            ],
            "image/png": "[encoded data removed]"
          },
          "metadata": {
            "needs_background": "light"
          }
        }
      ]
    },
    {
      "cell_type": "markdown",
      "source": [
        "# Collaborative filering on full data-set"
      ],
      "metadata": {
        "id": "uDOZLEOc9yBy"
      }
    },
    {
      "cell_type": "markdown",
      "source": [
        "We will be using Two methods for our Books recommendation system, first we will use a Model Based colaborative model. Then we will also make a memory based Colaboraative recomendation system. We will not be using content based algorithms for recommendation since we do not have enough indivisual features for users and the books. Users only has one extra feature. \n",
        "\n",
        "Since we are using content based recomendation systems we are likely to run into the cold start problem. There are many ways to address the cold start problem. we shall deal with them as we design the recoomendation system. "
      ],
      "metadata": {
        "id": "vGnaeO2N0vsm"
      }
    },
    {
      "cell_type": "code",
      "source": [
        "# merging the rating and users data frames over the user-id column\n",
        "user_rating_df = ratings.merge(users, left_on = 'User-ID', right_on = 'User-ID')"
      ],
      "metadata": {
        "id": "SWPw0pEK0Lv2"
      },
      "execution_count": null,
      "outputs": []
    },
    {
      "cell_type": "code",
      "source": [
        "user_rating_df.head(5)"
      ],
      "metadata": {
        "colab": {
          "base_uri": "https://localhost:8080/",
          "height": 206
        },
        "id": "G4te_toi0Lyp",
        "outputId": "f33e8dde-63d4-44e1-e967-e2d48ed0dc40"
      },
      "execution_count": null,
      "outputs": [
        {
          "output_type": "execute_result",
          "data": {
            "text/plain": [
              "   User-ID        ISBN  Book-Rating                       Location   Age\n",
              "0   276725  034545104X            0              tyler, texas, usa   NaN\n",
              "1   276726  0155061224            5       seattle, washington, usa   NaN\n",
              "2   276727  0446520802            0  h, new south wales, australia  16.0\n",
              "3   276729  052165615X            3           rijeka, n/a, croatia  16.0\n",
              "4   276729  0521795028            6           rijeka, n/a, croatia  16.0"
            ],
            "text/html": [
              "\n",
              "  <div id=\"df-c5ed4065-9433-4a99-a894-c75e92cc4e3f\">\n",
              "    <div class=\"colab-df-container\">\n",
              "      <div>\n",
              "<style scoped>\n",
              "    .dataframe tbody tr th:only-of-type {\n",
              "        vertical-align: middle;\n",
              "    }\n",
              "\n",
              "    .dataframe tbody tr th {\n",
              "        vertical-align: top;\n",
              "    }\n",
              "\n",
              "    .dataframe thead th {\n",
              "        text-align: right;\n",
              "    }\n",
              "</style>\n",
              "<table border=\"1\" class=\"dataframe\">\n",
              "  <thead>\n",
              "    <tr style=\"text-align: right;\">\n",
              "      <th></th>\n",
              "      <th>User-ID</th>\n",
              "      <th>ISBN</th>\n",
              "      <th>Book-Rating</th>\n",
              "      <th>Location</th>\n",
              "      <th>Age</th>\n",
              "    </tr>\n",
              "  </thead>\n",
              "  <tbody>\n",
              "    <tr>\n",
              "      <th>0</th>\n",
              "      <td>276725</td>\n",
              "      <td>034545104X</td>\n",
              "      <td>0</td>\n",
              "      <td>tyler, texas, usa</td>\n",
              "      <td>NaN</td>\n",
              "    </tr>\n",
              "    <tr>\n",
              "      <th>1</th>\n",
              "      <td>276726</td>\n",
              "      <td>0155061224</td>\n",
              "      <td>5</td>\n",
              "      <td>seattle, washington, usa</td>\n",
              "      <td>NaN</td>\n",
              "    </tr>\n",
              "    <tr>\n",
              "      <th>2</th>\n",
              "      <td>276727</td>\n",
              "      <td>0446520802</td>\n",
              "      <td>0</td>\n",
              "      <td>h, new south wales, australia</td>\n",
              "      <td>16.0</td>\n",
              "    </tr>\n",
              "    <tr>\n",
              "      <th>3</th>\n",
              "      <td>276729</td>\n",
              "      <td>052165615X</td>\n",
              "      <td>3</td>\n",
              "      <td>rijeka, n/a, croatia</td>\n",
              "      <td>16.0</td>\n",
              "    </tr>\n",
              "    <tr>\n",
              "      <th>4</th>\n",
              "      <td>276729</td>\n",
              "      <td>0521795028</td>\n",
              "      <td>6</td>\n",
              "      <td>rijeka, n/a, croatia</td>\n",
              "      <td>16.0</td>\n",
              "    </tr>\n",
              "  </tbody>\n",
              "</table>\n",
              "</div>\n",
              "      <button class=\"colab-df-convert\" onclick=\"convertToInteractive('df-c5ed4065-9433-4a99-a894-c75e92cc4e3f')\"\n",
              "              title=\"Convert this dataframe to an interactive table.\"\n",
              "              style=\"display:none;\">\n",
              "        \n",
              "  <svg xmlns=\"http://www.w3.org/2000/svg\" height=\"24px\"viewBox=\"0 0 24 24\"\n",
              "       width=\"24px\">\n",
              "    <path d=\"M0 0h24v24H0V0z\" fill=\"none\"/>\n",
              "    <path d=\"M18.56 5.44l.94 2.06.94-2.06 2.06-.94-2.06-.94-.94-2.06-.94 2.06-2.06.94zm-11 1L8.5 8.5l.94-2.06 2.06-.94-2.06-.94L8.5 2.5l-.94 2.06-2.06.94zm10 10l.94 2.06.94-2.06 2.06-.94-2.06-.94-.94-2.06-.94 2.06-2.06.94z\"/><path d=\"M17.41 7.96l-1.37-1.37c-.4-.4-.92-.59-1.43-.59-.52 0-1.04.2-1.43.59L10.3 9.45l-7.72 7.72c-.78.78-.78 2.05 0 2.83L4 21.41c.39.39.9.59 1.41.59.51 0 1.02-.2 1.41-.59l7.78-7.78 2.81-2.81c.8-.78.8-2.07 0-2.86zM5.41 20L4 18.59l7.72-7.72 1.47 1.35L5.41 20z\"/>\n",
              "  </svg>\n",
              "      </button>\n",
              "      \n",
              "  <style>\n",
              "    .colab-df-container {\n",
              "      display:flex;\n",
              "      flex-wrap:wrap;\n",
              "      gap: 12px;\n",
              "    }\n",
              "\n",
              "    .colab-df-convert {\n",
              "      background-color: #E8F0FE;\n",
              "      border: none;\n",
              "      border-radius: 50%;\n",
              "      cursor: pointer;\n",
              "      display: none;\n",
              "      fill: #1967D2;\n",
              "      height: 32px;\n",
              "      padding: 0 0 0 0;\n",
              "      width: 32px;\n",
              "    }\n",
              "\n",
              "    .colab-df-convert:hover {\n",
              "      background-color: #E2EBFA;\n",
              "      box-shadow: 0px 1px 2px rgba(60, 64, 67, 0.3), 0px 1px 3px 1px rgba(60, 64, 67, 0.15);\n",
              "      fill: #174EA6;\n",
              "    }\n",
              "\n",
              "    [theme=dark] .colab-df-convert {\n",
              "      background-color: #3B4455;\n",
              "      fill: #D2E3FC;\n",
              "    }\n",
              "\n",
              "    [theme=dark] .colab-df-convert:hover {\n",
              "      background-color: #434B5C;\n",
              "      box-shadow: 0px 1px 3px 1px rgba(0, 0, 0, 0.15);\n",
              "      filter: drop-shadow(0px 1px 2px rgba(0, 0, 0, 0.3));\n",
              "      fill: #FFFFFF;\n",
              "    }\n",
              "  </style>\n",
              "\n",
              "      <script>\n",
              "        const buttonEl =\n",
              "          document.querySelector('#df-c5ed4065-9433-4a99-a894-c75e92cc4e3f button.colab-df-convert');\n",
              "        buttonEl.style.display =\n",
              "          google.colab.kernel.accessAllowed ? 'block' : 'none';\n",
              "\n",
              "        async function convertToInteractive(key) {\n",
              "          const element = document.querySelector('#df-c5ed4065-9433-4a99-a894-c75e92cc4e3f');\n",
              "          const dataTable =\n",
              "            await google.colab.kernel.invokeFunction('convertToInteractive',\n",
              "                                                     [key], {});\n",
              "          if (!dataTable) return;\n",
              "\n",
              "          const docLinkHtml = 'Like what you see? Visit the ' +\n",
              "            '<a target=\"_blank\" href=https://colab.research.google.com/notebooks/data_table.ipynb>data table notebook</a>'\n",
              "            + ' to learn more about interactive tables.';\n",
              "          element.innerHTML = '';\n",
              "          dataTable['output_type'] = 'display_data';\n",
              "          await google.colab.output.renderOutput(dataTable, element);\n",
              "          const docLink = document.createElement('div');\n",
              "          docLink.innerHTML = docLinkHtml;\n",
              "          element.appendChild(docLink);\n",
              "        }\n",
              "      </script>\n",
              "    </div>\n",
              "  </div>\n",
              "  "
            ]
          },
          "metadata": {},
          "execution_count": 4
        }
      ]
    },
    {
      "cell_type": "code",
      "source": [
        "#merging the user-id ratings df and ISBN of every book with books column over ISBN of each book. \n",
        "book_user_rating = books.merge(user_rating_df, left_on = 'ISBN',right_on = 'ISBN')\n",
        "book_user_rating.head(5)"
      ],
      "metadata": {
        "colab": {
          "base_uri": "https://localhost:8080/",
          "height": 461
        },
        "id": "Qqkmix9QDygm",
        "outputId": "74e7a0db-799a-41cf-9118-96f5a9fe2d77"
      },
      "execution_count": null,
      "outputs": [
        {
          "output_type": "execute_result",
          "data": {
            "text/plain": [
              "         ISBN           Book-Title           Book-Author Year-Of-Publication  \\\n",
              "0  0195153448  Classical Mythology    Mark P. O. Morford                2002   \n",
              "1  0002005018         Clara Callan  Richard Bruce Wright                2001   \n",
              "2  0002005018         Clara Callan  Richard Bruce Wright                2001   \n",
              "3  0002005018         Clara Callan  Richard Bruce Wright                2001   \n",
              "4  0002005018         Clara Callan  Richard Bruce Wright                2001   \n",
              "\n",
              "                 Publisher                                        Image-URL-S  \\\n",
              "0  Oxford University Press  http://images.amazon.com/images/P/0195153448.0...   \n",
              "1    HarperFlamingo Canada  http://images.amazon.com/images/P/0002005018.0...   \n",
              "2    HarperFlamingo Canada  http://images.amazon.com/images/P/0002005018.0...   \n",
              "3    HarperFlamingo Canada  http://images.amazon.com/images/P/0002005018.0...   \n",
              "4    HarperFlamingo Canada  http://images.amazon.com/images/P/0002005018.0...   \n",
              "\n",
              "                                         Image-URL-M  \\\n",
              "0  http://images.amazon.com/images/P/0195153448.0...   \n",
              "1  http://images.amazon.com/images/P/0002005018.0...   \n",
              "2  http://images.amazon.com/images/P/0002005018.0...   \n",
              "3  http://images.amazon.com/images/P/0002005018.0...   \n",
              "4  http://images.amazon.com/images/P/0002005018.0...   \n",
              "\n",
              "                                         Image-URL-L  User-ID  Book-Rating  \\\n",
              "0  http://images.amazon.com/images/P/0195153448.0...        2            0   \n",
              "1  http://images.amazon.com/images/P/0002005018.0...        8            5   \n",
              "2  http://images.amazon.com/images/P/0002005018.0...    11400            0   \n",
              "3  http://images.amazon.com/images/P/0002005018.0...    11676            8   \n",
              "4  http://images.amazon.com/images/P/0002005018.0...    41385            0   \n",
              "\n",
              "                    Location   Age  \n",
              "0  stockton, california, usa  18.0  \n",
              "1   timmins, ontario, canada   NaN  \n",
              "2    ottawa, ontario, canada  49.0  \n",
              "3              n/a, n/a, n/a   NaN  \n",
              "4   sudbury, ontario, canada   NaN  "
            ],
            "text/html": [
              "\n",
              "  <div id=\"df-8c2f3c1a-7ba0-42b6-bafe-e90c3c044677\">\n",
              "    <div class=\"colab-df-container\">\n",
              "      <div>\n",
              "<style scoped>\n",
              "    .dataframe tbody tr th:only-of-type {\n",
              "        vertical-align: middle;\n",
              "    }\n",
              "\n",
              "    .dataframe tbody tr th {\n",
              "        vertical-align: top;\n",
              "    }\n",
              "\n",
              "    .dataframe thead th {\n",
              "        text-align: right;\n",
              "    }\n",
              "</style>\n",
              "<table border=\"1\" class=\"dataframe\">\n",
              "  <thead>\n",
              "    <tr style=\"text-align: right;\">\n",
              "      <th></th>\n",
              "      <th>ISBN</th>\n",
              "      <th>Book-Title</th>\n",
              "      <th>Book-Author</th>\n",
              "      <th>Year-Of-Publication</th>\n",
              "      <th>Publisher</th>\n",
              "      <th>Image-URL-S</th>\n",
              "      <th>Image-URL-M</th>\n",
              "      <th>Image-URL-L</th>\n",
              "      <th>User-ID</th>\n",
              "      <th>Book-Rating</th>\n",
              "      <th>Location</th>\n",
              "      <th>Age</th>\n",
              "    </tr>\n",
              "  </thead>\n",
              "  <tbody>\n",
              "    <tr>\n",
              "      <th>0</th>\n",
              "      <td>0195153448</td>\n",
              "      <td>Classical Mythology</td>\n",
              "      <td>Mark P. O. Morford</td>\n",
              "      <td>2002</td>\n",
              "      <td>Oxford University Press</td>\n",
              "      <td>http://images.amazon.com/images/P/0195153448.0...</td>\n",
              "      <td>http://images.amazon.com/images/P/0195153448.0...</td>\n",
              "      <td>http://images.amazon.com/images/P/0195153448.0...</td>\n",
              "      <td>2</td>\n",
              "      <td>0</td>\n",
              "      <td>stockton, california, usa</td>\n",
              "      <td>18.0</td>\n",
              "    </tr>\n",
              "    <tr>\n",
              "      <th>1</th>\n",
              "      <td>0002005018</td>\n",
              "      <td>Clara Callan</td>\n",
              "      <td>Richard Bruce Wright</td>\n",
              "      <td>2001</td>\n",
              "      <td>HarperFlamingo Canada</td>\n",
              "      <td>http://images.amazon.com/images/P/0002005018.0...</td>\n",
              "      <td>http://images.amazon.com/images/P/0002005018.0...</td>\n",
              "      <td>http://images.amazon.com/images/P/0002005018.0...</td>\n",
              "      <td>8</td>\n",
              "      <td>5</td>\n",
              "      <td>timmins, ontario, canada</td>\n",
              "      <td>NaN</td>\n",
              "    </tr>\n",
              "    <tr>\n",
              "      <th>2</th>\n",
              "      <td>0002005018</td>\n",
              "      <td>Clara Callan</td>\n",
              "      <td>Richard Bruce Wright</td>\n",
              "      <td>2001</td>\n",
              "      <td>HarperFlamingo Canada</td>\n",
              "      <td>http://images.amazon.com/images/P/0002005018.0...</td>\n",
              "      <td>http://images.amazon.com/images/P/0002005018.0...</td>\n",
              "      <td>http://images.amazon.com/images/P/0002005018.0...</td>\n",
              "      <td>11400</td>\n",
              "      <td>0</td>\n",
              "      <td>ottawa, ontario, canada</td>\n",
              "      <td>49.0</td>\n",
              "    </tr>\n",
              "    <tr>\n",
              "      <th>3</th>\n",
              "      <td>0002005018</td>\n",
              "      <td>Clara Callan</td>\n",
              "      <td>Richard Bruce Wright</td>\n",
              "      <td>2001</td>\n",
              "      <td>HarperFlamingo Canada</td>\n",
              "      <td>http://images.amazon.com/images/P/0002005018.0...</td>\n",
              "      <td>http://images.amazon.com/images/P/0002005018.0...</td>\n",
              "      <td>http://images.amazon.com/images/P/0002005018.0...</td>\n",
              "      <td>11676</td>\n",
              "      <td>8</td>\n",
              "      <td>n/a, n/a, n/a</td>\n",
              "      <td>NaN</td>\n",
              "    </tr>\n",
              "    <tr>\n",
              "      <th>4</th>\n",
              "      <td>0002005018</td>\n",
              "      <td>Clara Callan</td>\n",
              "      <td>Richard Bruce Wright</td>\n",
              "      <td>2001</td>\n",
              "      <td>HarperFlamingo Canada</td>\n",
              "      <td>http://images.amazon.com/images/P/0002005018.0...</td>\n",
              "      <td>http://images.amazon.com/images/P/0002005018.0...</td>\n",
              "      <td>http://images.amazon.com/images/P/0002005018.0...</td>\n",
              "      <td>41385</td>\n",
              "      <td>0</td>\n",
              "      <td>sudbury, ontario, canada</td>\n",
              "      <td>NaN</td>\n",
              "    </tr>\n",
              "  </tbody>\n",
              "</table>\n",
              "</div>\n",
              "      <button class=\"colab-df-convert\" onclick=\"convertToInteractive('df-8c2f3c1a-7ba0-42b6-bafe-e90c3c044677')\"\n",
              "              title=\"Convert this dataframe to an interactive table.\"\n",
              "              style=\"display:none;\">\n",
              "        \n",
              "  <svg xmlns=\"http://www.w3.org/2000/svg\" height=\"24px\"viewBox=\"0 0 24 24\"\n",
              "       width=\"24px\">\n",
              "    <path d=\"M0 0h24v24H0V0z\" fill=\"none\"/>\n",
              "    <path d=\"M18.56 5.44l.94 2.06.94-2.06 2.06-.94-2.06-.94-.94-2.06-.94 2.06-2.06.94zm-11 1L8.5 8.5l.94-2.06 2.06-.94-2.06-.94L8.5 2.5l-.94 2.06-2.06.94zm10 10l.94 2.06.94-2.06 2.06-.94-2.06-.94-.94-2.06-.94 2.06-2.06.94z\"/><path d=\"M17.41 7.96l-1.37-1.37c-.4-.4-.92-.59-1.43-.59-.52 0-1.04.2-1.43.59L10.3 9.45l-7.72 7.72c-.78.78-.78 2.05 0 2.83L4 21.41c.39.39.9.59 1.41.59.51 0 1.02-.2 1.41-.59l7.78-7.78 2.81-2.81c.8-.78.8-2.07 0-2.86zM5.41 20L4 18.59l7.72-7.72 1.47 1.35L5.41 20z\"/>\n",
              "  </svg>\n",
              "      </button>\n",
              "      \n",
              "  <style>\n",
              "    .colab-df-container {\n",
              "      display:flex;\n",
              "      flex-wrap:wrap;\n",
              "      gap: 12px;\n",
              "    }\n",
              "\n",
              "    .colab-df-convert {\n",
              "      background-color: #E8F0FE;\n",
              "      border: none;\n",
              "      border-radius: 50%;\n",
              "      cursor: pointer;\n",
              "      display: none;\n",
              "      fill: #1967D2;\n",
              "      height: 32px;\n",
              "      padding: 0 0 0 0;\n",
              "      width: 32px;\n",
              "    }\n",
              "\n",
              "    .colab-df-convert:hover {\n",
              "      background-color: #E2EBFA;\n",
              "      box-shadow: 0px 1px 2px rgba(60, 64, 67, 0.3), 0px 1px 3px 1px rgba(60, 64, 67, 0.15);\n",
              "      fill: #174EA6;\n",
              "    }\n",
              "\n",
              "    [theme=dark] .colab-df-convert {\n",
              "      background-color: #3B4455;\n",
              "      fill: #D2E3FC;\n",
              "    }\n",
              "\n",
              "    [theme=dark] .colab-df-convert:hover {\n",
              "      background-color: #434B5C;\n",
              "      box-shadow: 0px 1px 3px 1px rgba(0, 0, 0, 0.15);\n",
              "      filter: drop-shadow(0px 1px 2px rgba(0, 0, 0, 0.3));\n",
              "      fill: #FFFFFF;\n",
              "    }\n",
              "  </style>\n",
              "\n",
              "      <script>\n",
              "        const buttonEl =\n",
              "          document.querySelector('#df-8c2f3c1a-7ba0-42b6-bafe-e90c3c044677 button.colab-df-convert');\n",
              "        buttonEl.style.display =\n",
              "          google.colab.kernel.accessAllowed ? 'block' : 'none';\n",
              "\n",
              "        async function convertToInteractive(key) {\n",
              "          const element = document.querySelector('#df-8c2f3c1a-7ba0-42b6-bafe-e90c3c044677');\n",
              "          const dataTable =\n",
              "            await google.colab.kernel.invokeFunction('convertToInteractive',\n",
              "                                                     [key], {});\n",
              "          if (!dataTable) return;\n",
              "\n",
              "          const docLinkHtml = 'Like what you see? Visit the ' +\n",
              "            '<a target=\"_blank\" href=https://colab.research.google.com/notebooks/data_table.ipynb>data table notebook</a>'\n",
              "            + ' to learn more about interactive tables.';\n",
              "          element.innerHTML = '';\n",
              "          dataTable['output_type'] = 'display_data';\n",
              "          await google.colab.output.renderOutput(dataTable, element);\n",
              "          const docLink = document.createElement('div');\n",
              "          docLink.innerHTML = docLinkHtml;\n",
              "          element.appendChild(docLink);\n",
              "        }\n",
              "      </script>\n",
              "    </div>\n",
              "  </div>\n",
              "  "
            ]
          },
          "metadata": {},
          "execution_count": 5
        }
      ]
    },
    {
      "cell_type": "markdown",
      "source": [
        "Now we have all info in one data frame. For ever book we have a unique rating by a unique user. Dupplicates in ISBN columns indicate multiple users who have read and reated the same book. "
      ],
      "metadata": {
        "id": "IRUbdRSN7Qa9"
      }
    },
    {
      "cell_type": "code",
      "source": [
        "#only keeping the relevant columns\n",
        "book_user_rating = book_user_rating[['ISBN', 'Book-Title', 'Book-Author', 'User-ID', 'Book-Rating']]\n",
        "book_user_rating.reset_index(drop=True, inplace = True)"
      ],
      "metadata": {
        "id": "38ZS7NkBFbrL"
      },
      "execution_count": null,
      "outputs": []
    },
    {
      "cell_type": "code",
      "source": [
        "# creating a dataframe with collected user ids and the books they have rated\n",
        "interactionsdf = book_user_rating.groupby(['User-ID','ISBN'])['Book-Rating'].sum().reset_index()\n",
        "print('# of unique user/item interactions: %d' % len(interactionsdf))\n",
        "interactionsdf"
      ],
      "metadata": {
        "colab": {
          "base_uri": "https://localhost:8080/",
          "height": 441
        },
        "id": "pj7AmUUyJdhz",
        "outputId": "2d950036-55c8-4043-f465-ede67080fb58"
      },
      "execution_count": null,
      "outputs": [
        {
          "output_type": "stream",
          "name": "stdout",
          "text": [
            "# of unique user/item interactions: 1031136\n"
          ]
        },
        {
          "output_type": "execute_result",
          "data": {
            "text/plain": [
              "         User-ID        ISBN  Book-Rating\n",
              "0              2  0195153448            0\n",
              "1              8  0002005018            5\n",
              "2              8  0060973129            0\n",
              "3              8  0374157065            0\n",
              "4              8  0393045218            0\n",
              "...          ...         ...          ...\n",
              "1031131   278854  0425163393            7\n",
              "1031132   278854  0515087122            0\n",
              "1031133   278854  0553275739            6\n",
              "1031134   278854  0553578596            0\n",
              "1031135   278854  0553579606            8\n",
              "\n",
              "[1031136 rows x 3 columns]"
            ],
            "text/html": [
              "\n",
              "  <div id=\"df-6afda3eb-9666-4540-9d60-c34bd752492a\">\n",
              "    <div class=\"colab-df-container\">\n",
              "      <div>\n",
              "<style scoped>\n",
              "    .dataframe tbody tr th:only-of-type {\n",
              "        vertical-align: middle;\n",
              "    }\n",
              "\n",
              "    .dataframe tbody tr th {\n",
              "        vertical-align: top;\n",
              "    }\n",
              "\n",
              "    .dataframe thead th {\n",
              "        text-align: right;\n",
              "    }\n",
              "</style>\n",
              "<table border=\"1\" class=\"dataframe\">\n",
              "  <thead>\n",
              "    <tr style=\"text-align: right;\">\n",
              "      <th></th>\n",
              "      <th>User-ID</th>\n",
              "      <th>ISBN</th>\n",
              "      <th>Book-Rating</th>\n",
              "    </tr>\n",
              "  </thead>\n",
              "  <tbody>\n",
              "    <tr>\n",
              "      <th>0</th>\n",
              "      <td>2</td>\n",
              "      <td>0195153448</td>\n",
              "      <td>0</td>\n",
              "    </tr>\n",
              "    <tr>\n",
              "      <th>1</th>\n",
              "      <td>8</td>\n",
              "      <td>0002005018</td>\n",
              "      <td>5</td>\n",
              "    </tr>\n",
              "    <tr>\n",
              "      <th>2</th>\n",
              "      <td>8</td>\n",
              "      <td>0060973129</td>\n",
              "      <td>0</td>\n",
              "    </tr>\n",
              "    <tr>\n",
              "      <th>3</th>\n",
              "      <td>8</td>\n",
              "      <td>0374157065</td>\n",
              "      <td>0</td>\n",
              "    </tr>\n",
              "    <tr>\n",
              "      <th>4</th>\n",
              "      <td>8</td>\n",
              "      <td>0393045218</td>\n",
              "      <td>0</td>\n",
              "    </tr>\n",
              "    <tr>\n",
              "      <th>...</th>\n",
              "      <td>...</td>\n",
              "      <td>...</td>\n",
              "      <td>...</td>\n",
              "    </tr>\n",
              "    <tr>\n",
              "      <th>1031131</th>\n",
              "      <td>278854</td>\n",
              "      <td>0425163393</td>\n",
              "      <td>7</td>\n",
              "    </tr>\n",
              "    <tr>\n",
              "      <th>1031132</th>\n",
              "      <td>278854</td>\n",
              "      <td>0515087122</td>\n",
              "      <td>0</td>\n",
              "    </tr>\n",
              "    <tr>\n",
              "      <th>1031133</th>\n",
              "      <td>278854</td>\n",
              "      <td>0553275739</td>\n",
              "      <td>6</td>\n",
              "    </tr>\n",
              "    <tr>\n",
              "      <th>1031134</th>\n",
              "      <td>278854</td>\n",
              "      <td>0553578596</td>\n",
              "      <td>0</td>\n",
              "    </tr>\n",
              "    <tr>\n",
              "      <th>1031135</th>\n",
              "      <td>278854</td>\n",
              "      <td>0553579606</td>\n",
              "      <td>8</td>\n",
              "    </tr>\n",
              "  </tbody>\n",
              "</table>\n",
              "<p>1031136 rows × 3 columns</p>\n",
              "</div>\n",
              "      <button class=\"colab-df-convert\" onclick=\"convertToInteractive('df-6afda3eb-9666-4540-9d60-c34bd752492a')\"\n",
              "              title=\"Convert this dataframe to an interactive table.\"\n",
              "              style=\"display:none;\">\n",
              "        \n",
              "  <svg xmlns=\"http://www.w3.org/2000/svg\" height=\"24px\"viewBox=\"0 0 24 24\"\n",
              "       width=\"24px\">\n",
              "    <path d=\"M0 0h24v24H0V0z\" fill=\"none\"/>\n",
              "    <path d=\"M18.56 5.44l.94 2.06.94-2.06 2.06-.94-2.06-.94-.94-2.06-.94 2.06-2.06.94zm-11 1L8.5 8.5l.94-2.06 2.06-.94-2.06-.94L8.5 2.5l-.94 2.06-2.06.94zm10 10l.94 2.06.94-2.06 2.06-.94-2.06-.94-.94-2.06-.94 2.06-2.06.94z\"/><path d=\"M17.41 7.96l-1.37-1.37c-.4-.4-.92-.59-1.43-.59-.52 0-1.04.2-1.43.59L10.3 9.45l-7.72 7.72c-.78.78-.78 2.05 0 2.83L4 21.41c.39.39.9.59 1.41.59.51 0 1.02-.2 1.41-.59l7.78-7.78 2.81-2.81c.8-.78.8-2.07 0-2.86zM5.41 20L4 18.59l7.72-7.72 1.47 1.35L5.41 20z\"/>\n",
              "  </svg>\n",
              "      </button>\n",
              "      \n",
              "  <style>\n",
              "    .colab-df-container {\n",
              "      display:flex;\n",
              "      flex-wrap:wrap;\n",
              "      gap: 12px;\n",
              "    }\n",
              "\n",
              "    .colab-df-convert {\n",
              "      background-color: #E8F0FE;\n",
              "      border: none;\n",
              "      border-radius: 50%;\n",
              "      cursor: pointer;\n",
              "      display: none;\n",
              "      fill: #1967D2;\n",
              "      height: 32px;\n",
              "      padding: 0 0 0 0;\n",
              "      width: 32px;\n",
              "    }\n",
              "\n",
              "    .colab-df-convert:hover {\n",
              "      background-color: #E2EBFA;\n",
              "      box-shadow: 0px 1px 2px rgba(60, 64, 67, 0.3), 0px 1px 3px 1px rgba(60, 64, 67, 0.15);\n",
              "      fill: #174EA6;\n",
              "    }\n",
              "\n",
              "    [theme=dark] .colab-df-convert {\n",
              "      background-color: #3B4455;\n",
              "      fill: #D2E3FC;\n",
              "    }\n",
              "\n",
              "    [theme=dark] .colab-df-convert:hover {\n",
              "      background-color: #434B5C;\n",
              "      box-shadow: 0px 1px 3px 1px rgba(0, 0, 0, 0.15);\n",
              "      filter: drop-shadow(0px 1px 2px rgba(0, 0, 0, 0.3));\n",
              "      fill: #FFFFFF;\n",
              "    }\n",
              "  </style>\n",
              "\n",
              "      <script>\n",
              "        const buttonEl =\n",
              "          document.querySelector('#df-6afda3eb-9666-4540-9d60-c34bd752492a button.colab-df-convert');\n",
              "        buttonEl.style.display =\n",
              "          google.colab.kernel.accessAllowed ? 'block' : 'none';\n",
              "\n",
              "        async function convertToInteractive(key) {\n",
              "          const element = document.querySelector('#df-6afda3eb-9666-4540-9d60-c34bd752492a');\n",
              "          const dataTable =\n",
              "            await google.colab.kernel.invokeFunction('convertToInteractive',\n",
              "                                                     [key], {});\n",
              "          if (!dataTable) return;\n",
              "\n",
              "          const docLinkHtml = 'Like what you see? Visit the ' +\n",
              "            '<a target=\"_blank\" href=https://colab.research.google.com/notebooks/data_table.ipynb>data table notebook</a>'\n",
              "            + ' to learn more about interactive tables.';\n",
              "          element.innerHTML = '';\n",
              "          dataTable['output_type'] = 'display_data';\n",
              "          await google.colab.output.renderOutput(dataTable, element);\n",
              "          const docLink = document.createElement('div');\n",
              "          docLink.innerHTML = docLinkHtml;\n",
              "          element.appendChild(docLink);\n",
              "        }\n",
              "      </script>\n",
              "    </div>\n",
              "  </div>\n",
              "  "
            ]
          },
          "metadata": {},
          "execution_count": 7
        }
      ]
    },
    {
      "cell_type": "markdown",
      "source": [
        "Now we will group by user-id and books. For every user, he might have rated multiple books with varying ratings. We will collect all that information together for every user. This will help us make the user item interaction matrix. "
      ],
      "metadata": {
        "id": "Vyj1yRPP8Fvd"
      }
    },
    {
      "cell_type": "code",
      "source": [
        "#checking distribution of Book ratings again to see if there were any changes\n",
        "plt.figure(figsize=(12, 6))\n",
        "sns.distplot(a=interactionsdf['Book-Rating'])\n",
        "plt.title('Rating Distribution')\n",
        "plt.xticks(rotation=90)\n",
        "plt.ylabel('Number of Books')\n",
        "plt.show()"
      ],
      "metadata": {
        "colab": {
          "base_uri": "https://localhost:8080/",
          "height": 462
        },
        "id": "1a4c-bxKINtQ",
        "outputId": "ea3ed231-64de-46e0-e7ec-b04d74387f16"
      },
      "execution_count": null,
      "outputs": [
        {
          "output_type": "stream",
          "name": "stderr",
          "text": [
            "/usr/local/lib/python3.7/dist-packages/seaborn/distributions.py:2619: FutureWarning: `distplot` is a deprecated function and will be removed in a future version. Please adapt your code to use either `displot` (a figure-level function with similar flexibility) or `histplot` (an axes-level function for histograms).\n",
            "  warnings.warn(msg, FutureWarning)\n"
          ]
        },
        {
          "output_type": "display_data",
          "data": {
            "text/plain": [
              "<Figure size 864x432 with 1 Axes>"
            ],
            "image/png": "[encoded data removed]"
          },
          "metadata": {
            "needs_background": "light"
          }
        }
      ]
    },
    {
      "cell_type": "markdown",
      "source": [
        "As we can see there was not much change in the ratings columns which is what we expect, after forming the data frame with all the required information lets now try to make the user-item interaction matrix from this data frame.\n"
      ],
      "metadata": {
        "id": "u-vxbhrvPkCE"
      }
    },
    {
      "cell_type": "code",
      "source": [
        "#checking the number of unique books and thier titles \n",
        "print(len(book_user_rating['Book-Title'].unique()))\n",
        "print(len(book_user_rating['ISBN'].unique()))"
      ],
      "metadata": {
        "colab": {
          "base_uri": "https://localhost:8080/"
        },
        "id": "D-n0awS093h9",
        "outputId": "04250301-610d-4e98-cb59-0afe54408772"
      },
      "execution_count": null,
      "outputs": [
        {
          "output_type": "stream",
          "name": "stdout",
          "text": [
            "241071\n",
            "270151\n"
          ]
        }
      ]
    },
    {
      "cell_type": "markdown",
      "source": [
        "So we can see here that the number of unique book titles is not equal to the number of ISBN identifiers given in the data frame. This suggests that there are multiple books with the same title but they are essentially different books since thier unique identifier number is different in the data frame. To get an easier understanding of the ISBNs lets create a unique identifier which is simpler to interpret."
      ],
      "metadata": {
        "id": "SFcaxBXM_AeK"
      }
    },
    {
      "cell_type": "code",
      "source": [
        "# creating a new unique identifier for books strarting from 0. \n",
        "d ={}\n",
        "for i,j in enumerate(book_user_rating.ISBN.unique()):\n",
        "    d[j] =i\n",
        "book_user_rating['unique_id_book'] = book_user_rating['ISBN'].map(d)"
      ],
      "metadata": {
        "id": "IbxzOtlyPjBK"
      },
      "execution_count": null,
      "outputs": []
    },
    {
      "cell_type": "markdown",
      "source": [
        "We will create unique identifier of every book apart"
      ],
      "metadata": {
        "id": "g5q_rco69hWp"
      }
    },
    {
      "cell_type": "code",
      "source": [
        "book_user_rating.sample(20)"
      ],
      "metadata": {
        "colab": {
          "base_uri": "https://localhost:8080/",
          "height": 676
        },
        "id": "vffElOHRae3A",
        "outputId": "25b9163b-3776-4cff-a274-3ecd8773639f"
      },
      "execution_count": null,
      "outputs": [
        {
          "output_type": "execute_result",
          "data": {
            "text/plain": [
              "              ISBN                                         Book-Title  \\\n",
              "219860  0061000035                    The Dark Wind (Jim Chee Novels)   \n",
              "926847  0373104707                                   Beloved Vagabond   \n",
              "427099  0451081641                                    Damien: Omen II   \n",
              "458676  2253147923  Comment voyager avec un saumon. Nouveaux pasti...   \n",
              "394239  0156004070  Tennis and the Meaning of Life: A Literary Ant...   \n",
              "643602  0373169132  The Improperly Pregnant Princess (Harlequin Am...   \n",
              "915418  0785275177                      The Biblical Road to Blessing   \n",
              "26675   044021145X                                           The Firm   \n",
              "766572  0743432746                Incas : Book One: The Puma's Shadow   \n",
              "993805  0848807006                                        Cross Creek   \n",
              "273405  0312981589  Robert Ludlum's The Cassandra Compact (A Cover...   \n",
              "688084  0373613768               Blind Attraction (Family Secrets, 9)   \n",
              "338009  155166500X                   Independent Wife (Calhoun Women)   \n",
              "892923  0553581597                                          Wet Grave   \n",
              "18059   0151008116                                         Life of Pi   \n",
              "446794  0449206475                            The Witches of Eastwick   \n",
              "502119  0425104974                             Greenwich Killing Time   \n",
              "310350  3596237874  Beim Naechsten Mann Wird Alles (Frau in Der Ge...   \n",
              "573954  0385480539                                    The Burning Man   \n",
              "564065  0312240910                                     Monica's Story   \n",
              "\n",
              "                 Book-Author  User-ID  Book-Rating  unique_id_book  \n",
              "219860        Tony Hillerman    55202            0            7246  \n",
              "926847          Anne Hampson   244662            7          186117  \n",
              "427099       Harvey Bernhard    31315            0           24614  \n",
              "458676           Umberto Eco    85806            0           28453  \n",
              "394239          Jay Jennings     7915            0           20866  \n",
              "643602     Jacueline Diamond   131046            0           65606  \n",
              "915418            Benny Hinn   163187            5          178654  \n",
              "26675           John Grisham   125692            0             456  \n",
              "766572           A.B. Daniel   140510            0          103359  \n",
              "993805  Marjorie K. Rawlings   147420           10          236143  \n",
              "273405         Robert Ludlum   193432            8           10339  \n",
              "688084       Myrna Mackenzie    69697            0           77434  \n",
              "338009          Linda Howard   226545            0           15464  \n",
              "892923        Barbara Hambly   163804            8          164662  \n",
              "18059            Yann Martel   202821            0             246  \n",
              "446794           John Updike   133689            0           26786  \n",
              "502119        Kinky Friedman   119654            4           35131  \n",
              "310350            Eva Heller    12235            0           13021  \n",
              "573954      Phillip Margolin   254465            0           49554  \n",
              "564065         Andrew Morton    30261            0           47431  "
            ],
            "text/html": [
              "\n",
              "  <div id=\"df-ac74b095-b7f3-4982-89dd-7b751ad7ac27\">\n",
              "    <div class=\"colab-df-container\">\n",
              "      <div>\n",
              "<style scoped>\n",
              "    .dataframe tbody tr th:only-of-type {\n",
              "        vertical-align: middle;\n",
              "    }\n",
              "\n",
              "    .dataframe tbody tr th {\n",
              "        vertical-align: top;\n",
              "    }\n",
              "\n",
              "    .dataframe thead th {\n",
              "        text-align: right;\n",
              "    }\n",
              "</style>\n",
              "<table border=\"1\" class=\"dataframe\">\n",
              "  <thead>\n",
              "    <tr style=\"text-align: right;\">\n",
              "      <th></th>\n",
              "      <th>ISBN</th>\n",
              "      <th>Book-Title</th>\n",
              "      <th>Book-Author</th>\n",
              "      <th>User-ID</th>\n",
              "      <th>Book-Rating</th>\n",
              "      <th>unique_id_book</th>\n",
              "    </tr>\n",
              "  </thead>\n",
              "  <tbody>\n",
              "    <tr>\n",
              "      <th>219860</th>\n",
              "      <td>0061000035</td>\n",
              "      <td>The Dark Wind (Jim Chee Novels)</td>\n",
              "      <td>Tony Hillerman</td>\n",
              "      <td>55202</td>\n",
              "      <td>0</td>\n",
              "      <td>7246</td>\n",
              "    </tr>\n",
              "    <tr>\n",
              "      <th>926847</th>\n",
              "      <td>0373104707</td>\n",
              "      <td>Beloved Vagabond</td>\n",
              "      <td>Anne Hampson</td>\n",
              "      <td>244662</td>\n",
              "      <td>7</td>\n",
              "      <td>186117</td>\n",
              "    </tr>\n",
              "    <tr>\n",
              "      <th>427099</th>\n",
              "      <td>0451081641</td>\n",
              "      <td>Damien: Omen II</td>\n",
              "      <td>Harvey Bernhard</td>\n",
              "      <td>31315</td>\n",
              "      <td>0</td>\n",
              "      <td>24614</td>\n",
              "    </tr>\n",
              "    <tr>\n",
              "      <th>458676</th>\n",
              "      <td>2253147923</td>\n",
              "      <td>Comment voyager avec un saumon. Nouveaux pasti...</td>\n",
              "      <td>Umberto Eco</td>\n",
              "      <td>85806</td>\n",
              "      <td>0</td>\n",
              "      <td>28453</td>\n",
              "    </tr>\n",
              "    <tr>\n",
              "      <th>394239</th>\n",
              "      <td>0156004070</td>\n",
              "      <td>Tennis and the Meaning of Life: A Literary Ant...</td>\n",
              "      <td>Jay Jennings</td>\n",
              "      <td>7915</td>\n",
              "      <td>0</td>\n",
              "      <td>20866</td>\n",
              "    </tr>\n",
              "    <tr>\n",
              "      <th>643602</th>\n",
              "      <td>0373169132</td>\n",
              "      <td>The Improperly Pregnant Princess (Harlequin Am...</td>\n",
              "      <td>Jacueline Diamond</td>\n",
              "      <td>131046</td>\n",
              "      <td>0</td>\n",
              "      <td>65606</td>\n",
              "    </tr>\n",
              "    <tr>\n",
              "      <th>915418</th>\n",
              "      <td>0785275177</td>\n",
              "      <td>The Biblical Road to Blessing</td>\n",
              "      <td>Benny Hinn</td>\n",
              "      <td>163187</td>\n",
              "      <td>5</td>\n",
              "      <td>178654</td>\n",
              "    </tr>\n",
              "    <tr>\n",
              "      <th>26675</th>\n",
              "      <td>044021145X</td>\n",
              "      <td>The Firm</td>\n",
              "      <td>John Grisham</td>\n",
              "      <td>125692</td>\n",
              "      <td>0</td>\n",
              "      <td>456</td>\n",
              "    </tr>\n",
              "    <tr>\n",
              "      <th>766572</th>\n",
              "      <td>0743432746</td>\n",
              "      <td>Incas : Book One: The Puma's Shadow</td>\n",
              "      <td>A.B. Daniel</td>\n",
              "      <td>140510</td>\n",
              "      <td>0</td>\n",
              "      <td>103359</td>\n",
              "    </tr>\n",
              "    <tr>\n",
              "      <th>993805</th>\n",
              "      <td>0848807006</td>\n",
              "      <td>Cross Creek</td>\n",
              "      <td>Marjorie K. Rawlings</td>\n",
              "      <td>147420</td>\n",
              "      <td>10</td>\n",
              "      <td>236143</td>\n",
              "    </tr>\n",
              "    <tr>\n",
              "      <th>273405</th>\n",
              "      <td>0312981589</td>\n",
              "      <td>Robert Ludlum's The Cassandra Compact (A Cover...</td>\n",
              "      <td>Robert Ludlum</td>\n",
              "      <td>193432</td>\n",
              "      <td>8</td>\n",
              "      <td>10339</td>\n",
              "    </tr>\n",
              "    <tr>\n",
              "      <th>688084</th>\n",
              "      <td>0373613768</td>\n",
              "      <td>Blind Attraction (Family Secrets, 9)</td>\n",
              "      <td>Myrna Mackenzie</td>\n",
              "      <td>69697</td>\n",
              "      <td>0</td>\n",
              "      <td>77434</td>\n",
              "    </tr>\n",
              "    <tr>\n",
              "      <th>338009</th>\n",
              "      <td>155166500X</td>\n",
              "      <td>Independent Wife (Calhoun Women)</td>\n",
              "      <td>Linda Howard</td>\n",
              "      <td>226545</td>\n",
              "      <td>0</td>\n",
              "      <td>15464</td>\n",
              "    </tr>\n",
              "    <tr>\n",
              "      <th>892923</th>\n",
              "      <td>0553581597</td>\n",
              "      <td>Wet Grave</td>\n",
              "      <td>Barbara Hambly</td>\n",
              "      <td>163804</td>\n",
              "      <td>8</td>\n",
              "      <td>164662</td>\n",
              "    </tr>\n",
              "    <tr>\n",
              "      <th>18059</th>\n",
              "      <td>0151008116</td>\n",
              "      <td>Life of Pi</td>\n",
              "      <td>Yann Martel</td>\n",
              "      <td>202821</td>\n",
              "      <td>0</td>\n",
              "      <td>246</td>\n",
              "    </tr>\n",
              "    <tr>\n",
              "      <th>446794</th>\n",
              "      <td>0449206475</td>\n",
              "      <td>The Witches of Eastwick</td>\n",
              "      <td>John Updike</td>\n",
              "      <td>133689</td>\n",
              "      <td>0</td>\n",
              "      <td>26786</td>\n",
              "    </tr>\n",
              "    <tr>\n",
              "      <th>502119</th>\n",
              "      <td>0425104974</td>\n",
              "      <td>Greenwich Killing Time</td>\n",
              "      <td>Kinky Friedman</td>\n",
              "      <td>119654</td>\n",
              "      <td>4</td>\n",
              "      <td>35131</td>\n",
              "    </tr>\n",
              "    <tr>\n",
              "      <th>310350</th>\n",
              "      <td>3596237874</td>\n",
              "      <td>Beim Naechsten Mann Wird Alles (Frau in Der Ge...</td>\n",
              "      <td>Eva Heller</td>\n",
              "      <td>12235</td>\n",
              "      <td>0</td>\n",
              "      <td>13021</td>\n",
              "    </tr>\n",
              "    <tr>\n",
              "      <th>573954</th>\n",
              "      <td>0385480539</td>\n",
              "      <td>The Burning Man</td>\n",
              "      <td>Phillip Margolin</td>\n",
              "      <td>254465</td>\n",
              "      <td>0</td>\n",
              "      <td>49554</td>\n",
              "    </tr>\n",
              "    <tr>\n",
              "      <th>564065</th>\n",
              "      <td>0312240910</td>\n",
              "      <td>Monica's Story</td>\n",
              "      <td>Andrew Morton</td>\n",
              "      <td>30261</td>\n",
              "      <td>0</td>\n",
              "      <td>47431</td>\n",
              "    </tr>\n",
              "  </tbody>\n",
              "</table>\n",
              "</div>\n",
              "      <button class=\"colab-df-convert\" onclick=\"convertToInteractive('df-ac74b095-b7f3-4982-89dd-7b751ad7ac27')\"\n",
              "              title=\"Convert this dataframe to an interactive table.\"\n",
              "              style=\"display:none;\">\n",
              "        \n",
              "  <svg xmlns=\"http://www.w3.org/2000/svg\" height=\"24px\"viewBox=\"0 0 24 24\"\n",
              "       width=\"24px\">\n",
              "    <path d=\"M0 0h24v24H0V0z\" fill=\"none\"/>\n",
              "    <path d=\"M18.56 5.44l.94 2.06.94-2.06 2.06-.94-2.06-.94-.94-2.06-.94 2.06-2.06.94zm-11 1L8.5 8.5l.94-2.06 2.06-.94-2.06-.94L8.5 2.5l-.94 2.06-2.06.94zm10 10l.94 2.06.94-2.06 2.06-.94-2.06-.94-.94-2.06-.94 2.06-2.06.94z\"/><path d=\"M17.41 7.96l-1.37-1.37c-.4-.4-.92-.59-1.43-.59-.52 0-1.04.2-1.43.59L10.3 9.45l-7.72 7.72c-.78.78-.78 2.05 0 2.83L4 21.41c.39.39.9.59 1.41.59.51 0 1.02-.2 1.41-.59l7.78-7.78 2.81-2.81c.8-.78.8-2.07 0-2.86zM5.41 20L4 18.59l7.72-7.72 1.47 1.35L5.41 20z\"/>\n",
              "  </svg>\n",
              "      </button>\n",
              "      \n",
              "  <style>\n",
              "    .colab-df-container {\n",
              "      display:flex;\n",
              "      flex-wrap:wrap;\n",
              "      gap: 12px;\n",
              "    }\n",
              "\n",
              "    .colab-df-convert {\n",
              "      background-color: #E8F0FE;\n",
              "      border: none;\n",
              "      border-radius: 50%;\n",
              "      cursor: pointer;\n",
              "      display: none;\n",
              "      fill: #1967D2;\n",
              "      height: 32px;\n",
              "      padding: 0 0 0 0;\n",
              "      width: 32px;\n",
              "    }\n",
              "\n",
              "    .colab-df-convert:hover {\n",
              "      background-color: #E2EBFA;\n",
              "      box-shadow: 0px 1px 2px rgba(60, 64, 67, 0.3), 0px 1px 3px 1px rgba(60, 64, 67, 0.15);\n",
              "      fill: #174EA6;\n",
              "    }\n",
              "\n",
              "    [theme=dark] .colab-df-convert {\n",
              "      background-color: #3B4455;\n",
              "      fill: #D2E3FC;\n",
              "    }\n",
              "\n",
              "    [theme=dark] .colab-df-convert:hover {\n",
              "      background-color: #434B5C;\n",
              "      box-shadow: 0px 1px 3px 1px rgba(0, 0, 0, 0.15);\n",
              "      filter: drop-shadow(0px 1px 2px rgba(0, 0, 0, 0.3));\n",
              "      fill: #FFFFFF;\n",
              "    }\n",
              "  </style>\n",
              "\n",
              "      <script>\n",
              "        const buttonEl =\n",
              "          document.querySelector('#df-ac74b095-b7f3-4982-89dd-7b751ad7ac27 button.colab-df-convert');\n",
              "        buttonEl.style.display =\n",
              "          google.colab.kernel.accessAllowed ? 'block' : 'none';\n",
              "\n",
              "        async function convertToInteractive(key) {\n",
              "          const element = document.querySelector('#df-ac74b095-b7f3-4982-89dd-7b751ad7ac27');\n",
              "          const dataTable =\n",
              "            await google.colab.kernel.invokeFunction('convertToInteractive',\n",
              "                                                     [key], {});\n",
              "          if (!dataTable) return;\n",
              "\n",
              "          const docLinkHtml = 'Like what you see? Visit the ' +\n",
              "            '<a target=\"_blank\" href=https://colab.research.google.com/notebooks/data_table.ipynb>data table notebook</a>'\n",
              "            + ' to learn more about interactive tables.';\n",
              "          element.innerHTML = '';\n",
              "          dataTable['output_type'] = 'display_data';\n",
              "          await google.colab.output.renderOutput(dataTable, element);\n",
              "          const docLink = document.createElement('div');\n",
              "          docLink.innerHTML = docLinkHtml;\n",
              "          element.appendChild(docLink);\n",
              "        }\n",
              "      </script>\n",
              "    </div>\n",
              "  </div>\n",
              "  "
            ]
          },
          "metadata": {},
          "execution_count": 9
        }
      ]
    },
    {
      "cell_type": "code",
      "source": [
        "book_user_rating.describe()"
      ],
      "metadata": {
        "colab": {
          "base_uri": "https://localhost:8080/",
          "height": 300
        },
        "id": "GDBFhDpEait_",
        "outputId": "8242b87a-85b0-406d-efa1-770ff9a08ea0"
      },
      "execution_count": null,
      "outputs": [
        {
          "output_type": "execute_result",
          "data": {
            "text/plain": [
              "            User-ID   Book-Rating  unique_id_book\n",
              "count  1.031136e+06  1.031136e+06    1.031136e+06\n",
              "mean   1.405945e+05  2.839051e+00    6.721601e+04\n",
              "std    8.052466e+04  3.854157e+00    7.192401e+04\n",
              "min    2.000000e+00  0.000000e+00    0.000000e+00\n",
              "25%    7.041500e+04  0.000000e+00    9.288000e+03\n",
              "50%    1.412100e+05  0.000000e+00    3.740500e+04\n",
              "75%    2.114260e+05  7.000000e+00    1.058910e+05\n",
              "max    2.788540e+05  1.000000e+01    2.701500e+05"
            ],
            "text/html": [
              "\n",
              "  <div id=\"df-b7f6558b-7aec-40f3-8dbb-399d186f7933\">\n",
              "    <div class=\"colab-df-container\">\n",
              "      <div>\n",
              "<style scoped>\n",
              "    .dataframe tbody tr th:only-of-type {\n",
              "        vertical-align: middle;\n",
              "    }\n",
              "\n",
              "    .dataframe tbody tr th {\n",
              "        vertical-align: top;\n",
              "    }\n",
              "\n",
              "    .dataframe thead th {\n",
              "        text-align: right;\n",
              "    }\n",
              "</style>\n",
              "<table border=\"1\" class=\"dataframe\">\n",
              "  <thead>\n",
              "    <tr style=\"text-align: right;\">\n",
              "      <th></th>\n",
              "      <th>User-ID</th>\n",
              "      <th>Book-Rating</th>\n",
              "      <th>unique_id_book</th>\n",
              "    </tr>\n",
              "  </thead>\n",
              "  <tbody>\n",
              "    <tr>\n",
              "      <th>count</th>\n",
              "      <td>1.031136e+06</td>\n",
              "      <td>1.031136e+06</td>\n",
              "      <td>1.031136e+06</td>\n",
              "    </tr>\n",
              "    <tr>\n",
              "      <th>mean</th>\n",
              "      <td>1.405945e+05</td>\n",
              "      <td>2.839051e+00</td>\n",
              "      <td>6.721601e+04</td>\n",
              "    </tr>\n",
              "    <tr>\n",
              "      <th>std</th>\n",
              "      <td>8.052466e+04</td>\n",
              "      <td>3.854157e+00</td>\n",
              "      <td>7.192401e+04</td>\n",
              "    </tr>\n",
              "    <tr>\n",
              "      <th>min</th>\n",
              "      <td>2.000000e+00</td>\n",
              "      <td>0.000000e+00</td>\n",
              "      <td>0.000000e+00</td>\n",
              "    </tr>\n",
              "    <tr>\n",
              "      <th>25%</th>\n",
              "      <td>7.041500e+04</td>\n",
              "      <td>0.000000e+00</td>\n",
              "      <td>9.288000e+03</td>\n",
              "    </tr>\n",
              "    <tr>\n",
              "      <th>50%</th>\n",
              "      <td>1.412100e+05</td>\n",
              "      <td>0.000000e+00</td>\n",
              "      <td>3.740500e+04</td>\n",
              "    </tr>\n",
              "    <tr>\n",
              "      <th>75%</th>\n",
              "      <td>2.114260e+05</td>\n",
              "      <td>7.000000e+00</td>\n",
              "      <td>1.058910e+05</td>\n",
              "    </tr>\n",
              "    <tr>\n",
              "      <th>max</th>\n",
              "      <td>2.788540e+05</td>\n",
              "      <td>1.000000e+01</td>\n",
              "      <td>2.701500e+05</td>\n",
              "    </tr>\n",
              "  </tbody>\n",
              "</table>\n",
              "</div>\n",
              "      <button class=\"colab-df-convert\" onclick=\"convertToInteractive('df-b7f6558b-7aec-40f3-8dbb-399d186f7933')\"\n",
              "              title=\"Convert this dataframe to an interactive table.\"\n",
              "              style=\"display:none;\">\n",
              "        \n",
              "  <svg xmlns=\"http://www.w3.org/2000/svg\" height=\"24px\"viewBox=\"0 0 24 24\"\n",
              "       width=\"24px\">\n",
              "    <path d=\"M0 0h24v24H0V0z\" fill=\"none\"/>\n",
              "    <path d=\"M18.56 5.44l.94 2.06.94-2.06 2.06-.94-2.06-.94-.94-2.06-.94 2.06-2.06.94zm-11 1L8.5 8.5l.94-2.06 2.06-.94-2.06-.94L8.5 2.5l-.94 2.06-2.06.94zm10 10l.94 2.06.94-2.06 2.06-.94-2.06-.94-.94-2.06-.94 2.06-2.06.94z\"/><path d=\"M17.41 7.96l-1.37-1.37c-.4-.4-.92-.59-1.43-.59-.52 0-1.04.2-1.43.59L10.3 9.45l-7.72 7.72c-.78.78-.78 2.05 0 2.83L4 21.41c.39.39.9.59 1.41.59.51 0 1.02-.2 1.41-.59l7.78-7.78 2.81-2.81c.8-.78.8-2.07 0-2.86zM5.41 20L4 18.59l7.72-7.72 1.47 1.35L5.41 20z\"/>\n",
              "  </svg>\n",
              "      </button>\n",
              "      \n",
              "  <style>\n",
              "    .colab-df-container {\n",
              "      display:flex;\n",
              "      flex-wrap:wrap;\n",
              "      gap: 12px;\n",
              "    }\n",
              "\n",
              "    .colab-df-convert {\n",
              "      background-color: #E8F0FE;\n",
              "      border: none;\n",
              "      border-radius: 50%;\n",
              "      cursor: pointer;\n",
              "      display: none;\n",
              "      fill: #1967D2;\n",
              "      height: 32px;\n",
              "      padding: 0 0 0 0;\n",
              "      width: 32px;\n",
              "    }\n",
              "\n",
              "    .colab-df-convert:hover {\n",
              "      background-color: #E2EBFA;\n",
              "      box-shadow: 0px 1px 2px rgba(60, 64, 67, 0.3), 0px 1px 3px 1px rgba(60, 64, 67, 0.15);\n",
              "      fill: #174EA6;\n",
              "    }\n",
              "\n",
              "    [theme=dark] .colab-df-convert {\n",
              "      background-color: #3B4455;\n",
              "      fill: #D2E3FC;\n",
              "    }\n",
              "\n",
              "    [theme=dark] .colab-df-convert:hover {\n",
              "      background-color: #434B5C;\n",
              "      box-shadow: 0px 1px 3px 1px rgba(0, 0, 0, 0.15);\n",
              "      filter: drop-shadow(0px 1px 2px rgba(0, 0, 0, 0.3));\n",
              "      fill: #FFFFFF;\n",
              "    }\n",
              "  </style>\n",
              "\n",
              "      <script>\n",
              "        const buttonEl =\n",
              "          document.querySelector('#df-b7f6558b-7aec-40f3-8dbb-399d186f7933 button.colab-df-convert');\n",
              "        buttonEl.style.display =\n",
              "          google.colab.kernel.accessAllowed ? 'block' : 'none';\n",
              "\n",
              "        async function convertToInteractive(key) {\n",
              "          const element = document.querySelector('#df-b7f6558b-7aec-40f3-8dbb-399d186f7933');\n",
              "          const dataTable =\n",
              "            await google.colab.kernel.invokeFunction('convertToInteractive',\n",
              "                                                     [key], {});\n",
              "          if (!dataTable) return;\n",
              "\n",
              "          const docLinkHtml = 'Like what you see? Visit the ' +\n",
              "            '<a target=\"_blank\" href=https://colab.research.google.com/notebooks/data_table.ipynb>data table notebook</a>'\n",
              "            + ' to learn more about interactive tables.';\n",
              "          element.innerHTML = '';\n",
              "          dataTable['output_type'] = 'display_data';\n",
              "          await google.colab.output.renderOutput(dataTable, element);\n",
              "          const docLink = document.createElement('div');\n",
              "          docLink.innerHTML = docLinkHtml;\n",
              "          element.appendChild(docLink);\n",
              "        }\n",
              "      </script>\n",
              "    </div>\n",
              "  </div>\n",
              "  "
            ]
          },
          "metadata": {},
          "execution_count": 52
        }
      ]
    },
    {
      "cell_type": "markdown",
      "source": [
        "The total number of unique book ids which me created is same as unique ISBNs. SO the numbers are one to one. Unique book id is just a simpler representation of ISBN. "
      ],
      "metadata": {
        "id": "9UZYHHLXAhGX"
      }
    },
    {
      "cell_type": "markdown",
      "source": [
        "My next step was to create a pivot table/ the user item interaction matrix with the given data. BUt I faced many problems relating to RAM over flow. I tried different techniques to create the table in order to prevent that but to no avail."
      ],
      "metadata": {
        "id": "_XITtweQAYqG"
      }
    },
    {
      "cell_type": "markdown",
      "source": [
        "\n",
        "I tried directly converting the interactions matrix using pivot but it always threw an error since the data is very huge.It gives an error \"Unstacked DataFrame is too big, causing int32 overflow\". Hence, to create the pivot matrix, we will split the interactions data frame into 10 chunks, make the pivot matrix from each chunk and then stich them up. This way will get a complete user-item interactions matrix without getting an error"
      ],
      "metadata": {
        "id": "T6I1aTZbI6Vz"
      }
    },
    {
      "cell_type": "code",
      "source": [
        "# creating chunks of 5000 rows \n",
        "chunk_size = 10000\n",
        "chunks = [x for x in range(0, book_user_rating.shape[0], chunk_size)]\n",
        "for i in range(0, len(chunks) - 1):\n",
        "    print(chunks[i], chunks[i + 1] - 1)"
      ],
      "metadata": {
        "colab": {
          "base_uri": "https://localhost:8080/"
        },
        "id": "qOIjqJ7MbOps",
        "outputId": "f28085cf-561d-4d17-b313-ffda2cb6d87e"
      },
      "execution_count": null,
      "outputs": [
        {
          "output_type": "stream",
          "name": "stdout",
          "text": [
            "0 9999\n",
            "10000 19999\n",
            "20000 29999\n",
            "30000 39999\n",
            "40000 49999\n",
            "50000 59999\n",
            "60000 69999\n",
            "70000 79999\n",
            "80000 89999\n",
            "90000 99999\n",
            "100000 109999\n",
            "110000 119999\n",
            "120000 129999\n",
            "130000 139999\n",
            "140000 149999\n",
            "150000 159999\n",
            "160000 169999\n",
            "170000 179999\n",
            "180000 189999\n",
            "190000 199999\n",
            "200000 209999\n",
            "210000 219999\n",
            "220000 229999\n",
            "230000 239999\n",
            "240000 249999\n",
            "250000 259999\n",
            "260000 269999\n",
            "270000 279999\n",
            "280000 289999\n",
            "290000 299999\n",
            "300000 309999\n",
            "310000 319999\n",
            "320000 329999\n",
            "330000 339999\n",
            "340000 349999\n",
            "350000 359999\n",
            "360000 369999\n",
            "370000 379999\n",
            "380000 389999\n",
            "390000 399999\n",
            "400000 409999\n",
            "410000 419999\n",
            "420000 429999\n",
            "430000 439999\n",
            "440000 449999\n",
            "450000 459999\n",
            "460000 469999\n",
            "470000 479999\n",
            "480000 489999\n",
            "490000 499999\n",
            "500000 509999\n",
            "510000 519999\n",
            "520000 529999\n",
            "530000 539999\n",
            "540000 549999\n",
            "550000 559999\n",
            "560000 569999\n",
            "570000 579999\n",
            "580000 589999\n",
            "590000 599999\n",
            "600000 609999\n",
            "610000 619999\n",
            "620000 629999\n",
            "630000 639999\n",
            "640000 649999\n",
            "650000 659999\n",
            "660000 669999\n",
            "670000 679999\n",
            "680000 689999\n",
            "690000 699999\n",
            "700000 709999\n",
            "710000 719999\n",
            "720000 729999\n",
            "730000 739999\n",
            "740000 749999\n",
            "750000 759999\n",
            "760000 769999\n",
            "770000 779999\n",
            "780000 789999\n",
            "790000 799999\n",
            "800000 809999\n",
            "810000 819999\n",
            "820000 829999\n",
            "830000 839999\n",
            "840000 849999\n",
            "850000 859999\n",
            "860000 869999\n",
            "870000 879999\n",
            "880000 889999\n",
            "890000 899999\n",
            "900000 909999\n",
            "910000 919999\n",
            "920000 929999\n",
            "930000 939999\n",
            "940000 949999\n",
            "950000 959999\n",
            "960000 969999\n",
            "970000 979999\n",
            "980000 989999\n",
            "990000 999999\n",
            "1000000 1009999\n",
            "1010000 1019999\n",
            "1020000 1029999\n"
          ]
        }
      ]
    },
    {
      "cell_type": "code",
      "source": [
        "# pivot mtrix of all the chunks\n",
        "user_item_pivot_chunks = [interactionsdf.iloc[ chunks[i]:chunks[i + 1] - 1 ].pivot(index='User-ID', columns='ISBN',  values='Book-Rating') for i in range(0, len(chunks) - 1)]"
      ],
      "metadata": {
        "id": "bQqss_wAJyro"
      },
      "execution_count": null,
      "outputs": []
    },
    {
      "cell_type": "code",
      "source": [
        "# concating the matrices\n",
        "# pd.concat(user_item_pivot_chunks)"
      ],
      "metadata": {
        "id": "aOUDJxbaNng2"
      },
      "execution_count": null,
      "outputs": []
    },
    {
      "cell_type": "markdown",
      "source": [
        "Concating the chucks also lead to RAM overflow issue, We are only provided 12 gigs of RAM collab notebook, and it does seem to run out quickly. I also ran the notebook on a local host with 16gigs of RAM but it still wasnt sufficient. \n",
        "\n",
        "Now, I will try a 3rd method to compute our user item interactions matrix. I will use the tqdm library to monitor the progress of my calculations. "
      ],
      "metadata": {
        "id": "9WpKQ7GwP1kf"
      }
    },
    {
      "cell_type": "code",
      "source": [
        "from tqdm import tqdm # to see the progress\n",
        "pivot_df = pd.DataFrame()\n",
        "\n",
        "for i in tqdm(range(0, len(chunks) - 1)):\n",
        "    chunk_df = book_user_rating.iloc[ chunks[i]:chunks[i + 1] - 1]\n",
        "    interactions = (chunk_df.groupby(['User-ID','unique_id_book'])['Book-Rating']\n",
        "      .sum()\n",
        "      .unstack()\n",
        "      .reset_index()\n",
        "      .fillna(0)\n",
        "      .set_index('User-ID')\n",
        "    )\n",
        "    print (interactions.shape)\n",
        "    pivot_df = pivot_df.append(interactions, sort=False) "
      ],
      "metadata": {
        "colab": {
          "base_uri": "https://localhost:8080/"
        },
        "id": "2ALOaj5UQTDk",
        "outputId": "17645904-2a8b-4872-8f5a-2fc22eeebc65"
      },
      "execution_count": null,
      "outputs": [
        {
          "output_type": "stream",
          "name": "stderr",
          "text": [
            "  3%|▎         | 3/103 [00:00<00:07, 13.13it/s]"
          ]
        },
        {
          "output_type": "stream",
          "name": "stdout",
          "text": [
            "(6714, 119)\n",
            "(5718, 188)\n",
            "(5938, 206)\n",
            "(5590, 197)\n",
            "(5874, 296)\n"
          ]
        },
        {
          "output_type": "stream",
          "name": "stderr",
          "text": [
            "\r  5%|▍         | 5/103 [00:00<00:18,  5.26it/s]"
          ]
        },
        {
          "output_type": "stream",
          "name": "stdout",
          "text": [
            "(5699, 207)\n"
          ]
        },
        {
          "output_type": "stream",
          "name": "stderr",
          "text": [
            "\r  6%|▌         | 6/103 [00:01<00:24,  3.97it/s]"
          ]
        },
        {
          "output_type": "stream",
          "name": "stdout",
          "text": [
            "(5775, 250)\n"
          ]
        },
        {
          "output_type": "stream",
          "name": "stderr",
          "text": [
            "\r  7%|▋         | 7/103 [00:01<00:30,  3.11it/s]"
          ]
        },
        {
          "output_type": "stream",
          "name": "stdout",
          "text": [
            "(5534, 243)\n"
          ]
        },
        {
          "output_type": "stream",
          "name": "stderr",
          "text": [
            "\r  8%|▊         | 8/103 [00:02<00:32,  2.88it/s]"
          ]
        },
        {
          "output_type": "stream",
          "name": "stdout",
          "text": [
            "(5778, 274)\n"
          ]
        },
        {
          "output_type": "stream",
          "name": "stderr",
          "text": [
            "\r  9%|▊         | 9/103 [00:02<00:40,  2.33it/s]"
          ]
        },
        {
          "output_type": "stream",
          "name": "stdout",
          "text": [
            "(5586, 316)\n"
          ]
        },
        {
          "output_type": "stream",
          "name": "stderr",
          "text": [
            "\r 10%|▉         | 10/103 [00:03<00:41,  2.23it/s]"
          ]
        },
        {
          "output_type": "stream",
          "name": "stdout",
          "text": [
            "(5483, 348)\n"
          ]
        },
        {
          "output_type": "stream",
          "name": "stderr",
          "text": [
            "\r 11%|█         | 11/103 [00:03<00:42,  2.15it/s]"
          ]
        },
        {
          "output_type": "stream",
          "name": "stdout",
          "text": [
            "(5218, 324)\n"
          ]
        },
        {
          "output_type": "stream",
          "name": "stderr",
          "text": [
            "\r 12%|█▏        | 12/103 [00:04<00:45,  1.99it/s]"
          ]
        },
        {
          "output_type": "stream",
          "name": "stdout",
          "text": [
            "(5641, 369)\n"
          ]
        },
        {
          "output_type": "stream",
          "name": "stderr",
          "text": [
            "\r 13%|█▎        | 13/103 [00:05<00:53,  1.69it/s]"
          ]
        },
        {
          "output_type": "stream",
          "name": "stdout",
          "text": [
            "(5526, 421)\n"
          ]
        },
        {
          "output_type": "stream",
          "name": "stderr",
          "text": [
            "\r 14%|█▎        | 14/103 [00:06<01:02,  1.43it/s]"
          ]
        },
        {
          "output_type": "stream",
          "name": "stdout",
          "text": [
            "(5391, 375)\n"
          ]
        },
        {
          "output_type": "stream",
          "name": "stderr",
          "text": [
            "\r 15%|█▍        | 15/103 [00:07<01:15,  1.17it/s]"
          ]
        },
        {
          "output_type": "stream",
          "name": "stdout",
          "text": [
            "(5693, 356)\n"
          ]
        },
        {
          "output_type": "stream",
          "name": "stderr",
          "text": [
            "\r 16%|█▌        | 16/103 [00:09<01:39,  1.14s/it]"
          ]
        },
        {
          "output_type": "stream",
          "name": "stdout",
          "text": [
            "(5501, 415)\n"
          ]
        },
        {
          "output_type": "stream",
          "name": "stderr",
          "text": [
            "\r 17%|█▋        | 17/103 [00:10<01:36,  1.13s/it]"
          ]
        },
        {
          "output_type": "stream",
          "name": "stdout",
          "text": [
            "(5582, 528)\n"
          ]
        },
        {
          "output_type": "stream",
          "name": "stderr",
          "text": [
            "\r 17%|█▋        | 18/103 [00:12<02:01,  1.43s/it]"
          ]
        },
        {
          "output_type": "stream",
          "name": "stdout",
          "text": [
            "(5727, 414)\n"
          ]
        },
        {
          "output_type": "stream",
          "name": "stderr",
          "text": [
            "\r 18%|█▊        | 19/103 [00:15<02:37,  1.88s/it]"
          ]
        },
        {
          "output_type": "stream",
          "name": "stdout",
          "text": [
            "(4910, 400)\n"
          ]
        }
      ]
    },
    {
      "cell_type": "markdown",
      "source": [
        "We are still facing some RAM issues, the appending seems to have stopped at 10 percent. We are only able to excecute 18 percent of the code. its not even close to appending all the dataframes. Lets try a different approach, We could use memory based Collaborative filtering methods. \n",
        "\n",
        "Model based approach doesnt seem to be possible to execute in a collab notebook with very limited RAM. The data set is too big. We could try to apply some constraints to purify/clean the data-set which will inturn help us reduce the data frame size.  "
      ],
      "metadata": {
        "id": "7d-BWXNA1P6m"
      }
    },
    {
      "cell_type": "markdown",
      "source": [
        "# Collaborative Filtering Using k-Nearest Neighbors (kNN) / Memory based Model"
      ],
      "metadata": {
        "id": "2XsIhKMPEB73"
      }
    },
    {
      "cell_type": "markdown",
      "source": [
        "To reduce the data size we will try to apply certain constraints on the data frame. We can apply many different types of constraints to the dataset. These constraints include:\n",
        "\n",
        "1. **Popularity Threshold**: Minimum number of user-ratings for a book.\n",
        "2. **Active user Threshold**: Minimum numer of books read for a unique user to be included in the reccommendation system. \n",
        "3. **Regional Recommendation**: We will also recommend stuff regionally. The user will get recommendations from the users of the same location. We will do it for 1 region to not run into memory problems "
      ],
      "metadata": {
        "id": "I7fncK8vHfHg"
      }
    },
    {
      "cell_type": "markdown",
      "source": [
        "Starting from the original data set, we will be only looking at the popular books. In order to find out which books are popular, we combine books data with ratings data."
      ],
      "metadata": {
        "id": "77uLi0JdCNqi"
      }
    },
    {
      "cell_type": "markdown",
      "source": [
        "**Active User Threshold**\n",
        "\n",
        "\n",
        "Remove users with less than 50 ratings(**inactive users**).\n",
        "\n",
        "To to that, we will apply value_counts on user-id, each repetation of user means a new rating for a book by the same user. Then we will pick up users with atleast 50 repetions/ratings and filter them in our ratings data frame.\n",
        "This also makes sure that all our users are consistent readers. "
      ],
      "metadata": {
        "id": "ha1akQEVDpHX"
      }
    },
    {
      "cell_type": "code",
      "source": [
        "# checking the number of users and thier number ratings\n",
        "counts1 = ratings['User-ID'].value_counts()\n",
        "print(counts1)"
      ],
      "metadata": {
        "colab": {
          "base_uri": "https://localhost:8080/"
        },
        "id": "pvpr3wigNcq9",
        "outputId": "1a23c240-d538-4e95-a732-4763697a416b"
      },
      "execution_count": 18,
      "outputs": [
        {
          "output_type": "stream",
          "name": "stdout",
          "text": [
            "11676     13602\n",
            "198711     7550\n",
            "153662     6109\n",
            "98391      5891\n",
            "35859      5850\n",
            "          ...  \n",
            "116180        1\n",
            "116166        1\n",
            "116154        1\n",
            "116137        1\n",
            "276723        1\n",
            "Name: User-ID, Length: 105283, dtype: int64\n"
          ]
        }
      ]
    },
    {
      "cell_type": "code",
      "source": [
        "#keeping users with more than 50 ratings \n",
        "counts1_50 = counts1[counts1 >= 50].index # list of user-ids with more than 200 ratings\n",
        "ratings = ratings[ratings['User-ID'].isin(counts1_50)]  # updating the whole data frame with only users with high ratings"
      ],
      "metadata": {
        "id": "wlQPHxrbDrDZ"
      },
      "execution_count": 19,
      "outputs": []
    },
    {
      "cell_type": "code",
      "source": [
        "ratings"
      ],
      "metadata": {
        "colab": {
          "base_uri": "https://localhost:8080/",
          "height": 423
        },
        "id": "o948KShHUIUD",
        "outputId": "702f0c87-f5ba-4919-c9b6-c21beae66fbb"
      },
      "execution_count": 20,
      "outputs": [
        {
          "output_type": "execute_result",
          "data": {
            "text/plain": [
              "         User-ID        ISBN  Book-Rating\n",
              "173       276847  0446364193            0\n",
              "174       276847  3257200552            5\n",
              "175       276847  3379015180            0\n",
              "176       276847  3404145909            8\n",
              "177       276847  3404148576            8\n",
              "...          ...         ...          ...\n",
              "1149744   276688  0836236688           10\n",
              "1149745   276688  0892966548           10\n",
              "1149746   276688  1551669315            6\n",
              "1149747   276688  1575660792            7\n",
              "1149748   276688  1580600506            0\n",
              "\n",
              "[768472 rows x 3 columns]"
            ],
            "text/html": [
              "\n",
              "  <div id=\"df-a98edbbd-95f8-48e5-a1dd-38a45e109ac5\">\n",
              "    <div class=\"colab-df-container\">\n",
              "      <div>\n",
              "<style scoped>\n",
              "    .dataframe tbody tr th:only-of-type {\n",
              "        vertical-align: middle;\n",
              "    }\n",
              "\n",
              "    .dataframe tbody tr th {\n",
              "        vertical-align: top;\n",
              "    }\n",
              "\n",
              "    .dataframe thead th {\n",
              "        text-align: right;\n",
              "    }\n",
              "</style>\n",
              "<table border=\"1\" class=\"dataframe\">\n",
              "  <thead>\n",
              "    <tr style=\"text-align: right;\">\n",
              "      <th></th>\n",
              "      <th>User-ID</th>\n",
              "      <th>ISBN</th>\n",
              "      <th>Book-Rating</th>\n",
              "    </tr>\n",
              "  </thead>\n",
              "  <tbody>\n",
              "    <tr>\n",
              "      <th>173</th>\n",
              "      <td>276847</td>\n",
              "      <td>0446364193</td>\n",
              "      <td>0</td>\n",
              "    </tr>\n",
              "    <tr>\n",
              "      <th>174</th>\n",
              "      <td>276847</td>\n",
              "      <td>3257200552</td>\n",
              "      <td>5</td>\n",
              "    </tr>\n",
              "    <tr>\n",
              "      <th>175</th>\n",
              "      <td>276847</td>\n",
              "      <td>3379015180</td>\n",
              "      <td>0</td>\n",
              "    </tr>\n",
              "    <tr>\n",
              "      <th>176</th>\n",
              "      <td>276847</td>\n",
              "      <td>3404145909</td>\n",
              "      <td>8</td>\n",
              "    </tr>\n",
              "    <tr>\n",
              "      <th>177</th>\n",
              "      <td>276847</td>\n",
              "      <td>3404148576</td>\n",
              "      <td>8</td>\n",
              "    </tr>\n",
              "    <tr>\n",
              "      <th>...</th>\n",
              "      <td>...</td>\n",
              "      <td>...</td>\n",
              "      <td>...</td>\n",
              "    </tr>\n",
              "    <tr>\n",
              "      <th>1149744</th>\n",
              "      <td>276688</td>\n",
              "      <td>0836236688</td>\n",
              "      <td>10</td>\n",
              "    </tr>\n",
              "    <tr>\n",
              "      <th>1149745</th>\n",
              "      <td>276688</td>\n",
              "      <td>0892966548</td>\n",
              "      <td>10</td>\n",
              "    </tr>\n",
              "    <tr>\n",
              "      <th>1149746</th>\n",
              "      <td>276688</td>\n",
              "      <td>1551669315</td>\n",
              "      <td>6</td>\n",
              "    </tr>\n",
              "    <tr>\n",
              "      <th>1149747</th>\n",
              "      <td>276688</td>\n",
              "      <td>1575660792</td>\n",
              "      <td>7</td>\n",
              "    </tr>\n",
              "    <tr>\n",
              "      <th>1149748</th>\n",
              "      <td>276688</td>\n",
              "      <td>1580600506</td>\n",
              "      <td>0</td>\n",
              "    </tr>\n",
              "  </tbody>\n",
              "</table>\n",
              "<p>768472 rows × 3 columns</p>\n",
              "</div>\n",
              "      <button class=\"colab-df-convert\" onclick=\"convertToInteractive('df-a98edbbd-95f8-48e5-a1dd-38a45e109ac5')\"\n",
              "              title=\"Convert this dataframe to an interactive table.\"\n",
              "              style=\"display:none;\">\n",
              "        \n",
              "  <svg xmlns=\"http://www.w3.org/2000/svg\" height=\"24px\"viewBox=\"0 0 24 24\"\n",
              "       width=\"24px\">\n",
              "    <path d=\"M0 0h24v24H0V0z\" fill=\"none\"/>\n",
              "    <path d=\"M18.56 5.44l.94 2.06.94-2.06 2.06-.94-2.06-.94-.94-2.06-.94 2.06-2.06.94zm-11 1L8.5 8.5l.94-2.06 2.06-.94-2.06-.94L8.5 2.5l-.94 2.06-2.06.94zm10 10l.94 2.06.94-2.06 2.06-.94-2.06-.94-.94-2.06-.94 2.06-2.06.94z\"/><path d=\"M17.41 7.96l-1.37-1.37c-.4-.4-.92-.59-1.43-.59-.52 0-1.04.2-1.43.59L10.3 9.45l-7.72 7.72c-.78.78-.78 2.05 0 2.83L4 21.41c.39.39.9.59 1.41.59.51 0 1.02-.2 1.41-.59l7.78-7.78 2.81-2.81c.8-.78.8-2.07 0-2.86zM5.41 20L4 18.59l7.72-7.72 1.47 1.35L5.41 20z\"/>\n",
              "  </svg>\n",
              "      </button>\n",
              "      \n",
              "  <style>\n",
              "    .colab-df-container {\n",
              "      display:flex;\n",
              "      flex-wrap:wrap;\n",
              "      gap: 12px;\n",
              "    }\n",
              "\n",
              "    .colab-df-convert {\n",
              "      background-color: #E8F0FE;\n",
              "      border: none;\n",
              "      border-radius: 50%;\n",
              "      cursor: pointer;\n",
              "      display: none;\n",
              "      fill: #1967D2;\n",
              "      height: 32px;\n",
              "      padding: 0 0 0 0;\n",
              "      width: 32px;\n",
              "    }\n",
              "\n",
              "    .colab-df-convert:hover {\n",
              "      background-color: #E2EBFA;\n",
              "      box-shadow: 0px 1px 2px rgba(60, 64, 67, 0.3), 0px 1px 3px 1px rgba(60, 64, 67, 0.15);\n",
              "      fill: #174EA6;\n",
              "    }\n",
              "\n",
              "    [theme=dark] .colab-df-convert {\n",
              "      background-color: #3B4455;\n",
              "      fill: #D2E3FC;\n",
              "    }\n",
              "\n",
              "    [theme=dark] .colab-df-convert:hover {\n",
              "      background-color: #434B5C;\n",
              "      box-shadow: 0px 1px 3px 1px rgba(0, 0, 0, 0.15);\n",
              "      filter: drop-shadow(0px 1px 2px rgba(0, 0, 0, 0.3));\n",
              "      fill: #FFFFFF;\n",
              "    }\n",
              "  </style>\n",
              "\n",
              "      <script>\n",
              "        const buttonEl =\n",
              "          document.querySelector('#df-a98edbbd-95f8-48e5-a1dd-38a45e109ac5 button.colab-df-convert');\n",
              "        buttonEl.style.display =\n",
              "          google.colab.kernel.accessAllowed ? 'block' : 'none';\n",
              "\n",
              "        async function convertToInteractive(key) {\n",
              "          const element = document.querySelector('#df-a98edbbd-95f8-48e5-a1dd-38a45e109ac5');\n",
              "          const dataTable =\n",
              "            await google.colab.kernel.invokeFunction('convertToInteractive',\n",
              "                                                     [key], {});\n",
              "          if (!dataTable) return;\n",
              "\n",
              "          const docLinkHtml = 'Like what you see? Visit the ' +\n",
              "            '<a target=\"_blank\" href=https://colab.research.google.com/notebooks/data_table.ipynb>data table notebook</a>'\n",
              "            + ' to learn more about interactive tables.';\n",
              "          element.innerHTML = '';\n",
              "          dataTable['output_type'] = 'display_data';\n",
              "          await google.colab.output.renderOutput(dataTable, element);\n",
              "          const docLink = document.createElement('div');\n",
              "          docLink.innerHTML = docLinkHtml;\n",
              "          element.appendChild(docLink);\n",
              "        }\n",
              "      </script>\n",
              "    </div>\n",
              "  </div>\n",
              "  "
            ]
          },
          "metadata": {},
          "execution_count": 20
        }
      ]
    },
    {
      "cell_type": "code",
      "source": [
        "ratings['User-ID'].value_counts()"
      ],
      "metadata": {
        "colab": {
          "base_uri": "https://localhost:8080/"
        },
        "id": "YozwbqegTvkl",
        "outputId": "78f3aa4c-ec38-4dae-a543-4bb6c2962ef0"
      },
      "execution_count": 21,
      "outputs": [
        {
          "output_type": "execute_result",
          "data": {
            "text/plain": [
              "11676     13602\n",
              "198711     7550\n",
              "153662     6109\n",
              "98391      5891\n",
              "35859      5850\n",
              "          ...  \n",
              "112240       50\n",
              "206438       50\n",
              "270801       50\n",
              "101620       50\n",
              "265784       50\n",
              "Name: User-ID, Length: 3427, dtype: int64"
            ]
          },
          "metadata": {},
          "execution_count": 21
        }
      ]
    },
    {
      "cell_type": "code",
      "source": [
        "# merging rating with users\n",
        "combine_book_rating = pd.merge(ratings, books,how = 'inner', on='ISBN') #merging two dataframes (inner join since we only want ifo of users with high rating)\n",
        "columns =['Book-Author',\t'Year-Of-Publication',\t'Publisher',\t'Image-URL-S',\t'Image-URL-M',\t'Image-URL-L'] #list of unnecessary columns\n",
        "combine_book_rating = combine_book_rating.drop(columns, axis=1) #droping those columns\n",
        "combine_book_rating.head()"
      ],
      "metadata": {
        "colab": {
          "base_uri": "https://localhost:8080/",
          "height": 206
        },
        "id": "7WM3JhND_15f",
        "outputId": "8e0bb689-7b07-426f-fff8-0fe7fefec170"
      },
      "execution_count": 22,
      "outputs": [
        {
          "output_type": "execute_result",
          "data": {
            "text/plain": [
              "   User-ID        ISBN  Book-Rating                               Book-Title\n",
              "0   276847  0446364193            0  Along Came a Spider (Alex Cross Novels)\n",
              "1   278418  0446364193            0  Along Came a Spider (Alex Cross Novels)\n",
              "2     5483  0446364193            0  Along Came a Spider (Alex Cross Novels)\n",
              "3     7346  0446364193            0  Along Came a Spider (Alex Cross Novels)\n",
              "4     8362  0446364193            0  Along Came a Spider (Alex Cross Novels)"
            ],
            "text/html": [
              "\n",
              "  <div id=\"df-3185f56f-1cee-4cdf-9f12-536e9274b458\">\n",
              "    <div class=\"colab-df-container\">\n",
              "      <div>\n",
              "<style scoped>\n",
              "    .dataframe tbody tr th:only-of-type {\n",
              "        vertical-align: middle;\n",
              "    }\n",
              "\n",
              "    .dataframe tbody tr th {\n",
              "        vertical-align: top;\n",
              "    }\n",
              "\n",
              "    .dataframe thead th {\n",
              "        text-align: right;\n",
              "    }\n",
              "</style>\n",
              "<table border=\"1\" class=\"dataframe\">\n",
              "  <thead>\n",
              "    <tr style=\"text-align: right;\">\n",
              "      <th></th>\n",
              "      <th>User-ID</th>\n",
              "      <th>ISBN</th>\n",
              "      <th>Book-Rating</th>\n",
              "      <th>Book-Title</th>\n",
              "    </tr>\n",
              "  </thead>\n",
              "  <tbody>\n",
              "    <tr>\n",
              "      <th>0</th>\n",
              "      <td>276847</td>\n",
              "      <td>0446364193</td>\n",
              "      <td>0</td>\n",
              "      <td>Along Came a Spider (Alex Cross Novels)</td>\n",
              "    </tr>\n",
              "    <tr>\n",
              "      <th>1</th>\n",
              "      <td>278418</td>\n",
              "      <td>0446364193</td>\n",
              "      <td>0</td>\n",
              "      <td>Along Came a Spider (Alex Cross Novels)</td>\n",
              "    </tr>\n",
              "    <tr>\n",
              "      <th>2</th>\n",
              "      <td>5483</td>\n",
              "      <td>0446364193</td>\n",
              "      <td>0</td>\n",
              "      <td>Along Came a Spider (Alex Cross Novels)</td>\n",
              "    </tr>\n",
              "    <tr>\n",
              "      <th>3</th>\n",
              "      <td>7346</td>\n",
              "      <td>0446364193</td>\n",
              "      <td>0</td>\n",
              "      <td>Along Came a Spider (Alex Cross Novels)</td>\n",
              "    </tr>\n",
              "    <tr>\n",
              "      <th>4</th>\n",
              "      <td>8362</td>\n",
              "      <td>0446364193</td>\n",
              "      <td>0</td>\n",
              "      <td>Along Came a Spider (Alex Cross Novels)</td>\n",
              "    </tr>\n",
              "  </tbody>\n",
              "</table>\n",
              "</div>\n",
              "      <button class=\"colab-df-convert\" onclick=\"convertToInteractive('df-3185f56f-1cee-4cdf-9f12-536e9274b458')\"\n",
              "              title=\"Convert this dataframe to an interactive table.\"\n",
              "              style=\"display:none;\">\n",
              "        \n",
              "  <svg xmlns=\"http://www.w3.org/2000/svg\" height=\"24px\"viewBox=\"0 0 24 24\"\n",
              "       width=\"24px\">\n",
              "    <path d=\"M0 0h24v24H0V0z\" fill=\"none\"/>\n",
              "    <path d=\"M18.56 5.44l.94 2.06.94-2.06 2.06-.94-2.06-.94-.94-2.06-.94 2.06-2.06.94zm-11 1L8.5 8.5l.94-2.06 2.06-.94-2.06-.94L8.5 2.5l-.94 2.06-2.06.94zm10 10l.94 2.06.94-2.06 2.06-.94-2.06-.94-.94-2.06-.94 2.06-2.06.94z\"/><path d=\"M17.41 7.96l-1.37-1.37c-.4-.4-.92-.59-1.43-.59-.52 0-1.04.2-1.43.59L10.3 9.45l-7.72 7.72c-.78.78-.78 2.05 0 2.83L4 21.41c.39.39.9.59 1.41.59.51 0 1.02-.2 1.41-.59l7.78-7.78 2.81-2.81c.8-.78.8-2.07 0-2.86zM5.41 20L4 18.59l7.72-7.72 1.47 1.35L5.41 20z\"/>\n",
              "  </svg>\n",
              "      </button>\n",
              "      \n",
              "  <style>\n",
              "    .colab-df-container {\n",
              "      display:flex;\n",
              "      flex-wrap:wrap;\n",
              "      gap: 12px;\n",
              "    }\n",
              "\n",
              "    .colab-df-convert {\n",
              "      background-color: #E8F0FE;\n",
              "      border: none;\n",
              "      border-radius: 50%;\n",
              "      cursor: pointer;\n",
              "      display: none;\n",
              "      fill: #1967D2;\n",
              "      height: 32px;\n",
              "      padding: 0 0 0 0;\n",
              "      width: 32px;\n",
              "    }\n",
              "\n",
              "    .colab-df-convert:hover {\n",
              "      background-color: #E2EBFA;\n",
              "      box-shadow: 0px 1px 2px rgba(60, 64, 67, 0.3), 0px 1px 3px 1px rgba(60, 64, 67, 0.15);\n",
              "      fill: #174EA6;\n",
              "    }\n",
              "\n",
              "    [theme=dark] .colab-df-convert {\n",
              "      background-color: #3B4455;\n",
              "      fill: #D2E3FC;\n",
              "    }\n",
              "\n",
              "    [theme=dark] .colab-df-convert:hover {\n",
              "      background-color: #434B5C;\n",
              "      box-shadow: 0px 1px 3px 1px rgba(0, 0, 0, 0.15);\n",
              "      filter: drop-shadow(0px 1px 2px rgba(0, 0, 0, 0.3));\n",
              "      fill: #FFFFFF;\n",
              "    }\n",
              "  </style>\n",
              "\n",
              "      <script>\n",
              "        const buttonEl =\n",
              "          document.querySelector('#df-3185f56f-1cee-4cdf-9f12-536e9274b458 button.colab-df-convert');\n",
              "        buttonEl.style.display =\n",
              "          google.colab.kernel.accessAllowed ? 'block' : 'none';\n",
              "\n",
              "        async function convertToInteractive(key) {\n",
              "          const element = document.querySelector('#df-3185f56f-1cee-4cdf-9f12-536e9274b458');\n",
              "          const dataTable =\n",
              "            await google.colab.kernel.invokeFunction('convertToInteractive',\n",
              "                                                     [key], {});\n",
              "          if (!dataTable) return;\n",
              "\n",
              "          const docLinkHtml = 'Like what you see? Visit the ' +\n",
              "            '<a target=\"_blank\" href=https://colab.research.google.com/notebooks/data_table.ipynb>data table notebook</a>'\n",
              "            + ' to learn more about interactive tables.';\n",
              "          element.innerHTML = '';\n",
              "          dataTable['output_type'] = 'display_data';\n",
              "          await google.colab.output.renderOutput(dataTable, element);\n",
              "          const docLink = document.createElement('div');\n",
              "          docLink.innerHTML = docLinkHtml;\n",
              "          element.appendChild(docLink);\n",
              "        }\n",
              "      </script>\n",
              "    </div>\n",
              "  </div>\n",
              "  "
            ]
          },
          "metadata": {},
          "execution_count": 22
        }
      ]
    },
    {
      "cell_type": "markdown",
      "source": [
        "**Book Populatity Threshold**\n",
        "\n",
        "Next we will apply the constraint where we have a minimum number of ratings for a book to be considered in our recomendation system. "
      ],
      "metadata": {
        "id": "5Ti_-8LeghDy"
      }
    },
    {
      "cell_type": "code",
      "source": [
        "#collecting total rating counts\n",
        "combine_book_rating = combine_book_rating.dropna(axis = 0, subset = ['Book-Title']) # clearing null/nan values from Book-Title\n",
        "#counting number of ratings for a book and renaming the columns appropiately\n",
        "book_rating_Count = combine_book_rating.groupby(by = ['Book-Title'])['Book-Rating'].count().reset_index().rename(columns = {'Book-Rating': 'totalRatingCount'})\n",
        "book_rating_Count.head()"
      ],
      "metadata": {
        "colab": {
          "base_uri": "https://localhost:8080/",
          "height": 206
        },
        "id": "okNYlGcvCh4e",
        "outputId": "582727c3-f78e-46c2-98d9-b31897894a5f"
      },
      "execution_count": 23,
      "outputs": [
        {
          "output_type": "execute_result",
          "data": {
            "text/plain": [
              "                                          Book-Title  totalRatingCount\n",
              "0   A Light in the Storm: The Civil War Diary of ...                 4\n",
              "1                              Always Have Popsicles                 1\n",
              "2               Apple Magic (The Collector's series)                 1\n",
              "3   Ask Lily (Young Women of Faith: Lily Series, ...                 1\n",
              "4   Beyond IBM: Leadership Marketing and Finance ...                 1"
            ],
            "text/html": [
              "\n",
              "  <div id=\"df-5bee17e0-393a-4694-b63b-bd72e1aba4fd\">\n",
              "    <div class=\"colab-df-container\">\n",
              "      <div>\n",
              "<style scoped>\n",
              "    .dataframe tbody tr th:only-of-type {\n",
              "        vertical-align: middle;\n",
              "    }\n",
              "\n",
              "    .dataframe tbody tr th {\n",
              "        vertical-align: top;\n",
              "    }\n",
              "\n",
              "    .dataframe thead th {\n",
              "        text-align: right;\n",
              "    }\n",
              "</style>\n",
              "<table border=\"1\" class=\"dataframe\">\n",
              "  <thead>\n",
              "    <tr style=\"text-align: right;\">\n",
              "      <th></th>\n",
              "      <th>Book-Title</th>\n",
              "      <th>totalRatingCount</th>\n",
              "    </tr>\n",
              "  </thead>\n",
              "  <tbody>\n",
              "    <tr>\n",
              "      <th>0</th>\n",
              "      <td>A Light in the Storm: The Civil War Diary of ...</td>\n",
              "      <td>4</td>\n",
              "    </tr>\n",
              "    <tr>\n",
              "      <th>1</th>\n",
              "      <td>Always Have Popsicles</td>\n",
              "      <td>1</td>\n",
              "    </tr>\n",
              "    <tr>\n",
              "      <th>2</th>\n",
              "      <td>Apple Magic (The Collector's series)</td>\n",
              "      <td>1</td>\n",
              "    </tr>\n",
              "    <tr>\n",
              "      <th>3</th>\n",
              "      <td>Ask Lily (Young Women of Faith: Lily Series, ...</td>\n",
              "      <td>1</td>\n",
              "    </tr>\n",
              "    <tr>\n",
              "      <th>4</th>\n",
              "      <td>Beyond IBM: Leadership Marketing and Finance ...</td>\n",
              "      <td>1</td>\n",
              "    </tr>\n",
              "  </tbody>\n",
              "</table>\n",
              "</div>\n",
              "      <button class=\"colab-df-convert\" onclick=\"convertToInteractive('df-5bee17e0-393a-4694-b63b-bd72e1aba4fd')\"\n",
              "              title=\"Convert this dataframe to an interactive table.\"\n",
              "              style=\"display:none;\">\n",
              "        \n",
              "  <svg xmlns=\"http://www.w3.org/2000/svg\" height=\"24px\"viewBox=\"0 0 24 24\"\n",
              "       width=\"24px\">\n",
              "    <path d=\"M0 0h24v24H0V0z\" fill=\"none\"/>\n",
              "    <path d=\"M18.56 5.44l.94 2.06.94-2.06 2.06-.94-2.06-.94-.94-2.06-.94 2.06-2.06.94zm-11 1L8.5 8.5l.94-2.06 2.06-.94-2.06-.94L8.5 2.5l-.94 2.06-2.06.94zm10 10l.94 2.06.94-2.06 2.06-.94-2.06-.94-.94-2.06-.94 2.06-2.06.94z\"/><path d=\"M17.41 7.96l-1.37-1.37c-.4-.4-.92-.59-1.43-.59-.52 0-1.04.2-1.43.59L10.3 9.45l-7.72 7.72c-.78.78-.78 2.05 0 2.83L4 21.41c.39.39.9.59 1.41.59.51 0 1.02-.2 1.41-.59l7.78-7.78 2.81-2.81c.8-.78.8-2.07 0-2.86zM5.41 20L4 18.59l7.72-7.72 1.47 1.35L5.41 20z\"/>\n",
              "  </svg>\n",
              "      </button>\n",
              "      \n",
              "  <style>\n",
              "    .colab-df-container {\n",
              "      display:flex;\n",
              "      flex-wrap:wrap;\n",
              "      gap: 12px;\n",
              "    }\n",
              "\n",
              "    .colab-df-convert {\n",
              "      background-color: #E8F0FE;\n",
              "      border: none;\n",
              "      border-radius: 50%;\n",
              "      cursor: pointer;\n",
              "      display: none;\n",
              "      fill: #1967D2;\n",
              "      height: 32px;\n",
              "      padding: 0 0 0 0;\n",
              "      width: 32px;\n",
              "    }\n",
              "\n",
              "    .colab-df-convert:hover {\n",
              "      background-color: #E2EBFA;\n",
              "      box-shadow: 0px 1px 2px rgba(60, 64, 67, 0.3), 0px 1px 3px 1px rgba(60, 64, 67, 0.15);\n",
              "      fill: #174EA6;\n",
              "    }\n",
              "\n",
              "    [theme=dark] .colab-df-convert {\n",
              "      background-color: #3B4455;\n",
              "      fill: #D2E3FC;\n",
              "    }\n",
              "\n",
              "    [theme=dark] .colab-df-convert:hover {\n",
              "      background-color: #434B5C;\n",
              "      box-shadow: 0px 1px 3px 1px rgba(0, 0, 0, 0.15);\n",
              "      filter: drop-shadow(0px 1px 2px rgba(0, 0, 0, 0.3));\n",
              "      fill: #FFFFFF;\n",
              "    }\n",
              "  </style>\n",
              "\n",
              "      <script>\n",
              "        const buttonEl =\n",
              "          document.querySelector('#df-5bee17e0-393a-4694-b63b-bd72e1aba4fd button.colab-df-convert');\n",
              "        buttonEl.style.display =\n",
              "          google.colab.kernel.accessAllowed ? 'block' : 'none';\n",
              "\n",
              "        async function convertToInteractive(key) {\n",
              "          const element = document.querySelector('#df-5bee17e0-393a-4694-b63b-bd72e1aba4fd');\n",
              "          const dataTable =\n",
              "            await google.colab.kernel.invokeFunction('convertToInteractive',\n",
              "                                                     [key], {});\n",
              "          if (!dataTable) return;\n",
              "\n",
              "          const docLinkHtml = 'Like what you see? Visit the ' +\n",
              "            '<a target=\"_blank\" href=https://colab.research.google.com/notebooks/data_table.ipynb>data table notebook</a>'\n",
              "            + ' to learn more about interactive tables.';\n",
              "          element.innerHTML = '';\n",
              "          dataTable['output_type'] = 'display_data';\n",
              "          await google.colab.output.renderOutput(dataTable, element);\n",
              "          const docLink = document.createElement('div');\n",
              "          docLink.innerHTML = docLinkHtml;\n",
              "          element.appendChild(docLink);\n",
              "        }\n",
              "      </script>\n",
              "    </div>\n",
              "  </div>\n",
              "  "
            ]
          },
          "metadata": {},
          "execution_count": 23
        }
      ]
    },
    {
      "cell_type": "code",
      "source": [
        "#combine with main data frame\n",
        "#use left join since we want rating count for all the books in combined_book_rating column\n",
        "rating_with_totalRatingCount = combine_book_rating.merge(book_rating_Count, left_on = 'Book-Title', right_on = 'Book-Title', how = 'left')\n",
        "rating_with_totalRatingCount.head()"
      ],
      "metadata": {
        "colab": {
          "base_uri": "https://localhost:8080/",
          "height": 206
        },
        "id": "Z-fdAKMr_1_y",
        "outputId": "ea7d15b5-29f4-4109-ef0b-8c9ff7b67c9a"
      },
      "execution_count": 24,
      "outputs": [
        {
          "output_type": "execute_result",
          "data": {
            "text/plain": [
              "   User-ID        ISBN  Book-Rating                               Book-Title  \\\n",
              "0   276847  0446364193            0  Along Came a Spider (Alex Cross Novels)   \n",
              "1   278418  0446364193            0  Along Came a Spider (Alex Cross Novels)   \n",
              "2     5483  0446364193            0  Along Came a Spider (Alex Cross Novels)   \n",
              "3     7346  0446364193            0  Along Came a Spider (Alex Cross Novels)   \n",
              "4     8362  0446364193            0  Along Came a Spider (Alex Cross Novels)   \n",
              "\n",
              "   totalRatingCount  \n",
              "0               198  \n",
              "1               198  \n",
              "2               198  \n",
              "3               198  \n",
              "4               198  "
            ],
            "text/html": [
              "\n",
              "  <div id=\"df-90ef80b8-aa51-49ab-bff8-d16908566e53\">\n",
              "    <div class=\"colab-df-container\">\n",
              "      <div>\n",
              "<style scoped>\n",
              "    .dataframe tbody tr th:only-of-type {\n",
              "        vertical-align: middle;\n",
              "    }\n",
              "\n",
              "    .dataframe tbody tr th {\n",
              "        vertical-align: top;\n",
              "    }\n",
              "\n",
              "    .dataframe thead th {\n",
              "        text-align: right;\n",
              "    }\n",
              "</style>\n",
              "<table border=\"1\" class=\"dataframe\">\n",
              "  <thead>\n",
              "    <tr style=\"text-align: right;\">\n",
              "      <th></th>\n",
              "      <th>User-ID</th>\n",
              "      <th>ISBN</th>\n",
              "      <th>Book-Rating</th>\n",
              "      <th>Book-Title</th>\n",
              "      <th>totalRatingCount</th>\n",
              "    </tr>\n",
              "  </thead>\n",
              "  <tbody>\n",
              "    <tr>\n",
              "      <th>0</th>\n",
              "      <td>276847</td>\n",
              "      <td>0446364193</td>\n",
              "      <td>0</td>\n",
              "      <td>Along Came a Spider (Alex Cross Novels)</td>\n",
              "      <td>198</td>\n",
              "    </tr>\n",
              "    <tr>\n",
              "      <th>1</th>\n",
              "      <td>278418</td>\n",
              "      <td>0446364193</td>\n",
              "      <td>0</td>\n",
              "      <td>Along Came a Spider (Alex Cross Novels)</td>\n",
              "      <td>198</td>\n",
              "    </tr>\n",
              "    <tr>\n",
              "      <th>2</th>\n",
              "      <td>5483</td>\n",
              "      <td>0446364193</td>\n",
              "      <td>0</td>\n",
              "      <td>Along Came a Spider (Alex Cross Novels)</td>\n",
              "      <td>198</td>\n",
              "    </tr>\n",
              "    <tr>\n",
              "      <th>3</th>\n",
              "      <td>7346</td>\n",
              "      <td>0446364193</td>\n",
              "      <td>0</td>\n",
              "      <td>Along Came a Spider (Alex Cross Novels)</td>\n",
              "      <td>198</td>\n",
              "    </tr>\n",
              "    <tr>\n",
              "      <th>4</th>\n",
              "      <td>8362</td>\n",
              "      <td>0446364193</td>\n",
              "      <td>0</td>\n",
              "      <td>Along Came a Spider (Alex Cross Novels)</td>\n",
              "      <td>198</td>\n",
              "    </tr>\n",
              "  </tbody>\n",
              "</table>\n",
              "</div>\n",
              "      <button class=\"colab-df-convert\" onclick=\"convertToInteractive('df-90ef80b8-aa51-49ab-bff8-d16908566e53')\"\n",
              "              title=\"Convert this dataframe to an interactive table.\"\n",
              "              style=\"display:none;\">\n",
              "        \n",
              "  <svg xmlns=\"http://www.w3.org/2000/svg\" height=\"24px\"viewBox=\"0 0 24 24\"\n",
              "       width=\"24px\">\n",
              "    <path d=\"M0 0h24v24H0V0z\" fill=\"none\"/>\n",
              "    <path d=\"M18.56 5.44l.94 2.06.94-2.06 2.06-.94-2.06-.94-.94-2.06-.94 2.06-2.06.94zm-11 1L8.5 8.5l.94-2.06 2.06-.94-2.06-.94L8.5 2.5l-.94 2.06-2.06.94zm10 10l.94 2.06.94-2.06 2.06-.94-2.06-.94-.94-2.06-.94 2.06-2.06.94z\"/><path d=\"M17.41 7.96l-1.37-1.37c-.4-.4-.92-.59-1.43-.59-.52 0-1.04.2-1.43.59L10.3 9.45l-7.72 7.72c-.78.78-.78 2.05 0 2.83L4 21.41c.39.39.9.59 1.41.59.51 0 1.02-.2 1.41-.59l7.78-7.78 2.81-2.81c.8-.78.8-2.07 0-2.86zM5.41 20L4 18.59l7.72-7.72 1.47 1.35L5.41 20z\"/>\n",
              "  </svg>\n",
              "      </button>\n",
              "      \n",
              "  <style>\n",
              "    .colab-df-container {\n",
              "      display:flex;\n",
              "      flex-wrap:wrap;\n",
              "      gap: 12px;\n",
              "    }\n",
              "\n",
              "    .colab-df-convert {\n",
              "      background-color: #E8F0FE;\n",
              "      border: none;\n",
              "      border-radius: 50%;\n",
              "      cursor: pointer;\n",
              "      display: none;\n",
              "      fill: #1967D2;\n",
              "      height: 32px;\n",
              "      padding: 0 0 0 0;\n",
              "      width: 32px;\n",
              "    }\n",
              "\n",
              "    .colab-df-convert:hover {\n",
              "      background-color: #E2EBFA;\n",
              "      box-shadow: 0px 1px 2px rgba(60, 64, 67, 0.3), 0px 1px 3px 1px rgba(60, 64, 67, 0.15);\n",
              "      fill: #174EA6;\n",
              "    }\n",
              "\n",
              "    [theme=dark] .colab-df-convert {\n",
              "      background-color: #3B4455;\n",
              "      fill: #D2E3FC;\n",
              "    }\n",
              "\n",
              "    [theme=dark] .colab-df-convert:hover {\n",
              "      background-color: #434B5C;\n",
              "      box-shadow: 0px 1px 3px 1px rgba(0, 0, 0, 0.15);\n",
              "      filter: drop-shadow(0px 1px 2px rgba(0, 0, 0, 0.3));\n",
              "      fill: #FFFFFF;\n",
              "    }\n",
              "  </style>\n",
              "\n",
              "      <script>\n",
              "        const buttonEl =\n",
              "          document.querySelector('#df-90ef80b8-aa51-49ab-bff8-d16908566e53 button.colab-df-convert');\n",
              "        buttonEl.style.display =\n",
              "          google.colab.kernel.accessAllowed ? 'block' : 'none';\n",
              "\n",
              "        async function convertToInteractive(key) {\n",
              "          const element = document.querySelector('#df-90ef80b8-aa51-49ab-bff8-d16908566e53');\n",
              "          const dataTable =\n",
              "            await google.colab.kernel.invokeFunction('convertToInteractive',\n",
              "                                                     [key], {});\n",
              "          if (!dataTable) return;\n",
              "\n",
              "          const docLinkHtml = 'Like what you see? Visit the ' +\n",
              "            '<a target=\"_blank\" href=https://colab.research.google.com/notebooks/data_table.ipynb>data table notebook</a>'\n",
              "            + ' to learn more about interactive tables.';\n",
              "          element.innerHTML = '';\n",
              "          dataTable['output_type'] = 'display_data';\n",
              "          await google.colab.output.renderOutput(dataTable, element);\n",
              "          const docLink = document.createElement('div');\n",
              "          docLink.innerHTML = docLinkHtml;\n",
              "          element.appendChild(docLink);\n",
              "        }\n",
              "      </script>\n",
              "    </div>\n",
              "  </div>\n",
              "  "
            ]
          },
          "metadata": {},
          "execution_count": 24
        }
      ]
    },
    {
      "cell_type": "code",
      "source": [
        "# looking at distribution of totalratingsCount\n",
        "rating_with_totalRatingCount.describe()"
      ],
      "metadata": {
        "colab": {
          "base_uri": "https://localhost:8080/",
          "height": 300
        },
        "id": "-wK1UtaU_2DL",
        "outputId": "ee5cfff2-2153-4acc-99d3-d921e898fd61"
      },
      "execution_count": 24,
      "outputs": [
        {
          "output_type": "execute_result",
          "data": {
            "text/plain": [
              "             User-ID    Book-Rating  totalRatingCount\n",
              "count  488742.000000  488742.000000     488742.000000\n",
              "mean   142092.189286       1.950086         21.173474\n",
              "std     80655.317340       3.501856         37.189202\n",
              "min       254.000000       0.000000          1.000000\n",
              "25%     73394.000000       0.000000          2.000000\n",
              "50%    144531.000000       0.000000          6.000000\n",
              "75%    212898.000000       0.000000         22.000000\n",
              "max    278418.000000      10.000000        365.000000"
            ],
            "text/html": [
              "\n",
              "  <div id=\"df-93e7e68d-491e-4052-9a58-66fdcf69e944\">\n",
              "    <div class=\"colab-df-container\">\n",
              "      <div>\n",
              "<style scoped>\n",
              "    .dataframe tbody tr th:only-of-type {\n",
              "        vertical-align: middle;\n",
              "    }\n",
              "\n",
              "    .dataframe tbody tr th {\n",
              "        vertical-align: top;\n",
              "    }\n",
              "\n",
              "    .dataframe thead th {\n",
              "        text-align: right;\n",
              "    }\n",
              "</style>\n",
              "<table border=\"1\" class=\"dataframe\">\n",
              "  <thead>\n",
              "    <tr style=\"text-align: right;\">\n",
              "      <th></th>\n",
              "      <th>User-ID</th>\n",
              "      <th>Book-Rating</th>\n",
              "      <th>totalRatingCount</th>\n",
              "    </tr>\n",
              "  </thead>\n",
              "  <tbody>\n",
              "    <tr>\n",
              "      <th>count</th>\n",
              "      <td>488742.000000</td>\n",
              "      <td>488742.000000</td>\n",
              "      <td>488742.000000</td>\n",
              "    </tr>\n",
              "    <tr>\n",
              "      <th>mean</th>\n",
              "      <td>142092.189286</td>\n",
              "      <td>1.950086</td>\n",
              "      <td>21.173474</td>\n",
              "    </tr>\n",
              "    <tr>\n",
              "      <th>std</th>\n",
              "      <td>80655.317340</td>\n",
              "      <td>3.501856</td>\n",
              "      <td>37.189202</td>\n",
              "    </tr>\n",
              "    <tr>\n",
              "      <th>min</th>\n",
              "      <td>254.000000</td>\n",
              "      <td>0.000000</td>\n",
              "      <td>1.000000</td>\n",
              "    </tr>\n",
              "    <tr>\n",
              "      <th>25%</th>\n",
              "      <td>73394.000000</td>\n",
              "      <td>0.000000</td>\n",
              "      <td>2.000000</td>\n",
              "    </tr>\n",
              "    <tr>\n",
              "      <th>50%</th>\n",
              "      <td>144531.000000</td>\n",
              "      <td>0.000000</td>\n",
              "      <td>6.000000</td>\n",
              "    </tr>\n",
              "    <tr>\n",
              "      <th>75%</th>\n",
              "      <td>212898.000000</td>\n",
              "      <td>0.000000</td>\n",
              "      <td>22.000000</td>\n",
              "    </tr>\n",
              "    <tr>\n",
              "      <th>max</th>\n",
              "      <td>278418.000000</td>\n",
              "      <td>10.000000</td>\n",
              "      <td>365.000000</td>\n",
              "    </tr>\n",
              "  </tbody>\n",
              "</table>\n",
              "</div>\n",
              "      <button class=\"colab-df-convert\" onclick=\"convertToInteractive('df-93e7e68d-491e-4052-9a58-66fdcf69e944')\"\n",
              "              title=\"Convert this dataframe to an interactive table.\"\n",
              "              style=\"display:none;\">\n",
              "        \n",
              "  <svg xmlns=\"http://www.w3.org/2000/svg\" height=\"24px\"viewBox=\"0 0 24 24\"\n",
              "       width=\"24px\">\n",
              "    <path d=\"M0 0h24v24H0V0z\" fill=\"none\"/>\n",
              "    <path d=\"M18.56 5.44l.94 2.06.94-2.06 2.06-.94-2.06-.94-.94-2.06-.94 2.06-2.06.94zm-11 1L8.5 8.5l.94-2.06 2.06-.94-2.06-.94L8.5 2.5l-.94 2.06-2.06.94zm10 10l.94 2.06.94-2.06 2.06-.94-2.06-.94-.94-2.06-.94 2.06-2.06.94z\"/><path d=\"M17.41 7.96l-1.37-1.37c-.4-.4-.92-.59-1.43-.59-.52 0-1.04.2-1.43.59L10.3 9.45l-7.72 7.72c-.78.78-.78 2.05 0 2.83L4 21.41c.39.39.9.59 1.41.59.51 0 1.02-.2 1.41-.59l7.78-7.78 2.81-2.81c.8-.78.8-2.07 0-2.86zM5.41 20L4 18.59l7.72-7.72 1.47 1.35L5.41 20z\"/>\n",
              "  </svg>\n",
              "      </button>\n",
              "      \n",
              "  <style>\n",
              "    .colab-df-container {\n",
              "      display:flex;\n",
              "      flex-wrap:wrap;\n",
              "      gap: 12px;\n",
              "    }\n",
              "\n",
              "    .colab-df-convert {\n",
              "      background-color: #E8F0FE;\n",
              "      border: none;\n",
              "      border-radius: 50%;\n",
              "      cursor: pointer;\n",
              "      display: none;\n",
              "      fill: #1967D2;\n",
              "      height: 32px;\n",
              "      padding: 0 0 0 0;\n",
              "      width: 32px;\n",
              "    }\n",
              "\n",
              "    .colab-df-convert:hover {\n",
              "      background-color: #E2EBFA;\n",
              "      box-shadow: 0px 1px 2px rgba(60, 64, 67, 0.3), 0px 1px 3px 1px rgba(60, 64, 67, 0.15);\n",
              "      fill: #174EA6;\n",
              "    }\n",
              "\n",
              "    [theme=dark] .colab-df-convert {\n",
              "      background-color: #3B4455;\n",
              "      fill: #D2E3FC;\n",
              "    }\n",
              "\n",
              "    [theme=dark] .colab-df-convert:hover {\n",
              "      background-color: #434B5C;\n",
              "      box-shadow: 0px 1px 3px 1px rgba(0, 0, 0, 0.15);\n",
              "      filter: drop-shadow(0px 1px 2px rgba(0, 0, 0, 0.3));\n",
              "      fill: #FFFFFF;\n",
              "    }\n",
              "  </style>\n",
              "\n",
              "      <script>\n",
              "        const buttonEl =\n",
              "          document.querySelector('#df-93e7e68d-491e-4052-9a58-66fdcf69e944 button.colab-df-convert');\n",
              "        buttonEl.style.display =\n",
              "          google.colab.kernel.accessAllowed ? 'block' : 'none';\n",
              "\n",
              "        async function convertToInteractive(key) {\n",
              "          const element = document.querySelector('#df-93e7e68d-491e-4052-9a58-66fdcf69e944');\n",
              "          const dataTable =\n",
              "            await google.colab.kernel.invokeFunction('convertToInteractive',\n",
              "                                                     [key], {});\n",
              "          if (!dataTable) return;\n",
              "\n",
              "          const docLinkHtml = 'Like what you see? Visit the ' +\n",
              "            '<a target=\"_blank\" href=https://colab.research.google.com/notebooks/data_table.ipynb>data table notebook</a>'\n",
              "            + ' to learn more about interactive tables.';\n",
              "          element.innerHTML = '';\n",
              "          dataTable['output_type'] = 'display_data';\n",
              "          await google.colab.output.renderOutput(dataTable, element);\n",
              "          const docLink = document.createElement('div');\n",
              "          docLink.innerHTML = docLinkHtml;\n",
              "          element.appendChild(docLink);\n",
              "        }\n",
              "      </script>\n",
              "    </div>\n",
              "  </div>\n",
              "  "
            ]
          },
          "metadata": {},
          "execution_count": 24
        }
      ]
    },
    {
      "cell_type": "code",
      "source": [
        "#checking each quantiles of total ratings count closely\n",
        "print(rating_with_totalRatingCount['totalRatingCount'].quantile(np.arange(0.1, 1, .05)))"
      ],
      "metadata": {
        "colab": {
          "base_uri": "https://localhost:8080/"
        },
        "id": "MXG9gtoF_2Im",
        "outputId": "bb3ec6df-aa61-49f8-d4b6-ee4a0b710f3a"
      },
      "execution_count": 25,
      "outputs": [
        {
          "output_type": "stream",
          "name": "stdout",
          "text": [
            "0.10     1.0\n",
            "0.15     1.0\n",
            "0.20     2.0\n",
            "0.25     2.0\n",
            "0.30     2.0\n",
            "0.35     3.0\n",
            "0.40     4.0\n",
            "0.45     5.0\n",
            "0.50     6.0\n",
            "0.55     8.0\n",
            "0.60    10.0\n",
            "0.65    13.0\n",
            "0.70    17.0\n",
            "0.75    22.0\n",
            "0.80    30.0\n",
            "0.85    42.0\n",
            "0.90    61.0\n",
            "0.95    95.0\n",
            "Name: totalRatingCount, dtype: float64\n"
          ]
        }
      ]
    },
    {
      "cell_type": "markdown",
      "source": [
        "We can see that there are many books with rating count more than ~30 this is just the distribution of total rating count. Lets, consider a threshold required count to be around 50. This will include many popular books which have been read by atleast 50 users. This will also make the opinion of users for a book more concrete, since there will be atleast 50 bad or good ratings for each of the books included."
      ],
      "metadata": {
        "id": "NP0jfb-kyaio"
      }
    },
    {
      "cell_type": "code",
      "source": [
        "popularity_threshold = 50\n",
        "rating_popular_book = rating_with_totalRatingCount[rating_with_totalRatingCount['totalRatingCount'] >= 50]\n",
        "rating_popular_book"
      ],
      "metadata": {
        "colab": {
          "base_uri": "https://localhost:8080/",
          "height": 423
        },
        "id": "mfx7q7HVqUya",
        "outputId": "2c758c2a-5e8e-4b73-8c36-ae9e06ad2c31"
      },
      "execution_count": 26,
      "outputs": [
        {
          "output_type": "execute_result",
          "data": {
            "text/plain": [
              "        User-ID        ISBN  Book-Rating  \\\n",
              "0        277427  002542730X           10   \n",
              "1          3363  002542730X            0   \n",
              "2         11676  002542730X            6   \n",
              "3         12538  002542730X           10   \n",
              "4         13552  002542730X            0   \n",
              "...         ...         ...          ...   \n",
              "487016   269566  0670809381            0   \n",
              "487544   271284  0440910927            0   \n",
              "487796   271705  B0001PIOX4            0   \n",
              "488402   274808  0449701913            0   \n",
              "488715   275970  1586210661            9   \n",
              "\n",
              "                                               Book-Title  totalRatingCount  \n",
              "0       Politically Correct Bedtime Stories: Modern Ta...                82  \n",
              "1       Politically Correct Bedtime Stories: Modern Ta...                82  \n",
              "2       Politically Correct Bedtime Stories: Modern Ta...                82  \n",
              "3       Politically Correct Bedtime Stories: Modern Ta...                82  \n",
              "4       Politically Correct Bedtime Stories: Modern Ta...                82  \n",
              "...                                                   ...               ...  \n",
              "487016                                             Echoes                54  \n",
              "487544                                      The Rainmaker               180  \n",
              "487796                                     Fahrenheit 451               119  \n",
              "488402                                         Homecoming                61  \n",
              "488715                             Me Talk Pretty One Day               146  \n",
              "\n",
              "[62149 rows x 5 columns]"
            ],
            "text/html": [
              "\n",
              "  <div id=\"df-84e6e430-213a-4c3f-b11c-409595d80b61\">\n",
              "    <div class=\"colab-df-container\">\n",
              "      <div>\n",
              "<style scoped>\n",
              "    .dataframe tbody tr th:only-of-type {\n",
              "        vertical-align: middle;\n",
              "    }\n",
              "\n",
              "    .dataframe tbody tr th {\n",
              "        vertical-align: top;\n",
              "    }\n",
              "\n",
              "    .dataframe thead th {\n",
              "        text-align: right;\n",
              "    }\n",
              "</style>\n",
              "<table border=\"1\" class=\"dataframe\">\n",
              "  <thead>\n",
              "    <tr style=\"text-align: right;\">\n",
              "      <th></th>\n",
              "      <th>User-ID</th>\n",
              "      <th>ISBN</th>\n",
              "      <th>Book-Rating</th>\n",
              "      <th>Book-Title</th>\n",
              "      <th>totalRatingCount</th>\n",
              "    </tr>\n",
              "  </thead>\n",
              "  <tbody>\n",
              "    <tr>\n",
              "      <th>0</th>\n",
              "      <td>277427</td>\n",
              "      <td>002542730X</td>\n",
              "      <td>10</td>\n",
              "      <td>Politically Correct Bedtime Stories: Modern Ta...</td>\n",
              "      <td>82</td>\n",
              "    </tr>\n",
              "    <tr>\n",
              "      <th>1</th>\n",
              "      <td>3363</td>\n",
              "      <td>002542730X</td>\n",
              "      <td>0</td>\n",
              "      <td>Politically Correct Bedtime Stories: Modern Ta...</td>\n",
              "      <td>82</td>\n",
              "    </tr>\n",
              "    <tr>\n",
              "      <th>2</th>\n",
              "      <td>11676</td>\n",
              "      <td>002542730X</td>\n",
              "      <td>6</td>\n",
              "      <td>Politically Correct Bedtime Stories: Modern Ta...</td>\n",
              "      <td>82</td>\n",
              "    </tr>\n",
              "    <tr>\n",
              "      <th>3</th>\n",
              "      <td>12538</td>\n",
              "      <td>002542730X</td>\n",
              "      <td>10</td>\n",
              "      <td>Politically Correct Bedtime Stories: Modern Ta...</td>\n",
              "      <td>82</td>\n",
              "    </tr>\n",
              "    <tr>\n",
              "      <th>4</th>\n",
              "      <td>13552</td>\n",
              "      <td>002542730X</td>\n",
              "      <td>0</td>\n",
              "      <td>Politically Correct Bedtime Stories: Modern Ta...</td>\n",
              "      <td>82</td>\n",
              "    </tr>\n",
              "    <tr>\n",
              "      <th>...</th>\n",
              "      <td>...</td>\n",
              "      <td>...</td>\n",
              "      <td>...</td>\n",
              "      <td>...</td>\n",
              "      <td>...</td>\n",
              "    </tr>\n",
              "    <tr>\n",
              "      <th>487016</th>\n",
              "      <td>269566</td>\n",
              "      <td>0670809381</td>\n",
              "      <td>0</td>\n",
              "      <td>Echoes</td>\n",
              "      <td>54</td>\n",
              "    </tr>\n",
              "    <tr>\n",
              "      <th>487544</th>\n",
              "      <td>271284</td>\n",
              "      <td>0440910927</td>\n",
              "      <td>0</td>\n",
              "      <td>The Rainmaker</td>\n",
              "      <td>180</td>\n",
              "    </tr>\n",
              "    <tr>\n",
              "      <th>487796</th>\n",
              "      <td>271705</td>\n",
              "      <td>B0001PIOX4</td>\n",
              "      <td>0</td>\n",
              "      <td>Fahrenheit 451</td>\n",
              "      <td>119</td>\n",
              "    </tr>\n",
              "    <tr>\n",
              "      <th>488402</th>\n",
              "      <td>274808</td>\n",
              "      <td>0449701913</td>\n",
              "      <td>0</td>\n",
              "      <td>Homecoming</td>\n",
              "      <td>61</td>\n",
              "    </tr>\n",
              "    <tr>\n",
              "      <th>488715</th>\n",
              "      <td>275970</td>\n",
              "      <td>1586210661</td>\n",
              "      <td>9</td>\n",
              "      <td>Me Talk Pretty One Day</td>\n",
              "      <td>146</td>\n",
              "    </tr>\n",
              "  </tbody>\n",
              "</table>\n",
              "<p>62149 rows × 5 columns</p>\n",
              "</div>\n",
              "      <button class=\"colab-df-convert\" onclick=\"convertToInteractive('df-84e6e430-213a-4c3f-b11c-409595d80b61')\"\n",
              "              title=\"Convert this dataframe to an interactive table.\"\n",
              "              style=\"display:none;\">\n",
              "        \n",
              "  <svg xmlns=\"http://www.w3.org/2000/svg\" height=\"24px\"viewBox=\"0 0 24 24\"\n",
              "       width=\"24px\">\n",
              "    <path d=\"M0 0h24v24H0V0z\" fill=\"none\"/>\n",
              "    <path d=\"M18.56 5.44l.94 2.06.94-2.06 2.06-.94-2.06-.94-.94-2.06-.94 2.06-2.06.94zm-11 1L8.5 8.5l.94-2.06 2.06-.94-2.06-.94L8.5 2.5l-.94 2.06-2.06.94zm10 10l.94 2.06.94-2.06 2.06-.94-2.06-.94-.94-2.06-.94 2.06-2.06.94z\"/><path d=\"M17.41 7.96l-1.37-1.37c-.4-.4-.92-.59-1.43-.59-.52 0-1.04.2-1.43.59L10.3 9.45l-7.72 7.72c-.78.78-.78 2.05 0 2.83L4 21.41c.39.39.9.59 1.41.59.51 0 1.02-.2 1.41-.59l7.78-7.78 2.81-2.81c.8-.78.8-2.07 0-2.86zM5.41 20L4 18.59l7.72-7.72 1.47 1.35L5.41 20z\"/>\n",
              "  </svg>\n",
              "      </button>\n",
              "      \n",
              "  <style>\n",
              "    .colab-df-container {\n",
              "      display:flex;\n",
              "      flex-wrap:wrap;\n",
              "      gap: 12px;\n",
              "    }\n",
              "\n",
              "    .colab-df-convert {\n",
              "      background-color: #E8F0FE;\n",
              "      border: none;\n",
              "      border-radius: 50%;\n",
              "      cursor: pointer;\n",
              "      display: none;\n",
              "      fill: #1967D2;\n",
              "      height: 32px;\n",
              "      padding: 0 0 0 0;\n",
              "      width: 32px;\n",
              "    }\n",
              "\n",
              "    .colab-df-convert:hover {\n",
              "      background-color: #E2EBFA;\n",
              "      box-shadow: 0px 1px 2px rgba(60, 64, 67, 0.3), 0px 1px 3px 1px rgba(60, 64, 67, 0.15);\n",
              "      fill: #174EA6;\n",
              "    }\n",
              "\n",
              "    [theme=dark] .colab-df-convert {\n",
              "      background-color: #3B4455;\n",
              "      fill: #D2E3FC;\n",
              "    }\n",
              "\n",
              "    [theme=dark] .colab-df-convert:hover {\n",
              "      background-color: #434B5C;\n",
              "      box-shadow: 0px 1px 3px 1px rgba(0, 0, 0, 0.15);\n",
              "      filter: drop-shadow(0px 1px 2px rgba(0, 0, 0, 0.3));\n",
              "      fill: #FFFFFF;\n",
              "    }\n",
              "  </style>\n",
              "\n",
              "      <script>\n",
              "        const buttonEl =\n",
              "          document.querySelector('#df-84e6e430-213a-4c3f-b11c-409595d80b61 button.colab-df-convert');\n",
              "        buttonEl.style.display =\n",
              "          google.colab.kernel.accessAllowed ? 'block' : 'none';\n",
              "\n",
              "        async function convertToInteractive(key) {\n",
              "          const element = document.querySelector('#df-84e6e430-213a-4c3f-b11c-409595d80b61');\n",
              "          const dataTable =\n",
              "            await google.colab.kernel.invokeFunction('convertToInteractive',\n",
              "                                                     [key], {});\n",
              "          if (!dataTable) return;\n",
              "\n",
              "          const docLinkHtml = 'Like what you see? Visit the ' +\n",
              "            '<a target=\"_blank\" href=https://colab.research.google.com/notebooks/data_table.ipynb>data table notebook</a>'\n",
              "            + ' to learn more about interactive tables.';\n",
              "          element.innerHTML = '';\n",
              "          dataTable['output_type'] = 'display_data';\n",
              "          await google.colab.output.renderOutput(dataTable, element);\n",
              "          const docLink = document.createElement('div');\n",
              "          docLink.innerHTML = docLinkHtml;\n",
              "          element.appendChild(docLink);\n",
              "        }\n",
              "      </script>\n",
              "    </div>\n",
              "  </div>\n",
              "  "
            ]
          },
          "metadata": {},
          "execution_count": 26
        }
      ]
    },
    {
      "cell_type": "markdown",
      "source": [
        "**Country/regional Threshold**"
      ],
      "metadata": {
        "id": "RryHlSlm0HJH"
      }
    },
    {
      "cell_type": "markdown",
      "source": [
        "In order to improve computing speed, and not run into the “MemoryError” issue, I will limit our user data to those in the India and US. And then combine user data with the rating data and total rating count data."
      ],
      "metadata": {
        "id": "08-bFJIa03qY"
      }
    },
    {
      "cell_type": "markdown",
      "source": [
        "Lets have a look at number of users from each of these countries. "
      ],
      "metadata": {
        "id": "_FS-daXeSG1t"
      }
    },
    {
      "cell_type": "code",
      "source": [
        "# checking number of indian locations in the book reading data.\n",
        "j = 0 #defining a counter\n",
        "location = []\n",
        "for i in list(users['Location'].unique()):\n",
        "  if 'india' in i:  #checking for every written form of the letter India\n",
        "    j=j+1 #updating ccounter\n",
        "    location.append(i)\n",
        "print('number of unique locations from India:', j)\n",
        "print('location of users in India\\n', location) #print all locations in with the term 'india'"
      ],
      "metadata": {
        "id": "HgYiWVzwCh1a",
        "colab": {
          "base_uri": "https://localhost:8080/"
        },
        "outputId": "0543018a-ed00-4180-8c52-6e291e745300"
      },
      "execution_count": null,
      "outputs": [
        {
          "output_type": "stream",
          "name": "stdout",
          "text": [
            "number of unique locations from India: 1022\n",
            "location of users in India\n",
            " ['nagpur, idaho, india', 'muncie, indiana, usa', 'mumbai, maharashtra, india', 'hyderabad, alabama, india', 'delhi, delhi, india', 'fishers, indiana, usa', 'indianapolis, indiana, usa', 'lawrenceburg, indiana, usa', 'dahanu, maharashtra, india', 'kolkata, victoria, india', 'tiruchirapalli, n/a, india', 'knox, indiana, usa', 'gurgaon, n/a, india', 'gurgaon, haryana, india', 'nasik, maharashtra, india', 'kannur, kerala, india', 'ernakulam, kerala, india', 'calcutta, west bengal, india', 'varanasi, uttar pradesh, india', 'pune, pune, india', 'solapur, maine, india', 'bangalore, karnataka, india', '16605 bennington ct, indiana, usa', 'new castle, indiana, usa', 'bloomington, indiana, usa', 'mumbai, maharshtra, india', 'pondicherry, jipofuaop, india', 'ranchi, jharkhand, india', 'kanpur, up, india', 'fort wayne, indiana, usa', 'pune, maharashtra, india', 'south bend, indiana, usa', 'hammond, indiana, usa', 'trivandrum, kerala, india', 'elkhart, indiana, usa', 'guwahati, assam, india', 'blgnt., indiana, usa', 'gosport, indiana, usa', 'gzb, n/a, india', 'trafalgar, indiana, usa', 'washington, indiana, usa', 'dyer, indiana, usa', 'evansville, indiana, usa', 'gadag, karnataka, india', 'ahmedabad, gujarat, india', 'bombay, bombay, india', 'aju, n/a, india', 'baroda, gujarat, india', 'chennai, tamil nadu, india', 'bombay, maharashtra, heard of it? :o), india', 'lafayette, indiana, usa', 'mishawaka, indiana, usa', 'terre haute, indiana, usa', 'newburgh, indiana, usa', 'culver, indiana, usa', 'coimbatore, \\\\n/a\\\\\", india\"', 'valparaiso, indiana, usa', 'surat, gujarat, india', 'vincennes, indiana, usa', 'bangalore, kar, india', 'otwell, indiana, usa', 'kokomo, indiana, usa', 'la porte, indiana, usa', 'noblesville, indiana, usa', 'waveland, indiana, usa', 'north liberty, indiana, usa', 'shelbyville, indiana, usa', 'french lick, indiana, usa', 'hyderabad, \\\\n/a\\\\\", india\"', 'carmel, indiana, usa', 'new delhi, delhi, india', 'chennai, india, india', 'kolkata, west bengal, india', 'jaipur, rajasthan, india', 'nashik, maharashtra, india', 'whiteland, indiana, usa', 'bpl, mp, india', 'ratnagiri, \\\\n/a\\\\\", india\"', 'aizawl, mizoram, india', 'cochin, kerala, india', 'mumbai, mumbai, india', 'arni, tamil nadu, india', 'chennai, tamilnadu, india', 'guntur, andhra pradesh, india', 'madurai, tamil nadu, india', 'tiruchirappalli, tiruchirappalli, india', 'north vernon, indiana, usa', 'new albany, indiana, usa', 'bangalore, n/a, india', 'new delhi, new delhi(india), india', 'kohima, nagaland, india', 'scottsburg, indiana, usa', 'upland, indiana, usa', 'dunkirk, indiana, usa', 'centerville, indiana, usa', 'danville, indiana, usa', 'richmond, indiana, usa', 'lebanon, indiana, usa', 'dale, indiana, usa', 'tennyson, indiana, usa', 'martinsville, indiana, usa', 'marion, indiana, usa', 'bangalore, india, india', 'visakhapatnam, andhra pradesh, india', 'tirupati, andhra pradesh, india', 'new richmond, indiana, usa', 'chennai, tn, india', 'pondicherry, pondicherry, india', 'indiananpolis, indiana, usa', 'abudhabi, kerala, india', 'jamshedpur, jharkhand, india', 'portage, indiana, usa', 'hartford city, indiana, usa', 'columbus, indiana, usa', 'sonipat, haryana, india', 'mumbai, mh, india', 'west lafayette, indiana, usa', 'jalandhar cantt, punjab, india', 'new delhi, na, india', 'mumbai, india,', 'bangalore, bangalore,karnataka, india', 'pilani, rajeshthan, india', 'hyderabad, andhra pradesh, india', 'ahmedabad, indiana, india', 'greenwood, indiana, usa', 'nashville, indiana, usa', 'hyderabad, ap, india', 'delhi, indiana, india', 'goshen, indiana, usa', 'gurgaon, gurgaon hr, india', 'hyd, n/a, india', 'hyderabad., andhra pradesh, india', 'monroeville, indiana, usa', 'connersville, indiana, usa', 'mumbai, maharastra, india', 'mumbai, ap, india', 'crawfordsville, indiana, usa', 'salem, n/a, india', 'greenfield, indiana, usa', 'mumbai, indiana, india', 'delhi, iowa, india', 'jamnagar, gujarat, india', 'karachi, indiana, pakistan', 'bombay, mh, india', 'westfield, indiana, usa', 'indian rocks beach, florida, usa', 'vellore, tamil nadu, india', 'trichy, tamilnadu, india', 'trichy, tamil nadu, india', 'chd., har., india', 'hfct, wyoming, india', 'noida, utter pradesh, india', 'lucknow, uttar pradesh, india', 'bhubaneswar, orissa, india', 'dfsdf, gsdf, india', 'kolkata, australian capital territory, india', 'longowal, puerto rico, india', 'ahmedabad, montana, india', 'medaryville, indiana, usa', 'indiana, pennsylvania, usa', 'hebron, indiana, usa', 'kottayam, alberta, india', 'sivaganga, tamilnadu, india', 'veedersburg, indiana, usa', 'angola, indiana, usa', 'syracuse, indiana, usa', 'griffith, indiana, usa', 'gandhinagar, gujarat, india', 'sharjah, n/a, india', 'new delhi, new delhi, india', 'mumbai, maha, india', 'highland, indiana, usa', 'pilani, rajasthan(india), india', 'mumbai, mumbai, maharashtra, india, india', 'trissur, kerala, india', 'palmyra, indiana, usa', 'indianapolis, indiana,', 'boonville, indiana, usa', 'mhow, madhya pradesh, india', 'bam, alabama, india', 'pune, maharastra, india', 'were, n/a, india', 'tenali, andhrapradesh, india', 'berne, indiana, usa', 'laporte, indiana, usa', 'kolkata, n/a, india', 'oolitic, indiana, usa', 'east chicago, indiana, usa', 'indialantic, florida, usa', 'mumbai, new mexico, india', 'ludhiana, punjab, india', 'michigan city, indiana, usa', 'bombay, mah, india', 'terre-haute, indiana, usa', 'morgantown, indiana, usa', 'logansport, indiana, usa', 'indy, indiana, usa', 'uttarpradesh, gwaalior, india', 'nagercoil, tamil nadu., n/a, india', 'redkey, indiana, usa', 'cannelton, indiana, usa', 'indianola, iowa, usa', 'barcelona, indiana, spain', 'auburn, indiana, usa', 'flora, indiana, usa', 'peru, indiana, usa', 'anderson, indiana, usa', 'hyderabad, n/a, india', 'panvel, new mumbai, maharastra, india', 'mysore, n/a, india', 'mumbai, mississippi, india', 'tvm, india, india', 'himatnagar, gujarat, india', 'mumbai, n/a, india', 'hyderabad, andhrapradesh, india', 'baroda, n/a, india', 'new delhi, n/a, india', 'north judson, indiana, usa', 'chengannur, kerala, india', 'ayranikudi, kerala, india', 'jammu & kashmir, srinager, india', 'bhopal, m.p., india', 'hamburg, indiana, germany', 'chandernagore, west bengal, india', 'kottayam, kerala, india', 'west harrison, indiana, usa', 'calicut, kerala, india', 'mooresville, indiana, usa', 'erode, tamil nadu, india', 'amboy, indiana, usa', 'bremen, indiana, usa', 'brookville, indiana, usa', 'schererville, indiana, usa', 'albany, indiana, usa', 'cedar lake, indiana, usa', 'clinton, indiana, usa', 'indiuanapolis, indiana, usa', 'srivilliputtur, tamil nadu, india', 'carmel,in, indiana, usa', 'silvassa, dadra & nagar haveli, india', 'farmland, indiana, usa', 'cloverdale, indiana, usa', 'bly, basilicata, india', 'sullivan, indiana, usa', 'otterbein, indiana, usa', 'sector 46,d, chandigarh, india', 'plymouth, indiana, usa', 'bangalore, bangalore, india', 'north judson, indiana,', 'cicero, indiana, usa', 'lanesville, indiana, usa', 'bangalore, indiana, india', 'frankfort, indiana, usa', 'columbia city, indiana, usa', 'chesterton, indiana, usa', 'henryville, indiana, usa', 'thane, maharashtra, india', 'bangalore 560 048, karnataka, india', 'hudson, indiana, usa', 'indianapollis, indiana, usa', 'chandler, indiana, usa', 'north webster, indiana, usa', 'noida, n/a, india', 'hobart, indiana, usa', 'ft. wayne, indiana, usa', 'merrillvile, indiana, usa', 'greensburg, indiana, usa', 'clarksville, indiana, usa', 'crown point, indiana, usa', 'avon, indiana, usa', 'greencastle, indiana, usa', 'whiting, indiana, usa', 'faridabad, illinois, india', 'piacenza, indiana, italy', 'chandigarh, haryana, india', 'nineveh, indiana, usa', 'chennai, nevada, india', 'trichirappalli, indiana, india', 'merrillville, indiana, lake', 'buchanan, indiana, usa', 'kandy, indiana, sri lanka', 'georgetown, indiana, usa', 'madras, tn, india', 'sharpsville, indiana, usa', 'warren, indiana, usa', 'indianpolis, indiana, usa', 'winamac, indiana, usa', 'floyds knobs, indiana, usa', 'w. lafayette, indiana, usa', 'hillsboro, indiana, usa', 'torino, indiana, italy', 'munster, indiana, usa', 'winona lake, indiana, usa', 'laketon, indiana, usa', 'new whiteland, indiana, usa', 'poland, indiana, usa', 'milltown, indiana, usa', 'alexandria, indiana, usa', 'springville, indiana, usa', 'lake villa, indiana, usa', 'new delhi, iowa, india', 'merrillville, indiana, usa', 'battle ground, indiana, usa', 'madison, indiana, usa', 'lamar, indiana, usa', 'ft wayne, indiana, usa', 'elwood, indiana, usa', 'aligarh, n/a, india', 'thorntown, indiana, usa', 'bhavnagar, gujarat, india', 'bluffton, indiana, usa', 'cambridge city, indiana, usa', 'vadodara, gujrat, india', 'mooresville, indiana, morgan', 'bhilai, chhattisgarh, india', 'udaipur, rajasthan, india', 'patna, bihar, india', 'gagret, gujarat, india', 'delhi, n/a, india', 'rourkela, orissa, india', 'granger, indiana, usa', 'n. manchester, indiana, usa', 'mumbai, mh, india, india', 'linton, indiana, usa', 'vapi, gujarat, india', 'demotte, indiana, usa', 'warrick county, indiana, usa', 'indpls, indiana, usa', 'chennai, n/a, india', 'jasper, indiana, usa', 'w lafayette, indiana, usa', 'wabash, indiana, usa', 'indian river, michigan, usa', 'kharagpur, west bengal, india', 'pondicherry, tamilnadu, india', 'rajkot, gujarat, india', 'brownstown, indiana, usa', 'greensburg, indiana,', 'warsaw, indiana, usa', 'notre dame, indiana, usa', 'franklin, indiana, usa', 'no4 jayaparan jothi st,erukkancherry chennai-60011, tamil nadu, india', 'jeffersonville, indiana, usa', 'santa claus, indiana, usa', 'princeton, indiana, usa', 'sb, indiana, usa', 'mm, manitoba, india', 'belgaum, karnataka, india', 'delhi, maryland, india', 'trc, tn, india', 'albion, indiana, usa', 'brownsburg, indiana, usa', 'jamestown, indiana, usa', 'mcleod ganj, himachal pradesh, india', 'gary, indiana, usa', 'speedway, indiana, usa', 'foertwaye, indiana, usa', 'mumbai, indiana,', 'charlestown, indiana, usa', 'gandhiangar, gujarat, india', 'hooghly, n/a, india', 'schnellville, indiana, usa', 'spencerville, indiana, usa', 'west baden, indiana, usa', 'new delhi, 7/2,block-o,r.k.puram,sector-13,new delhi , india, india', 'bedford, indiana, usa', 'nagpur, maharashtra, india', 'bloomingdale, indiana, usa', 'bhiwani, hawaii, india', 'lucknow, uttar pradesh,india, india', 'chandigarh, chandigarh, india', 'bombay, maharashtra, india', 'noida, uttar pradesh, india', 'pune, maine, india', 'bhadravathi, karnataka, india', 'etna green, indiana, usa', 'brazil, indiana, usa', 'solsberry, indiana, usa', 'pune, , india', 'jodhpur, rajasthan, india', 'salem, idaho, india', 'indianapolis, in, indiana, usa', 'solapur, maharashtra, india', 'rockville, indiana, usa', 'indinanapolis, indiana, usa', 'monroe city, indiana, usa', 'cutler, indiana, usa', 'spencer, indiana, usa', 'mumbai, mah, india', 'bhuj, gujarat, india', 'corydon, indiana, usa', 'raipur, chattisgarh, india', 'leo-cedarville, indiana, usa', 'n/a, n/a, india', 'dehradun, n/a, india', 'petersburg, indiana, usa', 'tumkur, karnataka, india', 'lagrange, indiana, usa', 'ossian, indiana, usa', 'b.s.city, jh, india', 'mumbai, mahrasthra, india', 'fowler, indiana, usa', 'indian trail, north carolina, usa', 'muzaffar nagar, n/a, india', 'roanoke, indiana, usa', 'lilongwe, indiana, malawi', 'lafyaette, indiana, usa', 'india, india, india', 'thanjavur, tamilnadu, india', 'chennai, lazio, india', 'mumbai, basilicata, india', 'goodland, indiana, usa', 'mumbai, michigan, india', 'delphi, indiana, usa', 'pondicherry, \\\\n/a\\\\\", india\"', 'cal, wb, india', 'knightstown, indiana, usa', 'pilani, rajasthan, india', 'rosedale, indiana, usa', 'pune, pune,maharashtra, india', 'fortville, indiana, usa', 'tamilnadu .chennai, indiana, india', 'gaston, indiana, usa', 'lindsay, n/a, india', 'mumbai, ms, india', 'dindigul, india, india', 'valparaiso, indiana, afghanistan', 'calcutta, saarland, india', 'south bend, indiana, indiana, usa', 'seymour, indiana, usa', 'gallipoli1, yukon territory, india', 'patna, state:bihar., india', 'calcutta, w bengal, india', 'tomar, indiana, portugal', 'huntingburg, indiana, usa', 'sheridan, indiana, usa', 'pali(marwar), rajasthan, india', 'loharu, n/a, india', 'freetown, indiana, usa', 'bir, himachal, india', 'oxford, indiana, usa', 'bangalore, ka, india', 'zionsville, indiana, usa', 'liberty, indiana, usa', 'plainfield, indiana, usa', 'bhopal, madhya pradesh, india', 'indian lake, new york, usa', 'chandigarh, n/a, india', 'warangal, warangal, india', 'coal city, indiana, usa', 'pamplona, indiana, spain', 'chennai india, n.a, india', 'btown, indiana, usa', 'chalmers, indiana, usa', 'new salisbury, indiana, usa', 'rising sun, indiana, usa', 'bangalore, karnataka-india, india', 'pune, \\\\n/a\\\\\", india\"', 'depauw, indiana, usa', 'bloomington, indiana,', 'st. mary-of-the-woods, indiana, usa', 'indiana and philadelphia, pennsylvania, usa', 'indian head, saskatchewan, canada', 'dayton, indiana, usa', 'milford, indiana, usa', 'wonder lake, indiana, canada', 'navi mumbai, manitoba, india', 'jaipur, australian capital territory, india', 'baghdad, indiana, iraq', 'mount vernon, indiana, usa', 'lexington, indiana, usa', 'bhopal, n/a, india', 'mysore, karnataka, india', 'south bend, indiana, argentina', 'hyderabad, a.p., india', 'perinthalmanna, n/a, india', 'poseyville, indiana, usa', 'pune, mh, india', 'osgood, indiana, usa', 'williamsport, indiana, usa', 'huntertown, indiana, usa', 'brooklyn, indiana, usa', 'aruppukottai, tamilnadu, india', 'huntington, indiana, usa', 'maharashtra, maharashtra, india', 'bharuch, gujarat, india', 'madras, bangalore, india', 'nellore, andhra pradesh, india', 'chennai, chennai, india', 'loogootee, indiana, usa', 'middletown, indiana, usa', 'gandhinagar, gujrat, india', 'shillong, alberta, india', 'new delhi, , india', 'kouts, indiana, usa', 'halol, gujarat, india', 'taj, n/a, india', 'irdbd, indiana, jordan', 'bafffa, ker, india', 'mich city, indiana, usa', 'mumbai(bombay), n/a, india', 'na, na, india', 'hello, hello, india', 'ingalls, indiana, usa', 'nellai, thueringen, india', 'chennai, indiana, india', 'bangalore, karnatka, india', 'jordan, n/a, india', 'rewari, illinois, india', 'st. john, indiana, usa', 'kimmell, indiana, usa', 'rochester, indiana, usa', 'gas city, indiana, usa', 'new palestine, indiana, usa', 'kolkata, indiana, india', 'hyderabad, none, india', 'secunderabad, andhra pradesh, india', 'agra, up, india', 'lewisville, indiana, usa', 'southport, indiana, usa', 'anantapur, n/a, india', 'lowell, indiana, usa', 'indianapolis, ,', 'paoli, indiana, usa', 'claypool, indiana, usa', 'cuenca, hawaii, india', 'madurai, tamilnadu, india', 'daleville, indiana, usa', 'new paris, indiana, usa', 'kendallville, indiana, usa', 'calcutta, n/a, india', 'nagercoil, tasmania, india', 'silvassa, silvassa, india', 'nagpur, maine, india', 'noida, u.p., india', 'beech grove, indiana, usa', 'karnataka, mangalore, india', 'sambalpur, orissa, india', 'indian harbour beach, florida, usa', 'delhi, delaware, india', 'jammu, j&k, india', 'indianapolis, in (ind-indianapolis intl.), indianapolis, in (ind-indianapolis intl.), usa', 'ahmedabad, alaska, india', 'noblsville, indiana, usa', 'wolcott, indiana, usa', 'bangalore, virginia, india', 'pierceton, indiana, antarctica', 'camden, indiana, usa', 'decatur, indiana, usa', 'blooomington, indiana, usa', 'rensselaer, indiana, usa', 'fountain city, indiana, usa', 'allahabad, \\\\n/a\\\\\", india\"', 'my, mt, india', 'delhi, new delhi, india', 'walton, indiana, usa', 'madanpalle, andhra pradesh, india', 'teran, indiana, iran', 'vadodara, gujarat, india', 'pune, arizona, india', 'hyderabad-secunderabad, andhra pradesh, india', 'pilani, rhode island, india', 'prairieton, indiana, usa', 'hyderabad, arizona, india', 'pondy, india, india', 'leesburg, indiana, usa', 'mumbai, massachusetts, india', 'batesville, indiana, usa', 'oldenburg, indiana, usa', 'valparaiso, indiana,', 'chennai, yukon territory, india', 'richmnd, indiana, usa', 'mt. summit, indiana, usa', 'mumbai, marche, india', 'ludhiana, indiana, india', 'chandigarh, chd, india', 'vijayawada, a.p, india', 'amreli, gujarat, india', 'mumbai, nebraska, india', 'moradabad, uttar pradesh, india', 'kentland, indiana, usa', 'new washington, indiana, usa', 'ft.wayne, indiana, usa', 'guwahati, alabama, india', 'hyd, ap, india', 'udaipur, indiana, india', 'gandhidham, gujarat, india', 'nagpur, australian capital territory, india', 'g`nagar, gujarat, india', 'never mind, n/a, india', 'ranipet, tamilnadu, india', 'gary, indiana,', 'salem, tamilnadu, india', 'kolkata, \\\\n/a\\\\\", india\"', 'jagadhri  yamunanagar, hamburg, india', 'machilipatnam, andhrapradesh, india', 'kayamkulam, alberta, india', 'newburgh in, indiana, usa', 'west terre haute, indiana, usa', 'cynthiana, indiana, usa', 'fishers, indiana, indiana, usa', 'eaton, indiana, usa', 'kochi, kerala, india', 'london, indiana, canada', 'commiskey, indiana, usa', 'nowhere youll ever think to stop in, indiana, usa', 'new delhi, india, india', 'laporte, in, indiana, usa', 'chicago, indiana, usa', 'arcadia, indiana, usa', 'derby, indiana, usa', 'ujjain, madhya pradesh, india', 'macy, indiana, usa', 'bringhurst, indiana, usa', 'chennai, illinois, india', 'indianola, iowa,', 'rushville, indiana, usa', 'english, indiana, usa', 'somewhere in, indiana, usa', 'patriot, indiana, usa', 'chirala, indiana, india', 'chennai, carolina, india', 'mumbai, victoria, india', 'north judso, indiana, usa', 'middlebury, indiana, usa', 'greenwood, indiana, united kingdom', 'bokaro steel city, bokaro, jharkhand, india', 'porter, indiana, usa', 'dillsboro, indiana, usa', 'hanover, indiana, usa', 'baroda, gujarat -india, india', 'french, indiana, usa', 'indiana &, florida, usa', 'wyatt, indiana, usa', 'new-delhi, new-delhi, india', 'ludhiana, piemonte, india', 'rajasthan, indiana, india', 'kottayam, n/a, india', 'tiruchirrappali, tamil nadu, india', '25,subhash nagar ,yamunanagar, haryana, india', 'manyda, virginia, india', 'delhi, alberta, india', 'sagar, karnataka, india', 'mumbai, na, india', 'pune, idaho, india', 'madurai, tn, india', 'moradabad, u.p., india', 'scottsburg, indiana, u', 'kolkata, west virginia, india', 'new mumbai, maharashtra, india', 'indanapolis, indiana, usa', 'anand, gujarat, india', 'angamaly, kerala, india', 'manipal, karnataka, india', 'indore, illinois, india', 'kolkata, wales, india', 'tiruvannamalai, tamilnadu, india', 'walkerton, indiana, usa', 'aligarh, virginia, india', 'fort branch, indiana, usa', 'bargersville, indiana, usa', 'andrews, indiana, usa', 'greendale, indiana, usa', 'churubusco, indiana, usa', 'trail creek, indiana, usa', 'frankton, indiana, usa', 'patiala, punjab, india', 'andover, n/a, india', 'new haven, indiana, usa', 'south whitley, indiana, usa', 'rural, indiana, usa', 'mangalore, south dakota, india', 'chandigarh, iowa, india', 'france, indiana, antarctica', 'veraval, gujrat, india', 'windfall, indiana, usa', 'monon, indiana, usa', 'bambai, mahaashtrs, indiai', 'leo, indiana, usa', 'grovertown, indiana, usa', 'bonners ferry, indiana, united kingdom', 'karnataka, bangalore, india', 'pendleton, indiana, usa', 'kolkata, india,', 'odon, indiana, usa', 'gfield, indiana, usa', 'shoals, indiana, usa', 'mccordsville, indiana, usa', 'newdelhi, n/a, india', 'indian head, maryland, usa', 'shillong, n/a, india', 'coimbatore,, tamil nadu, india', 'srinagar, jammu and kashmir, india', 'mumbai, thank you, india', 'detrt, arizona, india', 'hubli, karnataka, india', 'tumkur, karnataka, india, india', 'kolar gold fields, karnataka, india', 'cochin, n/a, india', 'new delhi, alabama, india', 'una, hamburg, india', 'akron, indiana, usa', 'calcutta, w.b, india', 'amritsar(punjab), n/a, india', 'amritsar, n/a, india', 'bangalore, kentucky, india', 'mysore, indiana, india', 'jaipur, indiana, india', 'bristol, indiana, usa', 'bareilly, up, india', 'nagpur, mt, india', 'delhi, british columbia, india', 'indore, molise, india', 'mmbai, n/a, india', 'new delhi, wales, india', 'dombivli, maharashtra, india', 'junagadh, gujarat, india', 'mumbai, \\\\n/a\\\\\", india\"', 'ghaziabad, uttar pradesh, india', 'rossville, indiana, usa', 'chanakyapura, delhi, india', 'elnora, indiana, usa', 'stroh, indiana, usa', 'delhi, ut, india', 'salem, tamil nadu, india', 'haubstadt, indiana, usa', 'indianapolis, indiana, united kingdom', 'denver, indiana, usa', 'ellettsville, indiana, usa', 'milan, indiana, usa', 'puna, n/a, india', 'lucknow, u.p., india', 'noida, up, india', 'agartala, tripura, india', 'chennai, calabria, india', 'pune, ms, india', 'ahmedabad, georgia, india', 'dehradun, uttranchal, india', 'ranch, bayern, india', 'garrett, indiana, usa', 'palakkad, kerala, india', 'vellore, tasmania, india', 'millersburg, indiana, usa', 'ftwayne, indiana, usa', 'bright, indiana, usa', 'bombay, n/a, india', 'bangalore, , india', 'durgapur, wb, india', 'owensville, indiana, usa', 'pekin, indiana, usa', 'supaul, bihar, india', 'monticello, indiana, usa', 'mandi, hp, india', 'chennai, iowa, india', 'mumbai, campania, india', 'chennai, tamil nadu, 600 083, india', 'mt.vernon, indiana, usa', 'atlanta, alabama, india', 'fsdfs, kentucky, india', 'coimbatore, south dakota, india', 'sundergarh, ontario, india', 'guntur, n/a, india', 'visakhapatnam, india, india', 'urun-islampur., maharashtra state, india', 'junagadh, gujrat, india', 'new delhi, nct of delhi, india', 'mumbai, karnataka, india', 'manjeri, kerala, india', 'cochin, nebraska, india', 'celestine, indiana, usa', 'mitchell, indiana, usa', 'hemby bridge/indian trail, north carolina, usa', 'idpls, indiana, usa', 'sangli, maharashtra, india', 'bangalore, kansas, india', 'ahmedabad, gujaratq, india', 'kasaragod, kerala, india', 'hyderabad, hyderabad ap, india', 'shegaon, maharashtra, india', 'cxa, abruzzo, india', 'rosdale, indiana, usa', 'madras, tamilnadu, india', 'montezuma, indiana, usa', 'gangtok, florida, india', 'quincy, indiana, usa', 'kerala, kansas, india', 'kakinada, andhra pradesh, india', 'trichur, kerala, india', 'vellore,tamilnadu,india, vellore, india', 'blr, kar, india', 'bangalore, idaho, india', 'c/block-602/1203,ulhasnagar, maharastra, india', 'jamshedpur, n/a, india', 'mumbai, maharshrta, india', 'thiruvananthapuram, kerala, india', 'alappuzha, indiana, india', 'warangal, andhra pradesh, india', 'vizag, andhra pradesh, india', 'indian hills, colorado, usa', 'pilya, karnataka, india', 'pune, massachusetts, india', 'poona, maine, india', 'winchester, indiana, usa', 'calcutta, emilia romagna, india', 'chennai, new hampshire, india', 'silvassa, calabria, india', 'coibatore, campania, india', 'palakkad, n/a, india', 'milroy, indiana, usa', 'granger,, indiana, usa', 'mulberry, indiana, usa', 'yorktown, indiana, usa', 'cromwell, indiana, usa', 'darbhanga, bihar, india', 'tvm, s.india, india', 'bangalore, yukon territory, india', 'lisboa, indiana, portugal', 'swayzee, indiana, usa', 'thessaloniki, indiana, greece', 'hyderabad, andra pradesh, india', 'betul, m.p., india', 'mumbai, maryland, india', 'shipshewana, indiana, usa', 'kolkata, na, india', 'madras, tamil nadu, india', 'woodburn, indiana, usa', 'gj, n/a, india', 'srinagar, jammu&kashmir, india', 'mexico city, indiana, mexico', 'delhi, yukon territory, india', 'margao, goa, india', 'greenville, indiana, usa', 'pune, n/a, india', 'trichy, indiana, india', 'chandigarh, alabama, india', 'kolkata, alberta, india', 'new delhi, emilia romagna, india', 'dsfasdf, western australia, india', 'pathankot, punjab, india', 'bangalore, na, india', 'dhar, m.p., india', 'ahmedabad, guj, india', 'kollam, n/a, india', 'banglore, india, india', 'secunderabad, andhrapradesh, india', 'wheatfield, indiana, usa', 'mumbai, idaho, india', 'ranchi, west bengal, india', 'meerut, u.p., india', 'mumbai (bombay), maharashtra, india', 'mumbai (bombay) india, maharashtra, india', 'vns, u.p, india', 'rampura phul, punjab, india', 'payyanur, kerala, india', 'mumbai, new jersey, india', 'ahmedabad, alabama, india', 'kapurthala, punjab, india', 'bhubaneswer, orissa, india', 'hubli, karnatak, india', 'ghaziabad, up, india', 'kolkata, nebraska, india', 'chrisney, indiana, usa', 'coimbatore, sdfsg, india', 'goldsmith, indiana, usa', 'kaisa, choocho ki malia, india', 'despair, indiana, usa', 'mathura, n/a, india', 'karaj, indiana, iran', 'mumbai, alaska, india', 'dehradun, ua, india', 'economy, indiana, usa', 'udinur, kerala, india', 'colombo, colombo, india', 'dhaka, indiana, bangladesh', 'thrisur, kerala, india', 'hyd, andhra pradesh, india', 'cbe, victoria, india', 'ajmer, rajasthan, india', 'kanpur, uttar pradesh, india', 'ujjain, n/a, india', 'chanchal, indiana, india', 'grgaon, harayana, india', 'gujrat, brandenburg, india', 'aurangabad, maharashtra, india', 'star city, indiana, usa', 'south bend, indiana,', 'indianapolis, , usa', 'chennai, nebraska, india', 'caldwell, indiana, usa', 'fort wayne, indiana,', 'thrissur, kerala, india', 'indi, indiana, benin', 'indian wells, california, usa', 'montpelier, indiana, usa', 'monrovia, indiana, usa', 'arcadia, in 46030, indiana, usa', 'mumbai, west, india', 'hyderabad, cg, india', 'north manchester, indiana, usa', 'chandigarh, ut, india', 'yamuna nagar, haryana, india', 'bangalore, #341,4main,6cross,2phase,r`nagar,m`nagar,b`lore-10, india', 'hyderabad, iowa, india', 'durgapur, west bengal, india', 'valsad,, gujarat, india', 'haldia, west bengal, india', 'wilkinson, indiana, usa', 'linden, indiana, usa', 'nj, indiana, usa', 'kannur,kerala,india, kerala, india', 'chennai, tamil nady, india', 'alappuzha, n/a, india', 'laconia, indiana, usa', 'trichy, ohio, india', 'coimbatore, n/a, india', 'navi mumbai, maharashtra, india', 'miller, indiana, usa', 'coimbatore, , india', 'nwi, indiana, usa', 'nappanee, indiana, usa', 'indian springs village, alabama, usa', 'rajkot, gujrat, india', 'indian orchard, massachusetts, usa', 'kannur, n/a, india', 'ktm, ker, india', 'nmrl, addl-ambernath, thane, mumbai, pin 421 506, ambernath, thane , maharastra, india', 'bangalore, lombardia, india', 'mysore, karanataka, india', 'delhi, india, india', 'muz, \\\\n/a\\\\\", india\"', 'wgl, maharastra, india', 'ferozepur, n/a, india', 'patan, gujarat, india', 'madras, indiana, india', 'ahmadnagar, maharashtra, india', 'sriganganagar(rajasthan), indian, india', 'coimbatore, tamil nadu, india', 'gurgaon, delhi, india', 'hno:25-21/6,eastanandbagh,malkajgiri,hyderabad, ap, india', 'vasai, molise, india', 'thane, n/a, india', 'pudukkottai, indiana, india', 'mumbai, alabama, india', 'bhopal, alabama, india', 'osceola, indiana, usa', 'trichy, tn, india', 'poona, n/a, india', 'blomington, indiana, usa', 'ankleshwar, gujrat, india', 'pune, nmaharashtra, india', 'malappuram, kentucky, india', 'davis, tamil nadu, india', 'n/a, alabama, india', 'austin, indiana, usa', 'goa, goa, india', 'martinsvile, indiana, usa', 'choocho ki malia, hai, india', 'seoul, indiana, south korea', 'bloomfield, indiana, usa', 'kanpur, indiana, india', 'trichy, trichy, india', 'crandall, indiana, usa', 'new delhi, dc, india', 'bangalore, karnataka., india', 'russiaville, indiana, usa', 'waterloo, indiana, usa', 'monterey, indiana, usa', 'lapel, indiana, usa', 'camby, indiana, usa', 'indian harbour, nova scotia, canada', 'vanburen, indiana, usa', 'fairland, indiana, usa', 'indanopolis, indiana, usa', 'indore, mp, india', 'mum, mah, india', 'howe, indiana, usa', 'bhavnagar, \\\\n/a\\\\\", india\"', 'hyderabad, andhra, india', 'cochin, kansas, india', 'calcutta, wb, india', 'ichalkaranji, maharashtra, india', 'alwar, rajasthan, india', 'p, mah, india', 'coimbatore, tamilnadu, india', 'hno:25-21/6,eastanadbagh,malakajgiri,hyderabad, ap, india', 'raichur, karnataka, india', 'hyderabad, hyderabad, india, india', 'dehradun, uttaranchal, india', 'mallaby, bombay, balcistsa, india', 'phagwara, punjab, india', 'klaipeda, indiana, lithuania', 'dharwad, karnataka, india', 'portland, indiana, usa', 'meerut, up, india', 'indore, m.p., india', 'surat, guajarat, india', 'kota, rajasthan, india', 'porvorim, goa, india', 'chennai, tamil nadu (india), india', 'winslow, indiana, usa', 'w lafayette, indiaia, usa', 'so. bend, indiana, usa', 'fort wayne, in, indiana, usa', 'newq delhi, new delhi, india', 'cheenai, tamil nadu, india', 'new palestine, indiana, canada', 'tipton, indiana, usa', 'gnawbone, indiana, usa', 'bahraich, bayern, india', 'whitestown, indiana, usa', 'kannur, indiana, india', 'noordhorn, indiana, netherlands', 'mumbai, maharashrta, india', 'na, indiana, usa', 'kps, maine, india', 'indiana, indiana, usa', 'indialantic, ,', 'vernon, indiana, usa', 'jogjakarta, indiana, indonesia', 'hyderabad, andhra perdesh, india', 'mumbai, maine, india', 'bloomingont, indiana, usa']\n"
          ]
        }
      ]
    },
    {
      "cell_type": "code",
      "source": [
        "location[2]"
      ],
      "metadata": {
        "colab": {
          "base_uri": "https://localhost:8080/",
          "height": 35
        },
        "id": "TbimjwNzHs-e",
        "outputId": "fdc7ed1f-ec39-42e6-aceb-7872bb5d9ccc"
      },
      "execution_count": null,
      "outputs": [
        {
          "output_type": "execute_result",
          "data": {
            "text/plain": [
              "'mumbai, maharashtra, india'"
            ],
            "application/vnd.google.colaboratory.intrinsic+json": {
              "type": "string"
            }
          },
          "metadata": {},
          "execution_count": 42
        }
      ]
    },
    {
      "cell_type": "markdown",
      "source": [
        "The code is includig places in indiana also. we need to correct it. All the locations from Indiana end with 'usa'. lets filter our list again for only indian users."
      ],
      "metadata": {
        "id": "YZnMfqjWCB3V"
      }
    },
    {
      "cell_type": "code",
      "source": [
        "strremove = 'usa'\n",
        "location_updated = []\n",
        "for sub in location:        \n",
        "    flag = 0\n",
        "    if strremove in sub:\n",
        "        flag = 1\n",
        "    else:\n",
        "        location_updated.append(sub)  \n",
        "len(location_updated) # number of unique locations from India "
      ],
      "metadata": {
        "colab": {
          "base_uri": "https://localhost:8080/"
        },
        "id": "VI-ITXDpCIn4",
        "outputId": "35331149-16d2-480d-bc79-2586c281b2f4"
      },
      "execution_count": null,
      "outputs": [
        {
          "output_type": "execute_result",
          "data": {
            "text/plain": [
              "617"
            ]
          },
          "metadata": {},
          "execution_count": 52
        }
      ]
    },
    {
      "cell_type": "code",
      "source": [
        "j1 = 0 #defining a counter\n",
        "for i in list(users['Location'].unique()):\n",
        "  if 'usa' in i:  #checking for every written form of the letter India\n",
        "    j1=j1+1 #updating ccounter\n",
        "print('number of entries from US:', j1)"
      ],
      "metadata": {
        "colab": {
          "base_uri": "https://localhost:8080/"
        },
        "id": "QkJDFfL87i8p",
        "outputId": "2b3e1d90-c0dc-421f-ff44-e50d54bf360a"
      },
      "execution_count": null,
      "outputs": [
        {
          "output_type": "stream",
          "name": "stdout",
          "text": [
            "number of entries from US: 18680\n"
          ]
        }
      ]
    },
    {
      "cell_type": "code",
      "source": [
        "#mergeing the books+ratings data frame with the user info data frame\n",
        "combined = rating_popular_book.merge(users, left_on = 'User-ID', right_on = 'User-ID', how = 'left')\n",
        "# users with location as India or US \n",
        "india_us_user_rating = combined[combined['Location'].str.contains(\"india|usa\")]\n",
        "india_us_user_rating= india_us_user_rating.drop('Age', axis=1)\n",
        "india_us_user_rating.head()"
      ],
      "metadata": {
        "colab": {
          "base_uri": "https://localhost:8080/",
          "height": 206
        },
        "id": "i93_dN0O0igF",
        "outputId": "eb1bf7ed-20b8-4b69-f883-865276649217"
      },
      "execution_count": 27,
      "outputs": [
        {
          "output_type": "execute_result",
          "data": {
            "text/plain": [
              "   User-ID        ISBN  Book-Rating  \\\n",
              "0   277427  002542730X           10   \n",
              "1     3363  002542730X            0   \n",
              "3    12538  002542730X           10   \n",
              "4    13552  002542730X            0   \n",
              "5    16795  002542730X            0   \n",
              "\n",
              "                                          Book-Title  totalRatingCount  \\\n",
              "0  Politically Correct Bedtime Stories: Modern Ta...                82   \n",
              "1  Politically Correct Bedtime Stories: Modern Ta...                82   \n",
              "3  Politically Correct Bedtime Stories: Modern Ta...                82   \n",
              "4  Politically Correct Bedtime Stories: Modern Ta...                82   \n",
              "5  Politically Correct Bedtime Stories: Modern Ta...                82   \n",
              "\n",
              "                        Location  \n",
              "0          gilbert, arizona, usa  \n",
              "1      knoxville, tennessee, usa  \n",
              "3          byron, minnesota, usa  \n",
              "4        cordova, tennessee, usa  \n",
              "5  mechanicsville, maryland, usa  "
            ],
            "text/html": [
              "\n",
              "  <div id=\"df-88b06cde-5430-4913-976e-33d2895ae100\">\n",
              "    <div class=\"colab-df-container\">\n",
              "      <div>\n",
              "<style scoped>\n",
              "    .dataframe tbody tr th:only-of-type {\n",
              "        vertical-align: middle;\n",
              "    }\n",
              "\n",
              "    .dataframe tbody tr th {\n",
              "        vertical-align: top;\n",
              "    }\n",
              "\n",
              "    .dataframe thead th {\n",
              "        text-align: right;\n",
              "    }\n",
              "</style>\n",
              "<table border=\"1\" class=\"dataframe\">\n",
              "  <thead>\n",
              "    <tr style=\"text-align: right;\">\n",
              "      <th></th>\n",
              "      <th>User-ID</th>\n",
              "      <th>ISBN</th>\n",
              "      <th>Book-Rating</th>\n",
              "      <th>Book-Title</th>\n",
              "      <th>totalRatingCount</th>\n",
              "      <th>Location</th>\n",
              "    </tr>\n",
              "  </thead>\n",
              "  <tbody>\n",
              "    <tr>\n",
              "      <th>0</th>\n",
              "      <td>277427</td>\n",
              "      <td>002542730X</td>\n",
              "      <td>10</td>\n",
              "      <td>Politically Correct Bedtime Stories: Modern Ta...</td>\n",
              "      <td>82</td>\n",
              "      <td>gilbert, arizona, usa</td>\n",
              "    </tr>\n",
              "    <tr>\n",
              "      <th>1</th>\n",
              "      <td>3363</td>\n",
              "      <td>002542730X</td>\n",
              "      <td>0</td>\n",
              "      <td>Politically Correct Bedtime Stories: Modern Ta...</td>\n",
              "      <td>82</td>\n",
              "      <td>knoxville, tennessee, usa</td>\n",
              "    </tr>\n",
              "    <tr>\n",
              "      <th>3</th>\n",
              "      <td>12538</td>\n",
              "      <td>002542730X</td>\n",
              "      <td>10</td>\n",
              "      <td>Politically Correct Bedtime Stories: Modern Ta...</td>\n",
              "      <td>82</td>\n",
              "      <td>byron, minnesota, usa</td>\n",
              "    </tr>\n",
              "    <tr>\n",
              "      <th>4</th>\n",
              "      <td>13552</td>\n",
              "      <td>002542730X</td>\n",
              "      <td>0</td>\n",
              "      <td>Politically Correct Bedtime Stories: Modern Ta...</td>\n",
              "      <td>82</td>\n",
              "      <td>cordova, tennessee, usa</td>\n",
              "    </tr>\n",
              "    <tr>\n",
              "      <th>5</th>\n",
              "      <td>16795</td>\n",
              "      <td>002542730X</td>\n",
              "      <td>0</td>\n",
              "      <td>Politically Correct Bedtime Stories: Modern Ta...</td>\n",
              "      <td>82</td>\n",
              "      <td>mechanicsville, maryland, usa</td>\n",
              "    </tr>\n",
              "  </tbody>\n",
              "</table>\n",
              "</div>\n",
              "      <button class=\"colab-df-convert\" onclick=\"convertToInteractive('df-88b06cde-5430-4913-976e-33d2895ae100')\"\n",
              "              title=\"Convert this dataframe to an interactive table.\"\n",
              "              style=\"display:none;\">\n",
              "        \n",
              "  <svg xmlns=\"http://www.w3.org/2000/svg\" height=\"24px\"viewBox=\"0 0 24 24\"\n",
              "       width=\"24px\">\n",
              "    <path d=\"M0 0h24v24H0V0z\" fill=\"none\"/>\n",
              "    <path d=\"M18.56 5.44l.94 2.06.94-2.06 2.06-.94-2.06-.94-.94-2.06-.94 2.06-2.06.94zm-11 1L8.5 8.5l.94-2.06 2.06-.94-2.06-.94L8.5 2.5l-.94 2.06-2.06.94zm10 10l.94 2.06.94-2.06 2.06-.94-2.06-.94-.94-2.06-.94 2.06-2.06.94z\"/><path d=\"M17.41 7.96l-1.37-1.37c-.4-.4-.92-.59-1.43-.59-.52 0-1.04.2-1.43.59L10.3 9.45l-7.72 7.72c-.78.78-.78 2.05 0 2.83L4 21.41c.39.39.9.59 1.41.59.51 0 1.02-.2 1.41-.59l7.78-7.78 2.81-2.81c.8-.78.8-2.07 0-2.86zM5.41 20L4 18.59l7.72-7.72 1.47 1.35L5.41 20z\"/>\n",
              "  </svg>\n",
              "      </button>\n",
              "      \n",
              "  <style>\n",
              "    .colab-df-container {\n",
              "      display:flex;\n",
              "      flex-wrap:wrap;\n",
              "      gap: 12px;\n",
              "    }\n",
              "\n",
              "    .colab-df-convert {\n",
              "      background-color: #E8F0FE;\n",
              "      border: none;\n",
              "      border-radius: 50%;\n",
              "      cursor: pointer;\n",
              "      display: none;\n",
              "      fill: #1967D2;\n",
              "      height: 32px;\n",
              "      padding: 0 0 0 0;\n",
              "      width: 32px;\n",
              "    }\n",
              "\n",
              "    .colab-df-convert:hover {\n",
              "      background-color: #E2EBFA;\n",
              "      box-shadow: 0px 1px 2px rgba(60, 64, 67, 0.3), 0px 1px 3px 1px rgba(60, 64, 67, 0.15);\n",
              "      fill: #174EA6;\n",
              "    }\n",
              "\n",
              "    [theme=dark] .colab-df-convert {\n",
              "      background-color: #3B4455;\n",
              "      fill: #D2E3FC;\n",
              "    }\n",
              "\n",
              "    [theme=dark] .colab-df-convert:hover {\n",
              "      background-color: #434B5C;\n",
              "      box-shadow: 0px 1px 3px 1px rgba(0, 0, 0, 0.15);\n",
              "      filter: drop-shadow(0px 1px 2px rgba(0, 0, 0, 0.3));\n",
              "      fill: #FFFFFF;\n",
              "    }\n",
              "  </style>\n",
              "\n",
              "      <script>\n",
              "        const buttonEl =\n",
              "          document.querySelector('#df-88b06cde-5430-4913-976e-33d2895ae100 button.colab-df-convert');\n",
              "        buttonEl.style.display =\n",
              "          google.colab.kernel.accessAllowed ? 'block' : 'none';\n",
              "\n",
              "        async function convertToInteractive(key) {\n",
              "          const element = document.querySelector('#df-88b06cde-5430-4913-976e-33d2895ae100');\n",
              "          const dataTable =\n",
              "            await google.colab.kernel.invokeFunction('convertToInteractive',\n",
              "                                                     [key], {});\n",
              "          if (!dataTable) return;\n",
              "\n",
              "          const docLinkHtml = 'Like what you see? Visit the ' +\n",
              "            '<a target=\"_blank\" href=https://colab.research.google.com/notebooks/data_table.ipynb>data table notebook</a>'\n",
              "            + ' to learn more about interactive tables.';\n",
              "          element.innerHTML = '';\n",
              "          dataTable['output_type'] = 'display_data';\n",
              "          await google.colab.output.renderOutput(dataTable, element);\n",
              "          const docLink = document.createElement('div');\n",
              "          docLink.innerHTML = docLinkHtml;\n",
              "          element.appendChild(docLink);\n",
              "        }\n",
              "      </script>\n",
              "    </div>\n",
              "  </div>\n",
              "  "
            ]
          },
          "metadata": {},
          "execution_count": 27
        }
      ]
    },
    {
      "cell_type": "markdown",
      "source": [
        "**Implementing KNN**"
      ],
      "metadata": {
        "id": "Vt8YBtvTSmG7"
      }
    },
    {
      "cell_type": "markdown",
      "source": [
        "We use unsupervised algorithms with sklearn.neighbors. The algorithm we use to compute the nearest neighbors is “brute”, and we specify “metric=cosine” so that the algorithm will calculate the cosine similarity between rating vectors. Finally, we fit the model."
      ],
      "metadata": {
        "id": "UKS7Do3ETtGU"
      }
    },
    {
      "cell_type": "code",
      "source": [
        "from scipy.sparse import csr_matrix\n",
        "from sklearn.neighbors import NearestNeighbors\n",
        "\n",
        "india_us_user_rating = india_us_user_rating.drop_duplicates(['User-ID', 'Book-Rating'])  #dropping duplicates since we dont need it in the pivot matrix\n",
        "india_us_user_rating_pivot = india_us_user_rating.pivot(index = 'Book-Title', columns = 'User-ID', values = 'Book-Rating').fillna(0) #filling nan values with zeroes\n",
        "plt.spy(india_us_user_rating_pivot) #checking the non-zero values in the matrix\n",
        "india_us_user_rating_matrix = csr_matrix(india_us_user_rating_pivot.values)\n",
        "model_knn = NearestNeighbors(metric = 'cosine', algorithm = 'brute')\n",
        "model_knn.fit(india_us_user_rating_matrix)"
      ],
      "metadata": {
        "colab": {
          "base_uri": "https://localhost:8080/",
          "height": 286
        },
        "id": "C7Ud6WgE0idO",
        "outputId": "8733fdba-64c5-4fba-9346-3637addfd5a4"
      },
      "execution_count": 28,
      "outputs": [
        {
          "output_type": "execute_result",
          "data": {
            "text/plain": [
              "NearestNeighbors(algorithm='brute', metric='cosine')"
            ]
          },
          "metadata": {},
          "execution_count": 28
        },
        {
          "output_type": "display_data",
          "data": {
            "text/plain": [
              "<Figure size 432x288 with 1 Axes>"
            ],
            "image/png": "[encoded data removed]"
          },
          "metadata": {
            "needs_background": "light"
          }
        }
      ]
    },
    {
      "cell_type": "code",
      "source": [
        "plt.spy(india_us_user_rating_matrix)"
      ],
      "metadata": {
        "colab": {
          "base_uri": "https://localhost:8080/",
          "height": 286
        },
        "id": "_tuZlNaJOToC",
        "outputId": "069a72ce-1b72-488b-b727-58f2d3d197af"
      },
      "execution_count": null,
      "outputs": [
        {
          "output_type": "execute_result",
          "data": {
            "text/plain": [
              "<matplotlib.lines.Line2D at 0x7f4d3b8d8290>"
            ]
          },
          "metadata": {},
          "execution_count": 25
        },
        {
          "output_type": "display_data",
          "data": {
            "text/plain": [
              "<Figure size 432x288 with 1 Axes>"
            ],
            "image/png": "[encoded data removed]"
          },
          "metadata": {
            "needs_background": "light"
          }
        }
      ]
    },
    {
      "cell_type": "code",
      "source": [
        "india_us_user_rating_pivot.shape[1]"
      ],
      "metadata": {
        "colab": {
          "base_uri": "https://localhost:8080/"
        },
        "id": "laL5dTFBbMOr",
        "outputId": "f4ef108e-e4d5-4e7c-b506-0c3c6fe72511"
      },
      "execution_count": null,
      "outputs": [
        {
          "output_type": "execute_result",
          "data": {
            "text/plain": [
              "648"
            ]
          },
          "metadata": {},
          "execution_count": 46
        }
      ]
    },
    {
      "cell_type": "code",
      "source": [
        "random_userbook_rating_index = np.random.choice(india_us_user_rating_pivot.shape[0]) #pick a random row from the pivot table\n",
        "distances, indices = model_knn.kneighbors(india_us_user_rating_pivot.iloc[random_userbook_rating_index,].values.reshape(1, -1), n_neighbors = 6) # provide the row as features to the kNN\n",
        "for i in range(0, len(distances.flatten())):   #loop through all he recomendations\n",
        "    if i == 0:  #selected book \n",
        "        print('Recommendations for {0}:\\n'.format(india_us_user_rating_pivot.index[random_userbook_rating_index])) \n",
        "    else:  \n",
        "        #recomendations based on cosine distance of the books from selected book\n",
        "        print('{0}: {1}, with distance of {2}:'.format(i,india_us_user_rating_pivot.index[indices.flatten()[i]], distances.flatten()[i]))\n",
        "        "
      ],
      "metadata": {
        "id": "Y59lz_Cf0irS",
        "colab": {
          "base_uri": "https://localhost:8080/"
        },
        "outputId": "e4ae26d9-0f57-4af4-b251-7fe53ef55938"
      },
      "execution_count": null,
      "outputs": [
        {
          "output_type": "stream",
          "name": "stdout",
          "text": [
            "Recommendations for Stanislaski Brothers (Silhouette Promo):\n",
            "\n",
            "1: Flesh and Blood, with distance of 0.340619526604213:\n",
            "2: Fat Tuesday, with distance of 0.38605938648507954:\n",
            "3: The Dogs of Babel (Today Show Book Club #12), with distance of 0.6213671542794958:\n",
            "4: The Partner, with distance of 0.7349481752309713:\n",
            "5: The Pelican Brief, with distance of 0.8111114349938324:\n"
          ]
        }
      ]
    },
    {
      "cell_type": "code",
      "source": [
        "random_userbook_rating_index = np.random.choice(india_us_user_rating_pivot.shape[0]) #pick a random row from the pivot table\n",
        "distances, indices = model_knn.kneighbors(india_us_user_rating_pivot.iloc[random_userbook_rating_index,].values.reshape(1, -1), n_neighbors = 6) # provide the row as features to the kNN\n",
        "for i in range(0, len(distances.flatten())):\n",
        "    if i == 0:\n",
        "        print('Recommendations for {0}:\\n'.format(india_us_user_rating_pivot.index[random_userbook_rating_index]))\n",
        "    else:\n",
        "        print('{0}: {1}, with distance of {2}:'.format(i,india_us_user_rating_pivot.index[indices.flatten()[i]], distances.flatten()[i]))"
      ],
      "metadata": {
        "colab": {
          "base_uri": "https://localhost:8080/"
        },
        "id": "4aDE04rieMWH",
        "outputId": "cd9f5c90-1508-4763-eaa9-1e59328f020d"
      },
      "execution_count": null,
      "outputs": [
        {
          "output_type": "stream",
          "name": "stdout",
          "text": [
            "Recommendations for Angela's Ashes: A Memoir:\n",
            "\n",
            "1: The Crimson Petal and the White, with distance of 0.21432579868161383:\n",
            "2: C Is for Corpse (Kinsey Millhone Mysteries (Paperback)), with distance of 0.6034547223227122:\n",
            "3: The No. 1 Ladies' Detective Agency (Today Show Book Club #8), with distance of 0.6428458944403548:\n",
            "4: We Were the Mulvaneys, with distance of 0.6631392315733924:\n",
            "5: The Bridges of Madison County, with distance of 0.6956521739130435:\n"
          ]
        }
      ]
    },
    {
      "cell_type": "markdown",
      "source": [
        "We have sucessfully impleted collaborative filering using KNN. The user-interacction matrix that we ended up with was quite small after all the constraints. Lets try to implement KNN again **without any regional constraints**. \n",
        "\n",
        "This time we will apply the **matrix-factorisation method/SVD** method for recommendations. We will assume some latent interactions between the users and items. Then we will try to come up with the user item interaction matrix by ourselves in the process we would be filling the non-interacted items with a rating. We can rank these up for the best recommendations. "
      ],
      "metadata": {
        "id": "t_tPqZdS_E1Z"
      }
    },
    {
      "cell_type": "markdown",
      "source": [
        "### Implementing **Matrix Factorisation** without regional constraints. "
      ],
      "metadata": {
        "id": "ldKsXnFbLeIK"
      }
    },
    {
      "cell_type": "code",
      "source": [
        "# droping duplicates in popular books/ratings matrix before applying any regional constraints \n",
        "rating_popular_book.drop_duplicates(['User-ID','Book-Title'], inplace = True)  #  we will be using this matrix for the matrix factorisation method. \n",
        "rating_popular_book"
      ],
      "metadata": {
        "colab": {
          "base_uri": "https://localhost:8080/",
          "height": 510
        },
        "id": "WdOWZScq_jHq",
        "outputId": "e3e2d651-704d-47bc-8527-035c214545dd"
      },
      "execution_count": 32,
      "outputs": [
        {
          "output_type": "stream",
          "name": "stderr",
          "text": [
            "/usr/local/lib/python3.7/dist-packages/pandas/util/_decorators.py:311: SettingWithCopyWarning: \n",
            "A value is trying to be set on a copy of a slice from a DataFrame\n",
            "\n",
            "See the caveats in the documentation: https://pandas.pydata.org/pandas-docs/stable/user_guide/indexing.html#returning-a-view-versus-a-copy\n",
            "  return func(*args, **kwargs)\n"
          ]
        },
        {
          "output_type": "execute_result",
          "data": {
            "text/plain": [
              "        User-ID        ISBN  Book-Rating  \\\n",
              "0        277427  002542730X           10   \n",
              "1          3363  002542730X            0   \n",
              "2         11676  002542730X            6   \n",
              "3         12538  002542730X           10   \n",
              "4         13552  002542730X            0   \n",
              "...         ...         ...          ...   \n",
              "486713   268932  0192815032            8   \n",
              "487016   269566  0670809381            0   \n",
              "487796   271705  B0001PIOX4            0   \n",
              "488402   274808  0449701913            0   \n",
              "488715   275970  1586210661            9   \n",
              "\n",
              "                                               Book-Title  totalRatingCount  \n",
              "0       Politically Correct Bedtime Stories: Modern Ta...                82  \n",
              "1       Politically Correct Bedtime Stories: Modern Ta...                82  \n",
              "2       Politically Correct Bedtime Stories: Modern Ta...                82  \n",
              "3       Politically Correct Bedtime Stories: Modern Ta...                82  \n",
              "4       Politically Correct Bedtime Stories: Modern Ta...                82  \n",
              "...                                                   ...               ...  \n",
              "486713                                Pride and Prejudice                64  \n",
              "487016                                             Echoes                54  \n",
              "487796                                     Fahrenheit 451               119  \n",
              "488402                                         Homecoming                61  \n",
              "488715                             Me Talk Pretty One Day               146  \n",
              "\n",
              "[60141 rows x 5 columns]"
            ],
            "text/html": [
              "\n",
              "  <div id=\"df-9b3d8058-0a0b-4fbc-a78e-d2d476043855\">\n",
              "    <div class=\"colab-df-container\">\n",
              "      <div>\n",
              "<style scoped>\n",
              "    .dataframe tbody tr th:only-of-type {\n",
              "        vertical-align: middle;\n",
              "    }\n",
              "\n",
              "    .dataframe tbody tr th {\n",
              "        vertical-align: top;\n",
              "    }\n",
              "\n",
              "    .dataframe thead th {\n",
              "        text-align: right;\n",
              "    }\n",
              "</style>\n",
              "<table border=\"1\" class=\"dataframe\">\n",
              "  <thead>\n",
              "    <tr style=\"text-align: right;\">\n",
              "      <th></th>\n",
              "      <th>User-ID</th>\n",
              "      <th>ISBN</th>\n",
              "      <th>Book-Rating</th>\n",
              "      <th>Book-Title</th>\n",
              "      <th>totalRatingCount</th>\n",
              "    </tr>\n",
              "  </thead>\n",
              "  <tbody>\n",
              "    <tr>\n",
              "      <th>0</th>\n",
              "      <td>277427</td>\n",
              "      <td>002542730X</td>\n",
              "      <td>10</td>\n",
              "      <td>Politically Correct Bedtime Stories: Modern Ta...</td>\n",
              "      <td>82</td>\n",
              "    </tr>\n",
              "    <tr>\n",
              "      <th>1</th>\n",
              "      <td>3363</td>\n",
              "      <td>002542730X</td>\n",
              "      <td>0</td>\n",
              "      <td>Politically Correct Bedtime Stories: Modern Ta...</td>\n",
              "      <td>82</td>\n",
              "    </tr>\n",
              "    <tr>\n",
              "      <th>2</th>\n",
              "      <td>11676</td>\n",
              "      <td>002542730X</td>\n",
              "      <td>6</td>\n",
              "      <td>Politically Correct Bedtime Stories: Modern Ta...</td>\n",
              "      <td>82</td>\n",
              "    </tr>\n",
              "    <tr>\n",
              "      <th>3</th>\n",
              "      <td>12538</td>\n",
              "      <td>002542730X</td>\n",
              "      <td>10</td>\n",
              "      <td>Politically Correct Bedtime Stories: Modern Ta...</td>\n",
              "      <td>82</td>\n",
              "    </tr>\n",
              "    <tr>\n",
              "      <th>4</th>\n",
              "      <td>13552</td>\n",
              "      <td>002542730X</td>\n",
              "      <td>0</td>\n",
              "      <td>Politically Correct Bedtime Stories: Modern Ta...</td>\n",
              "      <td>82</td>\n",
              "    </tr>\n",
              "    <tr>\n",
              "      <th>...</th>\n",
              "      <td>...</td>\n",
              "      <td>...</td>\n",
              "      <td>...</td>\n",
              "      <td>...</td>\n",
              "      <td>...</td>\n",
              "    </tr>\n",
              "    <tr>\n",
              "      <th>486713</th>\n",
              "      <td>268932</td>\n",
              "      <td>0192815032</td>\n",
              "      <td>8</td>\n",
              "      <td>Pride and Prejudice</td>\n",
              "      <td>64</td>\n",
              "    </tr>\n",
              "    <tr>\n",
              "      <th>487016</th>\n",
              "      <td>269566</td>\n",
              "      <td>0670809381</td>\n",
              "      <td>0</td>\n",
              "      <td>Echoes</td>\n",
              "      <td>54</td>\n",
              "    </tr>\n",
              "    <tr>\n",
              "      <th>487796</th>\n",
              "      <td>271705</td>\n",
              "      <td>B0001PIOX4</td>\n",
              "      <td>0</td>\n",
              "      <td>Fahrenheit 451</td>\n",
              "      <td>119</td>\n",
              "    </tr>\n",
              "    <tr>\n",
              "      <th>488402</th>\n",
              "      <td>274808</td>\n",
              "      <td>0449701913</td>\n",
              "      <td>0</td>\n",
              "      <td>Homecoming</td>\n",
              "      <td>61</td>\n",
              "    </tr>\n",
              "    <tr>\n",
              "      <th>488715</th>\n",
              "      <td>275970</td>\n",
              "      <td>1586210661</td>\n",
              "      <td>9</td>\n",
              "      <td>Me Talk Pretty One Day</td>\n",
              "      <td>146</td>\n",
              "    </tr>\n",
              "  </tbody>\n",
              "</table>\n",
              "<p>60141 rows × 5 columns</p>\n",
              "</div>\n",
              "      <button class=\"colab-df-convert\" onclick=\"convertToInteractive('df-9b3d8058-0a0b-4fbc-a78e-d2d476043855')\"\n",
              "              title=\"Convert this dataframe to an interactive table.\"\n",
              "              style=\"display:none;\">\n",
              "        \n",
              "  <svg xmlns=\"http://www.w3.org/2000/svg\" height=\"24px\"viewBox=\"0 0 24 24\"\n",
              "       width=\"24px\">\n",
              "    <path d=\"M0 0h24v24H0V0z\" fill=\"none\"/>\n",
              "    <path d=\"M18.56 5.44l.94 2.06.94-2.06 2.06-.94-2.06-.94-.94-2.06-.94 2.06-2.06.94zm-11 1L8.5 8.5l.94-2.06 2.06-.94-2.06-.94L8.5 2.5l-.94 2.06-2.06.94zm10 10l.94 2.06.94-2.06 2.06-.94-2.06-.94-.94-2.06-.94 2.06-2.06.94z\"/><path d=\"M17.41 7.96l-1.37-1.37c-.4-.4-.92-.59-1.43-.59-.52 0-1.04.2-1.43.59L10.3 9.45l-7.72 7.72c-.78.78-.78 2.05 0 2.83L4 21.41c.39.39.9.59 1.41.59.51 0 1.02-.2 1.41-.59l7.78-7.78 2.81-2.81c.8-.78.8-2.07 0-2.86zM5.41 20L4 18.59l7.72-7.72 1.47 1.35L5.41 20z\"/>\n",
              "  </svg>\n",
              "      </button>\n",
              "      \n",
              "  <style>\n",
              "    .colab-df-container {\n",
              "      display:flex;\n",
              "      flex-wrap:wrap;\n",
              "      gap: 12px;\n",
              "    }\n",
              "\n",
              "    .colab-df-convert {\n",
              "      background-color: #E8F0FE;\n",
              "      border: none;\n",
              "      border-radius: 50%;\n",
              "      cursor: pointer;\n",
              "      display: none;\n",
              "      fill: #1967D2;\n",
              "      height: 32px;\n",
              "      padding: 0 0 0 0;\n",
              "      width: 32px;\n",
              "    }\n",
              "\n",
              "    .colab-df-convert:hover {\n",
              "      background-color: #E2EBFA;\n",
              "      box-shadow: 0px 1px 2px rgba(60, 64, 67, 0.3), 0px 1px 3px 1px rgba(60, 64, 67, 0.15);\n",
              "      fill: #174EA6;\n",
              "    }\n",
              "\n",
              "    [theme=dark] .colab-df-convert {\n",
              "      background-color: #3B4455;\n",
              "      fill: #D2E3FC;\n",
              "    }\n",
              "\n",
              "    [theme=dark] .colab-df-convert:hover {\n",
              "      background-color: #434B5C;\n",
              "      box-shadow: 0px 1px 3px 1px rgba(0, 0, 0, 0.15);\n",
              "      filter: drop-shadow(0px 1px 2px rgba(0, 0, 0, 0.3));\n",
              "      fill: #FFFFFF;\n",
              "    }\n",
              "  </style>\n",
              "\n",
              "      <script>\n",
              "        const buttonEl =\n",
              "          document.querySelector('#df-9b3d8058-0a0b-4fbc-a78e-d2d476043855 button.colab-df-convert');\n",
              "        buttonEl.style.display =\n",
              "          google.colab.kernel.accessAllowed ? 'block' : 'none';\n",
              "\n",
              "        async function convertToInteractive(key) {\n",
              "          const element = document.querySelector('#df-9b3d8058-0a0b-4fbc-a78e-d2d476043855');\n",
              "          const dataTable =\n",
              "            await google.colab.kernel.invokeFunction('convertToInteractive',\n",
              "                                                     [key], {});\n",
              "          if (!dataTable) return;\n",
              "\n",
              "          const docLinkHtml = 'Like what you see? Visit the ' +\n",
              "            '<a target=\"_blank\" href=https://colab.research.google.com/notebooks/data_table.ipynb>data table notebook</a>'\n",
              "            + ' to learn more about interactive tables.';\n",
              "          element.innerHTML = '';\n",
              "          dataTable['output_type'] = 'display_data';\n",
              "          await google.colab.output.renderOutput(dataTable, element);\n",
              "          const docLink = document.createElement('div');\n",
              "          docLink.innerHTML = docLinkHtml;\n",
              "          element.appendChild(docLink);\n",
              "        }\n",
              "      </script>\n",
              "    </div>\n",
              "  </div>\n",
              "  "
            ]
          },
          "metadata": {},
          "execution_count": 32
        }
      ]
    },
    {
      "cell_type": "code",
      "source": [
        "#Creating a sparse pivot table with users in rows and items in columns\n",
        "pivot_matrix_allregions = rating_popular_book.pivot(index='User-ID', columns='Book-Title', values='Book-Rating').fillna(0)\n",
        "plt.spy(pivot_matrix_allregions)\n",
        "pivot_matrix_allregions"
      ],
      "metadata": {
        "colab": {
          "base_uri": "https://localhost:8080/",
          "height": 890
        },
        "id": "sns4sIqEkEZ8",
        "outputId": "09d7180c-558d-4959-ad33-b9d6bfa3372a"
      },
      "execution_count": 40,
      "outputs": [
        {
          "output_type": "execute_result",
          "data": {
            "text/plain": [
              "Book-Title  1984  1st to Die: A Novel  2nd Chance  4 Blondes  \\\n",
              "User-ID                                                        \n",
              "254          9.0                  0.0         0.0        0.0   \n",
              "2276         0.0                  0.0        10.0        0.0   \n",
              "2766         0.0                  0.0         0.0        0.0   \n",
              "2977         0.0                  0.0         0.0        0.0   \n",
              "3363         0.0                  0.0         0.0        0.0   \n",
              "...          ...                  ...         ...        ...   \n",
              "275970       0.0                  0.0         0.0        0.0   \n",
              "277427       0.0                  0.0         0.0        0.0   \n",
              "277478       0.0                  0.0         0.0        0.0   \n",
              "277639       0.0                  0.0         0.0        0.0   \n",
              "278418       0.0                  0.0         0.0        0.0   \n",
              "\n",
              "Book-Title  84 Charing Cross Road  A Bend in the Road  A Case of Need  \\\n",
              "User-ID                                                                 \n",
              "254                           0.0                 0.0             0.0   \n",
              "2276                          0.0                 0.0             0.0   \n",
              "2766                          0.0                 7.0             0.0   \n",
              "2977                          0.0                 0.0             0.0   \n",
              "3363                          0.0                 0.0             0.0   \n",
              "...                           ...                 ...             ...   \n",
              "275970                       10.0                 0.0             0.0   \n",
              "277427                        0.0                 0.0             0.0   \n",
              "277478                        0.0                 0.0             0.0   \n",
              "277639                        0.0                 0.0             0.0   \n",
              "278418                        0.0                 0.0             0.0   \n",
              "\n",
              "Book-Title  A Child Called \\It\\\": One Child's Courage to Survive\"  \\\n",
              "User-ID                                                             \n",
              "254                                                       0.0       \n",
              "2276                                                      0.0       \n",
              "2766                                                      0.0       \n",
              "2977                                                      0.0       \n",
              "3363                                                      0.0       \n",
              "...                                                       ...       \n",
              "275970                                                    0.0       \n",
              "277427                                                    0.0       \n",
              "277478                                                    0.0       \n",
              "277639                                                    0.0       \n",
              "278418                                                    0.0       \n",
              "\n",
              "Book-Title  A Civil Action  A Cry In The Night  ...  Winter Solstice  \\\n",
              "User-ID                                         ...                    \n",
              "254                    0.0                 0.0  ...              0.0   \n",
              "2276                   0.0                 0.0  ...              0.0   \n",
              "2766                   0.0                 0.0  ...              0.0   \n",
              "2977                   0.0                 0.0  ...              0.0   \n",
              "3363                   0.0                 0.0  ...              0.0   \n",
              "...                    ...                 ...  ...              ...   \n",
              "275970                 0.0                 0.0  ...              0.0   \n",
              "277427                 0.0                 0.0  ...              0.0   \n",
              "277478                 0.0                 0.0  ...              0.0   \n",
              "277639                 0.0                 0.0  ...              0.0   \n",
              "278418                 0.0                 0.0  ...              0.0   \n",
              "\n",
              "Book-Title  Wish You Well  Without Remorse  \\\n",
              "User-ID                                      \n",
              "254                   0.0              0.0   \n",
              "2276                  0.0              0.0   \n",
              "2766                  0.0              0.0   \n",
              "2977                  0.0              0.0   \n",
              "3363                  0.0              0.0   \n",
              "...                   ...              ...   \n",
              "275970                0.0              0.0   \n",
              "277427                0.0              0.0   \n",
              "277478                0.0              0.0   \n",
              "277639                0.0              0.0   \n",
              "278418                0.0              0.0   \n",
              "\n",
              "Book-Title  Wizard and Glass (The Dark Tower, Book 4)  Wuthering Heights  \\\n",
              "User-ID                                                                    \n",
              "254                                               0.0                0.0   \n",
              "2276                                              0.0                0.0   \n",
              "2766                                              0.0                0.0   \n",
              "2977                                              0.0                0.0   \n",
              "3363                                              0.0                0.0   \n",
              "...                                               ...                ...   \n",
              "275970                                            0.0                0.0   \n",
              "277427                                            0.0                0.0   \n",
              "277478                                            0.0                0.0   \n",
              "277639                                            0.0                0.0   \n",
              "278418                                            0.0                0.0   \n",
              "\n",
              "Book-Title  Year of Wonders  You Belong To Me  \\\n",
              "User-ID                                         \n",
              "254                     0.0               0.0   \n",
              "2276                    0.0               0.0   \n",
              "2766                    0.0               0.0   \n",
              "2977                    7.0               0.0   \n",
              "3363                    0.0               0.0   \n",
              "...                     ...               ...   \n",
              "275970                  0.0               0.0   \n",
              "277427                  0.0               0.0   \n",
              "277478                  0.0               0.0   \n",
              "277639                  0.0               0.0   \n",
              "278418                  0.0               0.0   \n",
              "\n",
              "Book-Title  Zen and the Art of Motorcycle Maintenance: An Inquiry into Values  \\\n",
              "User-ID                                                                         \n",
              "254                                                       0.0                   \n",
              "2276                                                      0.0                   \n",
              "2766                                                      0.0                   \n",
              "2977                                                      0.0                   \n",
              "3363                                                      0.0                   \n",
              "...                                                       ...                   \n",
              "275970                                                    0.0                   \n",
              "277427                                                    0.0                   \n",
              "277478                                                    0.0                   \n",
              "277639                                                    0.0                   \n",
              "278418                                                    0.0                   \n",
              "\n",
              "Book-Title  Zoya  \\O\\\" Is for Outlaw\"  \n",
              "User-ID                                \n",
              "254          0.0                  0.0  \n",
              "2276         0.0                  0.0  \n",
              "2766         0.0                  0.0  \n",
              "2977         0.0                  0.0  \n",
              "3363         0.0                  0.0  \n",
              "...          ...                  ...  \n",
              "275970       0.0                  0.0  \n",
              "277427       0.0                  0.0  \n",
              "277478       0.0                  0.0  \n",
              "277639       0.0                  0.0  \n",
              "278418       0.0                  0.0  \n",
              "\n",
              "[894 rows x 746 columns]"
            ],
            "text/html": [
              "\n",
              "  <div id=\"df-c116e238-9259-4cff-84f0-9ea78afc9a52\">\n",
              "    <div class=\"colab-df-container\">\n",
              "      <div>\n",
              "<style scoped>\n",
              "    .dataframe tbody tr th:only-of-type {\n",
              "        vertical-align: middle;\n",
              "    }\n",
              "\n",
              "    .dataframe tbody tr th {\n",
              "        vertical-align: top;\n",
              "    }\n",
              "\n",
              "    .dataframe thead th {\n",
              "        text-align: right;\n",
              "    }\n",
              "</style>\n",
              "<table border=\"1\" class=\"dataframe\">\n",
              "  <thead>\n",
              "    <tr style=\"text-align: right;\">\n",
              "      <th>Book-Title</th>\n",
              "      <th>1984</th>\n",
              "      <th>1st to Die: A Novel</th>\n",
              "      <th>2nd Chance</th>\n",
              "      <th>4 Blondes</th>\n",
              "      <th>84 Charing Cross Road</th>\n",
              "      <th>A Bend in the Road</th>\n",
              "      <th>A Case of Need</th>\n",
              "      <th>A Child Called \\It\\\": One Child's Courage to Survive\"</th>\n",
              "      <th>A Civil Action</th>\n",
              "      <th>A Cry In The Night</th>\n",
              "      <th>...</th>\n",
              "      <th>Winter Solstice</th>\n",
              "      <th>Wish You Well</th>\n",
              "      <th>Without Remorse</th>\n",
              "      <th>Wizard and Glass (The Dark Tower, Book 4)</th>\n",
              "      <th>Wuthering Heights</th>\n",
              "      <th>Year of Wonders</th>\n",
              "      <th>You Belong To Me</th>\n",
              "      <th>Zen and the Art of Motorcycle Maintenance: An Inquiry into Values</th>\n",
              "      <th>Zoya</th>\n",
              "      <th>\\O\\\" Is for Outlaw\"</th>\n",
              "    </tr>\n",
              "    <tr>\n",
              "      <th>User-ID</th>\n",
              "      <th></th>\n",
              "      <th></th>\n",
              "      <th></th>\n",
              "      <th></th>\n",
              "      <th></th>\n",
              "      <th></th>\n",
              "      <th></th>\n",
              "      <th></th>\n",
              "      <th></th>\n",
              "      <th></th>\n",
              "      <th></th>\n",
              "      <th></th>\n",
              "      <th></th>\n",
              "      <th></th>\n",
              "      <th></th>\n",
              "      <th></th>\n",
              "      <th></th>\n",
              "      <th></th>\n",
              "      <th></th>\n",
              "      <th></th>\n",
              "      <th></th>\n",
              "    </tr>\n",
              "  </thead>\n",
              "  <tbody>\n",
              "    <tr>\n",
              "      <th>254</th>\n",
              "      <td>9.0</td>\n",
              "      <td>0.0</td>\n",
              "      <td>0.0</td>\n",
              "      <td>0.0</td>\n",
              "      <td>0.0</td>\n",
              "      <td>0.0</td>\n",
              "      <td>0.0</td>\n",
              "      <td>0.0</td>\n",
              "      <td>0.0</td>\n",
              "      <td>0.0</td>\n",
              "      <td>...</td>\n",
              "      <td>0.0</td>\n",
              "      <td>0.0</td>\n",
              "      <td>0.0</td>\n",
              "      <td>0.0</td>\n",
              "      <td>0.0</td>\n",
              "      <td>0.0</td>\n",
              "      <td>0.0</td>\n",
              "      <td>0.0</td>\n",
              "      <td>0.0</td>\n",
              "      <td>0.0</td>\n",
              "    </tr>\n",
              "    <tr>\n",
              "      <th>2276</th>\n",
              "      <td>0.0</td>\n",
              "      <td>0.0</td>\n",
              "      <td>10.0</td>\n",
              "      <td>0.0</td>\n",
              "      <td>0.0</td>\n",
              "      <td>0.0</td>\n",
              "      <td>0.0</td>\n",
              "      <td>0.0</td>\n",
              "      <td>0.0</td>\n",
              "      <td>0.0</td>\n",
              "      <td>...</td>\n",
              "      <td>0.0</td>\n",
              "      <td>0.0</td>\n",
              "      <td>0.0</td>\n",
              "      <td>0.0</td>\n",
              "      <td>0.0</td>\n",
              "      <td>0.0</td>\n",
              "      <td>0.0</td>\n",
              "      <td>0.0</td>\n",
              "      <td>0.0</td>\n",
              "      <td>0.0</td>\n",
              "    </tr>\n",
              "    <tr>\n",
              "      <th>2766</th>\n",
              "      <td>0.0</td>\n",
              "      <td>0.0</td>\n",
              "      <td>0.0</td>\n",
              "      <td>0.0</td>\n",
              "      <td>0.0</td>\n",
              "      <td>7.0</td>\n",
              "      <td>0.0</td>\n",
              "      <td>0.0</td>\n",
              "      <td>0.0</td>\n",
              "      <td>0.0</td>\n",
              "      <td>...</td>\n",
              "      <td>0.0</td>\n",
              "      <td>0.0</td>\n",
              "      <td>0.0</td>\n",
              "      <td>0.0</td>\n",
              "      <td>0.0</td>\n",
              "      <td>0.0</td>\n",
              "      <td>0.0</td>\n",
              "      <td>0.0</td>\n",
              "      <td>0.0</td>\n",
              "      <td>0.0</td>\n",
              "    </tr>\n",
              "    <tr>\n",
              "      <th>2977</th>\n",
              "      <td>0.0</td>\n",
              "      <td>0.0</td>\n",
              "      <td>0.0</td>\n",
              "      <td>0.0</td>\n",
              "      <td>0.0</td>\n",
              "      <td>0.0</td>\n",
              "      <td>0.0</td>\n",
              "      <td>0.0</td>\n",
              "      <td>0.0</td>\n",
              "      <td>0.0</td>\n",
              "      <td>...</td>\n",
              "      <td>0.0</td>\n",
              "      <td>0.0</td>\n",
              "      <td>0.0</td>\n",
              "      <td>0.0</td>\n",
              "      <td>0.0</td>\n",
              "      <td>7.0</td>\n",
              "      <td>0.0</td>\n",
              "      <td>0.0</td>\n",
              "      <td>0.0</td>\n",
              "      <td>0.0</td>\n",
              "    </tr>\n",
              "    <tr>\n",
              "      <th>3363</th>\n",
              "      <td>0.0</td>\n",
              "      <td>0.0</td>\n",
              "      <td>0.0</td>\n",
              "      <td>0.0</td>\n",
              "      <td>0.0</td>\n",
              "      <td>0.0</td>\n",
              "      <td>0.0</td>\n",
              "      <td>0.0</td>\n",
              "      <td>0.0</td>\n",
              "      <td>0.0</td>\n",
              "      <td>...</td>\n",
              "      <td>0.0</td>\n",
              "      <td>0.0</td>\n",
              "      <td>0.0</td>\n",
              "      <td>0.0</td>\n",
              "      <td>0.0</td>\n",
              "      <td>0.0</td>\n",
              "      <td>0.0</td>\n",
              "      <td>0.0</td>\n",
              "      <td>0.0</td>\n",
              "      <td>0.0</td>\n",
              "    </tr>\n",
              "    <tr>\n",
              "      <th>...</th>\n",
              "      <td>...</td>\n",
              "      <td>...</td>\n",
              "      <td>...</td>\n",
              "      <td>...</td>\n",
              "      <td>...</td>\n",
              "      <td>...</td>\n",
              "      <td>...</td>\n",
              "      <td>...</td>\n",
              "      <td>...</td>\n",
              "      <td>...</td>\n",
              "      <td>...</td>\n",
              "      <td>...</td>\n",
              "      <td>...</td>\n",
              "      <td>...</td>\n",
              "      <td>...</td>\n",
              "      <td>...</td>\n",
              "      <td>...</td>\n",
              "      <td>...</td>\n",
              "      <td>...</td>\n",
              "      <td>...</td>\n",
              "      <td>...</td>\n",
              "    </tr>\n",
              "    <tr>\n",
              "      <th>275970</th>\n",
              "      <td>0.0</td>\n",
              "      <td>0.0</td>\n",
              "      <td>0.0</td>\n",
              "      <td>0.0</td>\n",
              "      <td>10.0</td>\n",
              "      <td>0.0</td>\n",
              "      <td>0.0</td>\n",
              "      <td>0.0</td>\n",
              "      <td>0.0</td>\n",
              "      <td>0.0</td>\n",
              "      <td>...</td>\n",
              "      <td>0.0</td>\n",
              "      <td>0.0</td>\n",
              "      <td>0.0</td>\n",
              "      <td>0.0</td>\n",
              "      <td>0.0</td>\n",
              "      <td>0.0</td>\n",
              "      <td>0.0</td>\n",
              "      <td>0.0</td>\n",
              "      <td>0.0</td>\n",
              "      <td>0.0</td>\n",
              "    </tr>\n",
              "    <tr>\n",
              "      <th>277427</th>\n",
              "      <td>0.0</td>\n",
              "      <td>0.0</td>\n",
              "      <td>0.0</td>\n",
              "      <td>0.0</td>\n",
              "      <td>0.0</td>\n",
              "      <td>0.0</td>\n",
              "      <td>0.0</td>\n",
              "      <td>0.0</td>\n",
              "      <td>0.0</td>\n",
              "      <td>0.0</td>\n",
              "      <td>...</td>\n",
              "      <td>0.0</td>\n",
              "      <td>0.0</td>\n",
              "      <td>0.0</td>\n",
              "      <td>0.0</td>\n",
              "      <td>0.0</td>\n",
              "      <td>0.0</td>\n",
              "      <td>0.0</td>\n",
              "      <td>0.0</td>\n",
              "      <td>0.0</td>\n",
              "      <td>0.0</td>\n",
              "    </tr>\n",
              "    <tr>\n",
              "      <th>277478</th>\n",
              "      <td>0.0</td>\n",
              "      <td>0.0</td>\n",
              "      <td>0.0</td>\n",
              "      <td>0.0</td>\n",
              "      <td>0.0</td>\n",
              "      <td>0.0</td>\n",
              "      <td>0.0</td>\n",
              "      <td>0.0</td>\n",
              "      <td>0.0</td>\n",
              "      <td>0.0</td>\n",
              "      <td>...</td>\n",
              "      <td>0.0</td>\n",
              "      <td>0.0</td>\n",
              "      <td>0.0</td>\n",
              "      <td>0.0</td>\n",
              "      <td>0.0</td>\n",
              "      <td>0.0</td>\n",
              "      <td>0.0</td>\n",
              "      <td>0.0</td>\n",
              "      <td>0.0</td>\n",
              "      <td>0.0</td>\n",
              "    </tr>\n",
              "    <tr>\n",
              "      <th>277639</th>\n",
              "      <td>0.0</td>\n",
              "      <td>0.0</td>\n",
              "      <td>0.0</td>\n",
              "      <td>0.0</td>\n",
              "      <td>0.0</td>\n",
              "      <td>0.0</td>\n",
              "      <td>0.0</td>\n",
              "      <td>0.0</td>\n",
              "      <td>0.0</td>\n",
              "      <td>0.0</td>\n",
              "      <td>...</td>\n",
              "      <td>0.0</td>\n",
              "      <td>0.0</td>\n",
              "      <td>0.0</td>\n",
              "      <td>0.0</td>\n",
              "      <td>0.0</td>\n",
              "      <td>0.0</td>\n",
              "      <td>0.0</td>\n",
              "      <td>0.0</td>\n",
              "      <td>0.0</td>\n",
              "      <td>0.0</td>\n",
              "    </tr>\n",
              "    <tr>\n",
              "      <th>278418</th>\n",
              "      <td>0.0</td>\n",
              "      <td>0.0</td>\n",
              "      <td>0.0</td>\n",
              "      <td>0.0</td>\n",
              "      <td>0.0</td>\n",
              "      <td>0.0</td>\n",
              "      <td>0.0</td>\n",
              "      <td>0.0</td>\n",
              "      <td>0.0</td>\n",
              "      <td>0.0</td>\n",
              "      <td>...</td>\n",
              "      <td>0.0</td>\n",
              "      <td>0.0</td>\n",
              "      <td>0.0</td>\n",
              "      <td>0.0</td>\n",
              "      <td>0.0</td>\n",
              "      <td>0.0</td>\n",
              "      <td>0.0</td>\n",
              "      <td>0.0</td>\n",
              "      <td>0.0</td>\n",
              "      <td>0.0</td>\n",
              "    </tr>\n",
              "  </tbody>\n",
              "</table>\n",
              "<p>894 rows × 746 columns</p>\n",
              "</div>\n",
              "      <button class=\"colab-df-convert\" onclick=\"convertToInteractive('df-c116e238-9259-4cff-84f0-9ea78afc9a52')\"\n",
              "              title=\"Convert this dataframe to an interactive table.\"\n",
              "              style=\"display:none;\">\n",
              "        \n",
              "  <svg xmlns=\"http://www.w3.org/2000/svg\" height=\"24px\"viewBox=\"0 0 24 24\"\n",
              "       width=\"24px\">\n",
              "    <path d=\"M0 0h24v24H0V0z\" fill=\"none\"/>\n",
              "    <path d=\"M18.56 5.44l.94 2.06.94-2.06 2.06-.94-2.06-.94-.94-2.06-.94 2.06-2.06.94zm-11 1L8.5 8.5l.94-2.06 2.06-.94-2.06-.94L8.5 2.5l-.94 2.06-2.06.94zm10 10l.94 2.06.94-2.06 2.06-.94-2.06-.94-.94-2.06-.94 2.06-2.06.94z\"/><path d=\"M17.41 7.96l-1.37-1.37c-.4-.4-.92-.59-1.43-.59-.52 0-1.04.2-1.43.59L10.3 9.45l-7.72 7.72c-.78.78-.78 2.05 0 2.83L4 21.41c.39.39.9.59 1.41.59.51 0 1.02-.2 1.41-.59l7.78-7.78 2.81-2.81c.8-.78.8-2.07 0-2.86zM5.41 20L4 18.59l7.72-7.72 1.47 1.35L5.41 20z\"/>\n",
              "  </svg>\n",
              "      </button>\n",
              "      \n",
              "  <style>\n",
              "    .colab-df-container {\n",
              "      display:flex;\n",
              "      flex-wrap:wrap;\n",
              "      gap: 12px;\n",
              "    }\n",
              "\n",
              "    .colab-df-convert {\n",
              "      background-color: #E8F0FE;\n",
              "      border: none;\n",
              "      border-radius: 50%;\n",
              "      cursor: pointer;\n",
              "      display: none;\n",
              "      fill: #1967D2;\n",
              "      height: 32px;\n",
              "      padding: 0 0 0 0;\n",
              "      width: 32px;\n",
              "    }\n",
              "\n",
              "    .colab-df-convert:hover {\n",
              "      background-color: #E2EBFA;\n",
              "      box-shadow: 0px 1px 2px rgba(60, 64, 67, 0.3), 0px 1px 3px 1px rgba(60, 64, 67, 0.15);\n",
              "      fill: #174EA6;\n",
              "    }\n",
              "\n",
              "    [theme=dark] .colab-df-convert {\n",
              "      background-color: #3B4455;\n",
              "      fill: #D2E3FC;\n",
              "    }\n",
              "\n",
              "    [theme=dark] .colab-df-convert:hover {\n",
              "      background-color: #434B5C;\n",
              "      box-shadow: 0px 1px 3px 1px rgba(0, 0, 0, 0.15);\n",
              "      filter: drop-shadow(0px 1px 2px rgba(0, 0, 0, 0.3));\n",
              "      fill: #FFFFFF;\n",
              "    }\n",
              "  </style>\n",
              "\n",
              "      <script>\n",
              "        const buttonEl =\n",
              "          document.querySelector('#df-c116e238-9259-4cff-84f0-9ea78afc9a52 button.colab-df-convert');\n",
              "        buttonEl.style.display =\n",
              "          google.colab.kernel.accessAllowed ? 'block' : 'none';\n",
              "\n",
              "        async function convertToInteractive(key) {\n",
              "          const element = document.querySelector('#df-c116e238-9259-4cff-84f0-9ea78afc9a52');\n",
              "          const dataTable =\n",
              "            await google.colab.kernel.invokeFunction('convertToInteractive',\n",
              "                                                     [key], {});\n",
              "          if (!dataTable) return;\n",
              "\n",
              "          const docLinkHtml = 'Like what you see? Visit the ' +\n",
              "            '<a target=\"_blank\" href=https://colab.research.google.com/notebooks/data_table.ipynb>data table notebook</a>'\n",
              "            + ' to learn more about interactive tables.';\n",
              "          element.innerHTML = '';\n",
              "          dataTable['output_type'] = 'display_data';\n",
              "          await google.colab.output.renderOutput(dataTable, element);\n",
              "          const docLink = document.createElement('div');\n",
              "          docLink.innerHTML = docLinkHtml;\n",
              "          element.appendChild(docLink);\n",
              "        }\n",
              "      </script>\n",
              "    </div>\n",
              "  </div>\n",
              "  "
            ]
          },
          "metadata": {},
          "execution_count": 40
        },
        {
          "output_type": "display_data",
          "data": {
            "text/plain": [
              "<Figure size 432x288 with 1 Axes>"
            ],
            "image/png": "[encoded data removed]"
          },
          "metadata": {
            "needs_background": "light"
          }
        }
      ]
    },
    {
      "cell_type": "code",
      "source": [
        "from scipy.sparse.linalg import svds\n",
        "# The number of factors to factor the user-item matrix.\n",
        "NUMBER_OF_FACTORS_MF = 15\n",
        "\n",
        "#Performs matrix factorization of the original user item matrix\n",
        "U, sigma, Vt = svds(pivot_matrix_allregions, k = NUMBER_OF_FACTORS_MF)"
      ],
      "metadata": {
        "id": "8vL5XrIakEdF"
      },
      "execution_count": 43,
      "outputs": []
    },
    {
      "cell_type": "code",
      "source": [
        "#checking shapes\n",
        "print(U.shape)\n",
        "print(sigma.shape)\n",
        "print(Vt.shape)"
      ],
      "metadata": {
        "colab": {
          "base_uri": "https://localhost:8080/"
        },
        "id": "Gkj9qZIokEf6",
        "outputId": "3d86f29d-1bf1-43d9-a19b-762b5c88bf78"
      },
      "execution_count": 44,
      "outputs": [
        {
          "output_type": "stream",
          "name": "stdout",
          "text": [
            "(894, 15)\n",
            "(15,)\n",
            "(15, 746)\n"
          ]
        }
      ]
    },
    {
      "cell_type": "code",
      "source": [
        "sigma"
      ],
      "metadata": {
        "colab": {
          "base_uri": "https://localhost:8080/"
        },
        "id": "jGvZSLEZEGqi",
        "outputId": "c806e453-edd2-4657-ad18-e105448befa6"
      },
      "execution_count": 48,
      "outputs": [
        {
          "output_type": "execute_result",
          "data": {
            "text/plain": [
              "array([ 86.63862076,  88.62271455,  89.33388264,  92.30510015,\n",
              "        93.47271901,  94.87040196,  99.46927123, 101.96321733,\n",
              "       105.39878273, 115.42274119, 120.5341772 , 129.71626528,\n",
              "       135.06104504, 147.9463507 , 274.04596752])"
            ]
          },
          "metadata": {},
          "execution_count": 48
        }
      ]
    },
    {
      "cell_type": "markdown",
      "source": [
        "Sigma here is an 1-d array with 15 elements we need to convert it to a diagonal matrix so that the matrix multiplication goes smoothly and the dimensions are correct."
      ],
      "metadata": {
        "id": "dNxc1v4REJEa"
      }
    },
    {
      "cell_type": "code",
      "source": [
        "#making sigma a diagonal matrix\n",
        "sigma = np.diag(sigma)"
      ],
      "metadata": {
        "id": "CPkDwT2EEkPv"
      },
      "execution_count": 50,
      "outputs": []
    },
    {
      "cell_type": "code",
      "source": [
        "#reconstructing the original matrix without any zeros \n",
        "all_user_predicted_ratings = np.dot(np.dot(U, sigma), Vt) \n",
        "all_user_predicted_ratings "
      ],
      "metadata": {
        "colab": {
          "base_uri": "https://localhost:8080/",
          "height": 200
        },
        "id": "NNV0Cj31AFNM",
        "outputId": "5b5718b3-291d-4533-ab5f-4630390737c2"
      },
      "execution_count": 1,
      "outputs": [
        {
          "output_type": "error",
          "ename": "NameError",
          "evalue": "ignored",
          "traceback": [
            "\u001b[0;31m---------------------------------------------------------------------------\u001b[0m",
            "\u001b[0;31mNameError\u001b[0m                                 Traceback (most recent call last)",
            "\u001b[0;32m<ipython-input-1-8889fa99a17c>\u001b[0m in \u001b[0;36m<module>\u001b[0;34m()\u001b[0m\n\u001b[1;32m      1\u001b[0m \u001b[0;31m#reconstructing the original matrix without any zeros\u001b[0m\u001b[0;34m\u001b[0m\u001b[0;34m\u001b[0m\u001b[0;34m\u001b[0m\u001b[0m\n\u001b[0;32m----> 2\u001b[0;31m \u001b[0mall_user_predicted_ratings\u001b[0m \u001b[0;34m=\u001b[0m \u001b[0mnp\u001b[0m\u001b[0;34m.\u001b[0m\u001b[0mdot\u001b[0m\u001b[0;34m(\u001b[0m\u001b[0mnp\u001b[0m\u001b[0;34m.\u001b[0m\u001b[0mdot\u001b[0m\u001b[0;34m(\u001b[0m\u001b[0mU\u001b[0m\u001b[0;34m,\u001b[0m \u001b[0msigma\u001b[0m\u001b[0;34m)\u001b[0m\u001b[0;34m,\u001b[0m \u001b[0mVt\u001b[0m\u001b[0;34m)\u001b[0m\u001b[0;34m\u001b[0m\u001b[0;34m\u001b[0m\u001b[0m\n\u001b[0m\u001b[1;32m      3\u001b[0m \u001b[0mall_user_predicted_ratings\u001b[0m\u001b[0;34m\u001b[0m\u001b[0;34m\u001b[0m\u001b[0m\n",
            "\u001b[0;31mNameError\u001b[0m: name 'np' is not defined"
          ]
        }
      ]
    },
    {
      "cell_type": "code",
      "source": [
        ""
      ],
      "metadata": {
        "id": "snpDB6KaDyPh"
      },
      "execution_count": null,
      "outputs": []
    },
    {
      "cell_type": "code",
      "source": [
        ""
      ],
      "metadata": {
        "id": "GAzsomtjFDe9"
      },
      "execution_count": null,
      "outputs": []
    },
    {
      "cell_type": "code",
      "source": [
        ""
      ],
      "metadata": {
        "id": "OvfOxqwOFElS"
      },
      "execution_count": null,
      "outputs": []
    },
    {
      "cell_type": "code",
      "source": [
        ""
      ],
      "metadata": {
        "id": "EcGzNwgkFFWp"
      },
      "execution_count": null,
      "outputs": []
    }
  ]
}