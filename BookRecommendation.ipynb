{
  "nbformat": 4,
  "nbformat_minor": 0,
  "metadata": {
    "colab": {
      "name": "BookRecommendation.ipynb",
      "provenance": [],
      "authorship_tag": "ABX9TyPcepFjlDElwcOCIMNGK0i5",
      "include_colab_link": true
    },
    "kernelspec": {
      "name": "python3",
      "display_name": "Python 3"
    },
    "language_info": {
      "name": "python"
    }
  },
  "cells": [
    {
      "cell_type": "markdown",
      "metadata": {
        "id": "view-in-github",
        "colab_type": "text"
      },
      "source": [
        "<a href=\"https://colab.research.google.com/github/Ayushman0Singh/BookRecommendationSystem/blob/main/BookRecommendation.ipynb\" target=\"_parent\"><img src=\"https://colab.research.google.com/assets/colab-badge.svg\" alt=\"Open In Colab\"/></a>"
      ]
    },
    {
      "cell_type": "markdown",
      "source": [
        "# **BOOK RECOMMENDATION**"
      ],
      "metadata": {
        "id": "Lm756o33cRpZ"
      }
    },
    {
      "cell_type": "markdown",
      "source": [
        "# Business Problem"
      ],
      "metadata": {
        "id": "MdHEEq-PfNxa"
      }
    },
    {
      "cell_type": "markdown",
      "source": [
        "Online book reading and selling websites like Kindle and Goodreads compete against each other on many factors. One of those important factors is their book recommendation system. A book recommendation system is designed to recommend books of interest to the buyer.\n",
        "\n",
        "\n",
        "The purpose of a book recommendation system is to predict buyer’s interest and recommend books to them accordingly. A book recommendation system can take into account many parameters like book content and book quality by filtering user reviews.I will try to make a recommendation system for our given data set."
      ],
      "metadata": {
        "id": "92MpluFddPnA"
      }
    },
    {
      "cell_type": "code",
      "execution_count": 2,
      "metadata": {
        "id": "J5L4ImAmp14J"
      },
      "outputs": [],
      "source": [
        "#importing necessary libraries \n",
        "import numpy as np \n",
        "import pandas as pd\n",
        "import seaborn as sns\n",
        "import matplotlib.pyplot as plt\n",
        "from sklearn.model_selection import train_test_split\n",
        "import random\n",
        "# we will import libraries further as per need"
      ]
    },
    {
      "cell_type": "code",
      "source": [
        "from google.colab import drive # mounting drive\n",
        "drive.mount('/content/drive')"
      ],
      "metadata": {
        "colab": {
          "base_uri": "https://localhost:8080/"
        },
        "id": "mRjjIHfUf6XQ",
        "outputId": "e7463921-156c-4dca-963e-95db601ac695"
      },
      "execution_count": 3,
      "outputs": [
        {
          "output_type": "stream",
          "name": "stdout",
          "text": [
            "Mounted at /content/drive\n"
          ]
        }
      ]
    },
    {
      "cell_type": "markdown",
      "source": [
        "We have been given 3 data sets, Lets have a look at all the data provided to us and its properties"
      ],
      "metadata": {
        "id": "aSYyTsCWg42p"
      }
    },
    {
      "cell_type": "code",
      "source": [
        "books = pd.read_csv(\"/content/drive/MyDrive/Almabetter/Capstone Projects/Unsupervised ML/Copy of Books.csv\")\n",
        "users = pd.read_csv(\"/content/drive/MyDrive/Almabetter/Capstone Projects/Unsupervised ML/Copy of Users.csv\")\n",
        "ratings = pd.read_csv(\"/content/drive/MyDrive/Almabetter/Capstone Projects/Unsupervised ML/Copy of Ratings.csv\")"
      ],
      "metadata": {
        "colab": {
          "base_uri": "https://localhost:8080/"
        },
        "id": "KBugC6Wnfq5G",
        "outputId": "20ca55f8-c6e6-44c2-de64-8c876e60110f"
      },
      "execution_count": 4,
      "outputs": [
        {
          "output_type": "stream",
          "name": "stderr",
          "text": [
            "/usr/local/lib/python3.7/dist-packages/IPython/core/interactiveshell.py:2882: DtypeWarning: Columns (3) have mixed types.Specify dtype option on import or set low_memory=False.\n",
            "  exec(code_obj, self.user_global_ns, self.user_ns)\n"
          ]
        }
      ]
    },
    {
      "cell_type": "code",
      "source": [
        "books.head(4) # checking the head and columns "
      ],
      "metadata": {
        "colab": {
          "base_uri": "https://localhost:8080/",
          "height": 412
        },
        "id": "gGqsJCshhoJK",
        "outputId": "954eed8c-16e7-4cd8-e49f-6abeefe6d1b8"
      },
      "execution_count": null,
      "outputs": [
        {
          "output_type": "execute_result",
          "data": {
            "text/plain": [
              "         ISBN                                         Book-Title  \\\n",
              "0  0195153448                                Classical Mythology   \n",
              "1  0002005018                                       Clara Callan   \n",
              "2  0060973129                               Decision in Normandy   \n",
              "3  0374157065  Flu: The Story of the Great Influenza Pandemic...   \n",
              "\n",
              "            Book-Author Year-Of-Publication                Publisher  \\\n",
              "0    Mark P. O. Morford                2002  Oxford University Press   \n",
              "1  Richard Bruce Wright                2001    HarperFlamingo Canada   \n",
              "2          Carlo D'Este                1991          HarperPerennial   \n",
              "3      Gina Bari Kolata                1999     Farrar Straus Giroux   \n",
              "\n",
              "                                         Image-URL-S  \\\n",
              "0  http://images.amazon.com/images/P/0195153448.0...   \n",
              "1  http://images.amazon.com/images/P/0002005018.0...   \n",
              "2  http://images.amazon.com/images/P/0060973129.0...   \n",
              "3  http://images.amazon.com/images/P/0374157065.0...   \n",
              "\n",
              "                                         Image-URL-M  \\\n",
              "0  http://images.amazon.com/images/P/0195153448.0...   \n",
              "1  http://images.amazon.com/images/P/0002005018.0...   \n",
              "2  http://images.amazon.com/images/P/0060973129.0...   \n",
              "3  http://images.amazon.com/images/P/0374157065.0...   \n",
              "\n",
              "                                         Image-URL-L  \n",
              "0  http://images.amazon.com/images/P/0195153448.0...  \n",
              "1  http://images.amazon.com/images/P/0002005018.0...  \n",
              "2  http://images.amazon.com/images/P/0060973129.0...  \n",
              "3  http://images.amazon.com/images/P/0374157065.0...  "
            ],
            "text/html": [
              "\n",
              "  <div id=\"df-57afe081-05cd-4a6f-8511-4b05a153b65d\">\n",
              "    <div class=\"colab-df-container\">\n",
              "      <div>\n",
              "<style scoped>\n",
              "    .dataframe tbody tr th:only-of-type {\n",
              "        vertical-align: middle;\n",
              "    }\n",
              "\n",
              "    .dataframe tbody tr th {\n",
              "        vertical-align: top;\n",
              "    }\n",
              "\n",
              "    .dataframe thead th {\n",
              "        text-align: right;\n",
              "    }\n",
              "</style>\n",
              "<table border=\"1\" class=\"dataframe\">\n",
              "  <thead>\n",
              "    <tr style=\"text-align: right;\">\n",
              "      <th></th>\n",
              "      <th>ISBN</th>\n",
              "      <th>Book-Title</th>\n",
              "      <th>Book-Author</th>\n",
              "      <th>Year-Of-Publication</th>\n",
              "      <th>Publisher</th>\n",
              "      <th>Image-URL-S</th>\n",
              "      <th>Image-URL-M</th>\n",
              "      <th>Image-URL-L</th>\n",
              "    </tr>\n",
              "  </thead>\n",
              "  <tbody>\n",
              "    <tr>\n",
              "      <th>0</th>\n",
              "      <td>0195153448</td>\n",
              "      <td>Classical Mythology</td>\n",
              "      <td>Mark P. O. Morford</td>\n",
              "      <td>2002</td>\n",
              "      <td>Oxford University Press</td>\n",
              "      <td>http://images.amazon.com/images/P/0195153448.0...</td>\n",
              "      <td>http://images.amazon.com/images/P/0195153448.0...</td>\n",
              "      <td>http://images.amazon.com/images/P/0195153448.0...</td>\n",
              "    </tr>\n",
              "    <tr>\n",
              "      <th>1</th>\n",
              "      <td>0002005018</td>\n",
              "      <td>Clara Callan</td>\n",
              "      <td>Richard Bruce Wright</td>\n",
              "      <td>2001</td>\n",
              "      <td>HarperFlamingo Canada</td>\n",
              "      <td>http://images.amazon.com/images/P/0002005018.0...</td>\n",
              "      <td>http://images.amazon.com/images/P/0002005018.0...</td>\n",
              "      <td>http://images.amazon.com/images/P/0002005018.0...</td>\n",
              "    </tr>\n",
              "    <tr>\n",
              "      <th>2</th>\n",
              "      <td>0060973129</td>\n",
              "      <td>Decision in Normandy</td>\n",
              "      <td>Carlo D'Este</td>\n",
              "      <td>1991</td>\n",
              "      <td>HarperPerennial</td>\n",
              "      <td>http://images.amazon.com/images/P/0060973129.0...</td>\n",
              "      <td>http://images.amazon.com/images/P/0060973129.0...</td>\n",
              "      <td>http://images.amazon.com/images/P/0060973129.0...</td>\n",
              "    </tr>\n",
              "    <tr>\n",
              "      <th>3</th>\n",
              "      <td>0374157065</td>\n",
              "      <td>Flu: The Story of the Great Influenza Pandemic...</td>\n",
              "      <td>Gina Bari Kolata</td>\n",
              "      <td>1999</td>\n",
              "      <td>Farrar Straus Giroux</td>\n",
              "      <td>http://images.amazon.com/images/P/0374157065.0...</td>\n",
              "      <td>http://images.amazon.com/images/P/0374157065.0...</td>\n",
              "      <td>http://images.amazon.com/images/P/0374157065.0...</td>\n",
              "    </tr>\n",
              "  </tbody>\n",
              "</table>\n",
              "</div>\n",
              "      <button class=\"colab-df-convert\" onclick=\"convertToInteractive('df-57afe081-05cd-4a6f-8511-4b05a153b65d')\"\n",
              "              title=\"Convert this dataframe to an interactive table.\"\n",
              "              style=\"display:none;\">\n",
              "        \n",
              "  <svg xmlns=\"http://www.w3.org/2000/svg\" height=\"24px\"viewBox=\"0 0 24 24\"\n",
              "       width=\"24px\">\n",
              "    <path d=\"M0 0h24v24H0V0z\" fill=\"none\"/>\n",
              "    <path d=\"M18.56 5.44l.94 2.06.94-2.06 2.06-.94-2.06-.94-.94-2.06-.94 2.06-2.06.94zm-11 1L8.5 8.5l.94-2.06 2.06-.94-2.06-.94L8.5 2.5l-.94 2.06-2.06.94zm10 10l.94 2.06.94-2.06 2.06-.94-2.06-.94-.94-2.06-.94 2.06-2.06.94z\"/><path d=\"M17.41 7.96l-1.37-1.37c-.4-.4-.92-.59-1.43-.59-.52 0-1.04.2-1.43.59L10.3 9.45l-7.72 7.72c-.78.78-.78 2.05 0 2.83L4 21.41c.39.39.9.59 1.41.59.51 0 1.02-.2 1.41-.59l7.78-7.78 2.81-2.81c.8-.78.8-2.07 0-2.86zM5.41 20L4 18.59l7.72-7.72 1.47 1.35L5.41 20z\"/>\n",
              "  </svg>\n",
              "      </button>\n",
              "      \n",
              "  <style>\n",
              "    .colab-df-container {\n",
              "      display:flex;\n",
              "      flex-wrap:wrap;\n",
              "      gap: 12px;\n",
              "    }\n",
              "\n",
              "    .colab-df-convert {\n",
              "      background-color: #E8F0FE;\n",
              "      border: none;\n",
              "      border-radius: 50%;\n",
              "      cursor: pointer;\n",
              "      display: none;\n",
              "      fill: #1967D2;\n",
              "      height: 32px;\n",
              "      padding: 0 0 0 0;\n",
              "      width: 32px;\n",
              "    }\n",
              "\n",
              "    .colab-df-convert:hover {\n",
              "      background-color: #E2EBFA;\n",
              "      box-shadow: 0px 1px 2px rgba(60, 64, 67, 0.3), 0px 1px 3px 1px rgba(60, 64, 67, 0.15);\n",
              "      fill: #174EA6;\n",
              "    }\n",
              "\n",
              "    [theme=dark] .colab-df-convert {\n",
              "      background-color: #3B4455;\n",
              "      fill: #D2E3FC;\n",
              "    }\n",
              "\n",
              "    [theme=dark] .colab-df-convert:hover {\n",
              "      background-color: #434B5C;\n",
              "      box-shadow: 0px 1px 3px 1px rgba(0, 0, 0, 0.15);\n",
              "      filter: drop-shadow(0px 1px 2px rgba(0, 0, 0, 0.3));\n",
              "      fill: #FFFFFF;\n",
              "    }\n",
              "  </style>\n",
              "\n",
              "      <script>\n",
              "        const buttonEl =\n",
              "          document.querySelector('#df-57afe081-05cd-4a6f-8511-4b05a153b65d button.colab-df-convert');\n",
              "        buttonEl.style.display =\n",
              "          google.colab.kernel.accessAllowed ? 'block' : 'none';\n",
              "\n",
              "        async function convertToInteractive(key) {\n",
              "          const element = document.querySelector('#df-57afe081-05cd-4a6f-8511-4b05a153b65d');\n",
              "          const dataTable =\n",
              "            await google.colab.kernel.invokeFunction('convertToInteractive',\n",
              "                                                     [key], {});\n",
              "          if (!dataTable) return;\n",
              "\n",
              "          const docLinkHtml = 'Like what you see? Visit the ' +\n",
              "            '<a target=\"_blank\" href=https://colab.research.google.com/notebooks/data_table.ipynb>data table notebook</a>'\n",
              "            + ' to learn more about interactive tables.';\n",
              "          element.innerHTML = '';\n",
              "          dataTable['output_type'] = 'display_data';\n",
              "          await google.colab.output.renderOutput(dataTable, element);\n",
              "          const docLink = document.createElement('div');\n",
              "          docLink.innerHTML = docLinkHtml;\n",
              "          element.appendChild(docLink);\n",
              "        }\n",
              "      </script>\n",
              "    </div>\n",
              "  </div>\n",
              "  "
            ]
          },
          "metadata": {},
          "execution_count": 4
        }
      ]
    },
    {
      "cell_type": "code",
      "source": [
        "books[books['Book-Title'] == 'Now You See Her']"
      ],
      "metadata": {
        "colab": {
          "base_uri": "https://localhost:8080/",
          "height": 631
        },
        "id": "qdxmh8F3cfGw",
        "outputId": "17afe524-dc78-46a1-8e36-8d22c07843f9"
      },
      "execution_count": null,
      "outputs": [
        {
          "output_type": "execute_result",
          "data": {
            "text/plain": [
              "              ISBN       Book-Title   Book-Author Year-Of-Publication  \\\n",
              "2129    0743482891  Now You See Her  Linda Howard                2003   \n",
              "10536   0671034057  Now You See Her  Linda Howard                1999   \n",
              "70044   0671568825  Now You See Her  Linda Howard                1998   \n",
              "83507   0679415831  Now You See Her  Whitney Otto                1994   \n",
              "85940   0345378261  Now You See Her  Whitney Otto                1995   \n",
              "148242  0743527534  Now You See Her  Linda Howard                2002   \n",
              "\n",
              "               Publisher                                        Image-URL-S  \\\n",
              "2129        Pocket Books  http://images.amazon.com/images/P/0743482891.0...   \n",
              "10536       Pocket Books  http://images.amazon.com/images/P/0671034057.0...   \n",
              "70044              Atria  http://images.amazon.com/images/P/0671568825.0...   \n",
              "83507   Random House Inc  http://images.amazon.com/images/P/0679415831.0...   \n",
              "85940   Ballantine Books  http://images.amazon.com/images/P/0345378261.0...   \n",
              "148242            Encore  http://images.amazon.com/images/P/0743527534.0...   \n",
              "\n",
              "                                              Image-URL-M  \\\n",
              "2129    http://images.amazon.com/images/P/0743482891.0...   \n",
              "10536   http://images.amazon.com/images/P/0671034057.0...   \n",
              "70044   http://images.amazon.com/images/P/0671568825.0...   \n",
              "83507   http://images.amazon.com/images/P/0679415831.0...   \n",
              "85940   http://images.amazon.com/images/P/0345378261.0...   \n",
              "148242  http://images.amazon.com/images/P/0743527534.0...   \n",
              "\n",
              "                                              Image-URL-L  \n",
              "2129    http://images.amazon.com/images/P/0743482891.0...  \n",
              "10536   http://images.amazon.com/images/P/0671034057.0...  \n",
              "70044   http://images.amazon.com/images/P/0671568825.0...  \n",
              "83507   http://images.amazon.com/images/P/0679415831.0...  \n",
              "85940   http://images.amazon.com/images/P/0345378261.0...  \n",
              "148242  http://images.amazon.com/images/P/0743527534.0...  "
            ],
            "text/html": [
              "\n",
              "  <div id=\"df-8364711b-eb29-48fc-886b-47f3449dfc74\">\n",
              "    <div class=\"colab-df-container\">\n",
              "      <div>\n",
              "<style scoped>\n",
              "    .dataframe tbody tr th:only-of-type {\n",
              "        vertical-align: middle;\n",
              "    }\n",
              "\n",
              "    .dataframe tbody tr th {\n",
              "        vertical-align: top;\n",
              "    }\n",
              "\n",
              "    .dataframe thead th {\n",
              "        text-align: right;\n",
              "    }\n",
              "</style>\n",
              "<table border=\"1\" class=\"dataframe\">\n",
              "  <thead>\n",
              "    <tr style=\"text-align: right;\">\n",
              "      <th></th>\n",
              "      <th>ISBN</th>\n",
              "      <th>Book-Title</th>\n",
              "      <th>Book-Author</th>\n",
              "      <th>Year-Of-Publication</th>\n",
              "      <th>Publisher</th>\n",
              "      <th>Image-URL-S</th>\n",
              "      <th>Image-URL-M</th>\n",
              "      <th>Image-URL-L</th>\n",
              "    </tr>\n",
              "  </thead>\n",
              "  <tbody>\n",
              "    <tr>\n",
              "      <th>2129</th>\n",
              "      <td>0743482891</td>\n",
              "      <td>Now You See Her</td>\n",
              "      <td>Linda Howard</td>\n",
              "      <td>2003</td>\n",
              "      <td>Pocket Books</td>\n",
              "      <td>http://images.amazon.com/images/P/0743482891.0...</td>\n",
              "      <td>http://images.amazon.com/images/P/0743482891.0...</td>\n",
              "      <td>http://images.amazon.com/images/P/0743482891.0...</td>\n",
              "    </tr>\n",
              "    <tr>\n",
              "      <th>10536</th>\n",
              "      <td>0671034057</td>\n",
              "      <td>Now You See Her</td>\n",
              "      <td>Linda Howard</td>\n",
              "      <td>1999</td>\n",
              "      <td>Pocket Books</td>\n",
              "      <td>http://images.amazon.com/images/P/0671034057.0...</td>\n",
              "      <td>http://images.amazon.com/images/P/0671034057.0...</td>\n",
              "      <td>http://images.amazon.com/images/P/0671034057.0...</td>\n",
              "    </tr>\n",
              "    <tr>\n",
              "      <th>70044</th>\n",
              "      <td>0671568825</td>\n",
              "      <td>Now You See Her</td>\n",
              "      <td>Linda Howard</td>\n",
              "      <td>1998</td>\n",
              "      <td>Atria</td>\n",
              "      <td>http://images.amazon.com/images/P/0671568825.0...</td>\n",
              "      <td>http://images.amazon.com/images/P/0671568825.0...</td>\n",
              "      <td>http://images.amazon.com/images/P/0671568825.0...</td>\n",
              "    </tr>\n",
              "    <tr>\n",
              "      <th>83507</th>\n",
              "      <td>0679415831</td>\n",
              "      <td>Now You See Her</td>\n",
              "      <td>Whitney Otto</td>\n",
              "      <td>1994</td>\n",
              "      <td>Random House Inc</td>\n",
              "      <td>http://images.amazon.com/images/P/0679415831.0...</td>\n",
              "      <td>http://images.amazon.com/images/P/0679415831.0...</td>\n",
              "      <td>http://images.amazon.com/images/P/0679415831.0...</td>\n",
              "    </tr>\n",
              "    <tr>\n",
              "      <th>85940</th>\n",
              "      <td>0345378261</td>\n",
              "      <td>Now You See Her</td>\n",
              "      <td>Whitney Otto</td>\n",
              "      <td>1995</td>\n",
              "      <td>Ballantine Books</td>\n",
              "      <td>http://images.amazon.com/images/P/0345378261.0...</td>\n",
              "      <td>http://images.amazon.com/images/P/0345378261.0...</td>\n",
              "      <td>http://images.amazon.com/images/P/0345378261.0...</td>\n",
              "    </tr>\n",
              "    <tr>\n",
              "      <th>148242</th>\n",
              "      <td>0743527534</td>\n",
              "      <td>Now You See Her</td>\n",
              "      <td>Linda Howard</td>\n",
              "      <td>2002</td>\n",
              "      <td>Encore</td>\n",
              "      <td>http://images.amazon.com/images/P/0743527534.0...</td>\n",
              "      <td>http://images.amazon.com/images/P/0743527534.0...</td>\n",
              "      <td>http://images.amazon.com/images/P/0743527534.0...</td>\n",
              "    </tr>\n",
              "  </tbody>\n",
              "</table>\n",
              "</div>\n",
              "      <button class=\"colab-df-convert\" onclick=\"convertToInteractive('df-8364711b-eb29-48fc-886b-47f3449dfc74')\"\n",
              "              title=\"Convert this dataframe to an interactive table.\"\n",
              "              style=\"display:none;\">\n",
              "        \n",
              "  <svg xmlns=\"http://www.w3.org/2000/svg\" height=\"24px\"viewBox=\"0 0 24 24\"\n",
              "       width=\"24px\">\n",
              "    <path d=\"M0 0h24v24H0V0z\" fill=\"none\"/>\n",
              "    <path d=\"M18.56 5.44l.94 2.06.94-2.06 2.06-.94-2.06-.94-.94-2.06-.94 2.06-2.06.94zm-11 1L8.5 8.5l.94-2.06 2.06-.94-2.06-.94L8.5 2.5l-.94 2.06-2.06.94zm10 10l.94 2.06.94-2.06 2.06-.94-2.06-.94-.94-2.06-.94 2.06-2.06.94z\"/><path d=\"M17.41 7.96l-1.37-1.37c-.4-.4-.92-.59-1.43-.59-.52 0-1.04.2-1.43.59L10.3 9.45l-7.72 7.72c-.78.78-.78 2.05 0 2.83L4 21.41c.39.39.9.59 1.41.59.51 0 1.02-.2 1.41-.59l7.78-7.78 2.81-2.81c.8-.78.8-2.07 0-2.86zM5.41 20L4 18.59l7.72-7.72 1.47 1.35L5.41 20z\"/>\n",
              "  </svg>\n",
              "      </button>\n",
              "      \n",
              "  <style>\n",
              "    .colab-df-container {\n",
              "      display:flex;\n",
              "      flex-wrap:wrap;\n",
              "      gap: 12px;\n",
              "    }\n",
              "\n",
              "    .colab-df-convert {\n",
              "      background-color: #E8F0FE;\n",
              "      border: none;\n",
              "      border-radius: 50%;\n",
              "      cursor: pointer;\n",
              "      display: none;\n",
              "      fill: #1967D2;\n",
              "      height: 32px;\n",
              "      padding: 0 0 0 0;\n",
              "      width: 32px;\n",
              "    }\n",
              "\n",
              "    .colab-df-convert:hover {\n",
              "      background-color: #E2EBFA;\n",
              "      box-shadow: 0px 1px 2px rgba(60, 64, 67, 0.3), 0px 1px 3px 1px rgba(60, 64, 67, 0.15);\n",
              "      fill: #174EA6;\n",
              "    }\n",
              "\n",
              "    [theme=dark] .colab-df-convert {\n",
              "      background-color: #3B4455;\n",
              "      fill: #D2E3FC;\n",
              "    }\n",
              "\n",
              "    [theme=dark] .colab-df-convert:hover {\n",
              "      background-color: #434B5C;\n",
              "      box-shadow: 0px 1px 3px 1px rgba(0, 0, 0, 0.15);\n",
              "      filter: drop-shadow(0px 1px 2px rgba(0, 0, 0, 0.3));\n",
              "      fill: #FFFFFF;\n",
              "    }\n",
              "  </style>\n",
              "\n",
              "      <script>\n",
              "        const buttonEl =\n",
              "          document.querySelector('#df-8364711b-eb29-48fc-886b-47f3449dfc74 button.colab-df-convert');\n",
              "        buttonEl.style.display =\n",
              "          google.colab.kernel.accessAllowed ? 'block' : 'none';\n",
              "\n",
              "        async function convertToInteractive(key) {\n",
              "          const element = document.querySelector('#df-8364711b-eb29-48fc-886b-47f3449dfc74');\n",
              "          const dataTable =\n",
              "            await google.colab.kernel.invokeFunction('convertToInteractive',\n",
              "                                                     [key], {});\n",
              "          if (!dataTable) return;\n",
              "\n",
              "          const docLinkHtml = 'Like what you see? Visit the ' +\n",
              "            '<a target=\"_blank\" href=https://colab.research.google.com/notebooks/data_table.ipynb>data table notebook</a>'\n",
              "            + ' to learn more about interactive tables.';\n",
              "          element.innerHTML = '';\n",
              "          dataTable['output_type'] = 'display_data';\n",
              "          await google.colab.output.renderOutput(dataTable, element);\n",
              "          const docLink = document.createElement('div');\n",
              "          docLink.innerHTML = docLinkHtml;\n",
              "          element.appendChild(docLink);\n",
              "        }\n",
              "      </script>\n",
              "    </div>\n",
              "  </div>\n",
              "  "
            ]
          },
          "metadata": {},
          "execution_count": 5
        }
      ]
    },
    {
      "cell_type": "code",
      "source": [
        "#dimensions of book dataframe\n",
        "books.shape"
      ],
      "metadata": {
        "colab": {
          "base_uri": "https://localhost:8080/"
        },
        "id": "Yai0x-7niEqP",
        "outputId": "e520b058-5c6f-4a93-8ff1-b51ef06c9ae8"
      },
      "execution_count": null,
      "outputs": [
        {
          "output_type": "execute_result",
          "data": {
            "text/plain": [
              "(271360, 8)"
            ]
          },
          "metadata": {},
          "execution_count": 6
        }
      ]
    },
    {
      "cell_type": "code",
      "source": [
        "#checking users head/columns\n",
        "users.head(5)"
      ],
      "metadata": {
        "colab": {
          "base_uri": "https://localhost:8080/",
          "height": 206
        },
        "id": "EPv18IUGhoL6",
        "outputId": "27a5c8e6-79b0-4e32-bbe0-4e82a59d7a97"
      },
      "execution_count": null,
      "outputs": [
        {
          "output_type": "execute_result",
          "data": {
            "text/plain": [
              "   User-ID                            Location   Age\n",
              "0        1                  nyc, new york, usa   NaN\n",
              "1        2           stockton, california, usa  18.0\n",
              "2        3     moscow, yukon territory, russia   NaN\n",
              "3        4           porto, v.n.gaia, portugal  17.0\n",
              "4        5  farnborough, hants, united kingdom   NaN"
            ],
            "text/html": [
              "\n",
              "  <div id=\"df-914f9726-8125-4b04-95b0-e3032372fad0\">\n",
              "    <div class=\"colab-df-container\">\n",
              "      <div>\n",
              "<style scoped>\n",
              "    .dataframe tbody tr th:only-of-type {\n",
              "        vertical-align: middle;\n",
              "    }\n",
              "\n",
              "    .dataframe tbody tr th {\n",
              "        vertical-align: top;\n",
              "    }\n",
              "\n",
              "    .dataframe thead th {\n",
              "        text-align: right;\n",
              "    }\n",
              "</style>\n",
              "<table border=\"1\" class=\"dataframe\">\n",
              "  <thead>\n",
              "    <tr style=\"text-align: right;\">\n",
              "      <th></th>\n",
              "      <th>User-ID</th>\n",
              "      <th>Location</th>\n",
              "      <th>Age</th>\n",
              "    </tr>\n",
              "  </thead>\n",
              "  <tbody>\n",
              "    <tr>\n",
              "      <th>0</th>\n",
              "      <td>1</td>\n",
              "      <td>nyc, new york, usa</td>\n",
              "      <td>NaN</td>\n",
              "    </tr>\n",
              "    <tr>\n",
              "      <th>1</th>\n",
              "      <td>2</td>\n",
              "      <td>stockton, california, usa</td>\n",
              "      <td>18.0</td>\n",
              "    </tr>\n",
              "    <tr>\n",
              "      <th>2</th>\n",
              "      <td>3</td>\n",
              "      <td>moscow, yukon territory, russia</td>\n",
              "      <td>NaN</td>\n",
              "    </tr>\n",
              "    <tr>\n",
              "      <th>3</th>\n",
              "      <td>4</td>\n",
              "      <td>porto, v.n.gaia, portugal</td>\n",
              "      <td>17.0</td>\n",
              "    </tr>\n",
              "    <tr>\n",
              "      <th>4</th>\n",
              "      <td>5</td>\n",
              "      <td>farnborough, hants, united kingdom</td>\n",
              "      <td>NaN</td>\n",
              "    </tr>\n",
              "  </tbody>\n",
              "</table>\n",
              "</div>\n",
              "      <button class=\"colab-df-convert\" onclick=\"convertToInteractive('df-914f9726-8125-4b04-95b0-e3032372fad0')\"\n",
              "              title=\"Convert this dataframe to an interactive table.\"\n",
              "              style=\"display:none;\">\n",
              "        \n",
              "  <svg xmlns=\"http://www.w3.org/2000/svg\" height=\"24px\"viewBox=\"0 0 24 24\"\n",
              "       width=\"24px\">\n",
              "    <path d=\"M0 0h24v24H0V0z\" fill=\"none\"/>\n",
              "    <path d=\"M18.56 5.44l.94 2.06.94-2.06 2.06-.94-2.06-.94-.94-2.06-.94 2.06-2.06.94zm-11 1L8.5 8.5l.94-2.06 2.06-.94-2.06-.94L8.5 2.5l-.94 2.06-2.06.94zm10 10l.94 2.06.94-2.06 2.06-.94-2.06-.94-.94-2.06-.94 2.06-2.06.94z\"/><path d=\"M17.41 7.96l-1.37-1.37c-.4-.4-.92-.59-1.43-.59-.52 0-1.04.2-1.43.59L10.3 9.45l-7.72 7.72c-.78.78-.78 2.05 0 2.83L4 21.41c.39.39.9.59 1.41.59.51 0 1.02-.2 1.41-.59l7.78-7.78 2.81-2.81c.8-.78.8-2.07 0-2.86zM5.41 20L4 18.59l7.72-7.72 1.47 1.35L5.41 20z\"/>\n",
              "  </svg>\n",
              "      </button>\n",
              "      \n",
              "  <style>\n",
              "    .colab-df-container {\n",
              "      display:flex;\n",
              "      flex-wrap:wrap;\n",
              "      gap: 12px;\n",
              "    }\n",
              "\n",
              "    .colab-df-convert {\n",
              "      background-color: #E8F0FE;\n",
              "      border: none;\n",
              "      border-radius: 50%;\n",
              "      cursor: pointer;\n",
              "      display: none;\n",
              "      fill: #1967D2;\n",
              "      height: 32px;\n",
              "      padding: 0 0 0 0;\n",
              "      width: 32px;\n",
              "    }\n",
              "\n",
              "    .colab-df-convert:hover {\n",
              "      background-color: #E2EBFA;\n",
              "      box-shadow: 0px 1px 2px rgba(60, 64, 67, 0.3), 0px 1px 3px 1px rgba(60, 64, 67, 0.15);\n",
              "      fill: #174EA6;\n",
              "    }\n",
              "\n",
              "    [theme=dark] .colab-df-convert {\n",
              "      background-color: #3B4455;\n",
              "      fill: #D2E3FC;\n",
              "    }\n",
              "\n",
              "    [theme=dark] .colab-df-convert:hover {\n",
              "      background-color: #434B5C;\n",
              "      box-shadow: 0px 1px 3px 1px rgba(0, 0, 0, 0.15);\n",
              "      filter: drop-shadow(0px 1px 2px rgba(0, 0, 0, 0.3));\n",
              "      fill: #FFFFFF;\n",
              "    }\n",
              "  </style>\n",
              "\n",
              "      <script>\n",
              "        const buttonEl =\n",
              "          document.querySelector('#df-914f9726-8125-4b04-95b0-e3032372fad0 button.colab-df-convert');\n",
              "        buttonEl.style.display =\n",
              "          google.colab.kernel.accessAllowed ? 'block' : 'none';\n",
              "\n",
              "        async function convertToInteractive(key) {\n",
              "          const element = document.querySelector('#df-914f9726-8125-4b04-95b0-e3032372fad0');\n",
              "          const dataTable =\n",
              "            await google.colab.kernel.invokeFunction('convertToInteractive',\n",
              "                                                     [key], {});\n",
              "          if (!dataTable) return;\n",
              "\n",
              "          const docLinkHtml = 'Like what you see? Visit the ' +\n",
              "            '<a target=\"_blank\" href=https://colab.research.google.com/notebooks/data_table.ipynb>data table notebook</a>'\n",
              "            + ' to learn more about interactive tables.';\n",
              "          element.innerHTML = '';\n",
              "          dataTable['output_type'] = 'display_data';\n",
              "          await google.colab.output.renderOutput(dataTable, element);\n",
              "          const docLink = document.createElement('div');\n",
              "          docLink.innerHTML = docLinkHtml;\n",
              "          element.appendChild(docLink);\n",
              "        }\n",
              "      </script>\n",
              "    </div>\n",
              "  </div>\n",
              "  "
            ]
          },
          "metadata": {},
          "execution_count": 7
        }
      ]
    },
    {
      "cell_type": "code",
      "source": [
        "#checking shape\n",
        "users.shape"
      ],
      "metadata": {
        "colab": {
          "base_uri": "https://localhost:8080/"
        },
        "id": "eCHFFUt_hoO0",
        "outputId": "381e5207-9a2f-4e32-9758-8137e39c884a"
      },
      "execution_count": null,
      "outputs": [
        {
          "output_type": "execute_result",
          "data": {
            "text/plain": [
              "(278858, 3)"
            ]
          },
          "metadata": {},
          "execution_count": 8
        }
      ]
    },
    {
      "cell_type": "code",
      "source": [
        "#checking our 3rd data-set\n",
        "ratings.head(5)"
      ],
      "metadata": {
        "colab": {
          "base_uri": "https://localhost:8080/",
          "height": 206
        },
        "id": "s5Epq0d4hoRM",
        "outputId": "8b9d2f55-a68a-4ab4-dab2-881e404ff327"
      },
      "execution_count": null,
      "outputs": [
        {
          "output_type": "execute_result",
          "data": {
            "text/plain": [
              "   User-ID        ISBN  Book-Rating\n",
              "0   276725  034545104X            0\n",
              "1   276726  0155061224            5\n",
              "2   276727  0446520802            0\n",
              "3   276729  052165615X            3\n",
              "4   276729  0521795028            6"
            ],
            "text/html": [
              "\n",
              "  <div id=\"df-9d743710-b0bc-4e6e-8e70-163a46c6cc03\">\n",
              "    <div class=\"colab-df-container\">\n",
              "      <div>\n",
              "<style scoped>\n",
              "    .dataframe tbody tr th:only-of-type {\n",
              "        vertical-align: middle;\n",
              "    }\n",
              "\n",
              "    .dataframe tbody tr th {\n",
              "        vertical-align: top;\n",
              "    }\n",
              "\n",
              "    .dataframe thead th {\n",
              "        text-align: right;\n",
              "    }\n",
              "</style>\n",
              "<table border=\"1\" class=\"dataframe\">\n",
              "  <thead>\n",
              "    <tr style=\"text-align: right;\">\n",
              "      <th></th>\n",
              "      <th>User-ID</th>\n",
              "      <th>ISBN</th>\n",
              "      <th>Book-Rating</th>\n",
              "    </tr>\n",
              "  </thead>\n",
              "  <tbody>\n",
              "    <tr>\n",
              "      <th>0</th>\n",
              "      <td>276725</td>\n",
              "      <td>034545104X</td>\n",
              "      <td>0</td>\n",
              "    </tr>\n",
              "    <tr>\n",
              "      <th>1</th>\n",
              "      <td>276726</td>\n",
              "      <td>0155061224</td>\n",
              "      <td>5</td>\n",
              "    </tr>\n",
              "    <tr>\n",
              "      <th>2</th>\n",
              "      <td>276727</td>\n",
              "      <td>0446520802</td>\n",
              "      <td>0</td>\n",
              "    </tr>\n",
              "    <tr>\n",
              "      <th>3</th>\n",
              "      <td>276729</td>\n",
              "      <td>052165615X</td>\n",
              "      <td>3</td>\n",
              "    </tr>\n",
              "    <tr>\n",
              "      <th>4</th>\n",
              "      <td>276729</td>\n",
              "      <td>0521795028</td>\n",
              "      <td>6</td>\n",
              "    </tr>\n",
              "  </tbody>\n",
              "</table>\n",
              "</div>\n",
              "      <button class=\"colab-df-convert\" onclick=\"convertToInteractive('df-9d743710-b0bc-4e6e-8e70-163a46c6cc03')\"\n",
              "              title=\"Convert this dataframe to an interactive table.\"\n",
              "              style=\"display:none;\">\n",
              "        \n",
              "  <svg xmlns=\"http://www.w3.org/2000/svg\" height=\"24px\"viewBox=\"0 0 24 24\"\n",
              "       width=\"24px\">\n",
              "    <path d=\"M0 0h24v24H0V0z\" fill=\"none\"/>\n",
              "    <path d=\"M18.56 5.44l.94 2.06.94-2.06 2.06-.94-2.06-.94-.94-2.06-.94 2.06-2.06.94zm-11 1L8.5 8.5l.94-2.06 2.06-.94-2.06-.94L8.5 2.5l-.94 2.06-2.06.94zm10 10l.94 2.06.94-2.06 2.06-.94-2.06-.94-.94-2.06-.94 2.06-2.06.94z\"/><path d=\"M17.41 7.96l-1.37-1.37c-.4-.4-.92-.59-1.43-.59-.52 0-1.04.2-1.43.59L10.3 9.45l-7.72 7.72c-.78.78-.78 2.05 0 2.83L4 21.41c.39.39.9.59 1.41.59.51 0 1.02-.2 1.41-.59l7.78-7.78 2.81-2.81c.8-.78.8-2.07 0-2.86zM5.41 20L4 18.59l7.72-7.72 1.47 1.35L5.41 20z\"/>\n",
              "  </svg>\n",
              "      </button>\n",
              "      \n",
              "  <style>\n",
              "    .colab-df-container {\n",
              "      display:flex;\n",
              "      flex-wrap:wrap;\n",
              "      gap: 12px;\n",
              "    }\n",
              "\n",
              "    .colab-df-convert {\n",
              "      background-color: #E8F0FE;\n",
              "      border: none;\n",
              "      border-radius: 50%;\n",
              "      cursor: pointer;\n",
              "      display: none;\n",
              "      fill: #1967D2;\n",
              "      height: 32px;\n",
              "      padding: 0 0 0 0;\n",
              "      width: 32px;\n",
              "    }\n",
              "\n",
              "    .colab-df-convert:hover {\n",
              "      background-color: #E2EBFA;\n",
              "      box-shadow: 0px 1px 2px rgba(60, 64, 67, 0.3), 0px 1px 3px 1px rgba(60, 64, 67, 0.15);\n",
              "      fill: #174EA6;\n",
              "    }\n",
              "\n",
              "    [theme=dark] .colab-df-convert {\n",
              "      background-color: #3B4455;\n",
              "      fill: #D2E3FC;\n",
              "    }\n",
              "\n",
              "    [theme=dark] .colab-df-convert:hover {\n",
              "      background-color: #434B5C;\n",
              "      box-shadow: 0px 1px 3px 1px rgba(0, 0, 0, 0.15);\n",
              "      filter: drop-shadow(0px 1px 2px rgba(0, 0, 0, 0.3));\n",
              "      fill: #FFFFFF;\n",
              "    }\n",
              "  </style>\n",
              "\n",
              "      <script>\n",
              "        const buttonEl =\n",
              "          document.querySelector('#df-9d743710-b0bc-4e6e-8e70-163a46c6cc03 button.colab-df-convert');\n",
              "        buttonEl.style.display =\n",
              "          google.colab.kernel.accessAllowed ? 'block' : 'none';\n",
              "\n",
              "        async function convertToInteractive(key) {\n",
              "          const element = document.querySelector('#df-9d743710-b0bc-4e6e-8e70-163a46c6cc03');\n",
              "          const dataTable =\n",
              "            await google.colab.kernel.invokeFunction('convertToInteractive',\n",
              "                                                     [key], {});\n",
              "          if (!dataTable) return;\n",
              "\n",
              "          const docLinkHtml = 'Like what you see? Visit the ' +\n",
              "            '<a target=\"_blank\" href=https://colab.research.google.com/notebooks/data_table.ipynb>data table notebook</a>'\n",
              "            + ' to learn more about interactive tables.';\n",
              "          element.innerHTML = '';\n",
              "          dataTable['output_type'] = 'display_data';\n",
              "          await google.colab.output.renderOutput(dataTable, element);\n",
              "          const docLink = document.createElement('div');\n",
              "          docLink.innerHTML = docLinkHtml;\n",
              "          element.appendChild(docLink);\n",
              "        }\n",
              "      </script>\n",
              "    </div>\n",
              "  </div>\n",
              "  "
            ]
          },
          "metadata": {},
          "execution_count": 9
        }
      ]
    },
    {
      "cell_type": "code",
      "source": [
        "# dimensions of the 3rd data set\n",
        "ratings.shape"
      ],
      "metadata": {
        "colab": {
          "base_uri": "https://localhost:8080/"
        },
        "id": "8OlWxAguibFc",
        "outputId": "64abd334-3504-49a7-b8ee-09d657cfd9ab"
      },
      "execution_count": null,
      "outputs": [
        {
          "output_type": "execute_result",
          "data": {
            "text/plain": [
              "(1149780, 3)"
            ]
          },
          "metadata": {},
          "execution_count": 10
        }
      ]
    },
    {
      "cell_type": "markdown",
      "source": [
        "# Data Cleaning and Feature Engineering"
      ],
      "metadata": {
        "id": "Fc8RSPgtlpUl"
      }
    },
    {
      "cell_type": "markdown",
      "source": [
        "Before moving onto the data visualisation and EDA. First, lets make sure our data is ready to use.\n"
      ],
      "metadata": {
        "id": "WQ1nOcVSl1zA"
      }
    },
    {
      "cell_type": "markdown",
      "source": [
        "**Checking for null values data**"
      ],
      "metadata": {
        "id": "te9isOEpkiBn"
      }
    },
    {
      "cell_type": "code",
      "source": [
        "books.isnull().sum()"
      ],
      "metadata": {
        "colab": {
          "base_uri": "https://localhost:8080/"
        },
        "id": "HF3i7OLiioUU",
        "outputId": "391e75cc-397a-40fd-a987-5158aae98d77"
      },
      "execution_count": null,
      "outputs": [
        {
          "output_type": "execute_result",
          "data": {
            "text/plain": [
              "ISBN                   0\n",
              "Book-Title             0\n",
              "Book-Author            1\n",
              "Year-Of-Publication    0\n",
              "Publisher              2\n",
              "Image-URL-S            0\n",
              "Image-URL-M            0\n",
              "Image-URL-L            3\n",
              "dtype: int64"
            ]
          },
          "metadata": {},
          "execution_count": 11
        }
      ]
    },
    {
      "cell_type": "code",
      "source": [
        "#checking the ratings df for null values\n",
        "ratings.isnull().sum()"
      ],
      "metadata": {
        "colab": {
          "base_uri": "https://localhost:8080/"
        },
        "id": "4lY6lWGJibIh",
        "outputId": "c2c3ecfd-d6d6-4c49-cdd7-db57144bfdd1"
      },
      "execution_count": null,
      "outputs": [
        {
          "output_type": "execute_result",
          "data": {
            "text/plain": [
              "User-ID        0\n",
              "ISBN           0\n",
              "Book-Rating    0\n",
              "dtype: int64"
            ]
          },
          "metadata": {},
          "execution_count": 12
        }
      ]
    },
    {
      "cell_type": "markdown",
      "source": [
        "# Exploratory Data Analysis"
      ],
      "metadata": {
        "id": "O3zMVyjbi8g3"
      }
    },
    {
      "cell_type": "markdown",
      "source": [
        "**Rating Distribution**"
      ],
      "metadata": {
        "id": "SYtIn2sJnV1v"
      }
    },
    {
      "cell_type": "code",
      "source": [
        "# show the distribution of rating\n",
        "plt.figure(figsize=(12, 6))\n",
        "sns.countplot(x='Book-Rating', data=ratings)\n",
        "plt.title('Rating Distribution')\n",
        "plt.xticks(rotation=90)\n",
        "plt.ylabel('Number of Books')\n",
        "plt.show()\n",
        "print('Average rating recieved by all the apps is {}.'.format(ratings['Book-Rating'].mean()))"
      ],
      "metadata": {
        "colab": {
          "base_uri": "https://localhost:8080/",
          "height": 424
        },
        "id": "UXlm2bIVnbfk",
        "outputId": "2fc67a01-9fcb-44b5-990c-84cb768c3b97"
      },
      "execution_count": null,
      "outputs": [
        {
          "output_type": "display_data",
          "data": {
            "text/plain": [
              "<Figure size 864x432 with 1 Axes>"
            ],
            "image/png": "[encoded data removed]"
          },
          "metadata": {
            "needs_background": "light"
          }
        },
        {
          "output_type": "stream",
          "name": "stdout",
          "text": [
            "Average rating recieved by all the apps is 2.8669501991685364.\n"
          ]
        }
      ]
    },
    {
      "cell_type": "markdown",
      "source": [
        "Most of the rating are zero\n",
        "\n"
      ],
      "metadata": {
        "id": "pBhR8OuDn-7W"
      }
    },
    {
      "cell_type": "markdown",
      "source": [
        "**HYPOTHESIS**: Most of the users are between the age of 20 to 30 "
      ],
      "metadata": {
        "id": "G1haZsUMzHA1"
      }
    },
    {
      "cell_type": "code",
      "source": [
        "# plotting the age of thee users \n",
        "plt.figure(figsize=(12, 6))\n",
        "sns.histplot(data=users['Age'], bins=np.arange(0,100,10))\n",
        "plt.title('Age Distribution\\n')\n",
        "plt.xlabel('Age')\n",
        "plt.ylabel('Count')"
      ],
      "metadata": {
        "colab": {
          "base_uri": "https://localhost:8080/",
          "height": 436
        },
        "id": "6fJUH6zlyFaL",
        "outputId": "e5c406a5-2cb9-412a-8046-7789ffcff752"
      },
      "execution_count": null,
      "outputs": [
        {
          "output_type": "execute_result",
          "data": {
            "text/plain": [
              "Text(0, 0.5, 'Count')"
            ]
          },
          "metadata": {},
          "execution_count": 20
        },
        {
          "output_type": "display_data",
          "data": {
            "text/plain": [
              "<Figure size 864x432 with 1 Axes>"
            ],
            "image/png": "[encoded data removed]"
          },
          "metadata": {
            "needs_background": "light"
          }
        }
      ]
    },
    {
      "cell_type": "markdown",
      "source": [
        "# Collaborative filering on full data-set"
      ],
      "metadata": {
        "id": "uDOZLEOc9yBy"
      }
    },
    {
      "cell_type": "markdown",
      "source": [
        "We will be using Two methods for our Books recommendation system, first we will use a Model Based colaborative model. Then we will also make a memory based Colaboraative recomendation system. We will not be using content based algorithms for recommendation since we do not have enough indivisual features for users and the books. Users only has one extra feature. \n",
        "\n",
        "Since we are using content based recomendation systems we are likely to run into the cold start problem. There are many ways to address the cold start problem. we shall deal with them as we design the recoomendation system. "
      ],
      "metadata": {
        "id": "vGnaeO2N0vsm"
      }
    },
    {
      "cell_type": "code",
      "source": [
        "# merging the rating and users data frames over the user-id column\n",
        "user_rating_df = ratings.merge(users, left_on = 'User-ID', right_on = 'User-ID')"
      ],
      "metadata": {
        "id": "SWPw0pEK0Lv2"
      },
      "execution_count": null,
      "outputs": []
    },
    {
      "cell_type": "code",
      "source": [
        "user_rating_df.head(5)"
      ],
      "metadata": {
        "colab": {
          "base_uri": "https://localhost:8080/",
          "height": 206
        },
        "id": "G4te_toi0Lyp",
        "outputId": "be4cbc8e-4398-4d69-d611-9bf525b8f30e"
      },
      "execution_count": null,
      "outputs": [
        {
          "output_type": "execute_result",
          "data": {
            "text/plain": [
              "   User-ID        ISBN  Book-Rating                       Location   Age\n",
              "0   276725  034545104X            0              tyler, texas, usa   NaN\n",
              "1   276726  0155061224            5       seattle, washington, usa   NaN\n",
              "2   276727  0446520802            0  h, new south wales, australia  16.0\n",
              "3   276729  052165615X            3           rijeka, n/a, croatia  16.0\n",
              "4   276729  0521795028            6           rijeka, n/a, croatia  16.0"
            ],
            "text/html": [
              "\n",
              "  <div id=\"df-999cd353-12ae-4315-8b57-4c517221a9ed\">\n",
              "    <div class=\"colab-df-container\">\n",
              "      <div>\n",
              "<style scoped>\n",
              "    .dataframe tbody tr th:only-of-type {\n",
              "        vertical-align: middle;\n",
              "    }\n",
              "\n",
              "    .dataframe tbody tr th {\n",
              "        vertical-align: top;\n",
              "    }\n",
              "\n",
              "    .dataframe thead th {\n",
              "        text-align: right;\n",
              "    }\n",
              "</style>\n",
              "<table border=\"1\" class=\"dataframe\">\n",
              "  <thead>\n",
              "    <tr style=\"text-align: right;\">\n",
              "      <th></th>\n",
              "      <th>User-ID</th>\n",
              "      <th>ISBN</th>\n",
              "      <th>Book-Rating</th>\n",
              "      <th>Location</th>\n",
              "      <th>Age</th>\n",
              "    </tr>\n",
              "  </thead>\n",
              "  <tbody>\n",
              "    <tr>\n",
              "      <th>0</th>\n",
              "      <td>276725</td>\n",
              "      <td>034545104X</td>\n",
              "      <td>0</td>\n",
              "      <td>tyler, texas, usa</td>\n",
              "      <td>NaN</td>\n",
              "    </tr>\n",
              "    <tr>\n",
              "      <th>1</th>\n",
              "      <td>276726</td>\n",
              "      <td>0155061224</td>\n",
              "      <td>5</td>\n",
              "      <td>seattle, washington, usa</td>\n",
              "      <td>NaN</td>\n",
              "    </tr>\n",
              "    <tr>\n",
              "      <th>2</th>\n",
              "      <td>276727</td>\n",
              "      <td>0446520802</td>\n",
              "      <td>0</td>\n",
              "      <td>h, new south wales, australia</td>\n",
              "      <td>16.0</td>\n",
              "    </tr>\n",
              "    <tr>\n",
              "      <th>3</th>\n",
              "      <td>276729</td>\n",
              "      <td>052165615X</td>\n",
              "      <td>3</td>\n",
              "      <td>rijeka, n/a, croatia</td>\n",
              "      <td>16.0</td>\n",
              "    </tr>\n",
              "    <tr>\n",
              "      <th>4</th>\n",
              "      <td>276729</td>\n",
              "      <td>0521795028</td>\n",
              "      <td>6</td>\n",
              "      <td>rijeka, n/a, croatia</td>\n",
              "      <td>16.0</td>\n",
              "    </tr>\n",
              "  </tbody>\n",
              "</table>\n",
              "</div>\n",
              "      <button class=\"colab-df-convert\" onclick=\"convertToInteractive('df-999cd353-12ae-4315-8b57-4c517221a9ed')\"\n",
              "              title=\"Convert this dataframe to an interactive table.\"\n",
              "              style=\"display:none;\">\n",
              "        \n",
              "  <svg xmlns=\"http://www.w3.org/2000/svg\" height=\"24px\"viewBox=\"0 0 24 24\"\n",
              "       width=\"24px\">\n",
              "    <path d=\"M0 0h24v24H0V0z\" fill=\"none\"/>\n",
              "    <path d=\"M18.56 5.44l.94 2.06.94-2.06 2.06-.94-2.06-.94-.94-2.06-.94 2.06-2.06.94zm-11 1L8.5 8.5l.94-2.06 2.06-.94-2.06-.94L8.5 2.5l-.94 2.06-2.06.94zm10 10l.94 2.06.94-2.06 2.06-.94-2.06-.94-.94-2.06-.94 2.06-2.06.94z\"/><path d=\"M17.41 7.96l-1.37-1.37c-.4-.4-.92-.59-1.43-.59-.52 0-1.04.2-1.43.59L10.3 9.45l-7.72 7.72c-.78.78-.78 2.05 0 2.83L4 21.41c.39.39.9.59 1.41.59.51 0 1.02-.2 1.41-.59l7.78-7.78 2.81-2.81c.8-.78.8-2.07 0-2.86zM5.41 20L4 18.59l7.72-7.72 1.47 1.35L5.41 20z\"/>\n",
              "  </svg>\n",
              "      </button>\n",
              "      \n",
              "  <style>\n",
              "    .colab-df-container {\n",
              "      display:flex;\n",
              "      flex-wrap:wrap;\n",
              "      gap: 12px;\n",
              "    }\n",
              "\n",
              "    .colab-df-convert {\n",
              "      background-color: #E8F0FE;\n",
              "      border: none;\n",
              "      border-radius: 50%;\n",
              "      cursor: pointer;\n",
              "      display: none;\n",
              "      fill: #1967D2;\n",
              "      height: 32px;\n",
              "      padding: 0 0 0 0;\n",
              "      width: 32px;\n",
              "    }\n",
              "\n",
              "    .colab-df-convert:hover {\n",
              "      background-color: #E2EBFA;\n",
              "      box-shadow: 0px 1px 2px rgba(60, 64, 67, 0.3), 0px 1px 3px 1px rgba(60, 64, 67, 0.15);\n",
              "      fill: #174EA6;\n",
              "    }\n",
              "\n",
              "    [theme=dark] .colab-df-convert {\n",
              "      background-color: #3B4455;\n",
              "      fill: #D2E3FC;\n",
              "    }\n",
              "\n",
              "    [theme=dark] .colab-df-convert:hover {\n",
              "      background-color: #434B5C;\n",
              "      box-shadow: 0px 1px 3px 1px rgba(0, 0, 0, 0.15);\n",
              "      filter: drop-shadow(0px 1px 2px rgba(0, 0, 0, 0.3));\n",
              "      fill: #FFFFFF;\n",
              "    }\n",
              "  </style>\n",
              "\n",
              "      <script>\n",
              "        const buttonEl =\n",
              "          document.querySelector('#df-999cd353-12ae-4315-8b57-4c517221a9ed button.colab-df-convert');\n",
              "        buttonEl.style.display =\n",
              "          google.colab.kernel.accessAllowed ? 'block' : 'none';\n",
              "\n",
              "        async function convertToInteractive(key) {\n",
              "          const element = document.querySelector('#df-999cd353-12ae-4315-8b57-4c517221a9ed');\n",
              "          const dataTable =\n",
              "            await google.colab.kernel.invokeFunction('convertToInteractive',\n",
              "                                                     [key], {});\n",
              "          if (!dataTable) return;\n",
              "\n",
              "          const docLinkHtml = 'Like what you see? Visit the ' +\n",
              "            '<a target=\"_blank\" href=https://colab.research.google.com/notebooks/data_table.ipynb>data table notebook</a>'\n",
              "            + ' to learn more about interactive tables.';\n",
              "          element.innerHTML = '';\n",
              "          dataTable['output_type'] = 'display_data';\n",
              "          await google.colab.output.renderOutput(dataTable, element);\n",
              "          const docLink = document.createElement('div');\n",
              "          docLink.innerHTML = docLinkHtml;\n",
              "          element.appendChild(docLink);\n",
              "        }\n",
              "      </script>\n",
              "    </div>\n",
              "  </div>\n",
              "  "
            ]
          },
          "metadata": {},
          "execution_count": 22
        }
      ]
    },
    {
      "cell_type": "code",
      "source": [
        "#merging the user-id ratings df and ISBN of every book with books column over ISBN of each book. \n",
        "book_user_rating = books.merge(user_rating_df, left_on = 'ISBN',right_on = 'ISBN')\n",
        "book_user_rating.head(5)"
      ],
      "metadata": {
        "colab": {
          "base_uri": "https://localhost:8080/",
          "height": 461
        },
        "id": "Qqkmix9QDygm",
        "outputId": "3e0a06ba-5912-4b89-80cd-00a6234b53ef"
      },
      "execution_count": null,
      "outputs": [
        {
          "output_type": "execute_result",
          "data": {
            "text/plain": [
              "         ISBN           Book-Title           Book-Author Year-Of-Publication  \\\n",
              "0  0195153448  Classical Mythology    Mark P. O. Morford                2002   \n",
              "1  0002005018         Clara Callan  Richard Bruce Wright                2001   \n",
              "2  0002005018         Clara Callan  Richard Bruce Wright                2001   \n",
              "3  0002005018         Clara Callan  Richard Bruce Wright                2001   \n",
              "4  0002005018         Clara Callan  Richard Bruce Wright                2001   \n",
              "\n",
              "                 Publisher                                        Image-URL-S  \\\n",
              "0  Oxford University Press  http://images.amazon.com/images/P/0195153448.0...   \n",
              "1    HarperFlamingo Canada  http://images.amazon.com/images/P/0002005018.0...   \n",
              "2    HarperFlamingo Canada  http://images.amazon.com/images/P/0002005018.0...   \n",
              "3    HarperFlamingo Canada  http://images.amazon.com/images/P/0002005018.0...   \n",
              "4    HarperFlamingo Canada  http://images.amazon.com/images/P/0002005018.0...   \n",
              "\n",
              "                                         Image-URL-M  \\\n",
              "0  http://images.amazon.com/images/P/0195153448.0...   \n",
              "1  http://images.amazon.com/images/P/0002005018.0...   \n",
              "2  http://images.amazon.com/images/P/0002005018.0...   \n",
              "3  http://images.amazon.com/images/P/0002005018.0...   \n",
              "4  http://images.amazon.com/images/P/0002005018.0...   \n",
              "\n",
              "                                         Image-URL-L  User-ID  Book-Rating  \\\n",
              "0  http://images.amazon.com/images/P/0195153448.0...        2            0   \n",
              "1  http://images.amazon.com/images/P/0002005018.0...        8            5   \n",
              "2  http://images.amazon.com/images/P/0002005018.0...    11400            0   \n",
              "3  http://images.amazon.com/images/P/0002005018.0...    11676            8   \n",
              "4  http://images.amazon.com/images/P/0002005018.0...    41385            0   \n",
              "\n",
              "                    Location   Age  \n",
              "0  stockton, california, usa  18.0  \n",
              "1   timmins, ontario, canada   NaN  \n",
              "2    ottawa, ontario, canada  49.0  \n",
              "3              n/a, n/a, n/a   NaN  \n",
              "4   sudbury, ontario, canada   NaN  "
            ],
            "text/html": [
              "\n",
              "  <div id=\"df-d5ce29ea-0004-42cd-862c-5f9ecedeaffb\">\n",
              "    <div class=\"colab-df-container\">\n",
              "      <div>\n",
              "<style scoped>\n",
              "    .dataframe tbody tr th:only-of-type {\n",
              "        vertical-align: middle;\n",
              "    }\n",
              "\n",
              "    .dataframe tbody tr th {\n",
              "        vertical-align: top;\n",
              "    }\n",
              "\n",
              "    .dataframe thead th {\n",
              "        text-align: right;\n",
              "    }\n",
              "</style>\n",
              "<table border=\"1\" class=\"dataframe\">\n",
              "  <thead>\n",
              "    <tr style=\"text-align: right;\">\n",
              "      <th></th>\n",
              "      <th>ISBN</th>\n",
              "      <th>Book-Title</th>\n",
              "      <th>Book-Author</th>\n",
              "      <th>Year-Of-Publication</th>\n",
              "      <th>Publisher</th>\n",
              "      <th>Image-URL-S</th>\n",
              "      <th>Image-URL-M</th>\n",
              "      <th>Image-URL-L</th>\n",
              "      <th>User-ID</th>\n",
              "      <th>Book-Rating</th>\n",
              "      <th>Location</th>\n",
              "      <th>Age</th>\n",
              "    </tr>\n",
              "  </thead>\n",
              "  <tbody>\n",
              "    <tr>\n",
              "      <th>0</th>\n",
              "      <td>0195153448</td>\n",
              "      <td>Classical Mythology</td>\n",
              "      <td>Mark P. O. Morford</td>\n",
              "      <td>2002</td>\n",
              "      <td>Oxford University Press</td>\n",
              "      <td>http://images.amazon.com/images/P/0195153448.0...</td>\n",
              "      <td>http://images.amazon.com/images/P/0195153448.0...</td>\n",
              "      <td>http://images.amazon.com/images/P/0195153448.0...</td>\n",
              "      <td>2</td>\n",
              "      <td>0</td>\n",
              "      <td>stockton, california, usa</td>\n",
              "      <td>18.0</td>\n",
              "    </tr>\n",
              "    <tr>\n",
              "      <th>1</th>\n",
              "      <td>0002005018</td>\n",
              "      <td>Clara Callan</td>\n",
              "      <td>Richard Bruce Wright</td>\n",
              "      <td>2001</td>\n",
              "      <td>HarperFlamingo Canada</td>\n",
              "      <td>http://images.amazon.com/images/P/0002005018.0...</td>\n",
              "      <td>http://images.amazon.com/images/P/0002005018.0...</td>\n",
              "      <td>http://images.amazon.com/images/P/0002005018.0...</td>\n",
              "      <td>8</td>\n",
              "      <td>5</td>\n",
              "      <td>timmins, ontario, canada</td>\n",
              "      <td>NaN</td>\n",
              "    </tr>\n",
              "    <tr>\n",
              "      <th>2</th>\n",
              "      <td>0002005018</td>\n",
              "      <td>Clara Callan</td>\n",
              "      <td>Richard Bruce Wright</td>\n",
              "      <td>2001</td>\n",
              "      <td>HarperFlamingo Canada</td>\n",
              "      <td>http://images.amazon.com/images/P/0002005018.0...</td>\n",
              "      <td>http://images.amazon.com/images/P/0002005018.0...</td>\n",
              "      <td>http://images.amazon.com/images/P/0002005018.0...</td>\n",
              "      <td>11400</td>\n",
              "      <td>0</td>\n",
              "      <td>ottawa, ontario, canada</td>\n",
              "      <td>49.0</td>\n",
              "    </tr>\n",
              "    <tr>\n",
              "      <th>3</th>\n",
              "      <td>0002005018</td>\n",
              "      <td>Clara Callan</td>\n",
              "      <td>Richard Bruce Wright</td>\n",
              "      <td>2001</td>\n",
              "      <td>HarperFlamingo Canada</td>\n",
              "      <td>http://images.amazon.com/images/P/0002005018.0...</td>\n",
              "      <td>http://images.amazon.com/images/P/0002005018.0...</td>\n",
              "      <td>http://images.amazon.com/images/P/0002005018.0...</td>\n",
              "      <td>11676</td>\n",
              "      <td>8</td>\n",
              "      <td>n/a, n/a, n/a</td>\n",
              "      <td>NaN</td>\n",
              "    </tr>\n",
              "    <tr>\n",
              "      <th>4</th>\n",
              "      <td>0002005018</td>\n",
              "      <td>Clara Callan</td>\n",
              "      <td>Richard Bruce Wright</td>\n",
              "      <td>2001</td>\n",
              "      <td>HarperFlamingo Canada</td>\n",
              "      <td>http://images.amazon.com/images/P/0002005018.0...</td>\n",
              "      <td>http://images.amazon.com/images/P/0002005018.0...</td>\n",
              "      <td>http://images.amazon.com/images/P/0002005018.0...</td>\n",
              "      <td>41385</td>\n",
              "      <td>0</td>\n",
              "      <td>sudbury, ontario, canada</td>\n",
              "      <td>NaN</td>\n",
              "    </tr>\n",
              "  </tbody>\n",
              "</table>\n",
              "</div>\n",
              "      <button class=\"colab-df-convert\" onclick=\"convertToInteractive('df-d5ce29ea-0004-42cd-862c-5f9ecedeaffb')\"\n",
              "              title=\"Convert this dataframe to an interactive table.\"\n",
              "              style=\"display:none;\">\n",
              "        \n",
              "  <svg xmlns=\"http://www.w3.org/2000/svg\" height=\"24px\"viewBox=\"0 0 24 24\"\n",
              "       width=\"24px\">\n",
              "    <path d=\"M0 0h24v24H0V0z\" fill=\"none\"/>\n",
              "    <path d=\"M18.56 5.44l.94 2.06.94-2.06 2.06-.94-2.06-.94-.94-2.06-.94 2.06-2.06.94zm-11 1L8.5 8.5l.94-2.06 2.06-.94-2.06-.94L8.5 2.5l-.94 2.06-2.06.94zm10 10l.94 2.06.94-2.06 2.06-.94-2.06-.94-.94-2.06-.94 2.06-2.06.94z\"/><path d=\"M17.41 7.96l-1.37-1.37c-.4-.4-.92-.59-1.43-.59-.52 0-1.04.2-1.43.59L10.3 9.45l-7.72 7.72c-.78.78-.78 2.05 0 2.83L4 21.41c.39.39.9.59 1.41.59.51 0 1.02-.2 1.41-.59l7.78-7.78 2.81-2.81c.8-.78.8-2.07 0-2.86zM5.41 20L4 18.59l7.72-7.72 1.47 1.35L5.41 20z\"/>\n",
              "  </svg>\n",
              "      </button>\n",
              "      \n",
              "  <style>\n",
              "    .colab-df-container {\n",
              "      display:flex;\n",
              "      flex-wrap:wrap;\n",
              "      gap: 12px;\n",
              "    }\n",
              "\n",
              "    .colab-df-convert {\n",
              "      background-color: #E8F0FE;\n",
              "      border: none;\n",
              "      border-radius: 50%;\n",
              "      cursor: pointer;\n",
              "      display: none;\n",
              "      fill: #1967D2;\n",
              "      height: 32px;\n",
              "      padding: 0 0 0 0;\n",
              "      width: 32px;\n",
              "    }\n",
              "\n",
              "    .colab-df-convert:hover {\n",
              "      background-color: #E2EBFA;\n",
              "      box-shadow: 0px 1px 2px rgba(60, 64, 67, 0.3), 0px 1px 3px 1px rgba(60, 64, 67, 0.15);\n",
              "      fill: #174EA6;\n",
              "    }\n",
              "\n",
              "    [theme=dark] .colab-df-convert {\n",
              "      background-color: #3B4455;\n",
              "      fill: #D2E3FC;\n",
              "    }\n",
              "\n",
              "    [theme=dark] .colab-df-convert:hover {\n",
              "      background-color: #434B5C;\n",
              "      box-shadow: 0px 1px 3px 1px rgba(0, 0, 0, 0.15);\n",
              "      filter: drop-shadow(0px 1px 2px rgba(0, 0, 0, 0.3));\n",
              "      fill: #FFFFFF;\n",
              "    }\n",
              "  </style>\n",
              "\n",
              "      <script>\n",
              "        const buttonEl =\n",
              "          document.querySelector('#df-d5ce29ea-0004-42cd-862c-5f9ecedeaffb button.colab-df-convert');\n",
              "        buttonEl.style.display =\n",
              "          google.colab.kernel.accessAllowed ? 'block' : 'none';\n",
              "\n",
              "        async function convertToInteractive(key) {\n",
              "          const element = document.querySelector('#df-d5ce29ea-0004-42cd-862c-5f9ecedeaffb');\n",
              "          const dataTable =\n",
              "            await google.colab.kernel.invokeFunction('convertToInteractive',\n",
              "                                                     [key], {});\n",
              "          if (!dataTable) return;\n",
              "\n",
              "          const docLinkHtml = 'Like what you see? Visit the ' +\n",
              "            '<a target=\"_blank\" href=https://colab.research.google.com/notebooks/data_table.ipynb>data table notebook</a>'\n",
              "            + ' to learn more about interactive tables.';\n",
              "          element.innerHTML = '';\n",
              "          dataTable['output_type'] = 'display_data';\n",
              "          await google.colab.output.renderOutput(dataTable, element);\n",
              "          const docLink = document.createElement('div');\n",
              "          docLink.innerHTML = docLinkHtml;\n",
              "          element.appendChild(docLink);\n",
              "        }\n",
              "      </script>\n",
              "    </div>\n",
              "  </div>\n",
              "  "
            ]
          },
          "metadata": {},
          "execution_count": 23
        }
      ]
    },
    {
      "cell_type": "markdown",
      "source": [
        "Now we have all info in one data frame. For ever book we have a unique rating by a unique user. Dupplicates in ISBN columns indicate multiple users who have read and reated the same book. "
      ],
      "metadata": {
        "id": "IRUbdRSN7Qa9"
      }
    },
    {
      "cell_type": "code",
      "source": [
        "#only keeping the relevant columns\n",
        "book_user_rating = book_user_rating[['ISBN', 'Book-Title', 'Book-Author', 'User-ID', 'Book-Rating']]\n",
        "book_user_rating.reset_index(drop=True, inplace = True)"
      ],
      "metadata": {
        "id": "38ZS7NkBFbrL"
      },
      "execution_count": null,
      "outputs": []
    },
    {
      "cell_type": "code",
      "source": [
        "# creating a dataframe with collected user ids and the books they have rated\n",
        "interactionsdf = book_user_rating.groupby(['User-ID','ISBN'])['Book-Rating'].sum().reset_index()\n",
        "print('# of unique user/item interactions: %d' % len(interactionsdf))\n",
        "interactionsdf"
      ],
      "metadata": {
        "colab": {
          "base_uri": "https://localhost:8080/",
          "height": 441
        },
        "id": "pj7AmUUyJdhz",
        "outputId": "a3e7eae1-dfbc-487c-b17e-1af40e4665cb"
      },
      "execution_count": null,
      "outputs": [
        {
          "output_type": "stream",
          "name": "stdout",
          "text": [
            "# of unique user/item interactions: 1031136\n"
          ]
        },
        {
          "output_type": "execute_result",
          "data": {
            "text/plain": [
              "         User-ID        ISBN  Book-Rating\n",
              "0              2  0195153448            0\n",
              "1              8  0002005018            5\n",
              "2              8  0060973129            0\n",
              "3              8  0374157065            0\n",
              "4              8  0393045218            0\n",
              "...          ...         ...          ...\n",
              "1031131   278854  0425163393            7\n",
              "1031132   278854  0515087122            0\n",
              "1031133   278854  0553275739            6\n",
              "1031134   278854  0553578596            0\n",
              "1031135   278854  0553579606            8\n",
              "\n",
              "[1031136 rows x 3 columns]"
            ],
            "text/html": [
              "\n",
              "  <div id=\"df-5b10ac76-5dc6-4560-a59d-a9bde16bbb68\">\n",
              "    <div class=\"colab-df-container\">\n",
              "      <div>\n",
              "<style scoped>\n",
              "    .dataframe tbody tr th:only-of-type {\n",
              "        vertical-align: middle;\n",
              "    }\n",
              "\n",
              "    .dataframe tbody tr th {\n",
              "        vertical-align: top;\n",
              "    }\n",
              "\n",
              "    .dataframe thead th {\n",
              "        text-align: right;\n",
              "    }\n",
              "</style>\n",
              "<table border=\"1\" class=\"dataframe\">\n",
              "  <thead>\n",
              "    <tr style=\"text-align: right;\">\n",
              "      <th></th>\n",
              "      <th>User-ID</th>\n",
              "      <th>ISBN</th>\n",
              "      <th>Book-Rating</th>\n",
              "    </tr>\n",
              "  </thead>\n",
              "  <tbody>\n",
              "    <tr>\n",
              "      <th>0</th>\n",
              "      <td>2</td>\n",
              "      <td>0195153448</td>\n",
              "      <td>0</td>\n",
              "    </tr>\n",
              "    <tr>\n",
              "      <th>1</th>\n",
              "      <td>8</td>\n",
              "      <td>0002005018</td>\n",
              "      <td>5</td>\n",
              "    </tr>\n",
              "    <tr>\n",
              "      <th>2</th>\n",
              "      <td>8</td>\n",
              "      <td>0060973129</td>\n",
              "      <td>0</td>\n",
              "    </tr>\n",
              "    <tr>\n",
              "      <th>3</th>\n",
              "      <td>8</td>\n",
              "      <td>0374157065</td>\n",
              "      <td>0</td>\n",
              "    </tr>\n",
              "    <tr>\n",
              "      <th>4</th>\n",
              "      <td>8</td>\n",
              "      <td>0393045218</td>\n",
              "      <td>0</td>\n",
              "    </tr>\n",
              "    <tr>\n",
              "      <th>...</th>\n",
              "      <td>...</td>\n",
              "      <td>...</td>\n",
              "      <td>...</td>\n",
              "    </tr>\n",
              "    <tr>\n",
              "      <th>1031131</th>\n",
              "      <td>278854</td>\n",
              "      <td>0425163393</td>\n",
              "      <td>7</td>\n",
              "    </tr>\n",
              "    <tr>\n",
              "      <th>1031132</th>\n",
              "      <td>278854</td>\n",
              "      <td>0515087122</td>\n",
              "      <td>0</td>\n",
              "    </tr>\n",
              "    <tr>\n",
              "      <th>1031133</th>\n",
              "      <td>278854</td>\n",
              "      <td>0553275739</td>\n",
              "      <td>6</td>\n",
              "    </tr>\n",
              "    <tr>\n",
              "      <th>1031134</th>\n",
              "      <td>278854</td>\n",
              "      <td>0553578596</td>\n",
              "      <td>0</td>\n",
              "    </tr>\n",
              "    <tr>\n",
              "      <th>1031135</th>\n",
              "      <td>278854</td>\n",
              "      <td>0553579606</td>\n",
              "      <td>8</td>\n",
              "    </tr>\n",
              "  </tbody>\n",
              "</table>\n",
              "<p>1031136 rows × 3 columns</p>\n",
              "</div>\n",
              "      <button class=\"colab-df-convert\" onclick=\"convertToInteractive('df-5b10ac76-5dc6-4560-a59d-a9bde16bbb68')\"\n",
              "              title=\"Convert this dataframe to an interactive table.\"\n",
              "              style=\"display:none;\">\n",
              "        \n",
              "  <svg xmlns=\"http://www.w3.org/2000/svg\" height=\"24px\"viewBox=\"0 0 24 24\"\n",
              "       width=\"24px\">\n",
              "    <path d=\"M0 0h24v24H0V0z\" fill=\"none\"/>\n",
              "    <path d=\"M18.56 5.44l.94 2.06.94-2.06 2.06-.94-2.06-.94-.94-2.06-.94 2.06-2.06.94zm-11 1L8.5 8.5l.94-2.06 2.06-.94-2.06-.94L8.5 2.5l-.94 2.06-2.06.94zm10 10l.94 2.06.94-2.06 2.06-.94-2.06-.94-.94-2.06-.94 2.06-2.06.94z\"/><path d=\"M17.41 7.96l-1.37-1.37c-.4-.4-.92-.59-1.43-.59-.52 0-1.04.2-1.43.59L10.3 9.45l-7.72 7.72c-.78.78-.78 2.05 0 2.83L4 21.41c.39.39.9.59 1.41.59.51 0 1.02-.2 1.41-.59l7.78-7.78 2.81-2.81c.8-.78.8-2.07 0-2.86zM5.41 20L4 18.59l7.72-7.72 1.47 1.35L5.41 20z\"/>\n",
              "  </svg>\n",
              "      </button>\n",
              "      \n",
              "  <style>\n",
              "    .colab-df-container {\n",
              "      display:flex;\n",
              "      flex-wrap:wrap;\n",
              "      gap: 12px;\n",
              "    }\n",
              "\n",
              "    .colab-df-convert {\n",
              "      background-color: #E8F0FE;\n",
              "      border: none;\n",
              "      border-radius: 50%;\n",
              "      cursor: pointer;\n",
              "      display: none;\n",
              "      fill: #1967D2;\n",
              "      height: 32px;\n",
              "      padding: 0 0 0 0;\n",
              "      width: 32px;\n",
              "    }\n",
              "\n",
              "    .colab-df-convert:hover {\n",
              "      background-color: #E2EBFA;\n",
              "      box-shadow: 0px 1px 2px rgba(60, 64, 67, 0.3), 0px 1px 3px 1px rgba(60, 64, 67, 0.15);\n",
              "      fill: #174EA6;\n",
              "    }\n",
              "\n",
              "    [theme=dark] .colab-df-convert {\n",
              "      background-color: #3B4455;\n",
              "      fill: #D2E3FC;\n",
              "    }\n",
              "\n",
              "    [theme=dark] .colab-df-convert:hover {\n",
              "      background-color: #434B5C;\n",
              "      box-shadow: 0px 1px 3px 1px rgba(0, 0, 0, 0.15);\n",
              "      filter: drop-shadow(0px 1px 2px rgba(0, 0, 0, 0.3));\n",
              "      fill: #FFFFFF;\n",
              "    }\n",
              "  </style>\n",
              "\n",
              "      <script>\n",
              "        const buttonEl =\n",
              "          document.querySelector('#df-5b10ac76-5dc6-4560-a59d-a9bde16bbb68 button.colab-df-convert');\n",
              "        buttonEl.style.display =\n",
              "          google.colab.kernel.accessAllowed ? 'block' : 'none';\n",
              "\n",
              "        async function convertToInteractive(key) {\n",
              "          const element = document.querySelector('#df-5b10ac76-5dc6-4560-a59d-a9bde16bbb68');\n",
              "          const dataTable =\n",
              "            await google.colab.kernel.invokeFunction('convertToInteractive',\n",
              "                                                     [key], {});\n",
              "          if (!dataTable) return;\n",
              "\n",
              "          const docLinkHtml = 'Like what you see? Visit the ' +\n",
              "            '<a target=\"_blank\" href=https://colab.research.google.com/notebooks/data_table.ipynb>data table notebook</a>'\n",
              "            + ' to learn more about interactive tables.';\n",
              "          element.innerHTML = '';\n",
              "          dataTable['output_type'] = 'display_data';\n",
              "          await google.colab.output.renderOutput(dataTable, element);\n",
              "          const docLink = document.createElement('div');\n",
              "          docLink.innerHTML = docLinkHtml;\n",
              "          element.appendChild(docLink);\n",
              "        }\n",
              "      </script>\n",
              "    </div>\n",
              "  </div>\n",
              "  "
            ]
          },
          "metadata": {},
          "execution_count": 25
        }
      ]
    },
    {
      "cell_type": "markdown",
      "source": [
        "Now we will group by user-id and books. For every user, he might have rated multiple books with varying ratings. We will collect all that information together for every user. This will help us make the user item interaction matrix. "
      ],
      "metadata": {
        "id": "Vyj1yRPP8Fvd"
      }
    },
    {
      "cell_type": "code",
      "source": [
        "#checking distribution of Book ratings again to see if there were any changes\n",
        "plt.figure(figsize=(12, 6))\n",
        "sns.distplot(a=interactionsdf['Book-Rating'])\n",
        "plt.title('Rating Distribution')\n",
        "plt.xticks(rotation=90)\n",
        "plt.ylabel('Number of Books')\n",
        "plt.show()"
      ],
      "metadata": {
        "colab": {
          "base_uri": "https://localhost:8080/",
          "height": 462
        },
        "id": "1a4c-bxKINtQ",
        "outputId": "0f156d75-6ca3-43bc-ae66-19cf964cf230"
      },
      "execution_count": null,
      "outputs": [
        {
          "output_type": "stream",
          "name": "stderr",
          "text": [
            "/usr/local/lib/python3.7/dist-packages/seaborn/distributions.py:2619: FutureWarning: `distplot` is a deprecated function and will be removed in a future version. Please adapt your code to use either `displot` (a figure-level function with similar flexibility) or `histplot` (an axes-level function for histograms).\n",
            "  warnings.warn(msg, FutureWarning)\n"
          ]
        },
        {
          "output_type": "display_data",
          "data": {
            "text/plain": [
              "<Figure size 864x432 with 1 Axes>"
            ],
            "image/png": "[encoded data removed]"
          },
          "metadata": {
            "needs_background": "light"
          }
        }
      ]
    },
    {
      "cell_type": "markdown",
      "source": [
        "As we can see there was not much change in the ratings columns which is what we expect, after forming the data frame with all the required information lets now try to make the user-item interaction matrix from this data frame.\n"
      ],
      "metadata": {
        "id": "u-vxbhrvPkCE"
      }
    },
    {
      "cell_type": "code",
      "source": [
        "#checking the number of unique books and thier titles \n",
        "print(len(book_user_rating['Book-Title'].unique()))\n",
        "print(len(book_user_rating['ISBN'].unique()))"
      ],
      "metadata": {
        "colab": {
          "base_uri": "https://localhost:8080/"
        },
        "id": "D-n0awS093h9",
        "outputId": "3fb99d50-f722-46e8-b5b7-cb8e9cd9528e"
      },
      "execution_count": null,
      "outputs": [
        {
          "output_type": "stream",
          "name": "stdout",
          "text": [
            "241071\n",
            "270151\n"
          ]
        }
      ]
    },
    {
      "cell_type": "markdown",
      "source": [
        "So we can see here that the number of unique book titles is not equal to the number of ISBN identifiers given in the data frame. This suggests that there are multiple books with the same title but they are essentially different books since thier unique identifier number is different in the data frame. To get an easier understanding of the ISBNs lets create a unique identifier which is simpler to interpret."
      ],
      "metadata": {
        "id": "SFcaxBXM_AeK"
      }
    },
    {
      "cell_type": "code",
      "source": [
        "book_user_rating.sample(20)"
      ],
      "metadata": {
        "colab": {
          "base_uri": "https://localhost:8080/",
          "height": 676
        },
        "id": "vffElOHRae3A",
        "outputId": "ea97bbac-3651-4802-ebfe-a9155c28b224"
      },
      "execution_count": null,
      "outputs": [
        {
          "output_type": "execute_result",
          "data": {
            "text/plain": [
              "              ISBN                                         Book-Title  \\\n",
              "135690  0670855030                                           Insomnia   \n",
              "337719  0373708149  O Little Town Of Glory  (Men Of Glory) (Harleq...   \n",
              "519808  0380721783                                       Brother Wind   \n",
              "52533   0060914653                  The Unbearable Lightness of Being   \n",
              "245714  3404143485                                    Die Versuchung.   \n",
              "339575  0440236061                                  Unfit to Practice   \n",
              "701113  0446670537  Anxiety, Phobias, &amp; Panic : A Step-by-Step...   \n",
              "700855  0553108174                           War of the Rats: A Novel   \n",
              "872189  0451408438             Silver Wing (Topaz Historical Romance)   \n",
              "446969  0425168131                                Conspiracy in Death   \n",
              "844857  0553284649                  Bruce's Story (SVH Super Star #2)   \n",
              "517271  349222539X                               Die LÃ?Â¼ge im Bett.   \n",
              "989421  0156005123                                     The Immigrants   \n",
              "763619  0380771705                                     Branded Hearts   \n",
              "965921  0821734970                                    Defiant Ecstasy   \n",
              "266627  0440111323                                   A Catskill Eagle   \n",
              "560045  0679408371  Faster: The Acceleration of Just About Everything   \n",
              "797542  159197206X  Red Badge of Courage (Great Illustrated Classics)   \n",
              "389642  0425185249                                   Death a L'Orange   \n",
              "496191  0064407683  The Wide Window (A Series of Unfortunate Event...   \n",
              "\n",
              "                Book-Author  User-ID  Book-Rating  unique_id_book  \n",
              "135690         Stephen King   112001           10            3598  \n",
              "337719         Judith Bowen   278418            0           15440  \n",
              "519808         Sue Harrison   236283            0           38057  \n",
              "52533         Milan Kundera    12238            0            1055  \n",
              "245714       David Baldacci    18850            0            8511  \n",
              "339575  Perri O'Shaughnessy    36935            9           15582  \n",
              "701113    Reneau Z Peurifoy   211288            0           81029  \n",
              "700855     David L. Robbins   263460            0           80955  \n",
              "872189       Cassie Edwards   227250            5          152871  \n",
              "446969           J. D. Robb   177374           10           26795  \n",
              "844857      Francine Pascal   151790            0          139148  \n",
              "517271       Gaby Hauptmann    39651            4           37710  \n",
              "989421          Howard Fast   120093            5          232422  \n",
              "763619        Shannon Drake   215136            0          102500  \n",
              "965921       Janelle Taylor   127200            0          213947  \n",
              "266627     Robert B. Parker   188273            0            9851  \n",
              "560045         James Gleick   261291            0           46585  \n",
              "797542        Stephen Crane   194669            0          116612  \n",
              "389642      Nancy Fairbanks   146113            0           20485  \n",
              "496191       Lemony Snicket   274618            0           34221  "
            ],
            "text/html": [
              "\n",
              "  <div id=\"df-2d415a58-ac2b-4767-b0bc-ce65597dd063\">\n",
              "    <div class=\"colab-df-container\">\n",
              "      <div>\n",
              "<style scoped>\n",
              "    .dataframe tbody tr th:only-of-type {\n",
              "        vertical-align: middle;\n",
              "    }\n",
              "\n",
              "    .dataframe tbody tr th {\n",
              "        vertical-align: top;\n",
              "    }\n",
              "\n",
              "    .dataframe thead th {\n",
              "        text-align: right;\n",
              "    }\n",
              "</style>\n",
              "<table border=\"1\" class=\"dataframe\">\n",
              "  <thead>\n",
              "    <tr style=\"text-align: right;\">\n",
              "      <th></th>\n",
              "      <th>ISBN</th>\n",
              "      <th>Book-Title</th>\n",
              "      <th>Book-Author</th>\n",
              "      <th>User-ID</th>\n",
              "      <th>Book-Rating</th>\n",
              "      <th>unique_id_book</th>\n",
              "    </tr>\n",
              "  </thead>\n",
              "  <tbody>\n",
              "    <tr>\n",
              "      <th>135690</th>\n",
              "      <td>0670855030</td>\n",
              "      <td>Insomnia</td>\n",
              "      <td>Stephen King</td>\n",
              "      <td>112001</td>\n",
              "      <td>10</td>\n",
              "      <td>3598</td>\n",
              "    </tr>\n",
              "    <tr>\n",
              "      <th>337719</th>\n",
              "      <td>0373708149</td>\n",
              "      <td>O Little Town Of Glory  (Men Of Glory) (Harleq...</td>\n",
              "      <td>Judith Bowen</td>\n",
              "      <td>278418</td>\n",
              "      <td>0</td>\n",
              "      <td>15440</td>\n",
              "    </tr>\n",
              "    <tr>\n",
              "      <th>519808</th>\n",
              "      <td>0380721783</td>\n",
              "      <td>Brother Wind</td>\n",
              "      <td>Sue Harrison</td>\n",
              "      <td>236283</td>\n",
              "      <td>0</td>\n",
              "      <td>38057</td>\n",
              "    </tr>\n",
              "    <tr>\n",
              "      <th>52533</th>\n",
              "      <td>0060914653</td>\n",
              "      <td>The Unbearable Lightness of Being</td>\n",
              "      <td>Milan Kundera</td>\n",
              "      <td>12238</td>\n",
              "      <td>0</td>\n",
              "      <td>1055</td>\n",
              "    </tr>\n",
              "    <tr>\n",
              "      <th>245714</th>\n",
              "      <td>3404143485</td>\n",
              "      <td>Die Versuchung.</td>\n",
              "      <td>David Baldacci</td>\n",
              "      <td>18850</td>\n",
              "      <td>0</td>\n",
              "      <td>8511</td>\n",
              "    </tr>\n",
              "    <tr>\n",
              "      <th>339575</th>\n",
              "      <td>0440236061</td>\n",
              "      <td>Unfit to Practice</td>\n",
              "      <td>Perri O'Shaughnessy</td>\n",
              "      <td>36935</td>\n",
              "      <td>9</td>\n",
              "      <td>15582</td>\n",
              "    </tr>\n",
              "    <tr>\n",
              "      <th>701113</th>\n",
              "      <td>0446670537</td>\n",
              "      <td>Anxiety, Phobias, &amp;amp; Panic : A Step-by-Step...</td>\n",
              "      <td>Reneau Z Peurifoy</td>\n",
              "      <td>211288</td>\n",
              "      <td>0</td>\n",
              "      <td>81029</td>\n",
              "    </tr>\n",
              "    <tr>\n",
              "      <th>700855</th>\n",
              "      <td>0553108174</td>\n",
              "      <td>War of the Rats: A Novel</td>\n",
              "      <td>David L. Robbins</td>\n",
              "      <td>263460</td>\n",
              "      <td>0</td>\n",
              "      <td>80955</td>\n",
              "    </tr>\n",
              "    <tr>\n",
              "      <th>872189</th>\n",
              "      <td>0451408438</td>\n",
              "      <td>Silver Wing (Topaz Historical Romance)</td>\n",
              "      <td>Cassie Edwards</td>\n",
              "      <td>227250</td>\n",
              "      <td>5</td>\n",
              "      <td>152871</td>\n",
              "    </tr>\n",
              "    <tr>\n",
              "      <th>446969</th>\n",
              "      <td>0425168131</td>\n",
              "      <td>Conspiracy in Death</td>\n",
              "      <td>J. D. Robb</td>\n",
              "      <td>177374</td>\n",
              "      <td>10</td>\n",
              "      <td>26795</td>\n",
              "    </tr>\n",
              "    <tr>\n",
              "      <th>844857</th>\n",
              "      <td>0553284649</td>\n",
              "      <td>Bruce's Story (SVH Super Star #2)</td>\n",
              "      <td>Francine Pascal</td>\n",
              "      <td>151790</td>\n",
              "      <td>0</td>\n",
              "      <td>139148</td>\n",
              "    </tr>\n",
              "    <tr>\n",
              "      <th>517271</th>\n",
              "      <td>349222539X</td>\n",
              "      <td>Die LÃ?Â¼ge im Bett.</td>\n",
              "      <td>Gaby Hauptmann</td>\n",
              "      <td>39651</td>\n",
              "      <td>4</td>\n",
              "      <td>37710</td>\n",
              "    </tr>\n",
              "    <tr>\n",
              "      <th>989421</th>\n",
              "      <td>0156005123</td>\n",
              "      <td>The Immigrants</td>\n",
              "      <td>Howard Fast</td>\n",
              "      <td>120093</td>\n",
              "      <td>5</td>\n",
              "      <td>232422</td>\n",
              "    </tr>\n",
              "    <tr>\n",
              "      <th>763619</th>\n",
              "      <td>0380771705</td>\n",
              "      <td>Branded Hearts</td>\n",
              "      <td>Shannon Drake</td>\n",
              "      <td>215136</td>\n",
              "      <td>0</td>\n",
              "      <td>102500</td>\n",
              "    </tr>\n",
              "    <tr>\n",
              "      <th>965921</th>\n",
              "      <td>0821734970</td>\n",
              "      <td>Defiant Ecstasy</td>\n",
              "      <td>Janelle Taylor</td>\n",
              "      <td>127200</td>\n",
              "      <td>0</td>\n",
              "      <td>213947</td>\n",
              "    </tr>\n",
              "    <tr>\n",
              "      <th>266627</th>\n",
              "      <td>0440111323</td>\n",
              "      <td>A Catskill Eagle</td>\n",
              "      <td>Robert B. Parker</td>\n",
              "      <td>188273</td>\n",
              "      <td>0</td>\n",
              "      <td>9851</td>\n",
              "    </tr>\n",
              "    <tr>\n",
              "      <th>560045</th>\n",
              "      <td>0679408371</td>\n",
              "      <td>Faster: The Acceleration of Just About Everything</td>\n",
              "      <td>James Gleick</td>\n",
              "      <td>261291</td>\n",
              "      <td>0</td>\n",
              "      <td>46585</td>\n",
              "    </tr>\n",
              "    <tr>\n",
              "      <th>797542</th>\n",
              "      <td>159197206X</td>\n",
              "      <td>Red Badge of Courage (Great Illustrated Classics)</td>\n",
              "      <td>Stephen Crane</td>\n",
              "      <td>194669</td>\n",
              "      <td>0</td>\n",
              "      <td>116612</td>\n",
              "    </tr>\n",
              "    <tr>\n",
              "      <th>389642</th>\n",
              "      <td>0425185249</td>\n",
              "      <td>Death a L'Orange</td>\n",
              "      <td>Nancy Fairbanks</td>\n",
              "      <td>146113</td>\n",
              "      <td>0</td>\n",
              "      <td>20485</td>\n",
              "    </tr>\n",
              "    <tr>\n",
              "      <th>496191</th>\n",
              "      <td>0064407683</td>\n",
              "      <td>The Wide Window (A Series of Unfortunate Event...</td>\n",
              "      <td>Lemony Snicket</td>\n",
              "      <td>274618</td>\n",
              "      <td>0</td>\n",
              "      <td>34221</td>\n",
              "    </tr>\n",
              "  </tbody>\n",
              "</table>\n",
              "</div>\n",
              "      <button class=\"colab-df-convert\" onclick=\"convertToInteractive('df-2d415a58-ac2b-4767-b0bc-ce65597dd063')\"\n",
              "              title=\"Convert this dataframe to an interactive table.\"\n",
              "              style=\"display:none;\">\n",
              "        \n",
              "  <svg xmlns=\"http://www.w3.org/2000/svg\" height=\"24px\"viewBox=\"0 0 24 24\"\n",
              "       width=\"24px\">\n",
              "    <path d=\"M0 0h24v24H0V0z\" fill=\"none\"/>\n",
              "    <path d=\"M18.56 5.44l.94 2.06.94-2.06 2.06-.94-2.06-.94-.94-2.06-.94 2.06-2.06.94zm-11 1L8.5 8.5l.94-2.06 2.06-.94-2.06-.94L8.5 2.5l-.94 2.06-2.06.94zm10 10l.94 2.06.94-2.06 2.06-.94-2.06-.94-.94-2.06-.94 2.06-2.06.94z\"/><path d=\"M17.41 7.96l-1.37-1.37c-.4-.4-.92-.59-1.43-.59-.52 0-1.04.2-1.43.59L10.3 9.45l-7.72 7.72c-.78.78-.78 2.05 0 2.83L4 21.41c.39.39.9.59 1.41.59.51 0 1.02-.2 1.41-.59l7.78-7.78 2.81-2.81c.8-.78.8-2.07 0-2.86zM5.41 20L4 18.59l7.72-7.72 1.47 1.35L5.41 20z\"/>\n",
              "  </svg>\n",
              "      </button>\n",
              "      \n",
              "  <style>\n",
              "    .colab-df-container {\n",
              "      display:flex;\n",
              "      flex-wrap:wrap;\n",
              "      gap: 12px;\n",
              "    }\n",
              "\n",
              "    .colab-df-convert {\n",
              "      background-color: #E8F0FE;\n",
              "      border: none;\n",
              "      border-radius: 50%;\n",
              "      cursor: pointer;\n",
              "      display: none;\n",
              "      fill: #1967D2;\n",
              "      height: 32px;\n",
              "      padding: 0 0 0 0;\n",
              "      width: 32px;\n",
              "    }\n",
              "\n",
              "    .colab-df-convert:hover {\n",
              "      background-color: #E2EBFA;\n",
              "      box-shadow: 0px 1px 2px rgba(60, 64, 67, 0.3), 0px 1px 3px 1px rgba(60, 64, 67, 0.15);\n",
              "      fill: #174EA6;\n",
              "    }\n",
              "\n",
              "    [theme=dark] .colab-df-convert {\n",
              "      background-color: #3B4455;\n",
              "      fill: #D2E3FC;\n",
              "    }\n",
              "\n",
              "    [theme=dark] .colab-df-convert:hover {\n",
              "      background-color: #434B5C;\n",
              "      box-shadow: 0px 1px 3px 1px rgba(0, 0, 0, 0.15);\n",
              "      filter: drop-shadow(0px 1px 2px rgba(0, 0, 0, 0.3));\n",
              "      fill: #FFFFFF;\n",
              "    }\n",
              "  </style>\n",
              "\n",
              "      <script>\n",
              "        const buttonEl =\n",
              "          document.querySelector('#df-2d415a58-ac2b-4767-b0bc-ce65597dd063 button.colab-df-convert');\n",
              "        buttonEl.style.display =\n",
              "          google.colab.kernel.accessAllowed ? 'block' : 'none';\n",
              "\n",
              "        async function convertToInteractive(key) {\n",
              "          const element = document.querySelector('#df-2d415a58-ac2b-4767-b0bc-ce65597dd063');\n",
              "          const dataTable =\n",
              "            await google.colab.kernel.invokeFunction('convertToInteractive',\n",
              "                                                     [key], {});\n",
              "          if (!dataTable) return;\n",
              "\n",
              "          const docLinkHtml = 'Like what you see? Visit the ' +\n",
              "            '<a target=\"_blank\" href=https://colab.research.google.com/notebooks/data_table.ipynb>data table notebook</a>'\n",
              "            + ' to learn more about interactive tables.';\n",
              "          element.innerHTML = '';\n",
              "          dataTable['output_type'] = 'display_data';\n",
              "          await google.colab.output.renderOutput(dataTable, element);\n",
              "          const docLink = document.createElement('div');\n",
              "          docLink.innerHTML = docLinkHtml;\n",
              "          element.appendChild(docLink);\n",
              "        }\n",
              "      </script>\n",
              "    </div>\n",
              "  </div>\n",
              "  "
            ]
          },
          "metadata": {},
          "execution_count": 30
        }
      ]
    },
    {
      "cell_type": "code",
      "source": [
        "book_user_rating.describe()"
      ],
      "metadata": {
        "colab": {
          "base_uri": "https://localhost:8080/",
          "height": 300
        },
        "id": "GDBFhDpEait_",
        "outputId": "aef81dd0-8269-42ec-d221-38b2060d7cee"
      },
      "execution_count": null,
      "outputs": [
        {
          "output_type": "execute_result",
          "data": {
            "text/plain": [
              "            User-ID   Book-Rating  unique_id_book\n",
              "count  1.031136e+06  1.031136e+06    1.031136e+06\n",
              "mean   1.405945e+05  2.839051e+00    6.721601e+04\n",
              "std    8.052466e+04  3.854157e+00    7.192401e+04\n",
              "min    2.000000e+00  0.000000e+00    0.000000e+00\n",
              "25%    7.041500e+04  0.000000e+00    9.288000e+03\n",
              "50%    1.412100e+05  0.000000e+00    3.740500e+04\n",
              "75%    2.114260e+05  7.000000e+00    1.058910e+05\n",
              "max    2.788540e+05  1.000000e+01    2.701500e+05"
            ],
            "text/html": [
              "\n",
              "  <div id=\"df-8089b275-be62-49ec-8e57-79e0f76cf6a7\">\n",
              "    <div class=\"colab-df-container\">\n",
              "      <div>\n",
              "<style scoped>\n",
              "    .dataframe tbody tr th:only-of-type {\n",
              "        vertical-align: middle;\n",
              "    }\n",
              "\n",
              "    .dataframe tbody tr th {\n",
              "        vertical-align: top;\n",
              "    }\n",
              "\n",
              "    .dataframe thead th {\n",
              "        text-align: right;\n",
              "    }\n",
              "</style>\n",
              "<table border=\"1\" class=\"dataframe\">\n",
              "  <thead>\n",
              "    <tr style=\"text-align: right;\">\n",
              "      <th></th>\n",
              "      <th>User-ID</th>\n",
              "      <th>Book-Rating</th>\n",
              "      <th>unique_id_book</th>\n",
              "    </tr>\n",
              "  </thead>\n",
              "  <tbody>\n",
              "    <tr>\n",
              "      <th>count</th>\n",
              "      <td>1.031136e+06</td>\n",
              "      <td>1.031136e+06</td>\n",
              "      <td>1.031136e+06</td>\n",
              "    </tr>\n",
              "    <tr>\n",
              "      <th>mean</th>\n",
              "      <td>1.405945e+05</td>\n",
              "      <td>2.839051e+00</td>\n",
              "      <td>6.721601e+04</td>\n",
              "    </tr>\n",
              "    <tr>\n",
              "      <th>std</th>\n",
              "      <td>8.052466e+04</td>\n",
              "      <td>3.854157e+00</td>\n",
              "      <td>7.192401e+04</td>\n",
              "    </tr>\n",
              "    <tr>\n",
              "      <th>min</th>\n",
              "      <td>2.000000e+00</td>\n",
              "      <td>0.000000e+00</td>\n",
              "      <td>0.000000e+00</td>\n",
              "    </tr>\n",
              "    <tr>\n",
              "      <th>25%</th>\n",
              "      <td>7.041500e+04</td>\n",
              "      <td>0.000000e+00</td>\n",
              "      <td>9.288000e+03</td>\n",
              "    </tr>\n",
              "    <tr>\n",
              "      <th>50%</th>\n",
              "      <td>1.412100e+05</td>\n",
              "      <td>0.000000e+00</td>\n",
              "      <td>3.740500e+04</td>\n",
              "    </tr>\n",
              "    <tr>\n",
              "      <th>75%</th>\n",
              "      <td>2.114260e+05</td>\n",
              "      <td>7.000000e+00</td>\n",
              "      <td>1.058910e+05</td>\n",
              "    </tr>\n",
              "    <tr>\n",
              "      <th>max</th>\n",
              "      <td>2.788540e+05</td>\n",
              "      <td>1.000000e+01</td>\n",
              "      <td>2.701500e+05</td>\n",
              "    </tr>\n",
              "  </tbody>\n",
              "</table>\n",
              "</div>\n",
              "      <button class=\"colab-df-convert\" onclick=\"convertToInteractive('df-8089b275-be62-49ec-8e57-79e0f76cf6a7')\"\n",
              "              title=\"Convert this dataframe to an interactive table.\"\n",
              "              style=\"display:none;\">\n",
              "        \n",
              "  <svg xmlns=\"http://www.w3.org/2000/svg\" height=\"24px\"viewBox=\"0 0 24 24\"\n",
              "       width=\"24px\">\n",
              "    <path d=\"M0 0h24v24H0V0z\" fill=\"none\"/>\n",
              "    <path d=\"M18.56 5.44l.94 2.06.94-2.06 2.06-.94-2.06-.94-.94-2.06-.94 2.06-2.06.94zm-11 1L8.5 8.5l.94-2.06 2.06-.94-2.06-.94L8.5 2.5l-.94 2.06-2.06.94zm10 10l.94 2.06.94-2.06 2.06-.94-2.06-.94-.94-2.06-.94 2.06-2.06.94z\"/><path d=\"M17.41 7.96l-1.37-1.37c-.4-.4-.92-.59-1.43-.59-.52 0-1.04.2-1.43.59L10.3 9.45l-7.72 7.72c-.78.78-.78 2.05 0 2.83L4 21.41c.39.39.9.59 1.41.59.51 0 1.02-.2 1.41-.59l7.78-7.78 2.81-2.81c.8-.78.8-2.07 0-2.86zM5.41 20L4 18.59l7.72-7.72 1.47 1.35L5.41 20z\"/>\n",
              "  </svg>\n",
              "      </button>\n",
              "      \n",
              "  <style>\n",
              "    .colab-df-container {\n",
              "      display:flex;\n",
              "      flex-wrap:wrap;\n",
              "      gap: 12px;\n",
              "    }\n",
              "\n",
              "    .colab-df-convert {\n",
              "      background-color: #E8F0FE;\n",
              "      border: none;\n",
              "      border-radius: 50%;\n",
              "      cursor: pointer;\n",
              "      display: none;\n",
              "      fill: #1967D2;\n",
              "      height: 32px;\n",
              "      padding: 0 0 0 0;\n",
              "      width: 32px;\n",
              "    }\n",
              "\n",
              "    .colab-df-convert:hover {\n",
              "      background-color: #E2EBFA;\n",
              "      box-shadow: 0px 1px 2px rgba(60, 64, 67, 0.3), 0px 1px 3px 1px rgba(60, 64, 67, 0.15);\n",
              "      fill: #174EA6;\n",
              "    }\n",
              "\n",
              "    [theme=dark] .colab-df-convert {\n",
              "      background-color: #3B4455;\n",
              "      fill: #D2E3FC;\n",
              "    }\n",
              "\n",
              "    [theme=dark] .colab-df-convert:hover {\n",
              "      background-color: #434B5C;\n",
              "      box-shadow: 0px 1px 3px 1px rgba(0, 0, 0, 0.15);\n",
              "      filter: drop-shadow(0px 1px 2px rgba(0, 0, 0, 0.3));\n",
              "      fill: #FFFFFF;\n",
              "    }\n",
              "  </style>\n",
              "\n",
              "      <script>\n",
              "        const buttonEl =\n",
              "          document.querySelector('#df-8089b275-be62-49ec-8e57-79e0f76cf6a7 button.colab-df-convert');\n",
              "        buttonEl.style.display =\n",
              "          google.colab.kernel.accessAllowed ? 'block' : 'none';\n",
              "\n",
              "        async function convertToInteractive(key) {\n",
              "          const element = document.querySelector('#df-8089b275-be62-49ec-8e57-79e0f76cf6a7');\n",
              "          const dataTable =\n",
              "            await google.colab.kernel.invokeFunction('convertToInteractive',\n",
              "                                                     [key], {});\n",
              "          if (!dataTable) return;\n",
              "\n",
              "          const docLinkHtml = 'Like what you see? Visit the ' +\n",
              "            '<a target=\"_blank\" href=https://colab.research.google.com/notebooks/data_table.ipynb>data table notebook</a>'\n",
              "            + ' to learn more about interactive tables.';\n",
              "          element.innerHTML = '';\n",
              "          dataTable['output_type'] = 'display_data';\n",
              "          await google.colab.output.renderOutput(dataTable, element);\n",
              "          const docLink = document.createElement('div');\n",
              "          docLink.innerHTML = docLinkHtml;\n",
              "          element.appendChild(docLink);\n",
              "        }\n",
              "      </script>\n",
              "    </div>\n",
              "  </div>\n",
              "  "
            ]
          },
          "metadata": {},
          "execution_count": 31
        }
      ]
    },
    {
      "cell_type": "markdown",
      "source": [
        "The total number of unique book ids which me created is same as unique ISBNs. SO the numbers are one to one. Unique book id is just a simpler representation of ISBN. "
      ],
      "metadata": {
        "id": "9UZYHHLXAhGX"
      }
    },
    {
      "cell_type": "markdown",
      "source": [
        "My next step was to create a pivot table/ the user item interaction matrix with the given data. BUt I faced many problems relating to RAM over flow. I tried different techniques to create the table in order to prevent that but to no avail."
      ],
      "metadata": {
        "id": "_XITtweQAYqG"
      }
    },
    {
      "cell_type": "markdown",
      "source": [
        "\n",
        "I tried directly converting the interactions matrix using pivot but it always threw an error since the data is very huge.It gives an error \"Unstacked DataFrame is too big, causing int32 overflow\". Hence, to create the pivot matrix, we will split the interactions data frame into 10 chunks, make the pivot matrix from each chunk and then stich them up. This way will get a complete user-item interactions matrix without getting an error"
      ],
      "metadata": {
        "id": "T6I1aTZbI6Vz"
      }
    },
    {
      "cell_type": "code",
      "source": [
        "# creating chunks of 5000 rows \n",
        "chunk_size = 10000\n",
        "chunks = [x for x in range(0, book_user_rating.shape[0], chunk_size)]\n",
        "for i in range(0, len(chunks) - 1):\n",
        "    print(chunks[i], chunks[i + 1] - 1)"
      ],
      "metadata": {
        "colab": {
          "base_uri": "https://localhost:8080/"
        },
        "id": "qOIjqJ7MbOps",
        "outputId": "b8424de2-00f7-432b-c356-e6d09a1a0f81"
      },
      "execution_count": null,
      "outputs": [
        {
          "output_type": "stream",
          "name": "stdout",
          "text": [
            "0 9999\n",
            "10000 19999\n",
            "20000 29999\n",
            "30000 39999\n",
            "40000 49999\n",
            "50000 59999\n",
            "60000 69999\n",
            "70000 79999\n",
            "80000 89999\n",
            "90000 99999\n",
            "100000 109999\n",
            "110000 119999\n",
            "120000 129999\n",
            "130000 139999\n",
            "140000 149999\n",
            "150000 159999\n",
            "160000 169999\n",
            "170000 179999\n",
            "180000 189999\n",
            "190000 199999\n",
            "200000 209999\n",
            "210000 219999\n",
            "220000 229999\n",
            "230000 239999\n",
            "240000 249999\n",
            "250000 259999\n",
            "260000 269999\n",
            "270000 279999\n",
            "280000 289999\n",
            "290000 299999\n",
            "300000 309999\n",
            "310000 319999\n",
            "320000 329999\n",
            "330000 339999\n",
            "340000 349999\n",
            "350000 359999\n",
            "360000 369999\n",
            "370000 379999\n",
            "380000 389999\n",
            "390000 399999\n",
            "400000 409999\n",
            "410000 419999\n",
            "420000 429999\n",
            "430000 439999\n",
            "440000 449999\n",
            "450000 459999\n",
            "460000 469999\n",
            "470000 479999\n",
            "480000 489999\n",
            "490000 499999\n",
            "500000 509999\n",
            "510000 519999\n",
            "520000 529999\n",
            "530000 539999\n",
            "540000 549999\n",
            "550000 559999\n",
            "560000 569999\n",
            "570000 579999\n",
            "580000 589999\n",
            "590000 599999\n",
            "600000 609999\n",
            "610000 619999\n",
            "620000 629999\n",
            "630000 639999\n",
            "640000 649999\n",
            "650000 659999\n",
            "660000 669999\n",
            "670000 679999\n",
            "680000 689999\n",
            "690000 699999\n",
            "700000 709999\n",
            "710000 719999\n",
            "720000 729999\n",
            "730000 739999\n",
            "740000 749999\n",
            "750000 759999\n",
            "760000 769999\n",
            "770000 779999\n",
            "780000 789999\n",
            "790000 799999\n",
            "800000 809999\n",
            "810000 819999\n",
            "820000 829999\n",
            "830000 839999\n",
            "840000 849999\n",
            "850000 859999\n",
            "860000 869999\n",
            "870000 879999\n",
            "880000 889999\n",
            "890000 899999\n",
            "900000 909999\n",
            "910000 919999\n",
            "920000 929999\n",
            "930000 939999\n",
            "940000 949999\n",
            "950000 959999\n",
            "960000 969999\n",
            "970000 979999\n",
            "980000 989999\n",
            "990000 999999\n",
            "1000000 1009999\n",
            "1010000 1019999\n",
            "1020000 1029999\n"
          ]
        }
      ]
    },
    {
      "cell_type": "code",
      "source": [
        "# pivot mtrix of all the chunks\n",
        "user_item_pivot_chunks = [interactionsdf.iloc[ chunks[i]:chunks[i + 1] - 1 ].pivot(index='User-ID', columns='ISBN',  values='Book-Rating') for i in range(0, len(chunks) - 1)]"
      ],
      "metadata": {
        "id": "bQqss_wAJyro"
      },
      "execution_count": null,
      "outputs": []
    },
    {
      "cell_type": "markdown",
      "source": [
        "Concating the chucks also lead to RAM overflow issue, We are only provided 12 gigs of RAM collab notebook, and it does seem to run out quickly. I also ran the notebook on a local host with 16gigs of RAM but it still wasnt sufficient. \n",
        "\n",
        "Now, I will try a 3rd method to compute our user item interactions matrix. I will use the tqdm library to monitor the progress of my calculations. "
      ],
      "metadata": {
        "id": "9WpKQ7GwP1kf"
      }
    },
    {
      "cell_type": "code",
      "source": [
        "from tqdm import tqdm # to see the progress\n",
        "pivot_df = pd.DataFrame()  #storing pivot data frame\n",
        "\n",
        "for i in tqdm(range(0, len(chunks) - 1)):   #looping over range of chunks\n",
        "    chunk_df = book_user_rating.iloc[ chunks[i]:chunks[i + 1] - 1] #picking the data from the main df acccording to the chunk\n",
        "    interactions = (chunk_df.groupby(['User-ID','unique_id_book'])['Book-Rating'] #grouping for the pivot table\n",
        "      .sum()                                                                      #sum of alll the ratings for a books by the user\n",
        "      .unstack()                                                                  #unstacking to create a df\n",
        "      .reset_index()                                                              # converting to a df\n",
        "      .fillna(0)                                                                  #filling null/nan values with zeros\n",
        "      .set_index('User-ID')                                                       #setting index as user-id for our pivot table\n",
        "    )\n",
        "    print (interactions.shape)\n",
        "    pivot_df = pivot_df.append(interactions, sort=False) "
      ],
      "metadata": {
        "colab": {
          "base_uri": "https://localhost:8080/"
        },
        "id": "2ALOaj5UQTDk",
        "outputId": "17645904-2a8b-4872-8f5a-2fc22eeebc65"
      },
      "execution_count": null,
      "outputs": [
        {
          "output_type": "stream",
          "name": "stderr",
          "text": [
            "  3%|▎         | 3/103 [00:00<00:07, 13.13it/s]"
          ]
        },
        {
          "output_type": "stream",
          "name": "stdout",
          "text": [
            "(6714, 119)\n",
            "(5718, 188)\n",
            "(5938, 206)\n",
            "(5590, 197)\n",
            "(5874, 296)\n"
          ]
        },
        {
          "output_type": "stream",
          "name": "stderr",
          "text": [
            "\r  5%|▍         | 5/103 [00:00<00:18,  5.26it/s]"
          ]
        },
        {
          "output_type": "stream",
          "name": "stdout",
          "text": [
            "(5699, 207)\n"
          ]
        },
        {
          "output_type": "stream",
          "name": "stderr",
          "text": [
            "\r  6%|▌         | 6/103 [00:01<00:24,  3.97it/s]"
          ]
        },
        {
          "output_type": "stream",
          "name": "stdout",
          "text": [
            "(5775, 250)\n"
          ]
        },
        {
          "output_type": "stream",
          "name": "stderr",
          "text": [
            "\r  7%|▋         | 7/103 [00:01<00:30,  3.11it/s]"
          ]
        },
        {
          "output_type": "stream",
          "name": "stdout",
          "text": [
            "(5534, 243)\n"
          ]
        },
        {
          "output_type": "stream",
          "name": "stderr",
          "text": [
            "\r  8%|▊         | 8/103 [00:02<00:32,  2.88it/s]"
          ]
        },
        {
          "output_type": "stream",
          "name": "stdout",
          "text": [
            "(5778, 274)\n"
          ]
        },
        {
          "output_type": "stream",
          "name": "stderr",
          "text": [
            "\r  9%|▊         | 9/103 [00:02<00:40,  2.33it/s]"
          ]
        },
        {
          "output_type": "stream",
          "name": "stdout",
          "text": [
            "(5586, 316)\n"
          ]
        },
        {
          "output_type": "stream",
          "name": "stderr",
          "text": [
            "\r 10%|▉         | 10/103 [00:03<00:41,  2.23it/s]"
          ]
        },
        {
          "output_type": "stream",
          "name": "stdout",
          "text": [
            "(5483, 348)\n"
          ]
        },
        {
          "output_type": "stream",
          "name": "stderr",
          "text": [
            "\r 11%|█         | 11/103 [00:03<00:42,  2.15it/s]"
          ]
        },
        {
          "output_type": "stream",
          "name": "stdout",
          "text": [
            "(5218, 324)\n"
          ]
        },
        {
          "output_type": "stream",
          "name": "stderr",
          "text": [
            "\r 12%|█▏        | 12/103 [00:04<00:45,  1.99it/s]"
          ]
        },
        {
          "output_type": "stream",
          "name": "stdout",
          "text": [
            "(5641, 369)\n"
          ]
        },
        {
          "output_type": "stream",
          "name": "stderr",
          "text": [
            "\r 13%|█▎        | 13/103 [00:05<00:53,  1.69it/s]"
          ]
        },
        {
          "output_type": "stream",
          "name": "stdout",
          "text": [
            "(5526, 421)\n"
          ]
        },
        {
          "output_type": "stream",
          "name": "stderr",
          "text": [
            "\r 14%|█▎        | 14/103 [00:06<01:02,  1.43it/s]"
          ]
        },
        {
          "output_type": "stream",
          "name": "stdout",
          "text": [
            "(5391, 375)\n"
          ]
        },
        {
          "output_type": "stream",
          "name": "stderr",
          "text": [
            "\r 15%|█▍        | 15/103 [00:07<01:15,  1.17it/s]"
          ]
        },
        {
          "output_type": "stream",
          "name": "stdout",
          "text": [
            "(5693, 356)\n"
          ]
        },
        {
          "output_type": "stream",
          "name": "stderr",
          "text": [
            "\r 16%|█▌        | 16/103 [00:09<01:39,  1.14s/it]"
          ]
        },
        {
          "output_type": "stream",
          "name": "stdout",
          "text": [
            "(5501, 415)\n"
          ]
        },
        {
          "output_type": "stream",
          "name": "stderr",
          "text": [
            "\r 17%|█▋        | 17/103 [00:10<01:36,  1.13s/it]"
          ]
        },
        {
          "output_type": "stream",
          "name": "stdout",
          "text": [
            "(5582, 528)\n"
          ]
        },
        {
          "output_type": "stream",
          "name": "stderr",
          "text": [
            "\r 17%|█▋        | 18/103 [00:12<02:01,  1.43s/it]"
          ]
        },
        {
          "output_type": "stream",
          "name": "stdout",
          "text": [
            "(5727, 414)\n"
          ]
        },
        {
          "output_type": "stream",
          "name": "stderr",
          "text": [
            "\r 18%|█▊        | 19/103 [00:15<02:37,  1.88s/it]"
          ]
        },
        {
          "output_type": "stream",
          "name": "stdout",
          "text": [
            "(4910, 400)\n"
          ]
        }
      ]
    },
    {
      "cell_type": "markdown",
      "source": [
        "We are still facing some RAM issues, the appending seems to have stopped at 10 percent. We are only able to excecute 18 percent of the code. its not even close to appending all the dataframes. Lets try a different approach, We could use memory based Collaborative filtering methods. \n",
        "\n",
        "Model based approach doesnt seem to be possible to execute in a collab notebook with very limited RAM. The data set is too big. We could try to **apply some constraints** to purify/clean the data-set which will inturn help us reduce the data frame size.  "
      ],
      "metadata": {
        "id": "7d-BWXNA1P6m"
      }
    },
    {
      "cell_type": "markdown",
      "source": [
        "# Collaborative Filtering Using k-Nearest Neighbors (kNN) / Memory based Model"
      ],
      "metadata": {
        "id": "2XsIhKMPEB73"
      }
    },
    {
      "cell_type": "markdown",
      "source": [
        "To reduce the data size we will try to apply certain constraints on the data frame. We can apply many different types of constraints to the dataset. These constraints include:\n",
        "\n",
        "1. **Popularity Threshold**: Minimum number of user-ratings for a book.\n",
        "2. **Active user Threshold**: Minimum numer of books read for a unique user to be included in the reccommendation system. \n",
        "3. **Regional Recommendation**: We will also recommend stuff regionally. The user will get recommendations from the users of the same location. We will do it for 1 region to not run into memory problems "
      ],
      "metadata": {
        "id": "I7fncK8vHfHg"
      }
    },
    {
      "cell_type": "markdown",
      "source": [
        "Since we are applying a **new algorithm** we will be **starting from scrath**. We will use the **initial data given to us**. Starting from the original data set, we will be only looking at the popular books. In order to find out which books are popular, we combine books data with ratings data."
      ],
      "metadata": {
        "id": "77uLi0JdCNqi"
      }
    },
    {
      "cell_type": "markdown",
      "source": [
        "**Active User Threshold**\n",
        "\n",
        "\n",
        "Remove users with less than 50 ratings(**inactive users**).\n",
        "\n",
        "To to that, we will apply value_counts on user-id, each repetation of user means a new rating for a book by the same user. Then we will pick up users with atleast 50 repetions/ratings and filter them in our ratings data frame.\n",
        "This also makes sure that all our users are consistent readers. "
      ],
      "metadata": {
        "id": "ha1akQEVDpHX"
      }
    },
    {
      "cell_type": "code",
      "source": [
        "# checking the number of users and thier number ratings\n",
        "counts1 = ratings['User-ID'].value_counts()\n",
        "print(counts1)"
      ],
      "metadata": {
        "colab": {
          "base_uri": "https://localhost:8080/"
        },
        "id": "pvpr3wigNcq9",
        "outputId": "33c9b2ee-5679-4db0-dbc3-d92ee5cf73d5"
      },
      "execution_count": 5,
      "outputs": [
        {
          "output_type": "stream",
          "name": "stdout",
          "text": [
            "11676     13602\n",
            "198711     7550\n",
            "153662     6109\n",
            "98391      5891\n",
            "35859      5850\n",
            "          ...  \n",
            "116180        1\n",
            "116166        1\n",
            "116154        1\n",
            "116137        1\n",
            "276723        1\n",
            "Name: User-ID, Length: 105283, dtype: int64\n"
          ]
        }
      ]
    },
    {
      "cell_type": "code",
      "source": [
        "#keeping users with more than 50 ratings \n",
        "counts1_50 = counts1[counts1 >= 50].index # list of user-ids with more than 200 ratings\n",
        "ratings = ratings[ratings['User-ID'].isin(counts1_50)]  # updating the whole data frame with only users with high ratings"
      ],
      "metadata": {
        "id": "wlQPHxrbDrDZ"
      },
      "execution_count": 6,
      "outputs": []
    },
    {
      "cell_type": "code",
      "source": [
        "ratings"
      ],
      "metadata": {
        "colab": {
          "base_uri": "https://localhost:8080/",
          "height": 424
        },
        "id": "o948KShHUIUD",
        "outputId": "508e9ceb-fc45-4d58-bfe2-db60451e7324"
      },
      "execution_count": 7,
      "outputs": [
        {
          "output_type": "execute_result",
          "data": {
            "text/plain": [
              "         User-ID        ISBN  Book-Rating\n",
              "173       276847  0446364193            0\n",
              "174       276847  3257200552            5\n",
              "175       276847  3379015180            0\n",
              "176       276847  3404145909            8\n",
              "177       276847  3404148576            8\n",
              "...          ...         ...          ...\n",
              "1149744   276688  0836236688           10\n",
              "1149745   276688  0892966548           10\n",
              "1149746   276688  1551669315            6\n",
              "1149747   276688  1575660792            7\n",
              "1149748   276688  1580600506            0\n",
              "\n",
              "[768472 rows x 3 columns]"
            ],
            "text/html": [
              "\n",
              "  <div id=\"df-8dc1bb6a-20fe-4c35-9adc-b6d20671a493\">\n",
              "    <div class=\"colab-df-container\">\n",
              "      <div>\n",
              "<style scoped>\n",
              "    .dataframe tbody tr th:only-of-type {\n",
              "        vertical-align: middle;\n",
              "    }\n",
              "\n",
              "    .dataframe tbody tr th {\n",
              "        vertical-align: top;\n",
              "    }\n",
              "\n",
              "    .dataframe thead th {\n",
              "        text-align: right;\n",
              "    }\n",
              "</style>\n",
              "<table border=\"1\" class=\"dataframe\">\n",
              "  <thead>\n",
              "    <tr style=\"text-align: right;\">\n",
              "      <th></th>\n",
              "      <th>User-ID</th>\n",
              "      <th>ISBN</th>\n",
              "      <th>Book-Rating</th>\n",
              "    </tr>\n",
              "  </thead>\n",
              "  <tbody>\n",
              "    <tr>\n",
              "      <th>173</th>\n",
              "      <td>276847</td>\n",
              "      <td>0446364193</td>\n",
              "      <td>0</td>\n",
              "    </tr>\n",
              "    <tr>\n",
              "      <th>174</th>\n",
              "      <td>276847</td>\n",
              "      <td>3257200552</td>\n",
              "      <td>5</td>\n",
              "    </tr>\n",
              "    <tr>\n",
              "      <th>175</th>\n",
              "      <td>276847</td>\n",
              "      <td>3379015180</td>\n",
              "      <td>0</td>\n",
              "    </tr>\n",
              "    <tr>\n",
              "      <th>176</th>\n",
              "      <td>276847</td>\n",
              "      <td>3404145909</td>\n",
              "      <td>8</td>\n",
              "    </tr>\n",
              "    <tr>\n",
              "      <th>177</th>\n",
              "      <td>276847</td>\n",
              "      <td>3404148576</td>\n",
              "      <td>8</td>\n",
              "    </tr>\n",
              "    <tr>\n",
              "      <th>...</th>\n",
              "      <td>...</td>\n",
              "      <td>...</td>\n",
              "      <td>...</td>\n",
              "    </tr>\n",
              "    <tr>\n",
              "      <th>1149744</th>\n",
              "      <td>276688</td>\n",
              "      <td>0836236688</td>\n",
              "      <td>10</td>\n",
              "    </tr>\n",
              "    <tr>\n",
              "      <th>1149745</th>\n",
              "      <td>276688</td>\n",
              "      <td>0892966548</td>\n",
              "      <td>10</td>\n",
              "    </tr>\n",
              "    <tr>\n",
              "      <th>1149746</th>\n",
              "      <td>276688</td>\n",
              "      <td>1551669315</td>\n",
              "      <td>6</td>\n",
              "    </tr>\n",
              "    <tr>\n",
              "      <th>1149747</th>\n",
              "      <td>276688</td>\n",
              "      <td>1575660792</td>\n",
              "      <td>7</td>\n",
              "    </tr>\n",
              "    <tr>\n",
              "      <th>1149748</th>\n",
              "      <td>276688</td>\n",
              "      <td>1580600506</td>\n",
              "      <td>0</td>\n",
              "    </tr>\n",
              "  </tbody>\n",
              "</table>\n",
              "<p>768472 rows × 3 columns</p>\n",
              "</div>\n",
              "      <button class=\"colab-df-convert\" onclick=\"convertToInteractive('df-8dc1bb6a-20fe-4c35-9adc-b6d20671a493')\"\n",
              "              title=\"Convert this dataframe to an interactive table.\"\n",
              "              style=\"display:none;\">\n",
              "        \n",
              "  <svg xmlns=\"http://www.w3.org/2000/svg\" height=\"24px\"viewBox=\"0 0 24 24\"\n",
              "       width=\"24px\">\n",
              "    <path d=\"M0 0h24v24H0V0z\" fill=\"none\"/>\n",
              "    <path d=\"M18.56 5.44l.94 2.06.94-2.06 2.06-.94-2.06-.94-.94-2.06-.94 2.06-2.06.94zm-11 1L8.5 8.5l.94-2.06 2.06-.94-2.06-.94L8.5 2.5l-.94 2.06-2.06.94zm10 10l.94 2.06.94-2.06 2.06-.94-2.06-.94-.94-2.06-.94 2.06-2.06.94z\"/><path d=\"M17.41 7.96l-1.37-1.37c-.4-.4-.92-.59-1.43-.59-.52 0-1.04.2-1.43.59L10.3 9.45l-7.72 7.72c-.78.78-.78 2.05 0 2.83L4 21.41c.39.39.9.59 1.41.59.51 0 1.02-.2 1.41-.59l7.78-7.78 2.81-2.81c.8-.78.8-2.07 0-2.86zM5.41 20L4 18.59l7.72-7.72 1.47 1.35L5.41 20z\"/>\n",
              "  </svg>\n",
              "      </button>\n",
              "      \n",
              "  <style>\n",
              "    .colab-df-container {\n",
              "      display:flex;\n",
              "      flex-wrap:wrap;\n",
              "      gap: 12px;\n",
              "    }\n",
              "\n",
              "    .colab-df-convert {\n",
              "      background-color: #E8F0FE;\n",
              "      border: none;\n",
              "      border-radius: 50%;\n",
              "      cursor: pointer;\n",
              "      display: none;\n",
              "      fill: #1967D2;\n",
              "      height: 32px;\n",
              "      padding: 0 0 0 0;\n",
              "      width: 32px;\n",
              "    }\n",
              "\n",
              "    .colab-df-convert:hover {\n",
              "      background-color: #E2EBFA;\n",
              "      box-shadow: 0px 1px 2px rgba(60, 64, 67, 0.3), 0px 1px 3px 1px rgba(60, 64, 67, 0.15);\n",
              "      fill: #174EA6;\n",
              "    }\n",
              "\n",
              "    [theme=dark] .colab-df-convert {\n",
              "      background-color: #3B4455;\n",
              "      fill: #D2E3FC;\n",
              "    }\n",
              "\n",
              "    [theme=dark] .colab-df-convert:hover {\n",
              "      background-color: #434B5C;\n",
              "      box-shadow: 0px 1px 3px 1px rgba(0, 0, 0, 0.15);\n",
              "      filter: drop-shadow(0px 1px 2px rgba(0, 0, 0, 0.3));\n",
              "      fill: #FFFFFF;\n",
              "    }\n",
              "  </style>\n",
              "\n",
              "      <script>\n",
              "        const buttonEl =\n",
              "          document.querySelector('#df-8dc1bb6a-20fe-4c35-9adc-b6d20671a493 button.colab-df-convert');\n",
              "        buttonEl.style.display =\n",
              "          google.colab.kernel.accessAllowed ? 'block' : 'none';\n",
              "\n",
              "        async function convertToInteractive(key) {\n",
              "          const element = document.querySelector('#df-8dc1bb6a-20fe-4c35-9adc-b6d20671a493');\n",
              "          const dataTable =\n",
              "            await google.colab.kernel.invokeFunction('convertToInteractive',\n",
              "                                                     [key], {});\n",
              "          if (!dataTable) return;\n",
              "\n",
              "          const docLinkHtml = 'Like what you see? Visit the ' +\n",
              "            '<a target=\"_blank\" href=https://colab.research.google.com/notebooks/data_table.ipynb>data table notebook</a>'\n",
              "            + ' to learn more about interactive tables.';\n",
              "          element.innerHTML = '';\n",
              "          dataTable['output_type'] = 'display_data';\n",
              "          await google.colab.output.renderOutput(dataTable, element);\n",
              "          const docLink = document.createElement('div');\n",
              "          docLink.innerHTML = docLinkHtml;\n",
              "          element.appendChild(docLink);\n",
              "        }\n",
              "      </script>\n",
              "    </div>\n",
              "  </div>\n",
              "  "
            ]
          },
          "metadata": {},
          "execution_count": 7
        }
      ]
    },
    {
      "cell_type": "code",
      "source": [
        "ratings['User-ID'].value_counts()"
      ],
      "metadata": {
        "colab": {
          "base_uri": "https://localhost:8080/"
        },
        "id": "YozwbqegTvkl",
        "outputId": "b4e72812-a35f-4bc4-a9fb-64a10704d883"
      },
      "execution_count": null,
      "outputs": [
        {
          "output_type": "execute_result",
          "data": {
            "text/plain": [
              "11676     13602\n",
              "198711     7550\n",
              "153662     6109\n",
              "98391      5891\n",
              "35859      5850\n",
              "          ...  \n",
              "112240       50\n",
              "206438       50\n",
              "270801       50\n",
              "101620       50\n",
              "265784       50\n",
              "Name: User-ID, Length: 3427, dtype: int64"
            ]
          },
          "metadata": {},
          "execution_count": 8
        }
      ]
    },
    {
      "cell_type": "code",
      "source": [
        "# merging rating with users\n",
        "combine_book_rating = pd.merge(ratings, books,how = 'inner', on='ISBN') #merging two dataframes (inner join since we only want ifo of users with high rating)\n",
        "columns =['Book-Author',\t'Year-Of-Publication',\t'Publisher',\t'Image-URL-S',\t'Image-URL-M',\t'Image-URL-L'] #list of unnecessary columns\n",
        "combine_book_rating = combine_book_rating.drop(columns, axis=1) #droping those columns\n",
        "combine_book_rating.head()"
      ],
      "metadata": {
        "colab": {
          "base_uri": "https://localhost:8080/",
          "height": 206
        },
        "id": "7WM3JhND_15f",
        "outputId": "fa5d96c5-33d2-4c9f-8c1c-6990ff0fae29"
      },
      "execution_count": 8,
      "outputs": [
        {
          "output_type": "execute_result",
          "data": {
            "text/plain": [
              "   User-ID        ISBN  Book-Rating                               Book-Title\n",
              "0   276847  0446364193            0  Along Came a Spider (Alex Cross Novels)\n",
              "1   278418  0446364193            0  Along Came a Spider (Alex Cross Novels)\n",
              "2     5483  0446364193            0  Along Came a Spider (Alex Cross Novels)\n",
              "3     7346  0446364193            0  Along Came a Spider (Alex Cross Novels)\n",
              "4     8362  0446364193            0  Along Came a Spider (Alex Cross Novels)"
            ],
            "text/html": [
              "\n",
              "  <div id=\"df-d6b2f1fe-c584-47b2-ab77-02a9318cd8bb\">\n",
              "    <div class=\"colab-df-container\">\n",
              "      <div>\n",
              "<style scoped>\n",
              "    .dataframe tbody tr th:only-of-type {\n",
              "        vertical-align: middle;\n",
              "    }\n",
              "\n",
              "    .dataframe tbody tr th {\n",
              "        vertical-align: top;\n",
              "    }\n",
              "\n",
              "    .dataframe thead th {\n",
              "        text-align: right;\n",
              "    }\n",
              "</style>\n",
              "<table border=\"1\" class=\"dataframe\">\n",
              "  <thead>\n",
              "    <tr style=\"text-align: right;\">\n",
              "      <th></th>\n",
              "      <th>User-ID</th>\n",
              "      <th>ISBN</th>\n",
              "      <th>Book-Rating</th>\n",
              "      <th>Book-Title</th>\n",
              "    </tr>\n",
              "  </thead>\n",
              "  <tbody>\n",
              "    <tr>\n",
              "      <th>0</th>\n",
              "      <td>276847</td>\n",
              "      <td>0446364193</td>\n",
              "      <td>0</td>\n",
              "      <td>Along Came a Spider (Alex Cross Novels)</td>\n",
              "    </tr>\n",
              "    <tr>\n",
              "      <th>1</th>\n",
              "      <td>278418</td>\n",
              "      <td>0446364193</td>\n",
              "      <td>0</td>\n",
              "      <td>Along Came a Spider (Alex Cross Novels)</td>\n",
              "    </tr>\n",
              "    <tr>\n",
              "      <th>2</th>\n",
              "      <td>5483</td>\n",
              "      <td>0446364193</td>\n",
              "      <td>0</td>\n",
              "      <td>Along Came a Spider (Alex Cross Novels)</td>\n",
              "    </tr>\n",
              "    <tr>\n",
              "      <th>3</th>\n",
              "      <td>7346</td>\n",
              "      <td>0446364193</td>\n",
              "      <td>0</td>\n",
              "      <td>Along Came a Spider (Alex Cross Novels)</td>\n",
              "    </tr>\n",
              "    <tr>\n",
              "      <th>4</th>\n",
              "      <td>8362</td>\n",
              "      <td>0446364193</td>\n",
              "      <td>0</td>\n",
              "      <td>Along Came a Spider (Alex Cross Novels)</td>\n",
              "    </tr>\n",
              "  </tbody>\n",
              "</table>\n",
              "</div>\n",
              "      <button class=\"colab-df-convert\" onclick=\"convertToInteractive('df-d6b2f1fe-c584-47b2-ab77-02a9318cd8bb')\"\n",
              "              title=\"Convert this dataframe to an interactive table.\"\n",
              "              style=\"display:none;\">\n",
              "        \n",
              "  <svg xmlns=\"http://www.w3.org/2000/svg\" height=\"24px\"viewBox=\"0 0 24 24\"\n",
              "       width=\"24px\">\n",
              "    <path d=\"M0 0h24v24H0V0z\" fill=\"none\"/>\n",
              "    <path d=\"M18.56 5.44l.94 2.06.94-2.06 2.06-.94-2.06-.94-.94-2.06-.94 2.06-2.06.94zm-11 1L8.5 8.5l.94-2.06 2.06-.94-2.06-.94L8.5 2.5l-.94 2.06-2.06.94zm10 10l.94 2.06.94-2.06 2.06-.94-2.06-.94-.94-2.06-.94 2.06-2.06.94z\"/><path d=\"M17.41 7.96l-1.37-1.37c-.4-.4-.92-.59-1.43-.59-.52 0-1.04.2-1.43.59L10.3 9.45l-7.72 7.72c-.78.78-.78 2.05 0 2.83L4 21.41c.39.39.9.59 1.41.59.51 0 1.02-.2 1.41-.59l7.78-7.78 2.81-2.81c.8-.78.8-2.07 0-2.86zM5.41 20L4 18.59l7.72-7.72 1.47 1.35L5.41 20z\"/>\n",
              "  </svg>\n",
              "      </button>\n",
              "      \n",
              "  <style>\n",
              "    .colab-df-container {\n",
              "      display:flex;\n",
              "      flex-wrap:wrap;\n",
              "      gap: 12px;\n",
              "    }\n",
              "\n",
              "    .colab-df-convert {\n",
              "      background-color: #E8F0FE;\n",
              "      border: none;\n",
              "      border-radius: 50%;\n",
              "      cursor: pointer;\n",
              "      display: none;\n",
              "      fill: #1967D2;\n",
              "      height: 32px;\n",
              "      padding: 0 0 0 0;\n",
              "      width: 32px;\n",
              "    }\n",
              "\n",
              "    .colab-df-convert:hover {\n",
              "      background-color: #E2EBFA;\n",
              "      box-shadow: 0px 1px 2px rgba(60, 64, 67, 0.3), 0px 1px 3px 1px rgba(60, 64, 67, 0.15);\n",
              "      fill: #174EA6;\n",
              "    }\n",
              "\n",
              "    [theme=dark] .colab-df-convert {\n",
              "      background-color: #3B4455;\n",
              "      fill: #D2E3FC;\n",
              "    }\n",
              "\n",
              "    [theme=dark] .colab-df-convert:hover {\n",
              "      background-color: #434B5C;\n",
              "      box-shadow: 0px 1px 3px 1px rgba(0, 0, 0, 0.15);\n",
              "      filter: drop-shadow(0px 1px 2px rgba(0, 0, 0, 0.3));\n",
              "      fill: #FFFFFF;\n",
              "    }\n",
              "  </style>\n",
              "\n",
              "      <script>\n",
              "        const buttonEl =\n",
              "          document.querySelector('#df-d6b2f1fe-c584-47b2-ab77-02a9318cd8bb button.colab-df-convert');\n",
              "        buttonEl.style.display =\n",
              "          google.colab.kernel.accessAllowed ? 'block' : 'none';\n",
              "\n",
              "        async function convertToInteractive(key) {\n",
              "          const element = document.querySelector('#df-d6b2f1fe-c584-47b2-ab77-02a9318cd8bb');\n",
              "          const dataTable =\n",
              "            await google.colab.kernel.invokeFunction('convertToInteractive',\n",
              "                                                     [key], {});\n",
              "          if (!dataTable) return;\n",
              "\n",
              "          const docLinkHtml = 'Like what you see? Visit the ' +\n",
              "            '<a target=\"_blank\" href=https://colab.research.google.com/notebooks/data_table.ipynb>data table notebook</a>'\n",
              "            + ' to learn more about interactive tables.';\n",
              "          element.innerHTML = '';\n",
              "          dataTable['output_type'] = 'display_data';\n",
              "          await google.colab.output.renderOutput(dataTable, element);\n",
              "          const docLink = document.createElement('div');\n",
              "          docLink.innerHTML = docLinkHtml;\n",
              "          element.appendChild(docLink);\n",
              "        }\n",
              "      </script>\n",
              "    </div>\n",
              "  </div>\n",
              "  "
            ]
          },
          "metadata": {},
          "execution_count": 8
        }
      ]
    },
    {
      "cell_type": "markdown",
      "source": [
        "**Book Populatity Threshold**\n",
        "\n",
        "Next we will apply the constraint where we have a minimum number of ratings for a book to be considered in our recomendation system. "
      ],
      "metadata": {
        "id": "5Ti_-8LeghDy"
      }
    },
    {
      "cell_type": "code",
      "source": [
        "#collecting total rating counts\n",
        "combine_book_rating = combine_book_rating.dropna(axis = 0, subset = ['Book-Title']) # clearing null/nan values from Book-Title\n",
        "#counting number of ratings for a book and renaming the columns appropiately\n",
        "book_rating_Count = combine_book_rating.groupby(by = ['Book-Title'])['Book-Rating'].count().reset_index().rename(columns = {'Book-Rating': 'totalRatingCount'})\n",
        "book_rating_Count.head()"
      ],
      "metadata": {
        "colab": {
          "base_uri": "https://localhost:8080/",
          "height": 206
        },
        "id": "okNYlGcvCh4e",
        "outputId": "aeb72f8d-9edf-44b4-b7a1-154008db886a"
      },
      "execution_count": 9,
      "outputs": [
        {
          "output_type": "execute_result",
          "data": {
            "text/plain": [
              "                                          Book-Title  totalRatingCount\n",
              "0   A Light in the Storm: The Civil War Diary of ...                 4\n",
              "1                              Always Have Popsicles                 1\n",
              "2               Apple Magic (The Collector's series)                 1\n",
              "3   Ask Lily (Young Women of Faith: Lily Series, ...                 1\n",
              "4   Beyond IBM: Leadership Marketing and Finance ...                 1"
            ],
            "text/html": [
              "\n",
              "  <div id=\"df-4701bd8e-eec3-4fd1-b62a-7501e372b341\">\n",
              "    <div class=\"colab-df-container\">\n",
              "      <div>\n",
              "<style scoped>\n",
              "    .dataframe tbody tr th:only-of-type {\n",
              "        vertical-align: middle;\n",
              "    }\n",
              "\n",
              "    .dataframe tbody tr th {\n",
              "        vertical-align: top;\n",
              "    }\n",
              "\n",
              "    .dataframe thead th {\n",
              "        text-align: right;\n",
              "    }\n",
              "</style>\n",
              "<table border=\"1\" class=\"dataframe\">\n",
              "  <thead>\n",
              "    <tr style=\"text-align: right;\">\n",
              "      <th></th>\n",
              "      <th>Book-Title</th>\n",
              "      <th>totalRatingCount</th>\n",
              "    </tr>\n",
              "  </thead>\n",
              "  <tbody>\n",
              "    <tr>\n",
              "      <th>0</th>\n",
              "      <td>A Light in the Storm: The Civil War Diary of ...</td>\n",
              "      <td>4</td>\n",
              "    </tr>\n",
              "    <tr>\n",
              "      <th>1</th>\n",
              "      <td>Always Have Popsicles</td>\n",
              "      <td>1</td>\n",
              "    </tr>\n",
              "    <tr>\n",
              "      <th>2</th>\n",
              "      <td>Apple Magic (The Collector's series)</td>\n",
              "      <td>1</td>\n",
              "    </tr>\n",
              "    <tr>\n",
              "      <th>3</th>\n",
              "      <td>Ask Lily (Young Women of Faith: Lily Series, ...</td>\n",
              "      <td>1</td>\n",
              "    </tr>\n",
              "    <tr>\n",
              "      <th>4</th>\n",
              "      <td>Beyond IBM: Leadership Marketing and Finance ...</td>\n",
              "      <td>1</td>\n",
              "    </tr>\n",
              "  </tbody>\n",
              "</table>\n",
              "</div>\n",
              "      <button class=\"colab-df-convert\" onclick=\"convertToInteractive('df-4701bd8e-eec3-4fd1-b62a-7501e372b341')\"\n",
              "              title=\"Convert this dataframe to an interactive table.\"\n",
              "              style=\"display:none;\">\n",
              "        \n",
              "  <svg xmlns=\"http://www.w3.org/2000/svg\" height=\"24px\"viewBox=\"0 0 24 24\"\n",
              "       width=\"24px\">\n",
              "    <path d=\"M0 0h24v24H0V0z\" fill=\"none\"/>\n",
              "    <path d=\"M18.56 5.44l.94 2.06.94-2.06 2.06-.94-2.06-.94-.94-2.06-.94 2.06-2.06.94zm-11 1L8.5 8.5l.94-2.06 2.06-.94-2.06-.94L8.5 2.5l-.94 2.06-2.06.94zm10 10l.94 2.06.94-2.06 2.06-.94-2.06-.94-.94-2.06-.94 2.06-2.06.94z\"/><path d=\"M17.41 7.96l-1.37-1.37c-.4-.4-.92-.59-1.43-.59-.52 0-1.04.2-1.43.59L10.3 9.45l-7.72 7.72c-.78.78-.78 2.05 0 2.83L4 21.41c.39.39.9.59 1.41.59.51 0 1.02-.2 1.41-.59l7.78-7.78 2.81-2.81c.8-.78.8-2.07 0-2.86zM5.41 20L4 18.59l7.72-7.72 1.47 1.35L5.41 20z\"/>\n",
              "  </svg>\n",
              "      </button>\n",
              "      \n",
              "  <style>\n",
              "    .colab-df-container {\n",
              "      display:flex;\n",
              "      flex-wrap:wrap;\n",
              "      gap: 12px;\n",
              "    }\n",
              "\n",
              "    .colab-df-convert {\n",
              "      background-color: #E8F0FE;\n",
              "      border: none;\n",
              "      border-radius: 50%;\n",
              "      cursor: pointer;\n",
              "      display: none;\n",
              "      fill: #1967D2;\n",
              "      height: 32px;\n",
              "      padding: 0 0 0 0;\n",
              "      width: 32px;\n",
              "    }\n",
              "\n",
              "    .colab-df-convert:hover {\n",
              "      background-color: #E2EBFA;\n",
              "      box-shadow: 0px 1px 2px rgba(60, 64, 67, 0.3), 0px 1px 3px 1px rgba(60, 64, 67, 0.15);\n",
              "      fill: #174EA6;\n",
              "    }\n",
              "\n",
              "    [theme=dark] .colab-df-convert {\n",
              "      background-color: #3B4455;\n",
              "      fill: #D2E3FC;\n",
              "    }\n",
              "\n",
              "    [theme=dark] .colab-df-convert:hover {\n",
              "      background-color: #434B5C;\n",
              "      box-shadow: 0px 1px 3px 1px rgba(0, 0, 0, 0.15);\n",
              "      filter: drop-shadow(0px 1px 2px rgba(0, 0, 0, 0.3));\n",
              "      fill: #FFFFFF;\n",
              "    }\n",
              "  </style>\n",
              "\n",
              "      <script>\n",
              "        const buttonEl =\n",
              "          document.querySelector('#df-4701bd8e-eec3-4fd1-b62a-7501e372b341 button.colab-df-convert');\n",
              "        buttonEl.style.display =\n",
              "          google.colab.kernel.accessAllowed ? 'block' : 'none';\n",
              "\n",
              "        async function convertToInteractive(key) {\n",
              "          const element = document.querySelector('#df-4701bd8e-eec3-4fd1-b62a-7501e372b341');\n",
              "          const dataTable =\n",
              "            await google.colab.kernel.invokeFunction('convertToInteractive',\n",
              "                                                     [key], {});\n",
              "          if (!dataTable) return;\n",
              "\n",
              "          const docLinkHtml = 'Like what you see? Visit the ' +\n",
              "            '<a target=\"_blank\" href=https://colab.research.google.com/notebooks/data_table.ipynb>data table notebook</a>'\n",
              "            + ' to learn more about interactive tables.';\n",
              "          element.innerHTML = '';\n",
              "          dataTable['output_type'] = 'display_data';\n",
              "          await google.colab.output.renderOutput(dataTable, element);\n",
              "          const docLink = document.createElement('div');\n",
              "          docLink.innerHTML = docLinkHtml;\n",
              "          element.appendChild(docLink);\n",
              "        }\n",
              "      </script>\n",
              "    </div>\n",
              "  </div>\n",
              "  "
            ]
          },
          "metadata": {},
          "execution_count": 9
        }
      ]
    },
    {
      "cell_type": "code",
      "source": [
        "#combine with main data frame\n",
        "#use left join since we want rating count for all the books in combined_book_rating column\n",
        "rating_with_totalRatingCount = combine_book_rating.merge(book_rating_Count, left_on = 'Book-Title', right_on = 'Book-Title', how = 'left')\n",
        "rating_with_totalRatingCount.head()"
      ],
      "metadata": {
        "colab": {
          "base_uri": "https://localhost:8080/",
          "height": 206
        },
        "id": "Z-fdAKMr_1_y",
        "outputId": "fb594a77-66f5-429a-95e3-7d5933f68220"
      },
      "execution_count": 10,
      "outputs": [
        {
          "output_type": "execute_result",
          "data": {
            "text/plain": [
              "   User-ID        ISBN  Book-Rating                               Book-Title  \\\n",
              "0   276847  0446364193            0  Along Came a Spider (Alex Cross Novels)   \n",
              "1   278418  0446364193            0  Along Came a Spider (Alex Cross Novels)   \n",
              "2     5483  0446364193            0  Along Came a Spider (Alex Cross Novels)   \n",
              "3     7346  0446364193            0  Along Came a Spider (Alex Cross Novels)   \n",
              "4     8362  0446364193            0  Along Came a Spider (Alex Cross Novels)   \n",
              "\n",
              "   totalRatingCount  \n",
              "0               198  \n",
              "1               198  \n",
              "2               198  \n",
              "3               198  \n",
              "4               198  "
            ],
            "text/html": [
              "\n",
              "  <div id=\"df-38bf4080-c89f-4886-a14f-248e94c7574a\">\n",
              "    <div class=\"colab-df-container\">\n",
              "      <div>\n",
              "<style scoped>\n",
              "    .dataframe tbody tr th:only-of-type {\n",
              "        vertical-align: middle;\n",
              "    }\n",
              "\n",
              "    .dataframe tbody tr th {\n",
              "        vertical-align: top;\n",
              "    }\n",
              "\n",
              "    .dataframe thead th {\n",
              "        text-align: right;\n",
              "    }\n",
              "</style>\n",
              "<table border=\"1\" class=\"dataframe\">\n",
              "  <thead>\n",
              "    <tr style=\"text-align: right;\">\n",
              "      <th></th>\n",
              "      <th>User-ID</th>\n",
              "      <th>ISBN</th>\n",
              "      <th>Book-Rating</th>\n",
              "      <th>Book-Title</th>\n",
              "      <th>totalRatingCount</th>\n",
              "    </tr>\n",
              "  </thead>\n",
              "  <tbody>\n",
              "    <tr>\n",
              "      <th>0</th>\n",
              "      <td>276847</td>\n",
              "      <td>0446364193</td>\n",
              "      <td>0</td>\n",
              "      <td>Along Came a Spider (Alex Cross Novels)</td>\n",
              "      <td>198</td>\n",
              "    </tr>\n",
              "    <tr>\n",
              "      <th>1</th>\n",
              "      <td>278418</td>\n",
              "      <td>0446364193</td>\n",
              "      <td>0</td>\n",
              "      <td>Along Came a Spider (Alex Cross Novels)</td>\n",
              "      <td>198</td>\n",
              "    </tr>\n",
              "    <tr>\n",
              "      <th>2</th>\n",
              "      <td>5483</td>\n",
              "      <td>0446364193</td>\n",
              "      <td>0</td>\n",
              "      <td>Along Came a Spider (Alex Cross Novels)</td>\n",
              "      <td>198</td>\n",
              "    </tr>\n",
              "    <tr>\n",
              "      <th>3</th>\n",
              "      <td>7346</td>\n",
              "      <td>0446364193</td>\n",
              "      <td>0</td>\n",
              "      <td>Along Came a Spider (Alex Cross Novels)</td>\n",
              "      <td>198</td>\n",
              "    </tr>\n",
              "    <tr>\n",
              "      <th>4</th>\n",
              "      <td>8362</td>\n",
              "      <td>0446364193</td>\n",
              "      <td>0</td>\n",
              "      <td>Along Came a Spider (Alex Cross Novels)</td>\n",
              "      <td>198</td>\n",
              "    </tr>\n",
              "  </tbody>\n",
              "</table>\n",
              "</div>\n",
              "      <button class=\"colab-df-convert\" onclick=\"convertToInteractive('df-38bf4080-c89f-4886-a14f-248e94c7574a')\"\n",
              "              title=\"Convert this dataframe to an interactive table.\"\n",
              "              style=\"display:none;\">\n",
              "        \n",
              "  <svg xmlns=\"http://www.w3.org/2000/svg\" height=\"24px\"viewBox=\"0 0 24 24\"\n",
              "       width=\"24px\">\n",
              "    <path d=\"M0 0h24v24H0V0z\" fill=\"none\"/>\n",
              "    <path d=\"M18.56 5.44l.94 2.06.94-2.06 2.06-.94-2.06-.94-.94-2.06-.94 2.06-2.06.94zm-11 1L8.5 8.5l.94-2.06 2.06-.94-2.06-.94L8.5 2.5l-.94 2.06-2.06.94zm10 10l.94 2.06.94-2.06 2.06-.94-2.06-.94-.94-2.06-.94 2.06-2.06.94z\"/><path d=\"M17.41 7.96l-1.37-1.37c-.4-.4-.92-.59-1.43-.59-.52 0-1.04.2-1.43.59L10.3 9.45l-7.72 7.72c-.78.78-.78 2.05 0 2.83L4 21.41c.39.39.9.59 1.41.59.51 0 1.02-.2 1.41-.59l7.78-7.78 2.81-2.81c.8-.78.8-2.07 0-2.86zM5.41 20L4 18.59l7.72-7.72 1.47 1.35L5.41 20z\"/>\n",
              "  </svg>\n",
              "      </button>\n",
              "      \n",
              "  <style>\n",
              "    .colab-df-container {\n",
              "      display:flex;\n",
              "      flex-wrap:wrap;\n",
              "      gap: 12px;\n",
              "    }\n",
              "\n",
              "    .colab-df-convert {\n",
              "      background-color: #E8F0FE;\n",
              "      border: none;\n",
              "      border-radius: 50%;\n",
              "      cursor: pointer;\n",
              "      display: none;\n",
              "      fill: #1967D2;\n",
              "      height: 32px;\n",
              "      padding: 0 0 0 0;\n",
              "      width: 32px;\n",
              "    }\n",
              "\n",
              "    .colab-df-convert:hover {\n",
              "      background-color: #E2EBFA;\n",
              "      box-shadow: 0px 1px 2px rgba(60, 64, 67, 0.3), 0px 1px 3px 1px rgba(60, 64, 67, 0.15);\n",
              "      fill: #174EA6;\n",
              "    }\n",
              "\n",
              "    [theme=dark] .colab-df-convert {\n",
              "      background-color: #3B4455;\n",
              "      fill: #D2E3FC;\n",
              "    }\n",
              "\n",
              "    [theme=dark] .colab-df-convert:hover {\n",
              "      background-color: #434B5C;\n",
              "      box-shadow: 0px 1px 3px 1px rgba(0, 0, 0, 0.15);\n",
              "      filter: drop-shadow(0px 1px 2px rgba(0, 0, 0, 0.3));\n",
              "      fill: #FFFFFF;\n",
              "    }\n",
              "  </style>\n",
              "\n",
              "      <script>\n",
              "        const buttonEl =\n",
              "          document.querySelector('#df-38bf4080-c89f-4886-a14f-248e94c7574a button.colab-df-convert');\n",
              "        buttonEl.style.display =\n",
              "          google.colab.kernel.accessAllowed ? 'block' : 'none';\n",
              "\n",
              "        async function convertToInteractive(key) {\n",
              "          const element = document.querySelector('#df-38bf4080-c89f-4886-a14f-248e94c7574a');\n",
              "          const dataTable =\n",
              "            await google.colab.kernel.invokeFunction('convertToInteractive',\n",
              "                                                     [key], {});\n",
              "          if (!dataTable) return;\n",
              "\n",
              "          const docLinkHtml = 'Like what you see? Visit the ' +\n",
              "            '<a target=\"_blank\" href=https://colab.research.google.com/notebooks/data_table.ipynb>data table notebook</a>'\n",
              "            + ' to learn more about interactive tables.';\n",
              "          element.innerHTML = '';\n",
              "          dataTable['output_type'] = 'display_data';\n",
              "          await google.colab.output.renderOutput(dataTable, element);\n",
              "          const docLink = document.createElement('div');\n",
              "          docLink.innerHTML = docLinkHtml;\n",
              "          element.appendChild(docLink);\n",
              "        }\n",
              "      </script>\n",
              "    </div>\n",
              "  </div>\n",
              "  "
            ]
          },
          "metadata": {},
          "execution_count": 10
        }
      ]
    },
    {
      "cell_type": "code",
      "source": [
        "# looking at distribution of totalratingsCount\n",
        "rating_with_totalRatingCount.describe()"
      ],
      "metadata": {
        "colab": {
          "base_uri": "https://localhost:8080/",
          "height": 300
        },
        "id": "-wK1UtaU_2DL",
        "outputId": "d743a0d6-306b-41ec-ec0c-302015712fd0"
      },
      "execution_count": 11,
      "outputs": [
        {
          "output_type": "execute_result",
          "data": {
            "text/plain": [
              "             User-ID    Book-Rating  totalRatingCount\n",
              "count  703434.000000  703434.000000     703434.000000\n",
              "mean   140983.957487       2.288061         35.008956\n",
              "std     80538.878058       3.677189         68.959965\n",
              "min       183.000000       0.000000          1.000000\n",
              "25%     71207.000000       0.000000          2.000000\n",
              "50%    142479.000000       0.000000          8.000000\n",
              "75%    212645.000000       6.000000         34.000000\n",
              "max    278843.000000      10.000000        852.000000"
            ],
            "text/html": [
              "\n",
              "  <div id=\"df-391ecc0e-429d-4837-97f3-844304b8b8e2\">\n",
              "    <div class=\"colab-df-container\">\n",
              "      <div>\n",
              "<style scoped>\n",
              "    .dataframe tbody tr th:only-of-type {\n",
              "        vertical-align: middle;\n",
              "    }\n",
              "\n",
              "    .dataframe tbody tr th {\n",
              "        vertical-align: top;\n",
              "    }\n",
              "\n",
              "    .dataframe thead th {\n",
              "        text-align: right;\n",
              "    }\n",
              "</style>\n",
              "<table border=\"1\" class=\"dataframe\">\n",
              "  <thead>\n",
              "    <tr style=\"text-align: right;\">\n",
              "      <th></th>\n",
              "      <th>User-ID</th>\n",
              "      <th>Book-Rating</th>\n",
              "      <th>totalRatingCount</th>\n",
              "    </tr>\n",
              "  </thead>\n",
              "  <tbody>\n",
              "    <tr>\n",
              "      <th>count</th>\n",
              "      <td>703434.000000</td>\n",
              "      <td>703434.000000</td>\n",
              "      <td>703434.000000</td>\n",
              "    </tr>\n",
              "    <tr>\n",
              "      <th>mean</th>\n",
              "      <td>140983.957487</td>\n",
              "      <td>2.288061</td>\n",
              "      <td>35.008956</td>\n",
              "    </tr>\n",
              "    <tr>\n",
              "      <th>std</th>\n",
              "      <td>80538.878058</td>\n",
              "      <td>3.677189</td>\n",
              "      <td>68.959965</td>\n",
              "    </tr>\n",
              "    <tr>\n",
              "      <th>min</th>\n",
              "      <td>183.000000</td>\n",
              "      <td>0.000000</td>\n",
              "      <td>1.000000</td>\n",
              "    </tr>\n",
              "    <tr>\n",
              "      <th>25%</th>\n",
              "      <td>71207.000000</td>\n",
              "      <td>0.000000</td>\n",
              "      <td>2.000000</td>\n",
              "    </tr>\n",
              "    <tr>\n",
              "      <th>50%</th>\n",
              "      <td>142479.000000</td>\n",
              "      <td>0.000000</td>\n",
              "      <td>8.000000</td>\n",
              "    </tr>\n",
              "    <tr>\n",
              "      <th>75%</th>\n",
              "      <td>212645.000000</td>\n",
              "      <td>6.000000</td>\n",
              "      <td>34.000000</td>\n",
              "    </tr>\n",
              "    <tr>\n",
              "      <th>max</th>\n",
              "      <td>278843.000000</td>\n",
              "      <td>10.000000</td>\n",
              "      <td>852.000000</td>\n",
              "    </tr>\n",
              "  </tbody>\n",
              "</table>\n",
              "</div>\n",
              "      <button class=\"colab-df-convert\" onclick=\"convertToInteractive('df-391ecc0e-429d-4837-97f3-844304b8b8e2')\"\n",
              "              title=\"Convert this dataframe to an interactive table.\"\n",
              "              style=\"display:none;\">\n",
              "        \n",
              "  <svg xmlns=\"http://www.w3.org/2000/svg\" height=\"24px\"viewBox=\"0 0 24 24\"\n",
              "       width=\"24px\">\n",
              "    <path d=\"M0 0h24v24H0V0z\" fill=\"none\"/>\n",
              "    <path d=\"M18.56 5.44l.94 2.06.94-2.06 2.06-.94-2.06-.94-.94-2.06-.94 2.06-2.06.94zm-11 1L8.5 8.5l.94-2.06 2.06-.94-2.06-.94L8.5 2.5l-.94 2.06-2.06.94zm10 10l.94 2.06.94-2.06 2.06-.94-2.06-.94-.94-2.06-.94 2.06-2.06.94z\"/><path d=\"M17.41 7.96l-1.37-1.37c-.4-.4-.92-.59-1.43-.59-.52 0-1.04.2-1.43.59L10.3 9.45l-7.72 7.72c-.78.78-.78 2.05 0 2.83L4 21.41c.39.39.9.59 1.41.59.51 0 1.02-.2 1.41-.59l7.78-7.78 2.81-2.81c.8-.78.8-2.07 0-2.86zM5.41 20L4 18.59l7.72-7.72 1.47 1.35L5.41 20z\"/>\n",
              "  </svg>\n",
              "      </button>\n",
              "      \n",
              "  <style>\n",
              "    .colab-df-container {\n",
              "      display:flex;\n",
              "      flex-wrap:wrap;\n",
              "      gap: 12px;\n",
              "    }\n",
              "\n",
              "    .colab-df-convert {\n",
              "      background-color: #E8F0FE;\n",
              "      border: none;\n",
              "      border-radius: 50%;\n",
              "      cursor: pointer;\n",
              "      display: none;\n",
              "      fill: #1967D2;\n",
              "      height: 32px;\n",
              "      padding: 0 0 0 0;\n",
              "      width: 32px;\n",
              "    }\n",
              "\n",
              "    .colab-df-convert:hover {\n",
              "      background-color: #E2EBFA;\n",
              "      box-shadow: 0px 1px 2px rgba(60, 64, 67, 0.3), 0px 1px 3px 1px rgba(60, 64, 67, 0.15);\n",
              "      fill: #174EA6;\n",
              "    }\n",
              "\n",
              "    [theme=dark] .colab-df-convert {\n",
              "      background-color: #3B4455;\n",
              "      fill: #D2E3FC;\n",
              "    }\n",
              "\n",
              "    [theme=dark] .colab-df-convert:hover {\n",
              "      background-color: #434B5C;\n",
              "      box-shadow: 0px 1px 3px 1px rgba(0, 0, 0, 0.15);\n",
              "      filter: drop-shadow(0px 1px 2px rgba(0, 0, 0, 0.3));\n",
              "      fill: #FFFFFF;\n",
              "    }\n",
              "  </style>\n",
              "\n",
              "      <script>\n",
              "        const buttonEl =\n",
              "          document.querySelector('#df-391ecc0e-429d-4837-97f3-844304b8b8e2 button.colab-df-convert');\n",
              "        buttonEl.style.display =\n",
              "          google.colab.kernel.accessAllowed ? 'block' : 'none';\n",
              "\n",
              "        async function convertToInteractive(key) {\n",
              "          const element = document.querySelector('#df-391ecc0e-429d-4837-97f3-844304b8b8e2');\n",
              "          const dataTable =\n",
              "            await google.colab.kernel.invokeFunction('convertToInteractive',\n",
              "                                                     [key], {});\n",
              "          if (!dataTable) return;\n",
              "\n",
              "          const docLinkHtml = 'Like what you see? Visit the ' +\n",
              "            '<a target=\"_blank\" href=https://colab.research.google.com/notebooks/data_table.ipynb>data table notebook</a>'\n",
              "            + ' to learn more about interactive tables.';\n",
              "          element.innerHTML = '';\n",
              "          dataTable['output_type'] = 'display_data';\n",
              "          await google.colab.output.renderOutput(dataTable, element);\n",
              "          const docLink = document.createElement('div');\n",
              "          docLink.innerHTML = docLinkHtml;\n",
              "          element.appendChild(docLink);\n",
              "        }\n",
              "      </script>\n",
              "    </div>\n",
              "  </div>\n",
              "  "
            ]
          },
          "metadata": {},
          "execution_count": 11
        }
      ]
    },
    {
      "cell_type": "code",
      "source": [
        "#checking each quantiles of total ratings count closely to decide threshold\n",
        "print(rating_with_totalRatingCount['totalRatingCount'].quantile(np.arange(0.1, 1, .05)))"
      ],
      "metadata": {
        "colab": {
          "base_uri": "https://localhost:8080/"
        },
        "id": "MXG9gtoF_2Im",
        "outputId": "27501250-b05c-409e-9f1f-aa0e8d6a4f07"
      },
      "execution_count": 12,
      "outputs": [
        {
          "output_type": "stream",
          "name": "stdout",
          "text": [
            "0.10      1.0\n",
            "0.15      1.0\n",
            "0.20      2.0\n",
            "0.25      2.0\n",
            "0.30      3.0\n",
            "0.35      4.0\n",
            "0.40      5.0\n",
            "0.45      6.0\n",
            "0.50      8.0\n",
            "0.55     11.0\n",
            "0.60     14.0\n",
            "0.65     19.0\n",
            "0.70     25.0\n",
            "0.75     34.0\n",
            "0.80     47.0\n",
            "0.85     67.0\n",
            "0.90    101.0\n",
            "0.95    164.0\n",
            "Name: totalRatingCount, dtype: float64\n"
          ]
        }
      ]
    },
    {
      "cell_type": "markdown",
      "source": [
        "We can see that there are many books with rating count more than ~30 this is just the distribution of total rating count. Lets, consider a threshold required count to be around 50. This will include many popular books which have been read by atleast 50 users. This will also make the opinion of users for a book more concrete, since there will be atleast 50 bad or good ratings for each of the books included."
      ],
      "metadata": {
        "id": "NP0jfb-kyaio"
      }
    },
    {
      "cell_type": "code",
      "source": [
        "popularity_threshold = 50\n",
        "rating_popular_book = rating_with_totalRatingCount[rating_with_totalRatingCount['totalRatingCount'] >= 50]\n",
        "rating_popular_book"
      ],
      "metadata": {
        "colab": {
          "base_uri": "https://localhost:8080/",
          "height": 424
        },
        "id": "mfx7q7HVqUya",
        "outputId": "d394263e-ea73-4aa7-ec36-d80492fe0edc"
      },
      "execution_count": 13,
      "outputs": [
        {
          "output_type": "execute_result",
          "data": {
            "text/plain": [
              "        User-ID        ISBN  Book-Rating  \\\n",
              "0        276847  0446364193            0   \n",
              "1        278418  0446364193            0   \n",
              "2          5483  0446364193            0   \n",
              "3          7346  0446364193            0   \n",
              "4          8362  0446364193            0   \n",
              "...         ...         ...          ...   \n",
              "702519   274061  1551663147           10   \n",
              "702928   274808  0449701913            0   \n",
              "703220   275970  0865714215            0   \n",
              "703272   275970  1586210661            9   \n",
              "703432   276688  0788192043            0   \n",
              "\n",
              "                                     Book-Title  totalRatingCount  \n",
              "0       Along Came a Spider (Alex Cross Novels)               198  \n",
              "1       Along Came a Spider (Alex Cross Novels)               198  \n",
              "2       Along Came a Spider (Alex Cross Novels)               198  \n",
              "3       Along Came a Spider (Alex Cross Novels)               198  \n",
              "4       Along Came a Spider (Alex Cross Novels)               198  \n",
              "...                                         ...               ...  \n",
              "702519                                    Fever                58  \n",
              "702928                               Homecoming                82  \n",
              "703220                           Stormy Weather                59  \n",
              "703272                   Me Talk Pretty One Day               257  \n",
              "703432                The Hundred Secret Senses               202  \n",
              "\n",
              "[135998 rows x 5 columns]"
            ],
            "text/html": [
              "\n",
              "  <div id=\"df-66f0d1d8-fb53-4d08-aff9-335718128164\">\n",
              "    <div class=\"colab-df-container\">\n",
              "      <div>\n",
              "<style scoped>\n",
              "    .dataframe tbody tr th:only-of-type {\n",
              "        vertical-align: middle;\n",
              "    }\n",
              "\n",
              "    .dataframe tbody tr th {\n",
              "        vertical-align: top;\n",
              "    }\n",
              "\n",
              "    .dataframe thead th {\n",
              "        text-align: right;\n",
              "    }\n",
              "</style>\n",
              "<table border=\"1\" class=\"dataframe\">\n",
              "  <thead>\n",
              "    <tr style=\"text-align: right;\">\n",
              "      <th></th>\n",
              "      <th>User-ID</th>\n",
              "      <th>ISBN</th>\n",
              "      <th>Book-Rating</th>\n",
              "      <th>Book-Title</th>\n",
              "      <th>totalRatingCount</th>\n",
              "    </tr>\n",
              "  </thead>\n",
              "  <tbody>\n",
              "    <tr>\n",
              "      <th>0</th>\n",
              "      <td>276847</td>\n",
              "      <td>0446364193</td>\n",
              "      <td>0</td>\n",
              "      <td>Along Came a Spider (Alex Cross Novels)</td>\n",
              "      <td>198</td>\n",
              "    </tr>\n",
              "    <tr>\n",
              "      <th>1</th>\n",
              "      <td>278418</td>\n",
              "      <td>0446364193</td>\n",
              "      <td>0</td>\n",
              "      <td>Along Came a Spider (Alex Cross Novels)</td>\n",
              "      <td>198</td>\n",
              "    </tr>\n",
              "    <tr>\n",
              "      <th>2</th>\n",
              "      <td>5483</td>\n",
              "      <td>0446364193</td>\n",
              "      <td>0</td>\n",
              "      <td>Along Came a Spider (Alex Cross Novels)</td>\n",
              "      <td>198</td>\n",
              "    </tr>\n",
              "    <tr>\n",
              "      <th>3</th>\n",
              "      <td>7346</td>\n",
              "      <td>0446364193</td>\n",
              "      <td>0</td>\n",
              "      <td>Along Came a Spider (Alex Cross Novels)</td>\n",
              "      <td>198</td>\n",
              "    </tr>\n",
              "    <tr>\n",
              "      <th>4</th>\n",
              "      <td>8362</td>\n",
              "      <td>0446364193</td>\n",
              "      <td>0</td>\n",
              "      <td>Along Came a Spider (Alex Cross Novels)</td>\n",
              "      <td>198</td>\n",
              "    </tr>\n",
              "    <tr>\n",
              "      <th>...</th>\n",
              "      <td>...</td>\n",
              "      <td>...</td>\n",
              "      <td>...</td>\n",
              "      <td>...</td>\n",
              "      <td>...</td>\n",
              "    </tr>\n",
              "    <tr>\n",
              "      <th>702519</th>\n",
              "      <td>274061</td>\n",
              "      <td>1551663147</td>\n",
              "      <td>10</td>\n",
              "      <td>Fever</td>\n",
              "      <td>58</td>\n",
              "    </tr>\n",
              "    <tr>\n",
              "      <th>702928</th>\n",
              "      <td>274808</td>\n",
              "      <td>0449701913</td>\n",
              "      <td>0</td>\n",
              "      <td>Homecoming</td>\n",
              "      <td>82</td>\n",
              "    </tr>\n",
              "    <tr>\n",
              "      <th>703220</th>\n",
              "      <td>275970</td>\n",
              "      <td>0865714215</td>\n",
              "      <td>0</td>\n",
              "      <td>Stormy Weather</td>\n",
              "      <td>59</td>\n",
              "    </tr>\n",
              "    <tr>\n",
              "      <th>703272</th>\n",
              "      <td>275970</td>\n",
              "      <td>1586210661</td>\n",
              "      <td>9</td>\n",
              "      <td>Me Talk Pretty One Day</td>\n",
              "      <td>257</td>\n",
              "    </tr>\n",
              "    <tr>\n",
              "      <th>703432</th>\n",
              "      <td>276688</td>\n",
              "      <td>0788192043</td>\n",
              "      <td>0</td>\n",
              "      <td>The Hundred Secret Senses</td>\n",
              "      <td>202</td>\n",
              "    </tr>\n",
              "  </tbody>\n",
              "</table>\n",
              "<p>135998 rows × 5 columns</p>\n",
              "</div>\n",
              "      <button class=\"colab-df-convert\" onclick=\"convertToInteractive('df-66f0d1d8-fb53-4d08-aff9-335718128164')\"\n",
              "              title=\"Convert this dataframe to an interactive table.\"\n",
              "              style=\"display:none;\">\n",
              "        \n",
              "  <svg xmlns=\"http://www.w3.org/2000/svg\" height=\"24px\"viewBox=\"0 0 24 24\"\n",
              "       width=\"24px\">\n",
              "    <path d=\"M0 0h24v24H0V0z\" fill=\"none\"/>\n",
              "    <path d=\"M18.56 5.44l.94 2.06.94-2.06 2.06-.94-2.06-.94-.94-2.06-.94 2.06-2.06.94zm-11 1L8.5 8.5l.94-2.06 2.06-.94-2.06-.94L8.5 2.5l-.94 2.06-2.06.94zm10 10l.94 2.06.94-2.06 2.06-.94-2.06-.94-.94-2.06-.94 2.06-2.06.94z\"/><path d=\"M17.41 7.96l-1.37-1.37c-.4-.4-.92-.59-1.43-.59-.52 0-1.04.2-1.43.59L10.3 9.45l-7.72 7.72c-.78.78-.78 2.05 0 2.83L4 21.41c.39.39.9.59 1.41.59.51 0 1.02-.2 1.41-.59l7.78-7.78 2.81-2.81c.8-.78.8-2.07 0-2.86zM5.41 20L4 18.59l7.72-7.72 1.47 1.35L5.41 20z\"/>\n",
              "  </svg>\n",
              "      </button>\n",
              "      \n",
              "  <style>\n",
              "    .colab-df-container {\n",
              "      display:flex;\n",
              "      flex-wrap:wrap;\n",
              "      gap: 12px;\n",
              "    }\n",
              "\n",
              "    .colab-df-convert {\n",
              "      background-color: #E8F0FE;\n",
              "      border: none;\n",
              "      border-radius: 50%;\n",
              "      cursor: pointer;\n",
              "      display: none;\n",
              "      fill: #1967D2;\n",
              "      height: 32px;\n",
              "      padding: 0 0 0 0;\n",
              "      width: 32px;\n",
              "    }\n",
              "\n",
              "    .colab-df-convert:hover {\n",
              "      background-color: #E2EBFA;\n",
              "      box-shadow: 0px 1px 2px rgba(60, 64, 67, 0.3), 0px 1px 3px 1px rgba(60, 64, 67, 0.15);\n",
              "      fill: #174EA6;\n",
              "    }\n",
              "\n",
              "    [theme=dark] .colab-df-convert {\n",
              "      background-color: #3B4455;\n",
              "      fill: #D2E3FC;\n",
              "    }\n",
              "\n",
              "    [theme=dark] .colab-df-convert:hover {\n",
              "      background-color: #434B5C;\n",
              "      box-shadow: 0px 1px 3px 1px rgba(0, 0, 0, 0.15);\n",
              "      filter: drop-shadow(0px 1px 2px rgba(0, 0, 0, 0.3));\n",
              "      fill: #FFFFFF;\n",
              "    }\n",
              "  </style>\n",
              "\n",
              "      <script>\n",
              "        const buttonEl =\n",
              "          document.querySelector('#df-66f0d1d8-fb53-4d08-aff9-335718128164 button.colab-df-convert');\n",
              "        buttonEl.style.display =\n",
              "          google.colab.kernel.accessAllowed ? 'block' : 'none';\n",
              "\n",
              "        async function convertToInteractive(key) {\n",
              "          const element = document.querySelector('#df-66f0d1d8-fb53-4d08-aff9-335718128164');\n",
              "          const dataTable =\n",
              "            await google.colab.kernel.invokeFunction('convertToInteractive',\n",
              "                                                     [key], {});\n",
              "          if (!dataTable) return;\n",
              "\n",
              "          const docLinkHtml = 'Like what you see? Visit the ' +\n",
              "            '<a target=\"_blank\" href=https://colab.research.google.com/notebooks/data_table.ipynb>data table notebook</a>'\n",
              "            + ' to learn more about interactive tables.';\n",
              "          element.innerHTML = '';\n",
              "          dataTable['output_type'] = 'display_data';\n",
              "          await google.colab.output.renderOutput(dataTable, element);\n",
              "          const docLink = document.createElement('div');\n",
              "          docLink.innerHTML = docLinkHtml;\n",
              "          element.appendChild(docLink);\n",
              "        }\n",
              "      </script>\n",
              "    </div>\n",
              "  </div>\n",
              "  "
            ]
          },
          "metadata": {},
          "execution_count": 13
        }
      ]
    },
    {
      "cell_type": "markdown",
      "source": [
        "**Country/regional Threshold**"
      ],
      "metadata": {
        "id": "RryHlSlm0HJH"
      }
    },
    {
      "cell_type": "markdown",
      "source": [
        "In order to improve computing speed, and not run into the “MemoryError” issue, I will limit our user data to those in the India and US. And then combine user data with the rating data and total rating count data."
      ],
      "metadata": {
        "id": "08-bFJIa03qY"
      }
    },
    {
      "cell_type": "markdown",
      "source": [
        "Lets have a look at number of users from each of these countries. "
      ],
      "metadata": {
        "id": "_FS-daXeSG1t"
      }
    },
    {
      "cell_type": "code",
      "source": [
        "# checking number of indian locations in the book reading data.\n",
        "j = 0 #defining a counter\n",
        "location = []\n",
        "for i in list(users['Location'].unique()):\n",
        "  if 'india' in i:  #checking for every written form of the letter India\n",
        "    j=j+1 #updating ccounter\n",
        "    location.append(i)\n",
        "print('number of unique locations from India:', j)\n",
        "print('location of users in India\\n', location) #print all locations in with the term 'india'"
      ],
      "metadata": {
        "id": "HgYiWVzwCh1a",
        "colab": {
          "base_uri": "https://localhost:8080/"
        },
        "outputId": "31eb5234-ed45-42f9-e4b6-46326025d390"
      },
      "execution_count": null,
      "outputs": [
        {
          "output_type": "stream",
          "name": "stdout",
          "text": [
            "number of unique locations from India: 1022\n",
            "location of users in India\n",
            " ['nagpur, idaho, india', 'muncie, indiana, usa', 'mumbai, maharashtra, india', 'hyderabad, alabama, india', 'delhi, delhi, india', 'fishers, indiana, usa', 'indianapolis, indiana, usa', 'lawrenceburg, indiana, usa', 'dahanu, maharashtra, india', 'kolkata, victoria, india', 'tiruchirapalli, n/a, india', 'knox, indiana, usa', 'gurgaon, n/a, india', 'gurgaon, haryana, india', 'nasik, maharashtra, india', 'kannur, kerala, india', 'ernakulam, kerala, india', 'calcutta, west bengal, india', 'varanasi, uttar pradesh, india', 'pune, pune, india', 'solapur, maine, india', 'bangalore, karnataka, india', '16605 bennington ct, indiana, usa', 'new castle, indiana, usa', 'bloomington, indiana, usa', 'mumbai, maharshtra, india', 'pondicherry, jipofuaop, india', 'ranchi, jharkhand, india', 'kanpur, up, india', 'fort wayne, indiana, usa', 'pune, maharashtra, india', 'south bend, indiana, usa', 'hammond, indiana, usa', 'trivandrum, kerala, india', 'elkhart, indiana, usa', 'guwahati, assam, india', 'blgnt., indiana, usa', 'gosport, indiana, usa', 'gzb, n/a, india', 'trafalgar, indiana, usa', 'washington, indiana, usa', 'dyer, indiana, usa', 'evansville, indiana, usa', 'gadag, karnataka, india', 'ahmedabad, gujarat, india', 'bombay, bombay, india', 'aju, n/a, india', 'baroda, gujarat, india', 'chennai, tamil nadu, india', 'bombay, maharashtra, heard of it? :o), india', 'lafayette, indiana, usa', 'mishawaka, indiana, usa', 'terre haute, indiana, usa', 'newburgh, indiana, usa', 'culver, indiana, usa', 'coimbatore, \\\\n/a\\\\\", india\"', 'valparaiso, indiana, usa', 'surat, gujarat, india', 'vincennes, indiana, usa', 'bangalore, kar, india', 'otwell, indiana, usa', 'kokomo, indiana, usa', 'la porte, indiana, usa', 'noblesville, indiana, usa', 'waveland, indiana, usa', 'north liberty, indiana, usa', 'shelbyville, indiana, usa', 'french lick, indiana, usa', 'hyderabad, \\\\n/a\\\\\", india\"', 'carmel, indiana, usa', 'new delhi, delhi, india', 'chennai, india, india', 'kolkata, west bengal, india', 'jaipur, rajasthan, india', 'nashik, maharashtra, india', 'whiteland, indiana, usa', 'bpl, mp, india', 'ratnagiri, \\\\n/a\\\\\", india\"', 'aizawl, mizoram, india', 'cochin, kerala, india', 'mumbai, mumbai, india', 'arni, tamil nadu, india', 'chennai, tamilnadu, india', 'guntur, andhra pradesh, india', 'madurai, tamil nadu, india', 'tiruchirappalli, tiruchirappalli, india', 'north vernon, indiana, usa', 'new albany, indiana, usa', 'bangalore, n/a, india', 'new delhi, new delhi(india), india', 'kohima, nagaland, india', 'scottsburg, indiana, usa', 'upland, indiana, usa', 'dunkirk, indiana, usa', 'centerville, indiana, usa', 'danville, indiana, usa', 'richmond, indiana, usa', 'lebanon, indiana, usa', 'dale, indiana, usa', 'tennyson, indiana, usa', 'martinsville, indiana, usa', 'marion, indiana, usa', 'bangalore, india, india', 'visakhapatnam, andhra pradesh, india', 'tirupati, andhra pradesh, india', 'new richmond, indiana, usa', 'chennai, tn, india', 'pondicherry, pondicherry, india', 'indiananpolis, indiana, usa', 'abudhabi, kerala, india', 'jamshedpur, jharkhand, india', 'portage, indiana, usa', 'hartford city, indiana, usa', 'columbus, indiana, usa', 'sonipat, haryana, india', 'mumbai, mh, india', 'west lafayette, indiana, usa', 'jalandhar cantt, punjab, india', 'new delhi, na, india', 'mumbai, india,', 'bangalore, bangalore,karnataka, india', 'pilani, rajeshthan, india', 'hyderabad, andhra pradesh, india', 'ahmedabad, indiana, india', 'greenwood, indiana, usa', 'nashville, indiana, usa', 'hyderabad, ap, india', 'delhi, indiana, india', 'goshen, indiana, usa', 'gurgaon, gurgaon hr, india', 'hyd, n/a, india', 'hyderabad., andhra pradesh, india', 'monroeville, indiana, usa', 'connersville, indiana, usa', 'mumbai, maharastra, india', 'mumbai, ap, india', 'crawfordsville, indiana, usa', 'salem, n/a, india', 'greenfield, indiana, usa', 'mumbai, indiana, india', 'delhi, iowa, india', 'jamnagar, gujarat, india', 'karachi, indiana, pakistan', 'bombay, mh, india', 'westfield, indiana, usa', 'indian rocks beach, florida, usa', 'vellore, tamil nadu, india', 'trichy, tamilnadu, india', 'trichy, tamil nadu, india', 'chd., har., india', 'hfct, wyoming, india', 'noida, utter pradesh, india', 'lucknow, uttar pradesh, india', 'bhubaneswar, orissa, india', 'dfsdf, gsdf, india', 'kolkata, australian capital territory, india', 'longowal, puerto rico, india', 'ahmedabad, montana, india', 'medaryville, indiana, usa', 'indiana, pennsylvania, usa', 'hebron, indiana, usa', 'kottayam, alberta, india', 'sivaganga, tamilnadu, india', 'veedersburg, indiana, usa', 'angola, indiana, usa', 'syracuse, indiana, usa', 'griffith, indiana, usa', 'gandhinagar, gujarat, india', 'sharjah, n/a, india', 'new delhi, new delhi, india', 'mumbai, maha, india', 'highland, indiana, usa', 'pilani, rajasthan(india), india', 'mumbai, mumbai, maharashtra, india, india', 'trissur, kerala, india', 'palmyra, indiana, usa', 'indianapolis, indiana,', 'boonville, indiana, usa', 'mhow, madhya pradesh, india', 'bam, alabama, india', 'pune, maharastra, india', 'were, n/a, india', 'tenali, andhrapradesh, india', 'berne, indiana, usa', 'laporte, indiana, usa', 'kolkata, n/a, india', 'oolitic, indiana, usa', 'east chicago, indiana, usa', 'indialantic, florida, usa', 'mumbai, new mexico, india', 'ludhiana, punjab, india', 'michigan city, indiana, usa', 'bombay, mah, india', 'terre-haute, indiana, usa', 'morgantown, indiana, usa', 'logansport, indiana, usa', 'indy, indiana, usa', 'uttarpradesh, gwaalior, india', 'nagercoil, tamil nadu., n/a, india', 'redkey, indiana, usa', 'cannelton, indiana, usa', 'indianola, iowa, usa', 'barcelona, indiana, spain', 'auburn, indiana, usa', 'flora, indiana, usa', 'peru, indiana, usa', 'anderson, indiana, usa', 'hyderabad, n/a, india', 'panvel, new mumbai, maharastra, india', 'mysore, n/a, india', 'mumbai, mississippi, india', 'tvm, india, india', 'himatnagar, gujarat, india', 'mumbai, n/a, india', 'hyderabad, andhrapradesh, india', 'baroda, n/a, india', 'new delhi, n/a, india', 'north judson, indiana, usa', 'chengannur, kerala, india', 'ayranikudi, kerala, india', 'jammu & kashmir, srinager, india', 'bhopal, m.p., india', 'hamburg, indiana, germany', 'chandernagore, west bengal, india', 'kottayam, kerala, india', 'west harrison, indiana, usa', 'calicut, kerala, india', 'mooresville, indiana, usa', 'erode, tamil nadu, india', 'amboy, indiana, usa', 'bremen, indiana, usa', 'brookville, indiana, usa', 'schererville, indiana, usa', 'albany, indiana, usa', 'cedar lake, indiana, usa', 'clinton, indiana, usa', 'indiuanapolis, indiana, usa', 'srivilliputtur, tamil nadu, india', 'carmel,in, indiana, usa', 'silvassa, dadra & nagar haveli, india', 'farmland, indiana, usa', 'cloverdale, indiana, usa', 'bly, basilicata, india', 'sullivan, indiana, usa', 'otterbein, indiana, usa', 'sector 46,d, chandigarh, india', 'plymouth, indiana, usa', 'bangalore, bangalore, india', 'north judson, indiana,', 'cicero, indiana, usa', 'lanesville, indiana, usa', 'bangalore, indiana, india', 'frankfort, indiana, usa', 'columbia city, indiana, usa', 'chesterton, indiana, usa', 'henryville, indiana, usa', 'thane, maharashtra, india', 'bangalore 560 048, karnataka, india', 'hudson, indiana, usa', 'indianapollis, indiana, usa', 'chandler, indiana, usa', 'north webster, indiana, usa', 'noida, n/a, india', 'hobart, indiana, usa', 'ft. wayne, indiana, usa', 'merrillvile, indiana, usa', 'greensburg, indiana, usa', 'clarksville, indiana, usa', 'crown point, indiana, usa', 'avon, indiana, usa', 'greencastle, indiana, usa', 'whiting, indiana, usa', 'faridabad, illinois, india', 'piacenza, indiana, italy', 'chandigarh, haryana, india', 'nineveh, indiana, usa', 'chennai, nevada, india', 'trichirappalli, indiana, india', 'merrillville, indiana, lake', 'buchanan, indiana, usa', 'kandy, indiana, sri lanka', 'georgetown, indiana, usa', 'madras, tn, india', 'sharpsville, indiana, usa', 'warren, indiana, usa', 'indianpolis, indiana, usa', 'winamac, indiana, usa', 'floyds knobs, indiana, usa', 'w. lafayette, indiana, usa', 'hillsboro, indiana, usa', 'torino, indiana, italy', 'munster, indiana, usa', 'winona lake, indiana, usa', 'laketon, indiana, usa', 'new whiteland, indiana, usa', 'poland, indiana, usa', 'milltown, indiana, usa', 'alexandria, indiana, usa', 'springville, indiana, usa', 'lake villa, indiana, usa', 'new delhi, iowa, india', 'merrillville, indiana, usa', 'battle ground, indiana, usa', 'madison, indiana, usa', 'lamar, indiana, usa', 'ft wayne, indiana, usa', 'elwood, indiana, usa', 'aligarh, n/a, india', 'thorntown, indiana, usa', 'bhavnagar, gujarat, india', 'bluffton, indiana, usa', 'cambridge city, indiana, usa', 'vadodara, gujrat, india', 'mooresville, indiana, morgan', 'bhilai, chhattisgarh, india', 'udaipur, rajasthan, india', 'patna, bihar, india', 'gagret, gujarat, india', 'delhi, n/a, india', 'rourkela, orissa, india', 'granger, indiana, usa', 'n. manchester, indiana, usa', 'mumbai, mh, india, india', 'linton, indiana, usa', 'vapi, gujarat, india', 'demotte, indiana, usa', 'warrick county, indiana, usa', 'indpls, indiana, usa', 'chennai, n/a, india', 'jasper, indiana, usa', 'w lafayette, indiana, usa', 'wabash, indiana, usa', 'indian river, michigan, usa', 'kharagpur, west bengal, india', 'pondicherry, tamilnadu, india', 'rajkot, gujarat, india', 'brownstown, indiana, usa', 'greensburg, indiana,', 'warsaw, indiana, usa', 'notre dame, indiana, usa', 'franklin, indiana, usa', 'no4 jayaparan jothi st,erukkancherry chennai-60011, tamil nadu, india', 'jeffersonville, indiana, usa', 'santa claus, indiana, usa', 'princeton, indiana, usa', 'sb, indiana, usa', 'mm, manitoba, india', 'belgaum, karnataka, india', 'delhi, maryland, india', 'trc, tn, india', 'albion, indiana, usa', 'brownsburg, indiana, usa', 'jamestown, indiana, usa', 'mcleod ganj, himachal pradesh, india', 'gary, indiana, usa', 'speedway, indiana, usa', 'foertwaye, indiana, usa', 'mumbai, indiana,', 'charlestown, indiana, usa', 'gandhiangar, gujarat, india', 'hooghly, n/a, india', 'schnellville, indiana, usa', 'spencerville, indiana, usa', 'west baden, indiana, usa', 'new delhi, 7/2,block-o,r.k.puram,sector-13,new delhi , india, india', 'bedford, indiana, usa', 'nagpur, maharashtra, india', 'bloomingdale, indiana, usa', 'bhiwani, hawaii, india', 'lucknow, uttar pradesh,india, india', 'chandigarh, chandigarh, india', 'bombay, maharashtra, india', 'noida, uttar pradesh, india', 'pune, maine, india', 'bhadravathi, karnataka, india', 'etna green, indiana, usa', 'brazil, indiana, usa', 'solsberry, indiana, usa', 'pune, , india', 'jodhpur, rajasthan, india', 'salem, idaho, india', 'indianapolis, in, indiana, usa', 'solapur, maharashtra, india', 'rockville, indiana, usa', 'indinanapolis, indiana, usa', 'monroe city, indiana, usa', 'cutler, indiana, usa', 'spencer, indiana, usa', 'mumbai, mah, india', 'bhuj, gujarat, india', 'corydon, indiana, usa', 'raipur, chattisgarh, india', 'leo-cedarville, indiana, usa', 'n/a, n/a, india', 'dehradun, n/a, india', 'petersburg, indiana, usa', 'tumkur, karnataka, india', 'lagrange, indiana, usa', 'ossian, indiana, usa', 'b.s.city, jh, india', 'mumbai, mahrasthra, india', 'fowler, indiana, usa', 'indian trail, north carolina, usa', 'muzaffar nagar, n/a, india', 'roanoke, indiana, usa', 'lilongwe, indiana, malawi', 'lafyaette, indiana, usa', 'india, india, india', 'thanjavur, tamilnadu, india', 'chennai, lazio, india', 'mumbai, basilicata, india', 'goodland, indiana, usa', 'mumbai, michigan, india', 'delphi, indiana, usa', 'pondicherry, \\\\n/a\\\\\", india\"', 'cal, wb, india', 'knightstown, indiana, usa', 'pilani, rajasthan, india', 'rosedale, indiana, usa', 'pune, pune,maharashtra, india', 'fortville, indiana, usa', 'tamilnadu .chennai, indiana, india', 'gaston, indiana, usa', 'lindsay, n/a, india', 'mumbai, ms, india', 'dindigul, india, india', 'valparaiso, indiana, afghanistan', 'calcutta, saarland, india', 'south bend, indiana, indiana, usa', 'seymour, indiana, usa', 'gallipoli1, yukon territory, india', 'patna, state:bihar., india', 'calcutta, w bengal, india', 'tomar, indiana, portugal', 'huntingburg, indiana, usa', 'sheridan, indiana, usa', 'pali(marwar), rajasthan, india', 'loharu, n/a, india', 'freetown, indiana, usa', 'bir, himachal, india', 'oxford, indiana, usa', 'bangalore, ka, india', 'zionsville, indiana, usa', 'liberty, indiana, usa', 'plainfield, indiana, usa', 'bhopal, madhya pradesh, india', 'indian lake, new york, usa', 'chandigarh, n/a, india', 'warangal, warangal, india', 'coal city, indiana, usa', 'pamplona, indiana, spain', 'chennai india, n.a, india', 'btown, indiana, usa', 'chalmers, indiana, usa', 'new salisbury, indiana, usa', 'rising sun, indiana, usa', 'bangalore, karnataka-india, india', 'pune, \\\\n/a\\\\\", india\"', 'depauw, indiana, usa', 'bloomington, indiana,', 'st. mary-of-the-woods, indiana, usa', 'indiana and philadelphia, pennsylvania, usa', 'indian head, saskatchewan, canada', 'dayton, indiana, usa', 'milford, indiana, usa', 'wonder lake, indiana, canada', 'navi mumbai, manitoba, india', 'jaipur, australian capital territory, india', 'baghdad, indiana, iraq', 'mount vernon, indiana, usa', 'lexington, indiana, usa', 'bhopal, n/a, india', 'mysore, karnataka, india', 'south bend, indiana, argentina', 'hyderabad, a.p., india', 'perinthalmanna, n/a, india', 'poseyville, indiana, usa', 'pune, mh, india', 'osgood, indiana, usa', 'williamsport, indiana, usa', 'huntertown, indiana, usa', 'brooklyn, indiana, usa', 'aruppukottai, tamilnadu, india', 'huntington, indiana, usa', 'maharashtra, maharashtra, india', 'bharuch, gujarat, india', 'madras, bangalore, india', 'nellore, andhra pradesh, india', 'chennai, chennai, india', 'loogootee, indiana, usa', 'middletown, indiana, usa', 'gandhinagar, gujrat, india', 'shillong, alberta, india', 'new delhi, , india', 'kouts, indiana, usa', 'halol, gujarat, india', 'taj, n/a, india', 'irdbd, indiana, jordan', 'bafffa, ker, india', 'mich city, indiana, usa', 'mumbai(bombay), n/a, india', 'na, na, india', 'hello, hello, india', 'ingalls, indiana, usa', 'nellai, thueringen, india', 'chennai, indiana, india', 'bangalore, karnatka, india', 'jordan, n/a, india', 'rewari, illinois, india', 'st. john, indiana, usa', 'kimmell, indiana, usa', 'rochester, indiana, usa', 'gas city, indiana, usa', 'new palestine, indiana, usa', 'kolkata, indiana, india', 'hyderabad, none, india', 'secunderabad, andhra pradesh, india', 'agra, up, india', 'lewisville, indiana, usa', 'southport, indiana, usa', 'anantapur, n/a, india', 'lowell, indiana, usa', 'indianapolis, ,', 'paoli, indiana, usa', 'claypool, indiana, usa', 'cuenca, hawaii, india', 'madurai, tamilnadu, india', 'daleville, indiana, usa', 'new paris, indiana, usa', 'kendallville, indiana, usa', 'calcutta, n/a, india', 'nagercoil, tasmania, india', 'silvassa, silvassa, india', 'nagpur, maine, india', 'noida, u.p., india', 'beech grove, indiana, usa', 'karnataka, mangalore, india', 'sambalpur, orissa, india', 'indian harbour beach, florida, usa', 'delhi, delaware, india', 'jammu, j&k, india', 'indianapolis, in (ind-indianapolis intl.), indianapolis, in (ind-indianapolis intl.), usa', 'ahmedabad, alaska, india', 'noblsville, indiana, usa', 'wolcott, indiana, usa', 'bangalore, virginia, india', 'pierceton, indiana, antarctica', 'camden, indiana, usa', 'decatur, indiana, usa', 'blooomington, indiana, usa', 'rensselaer, indiana, usa', 'fountain city, indiana, usa', 'allahabad, \\\\n/a\\\\\", india\"', 'my, mt, india', 'delhi, new delhi, india', 'walton, indiana, usa', 'madanpalle, andhra pradesh, india', 'teran, indiana, iran', 'vadodara, gujarat, india', 'pune, arizona, india', 'hyderabad-secunderabad, andhra pradesh, india', 'pilani, rhode island, india', 'prairieton, indiana, usa', 'hyderabad, arizona, india', 'pondy, india, india', 'leesburg, indiana, usa', 'mumbai, massachusetts, india', 'batesville, indiana, usa', 'oldenburg, indiana, usa', 'valparaiso, indiana,', 'chennai, yukon territory, india', 'richmnd, indiana, usa', 'mt. summit, indiana, usa', 'mumbai, marche, india', 'ludhiana, indiana, india', 'chandigarh, chd, india', 'vijayawada, a.p, india', 'amreli, gujarat, india', 'mumbai, nebraska, india', 'moradabad, uttar pradesh, india', 'kentland, indiana, usa', 'new washington, indiana, usa', 'ft.wayne, indiana, usa', 'guwahati, alabama, india', 'hyd, ap, india', 'udaipur, indiana, india', 'gandhidham, gujarat, india', 'nagpur, australian capital territory, india', 'g`nagar, gujarat, india', 'never mind, n/a, india', 'ranipet, tamilnadu, india', 'gary, indiana,', 'salem, tamilnadu, india', 'kolkata, \\\\n/a\\\\\", india\"', 'jagadhri  yamunanagar, hamburg, india', 'machilipatnam, andhrapradesh, india', 'kayamkulam, alberta, india', 'newburgh in, indiana, usa', 'west terre haute, indiana, usa', 'cynthiana, indiana, usa', 'fishers, indiana, indiana, usa', 'eaton, indiana, usa', 'kochi, kerala, india', 'london, indiana, canada', 'commiskey, indiana, usa', 'nowhere youll ever think to stop in, indiana, usa', 'new delhi, india, india', 'laporte, in, indiana, usa', 'chicago, indiana, usa', 'arcadia, indiana, usa', 'derby, indiana, usa', 'ujjain, madhya pradesh, india', 'macy, indiana, usa', 'bringhurst, indiana, usa', 'chennai, illinois, india', 'indianola, iowa,', 'rushville, indiana, usa', 'english, indiana, usa', 'somewhere in, indiana, usa', 'patriot, indiana, usa', 'chirala, indiana, india', 'chennai, carolina, india', 'mumbai, victoria, india', 'north judso, indiana, usa', 'middlebury, indiana, usa', 'greenwood, indiana, united kingdom', 'bokaro steel city, bokaro, jharkhand, india', 'porter, indiana, usa', 'dillsboro, indiana, usa', 'hanover, indiana, usa', 'baroda, gujarat -india, india', 'french, indiana, usa', 'indiana &, florida, usa', 'wyatt, indiana, usa', 'new-delhi, new-delhi, india', 'ludhiana, piemonte, india', 'rajasthan, indiana, india', 'kottayam, n/a, india', 'tiruchirrappali, tamil nadu, india', '25,subhash nagar ,yamunanagar, haryana, india', 'manyda, virginia, india', 'delhi, alberta, india', 'sagar, karnataka, india', 'mumbai, na, india', 'pune, idaho, india', 'madurai, tn, india', 'moradabad, u.p., india', 'scottsburg, indiana, u', 'kolkata, west virginia, india', 'new mumbai, maharashtra, india', 'indanapolis, indiana, usa', 'anand, gujarat, india', 'angamaly, kerala, india', 'manipal, karnataka, india', 'indore, illinois, india', 'kolkata, wales, india', 'tiruvannamalai, tamilnadu, india', 'walkerton, indiana, usa', 'aligarh, virginia, india', 'fort branch, indiana, usa', 'bargersville, indiana, usa', 'andrews, indiana, usa', 'greendale, indiana, usa', 'churubusco, indiana, usa', 'trail creek, indiana, usa', 'frankton, indiana, usa', 'patiala, punjab, india', 'andover, n/a, india', 'new haven, indiana, usa', 'south whitley, indiana, usa', 'rural, indiana, usa', 'mangalore, south dakota, india', 'chandigarh, iowa, india', 'france, indiana, antarctica', 'veraval, gujrat, india', 'windfall, indiana, usa', 'monon, indiana, usa', 'bambai, mahaashtrs, indiai', 'leo, indiana, usa', 'grovertown, indiana, usa', 'bonners ferry, indiana, united kingdom', 'karnataka, bangalore, india', 'pendleton, indiana, usa', 'kolkata, india,', 'odon, indiana, usa', 'gfield, indiana, usa', 'shoals, indiana, usa', 'mccordsville, indiana, usa', 'newdelhi, n/a, india', 'indian head, maryland, usa', 'shillong, n/a, india', 'coimbatore,, tamil nadu, india', 'srinagar, jammu and kashmir, india', 'mumbai, thank you, india', 'detrt, arizona, india', 'hubli, karnataka, india', 'tumkur, karnataka, india, india', 'kolar gold fields, karnataka, india', 'cochin, n/a, india', 'new delhi, alabama, india', 'una, hamburg, india', 'akron, indiana, usa', 'calcutta, w.b, india', 'amritsar(punjab), n/a, india', 'amritsar, n/a, india', 'bangalore, kentucky, india', 'mysore, indiana, india', 'jaipur, indiana, india', 'bristol, indiana, usa', 'bareilly, up, india', 'nagpur, mt, india', 'delhi, british columbia, india', 'indore, molise, india', 'mmbai, n/a, india', 'new delhi, wales, india', 'dombivli, maharashtra, india', 'junagadh, gujarat, india', 'mumbai, \\\\n/a\\\\\", india\"', 'ghaziabad, uttar pradesh, india', 'rossville, indiana, usa', 'chanakyapura, delhi, india', 'elnora, indiana, usa', 'stroh, indiana, usa', 'delhi, ut, india', 'salem, tamil nadu, india', 'haubstadt, indiana, usa', 'indianapolis, indiana, united kingdom', 'denver, indiana, usa', 'ellettsville, indiana, usa', 'milan, indiana, usa', 'puna, n/a, india', 'lucknow, u.p., india', 'noida, up, india', 'agartala, tripura, india', 'chennai, calabria, india', 'pune, ms, india', 'ahmedabad, georgia, india', 'dehradun, uttranchal, india', 'ranch, bayern, india', 'garrett, indiana, usa', 'palakkad, kerala, india', 'vellore, tasmania, india', 'millersburg, indiana, usa', 'ftwayne, indiana, usa', 'bright, indiana, usa', 'bombay, n/a, india', 'bangalore, , india', 'durgapur, wb, india', 'owensville, indiana, usa', 'pekin, indiana, usa', 'supaul, bihar, india', 'monticello, indiana, usa', 'mandi, hp, india', 'chennai, iowa, india', 'mumbai, campania, india', 'chennai, tamil nadu, 600 083, india', 'mt.vernon, indiana, usa', 'atlanta, alabama, india', 'fsdfs, kentucky, india', 'coimbatore, south dakota, india', 'sundergarh, ontario, india', 'guntur, n/a, india', 'visakhapatnam, india, india', 'urun-islampur., maharashtra state, india', 'junagadh, gujrat, india', 'new delhi, nct of delhi, india', 'mumbai, karnataka, india', 'manjeri, kerala, india', 'cochin, nebraska, india', 'celestine, indiana, usa', 'mitchell, indiana, usa', 'hemby bridge/indian trail, north carolina, usa', 'idpls, indiana, usa', 'sangli, maharashtra, india', 'bangalore, kansas, india', 'ahmedabad, gujaratq, india', 'kasaragod, kerala, india', 'hyderabad, hyderabad ap, india', 'shegaon, maharashtra, india', 'cxa, abruzzo, india', 'rosdale, indiana, usa', 'madras, tamilnadu, india', 'montezuma, indiana, usa', 'gangtok, florida, india', 'quincy, indiana, usa', 'kerala, kansas, india', 'kakinada, andhra pradesh, india', 'trichur, kerala, india', 'vellore,tamilnadu,india, vellore, india', 'blr, kar, india', 'bangalore, idaho, india', 'c/block-602/1203,ulhasnagar, maharastra, india', 'jamshedpur, n/a, india', 'mumbai, maharshrta, india', 'thiruvananthapuram, kerala, india', 'alappuzha, indiana, india', 'warangal, andhra pradesh, india', 'vizag, andhra pradesh, india', 'indian hills, colorado, usa', 'pilya, karnataka, india', 'pune, massachusetts, india', 'poona, maine, india', 'winchester, indiana, usa', 'calcutta, emilia romagna, india', 'chennai, new hampshire, india', 'silvassa, calabria, india', 'coibatore, campania, india', 'palakkad, n/a, india', 'milroy, indiana, usa', 'granger,, indiana, usa', 'mulberry, indiana, usa', 'yorktown, indiana, usa', 'cromwell, indiana, usa', 'darbhanga, bihar, india', 'tvm, s.india, india', 'bangalore, yukon territory, india', 'lisboa, indiana, portugal', 'swayzee, indiana, usa', 'thessaloniki, indiana, greece', 'hyderabad, andra pradesh, india', 'betul, m.p., india', 'mumbai, maryland, india', 'shipshewana, indiana, usa', 'kolkata, na, india', 'madras, tamil nadu, india', 'woodburn, indiana, usa', 'gj, n/a, india', 'srinagar, jammu&kashmir, india', 'mexico city, indiana, mexico', 'delhi, yukon territory, india', 'margao, goa, india', 'greenville, indiana, usa', 'pune, n/a, india', 'trichy, indiana, india', 'chandigarh, alabama, india', 'kolkata, alberta, india', 'new delhi, emilia romagna, india', 'dsfasdf, western australia, india', 'pathankot, punjab, india', 'bangalore, na, india', 'dhar, m.p., india', 'ahmedabad, guj, india', 'kollam, n/a, india', 'banglore, india, india', 'secunderabad, andhrapradesh, india', 'wheatfield, indiana, usa', 'mumbai, idaho, india', 'ranchi, west bengal, india', 'meerut, u.p., india', 'mumbai (bombay), maharashtra, india', 'mumbai (bombay) india, maharashtra, india', 'vns, u.p, india', 'rampura phul, punjab, india', 'payyanur, kerala, india', 'mumbai, new jersey, india', 'ahmedabad, alabama, india', 'kapurthala, punjab, india', 'bhubaneswer, orissa, india', 'hubli, karnatak, india', 'ghaziabad, up, india', 'kolkata, nebraska, india', 'chrisney, indiana, usa', 'coimbatore, sdfsg, india', 'goldsmith, indiana, usa', 'kaisa, choocho ki malia, india', 'despair, indiana, usa', 'mathura, n/a, india', 'karaj, indiana, iran', 'mumbai, alaska, india', 'dehradun, ua, india', 'economy, indiana, usa', 'udinur, kerala, india', 'colombo, colombo, india', 'dhaka, indiana, bangladesh', 'thrisur, kerala, india', 'hyd, andhra pradesh, india', 'cbe, victoria, india', 'ajmer, rajasthan, india', 'kanpur, uttar pradesh, india', 'ujjain, n/a, india', 'chanchal, indiana, india', 'grgaon, harayana, india', 'gujrat, brandenburg, india', 'aurangabad, maharashtra, india', 'star city, indiana, usa', 'south bend, indiana,', 'indianapolis, , usa', 'chennai, nebraska, india', 'caldwell, indiana, usa', 'fort wayne, indiana,', 'thrissur, kerala, india', 'indi, indiana, benin', 'indian wells, california, usa', 'montpelier, indiana, usa', 'monrovia, indiana, usa', 'arcadia, in 46030, indiana, usa', 'mumbai, west, india', 'hyderabad, cg, india', 'north manchester, indiana, usa', 'chandigarh, ut, india', 'yamuna nagar, haryana, india', 'bangalore, #341,4main,6cross,2phase,r`nagar,m`nagar,b`lore-10, india', 'hyderabad, iowa, india', 'durgapur, west bengal, india', 'valsad,, gujarat, india', 'haldia, west bengal, india', 'wilkinson, indiana, usa', 'linden, indiana, usa', 'nj, indiana, usa', 'kannur,kerala,india, kerala, india', 'chennai, tamil nady, india', 'alappuzha, n/a, india', 'laconia, indiana, usa', 'trichy, ohio, india', 'coimbatore, n/a, india', 'navi mumbai, maharashtra, india', 'miller, indiana, usa', 'coimbatore, , india', 'nwi, indiana, usa', 'nappanee, indiana, usa', 'indian springs village, alabama, usa', 'rajkot, gujrat, india', 'indian orchard, massachusetts, usa', 'kannur, n/a, india', 'ktm, ker, india', 'nmrl, addl-ambernath, thane, mumbai, pin 421 506, ambernath, thane , maharastra, india', 'bangalore, lombardia, india', 'mysore, karanataka, india', 'delhi, india, india', 'muz, \\\\n/a\\\\\", india\"', 'wgl, maharastra, india', 'ferozepur, n/a, india', 'patan, gujarat, india', 'madras, indiana, india', 'ahmadnagar, maharashtra, india', 'sriganganagar(rajasthan), indian, india', 'coimbatore, tamil nadu, india', 'gurgaon, delhi, india', 'hno:25-21/6,eastanandbagh,malkajgiri,hyderabad, ap, india', 'vasai, molise, india', 'thane, n/a, india', 'pudukkottai, indiana, india', 'mumbai, alabama, india', 'bhopal, alabama, india', 'osceola, indiana, usa', 'trichy, tn, india', 'poona, n/a, india', 'blomington, indiana, usa', 'ankleshwar, gujrat, india', 'pune, nmaharashtra, india', 'malappuram, kentucky, india', 'davis, tamil nadu, india', 'n/a, alabama, india', 'austin, indiana, usa', 'goa, goa, india', 'martinsvile, indiana, usa', 'choocho ki malia, hai, india', 'seoul, indiana, south korea', 'bloomfield, indiana, usa', 'kanpur, indiana, india', 'trichy, trichy, india', 'crandall, indiana, usa', 'new delhi, dc, india', 'bangalore, karnataka., india', 'russiaville, indiana, usa', 'waterloo, indiana, usa', 'monterey, indiana, usa', 'lapel, indiana, usa', 'camby, indiana, usa', 'indian harbour, nova scotia, canada', 'vanburen, indiana, usa', 'fairland, indiana, usa', 'indanopolis, indiana, usa', 'indore, mp, india', 'mum, mah, india', 'howe, indiana, usa', 'bhavnagar, \\\\n/a\\\\\", india\"', 'hyderabad, andhra, india', 'cochin, kansas, india', 'calcutta, wb, india', 'ichalkaranji, maharashtra, india', 'alwar, rajasthan, india', 'p, mah, india', 'coimbatore, tamilnadu, india', 'hno:25-21/6,eastanadbagh,malakajgiri,hyderabad, ap, india', 'raichur, karnataka, india', 'hyderabad, hyderabad, india, india', 'dehradun, uttaranchal, india', 'mallaby, bombay, balcistsa, india', 'phagwara, punjab, india', 'klaipeda, indiana, lithuania', 'dharwad, karnataka, india', 'portland, indiana, usa', 'meerut, up, india', 'indore, m.p., india', 'surat, guajarat, india', 'kota, rajasthan, india', 'porvorim, goa, india', 'chennai, tamil nadu (india), india', 'winslow, indiana, usa', 'w lafayette, indiaia, usa', 'so. bend, indiana, usa', 'fort wayne, in, indiana, usa', 'newq delhi, new delhi, india', 'cheenai, tamil nadu, india', 'new palestine, indiana, canada', 'tipton, indiana, usa', 'gnawbone, indiana, usa', 'bahraich, bayern, india', 'whitestown, indiana, usa', 'kannur, indiana, india', 'noordhorn, indiana, netherlands', 'mumbai, maharashrta, india', 'na, indiana, usa', 'kps, maine, india', 'indiana, indiana, usa', 'indialantic, ,', 'vernon, indiana, usa', 'jogjakarta, indiana, indonesia', 'hyderabad, andhra perdesh, india', 'mumbai, maine, india', 'bloomingont, indiana, usa']\n"
          ]
        }
      ]
    },
    {
      "cell_type": "code",
      "source": [
        "location[2]"
      ],
      "metadata": {
        "colab": {
          "base_uri": "https://localhost:8080/",
          "height": 36
        },
        "id": "TbimjwNzHs-e",
        "outputId": "4b8f5b67-372d-41ec-9e59-ed14455eeb51"
      },
      "execution_count": null,
      "outputs": [
        {
          "output_type": "execute_result",
          "data": {
            "text/plain": [
              "'mumbai, maharashtra, india'"
            ],
            "application/vnd.google.colaboratory.intrinsic+json": {
              "type": "string"
            }
          },
          "metadata": {},
          "execution_count": 16
        }
      ]
    },
    {
      "cell_type": "markdown",
      "source": [
        "The code is includig places in indiana also. we need to correct it. All the locations from Indiana end with 'usa'. lets filter our list again for only indian users."
      ],
      "metadata": {
        "id": "YZnMfqjWCB3V"
      }
    },
    {
      "cell_type": "code",
      "source": [
        "strremove = 'usa'\n",
        "location_updated = []\n",
        "for sub in location:        \n",
        "    flag = 0\n",
        "    if strremove in sub:\n",
        "        flag = 1\n",
        "    else:\n",
        "        location_updated.append(sub)  \n",
        "len(location_updated) # number of unique locations from India "
      ],
      "metadata": {
        "colab": {
          "base_uri": "https://localhost:8080/"
        },
        "id": "VI-ITXDpCIn4",
        "outputId": "35331149-16d2-480d-bc79-2586c281b2f4"
      },
      "execution_count": null,
      "outputs": [
        {
          "output_type": "execute_result",
          "data": {
            "text/plain": [
              "617"
            ]
          },
          "metadata": {},
          "execution_count": 52
        }
      ]
    },
    {
      "cell_type": "code",
      "source": [
        "j1 = 0 #defining a counter\n",
        "for i in list(users['Location'].unique()):\n",
        "  if 'usa' in i:  #checking for every written form of the letter India\n",
        "    j1=j1+1 #updating ccounter\n",
        "print('number of entries from US:', j1)"
      ],
      "metadata": {
        "colab": {
          "base_uri": "https://localhost:8080/"
        },
        "id": "QkJDFfL87i8p",
        "outputId": "2b3e1d90-c0dc-421f-ff44-e50d54bf360a"
      },
      "execution_count": null,
      "outputs": [
        {
          "output_type": "stream",
          "name": "stdout",
          "text": [
            "number of entries from US: 18680\n"
          ]
        }
      ]
    },
    {
      "cell_type": "code",
      "source": [
        "#mergeing the books+ratings data frame with the user info data frame\n",
        "combined = rating_popular_book.merge(users, left_on = 'User-ID', right_on = 'User-ID', how = 'left')\n",
        "# users with location as India or US \n",
        "india_us_user_rating = combined[combined['Location'].str.contains(\"india|usa\")]\n",
        "india_us_user_rating= india_us_user_rating.drop('Age', axis=1)\n",
        "india_us_user_rating.head()"
      ],
      "metadata": {
        "colab": {
          "base_uri": "https://localhost:8080/",
          "height": 206
        },
        "id": "i93_dN0O0igF",
        "outputId": "09aee489-2ea3-4187-fbfb-93dcb6ca74a0"
      },
      "execution_count": null,
      "outputs": [
        {
          "output_type": "execute_result",
          "data": {
            "text/plain": [
              "    User-ID        ISBN  Book-Rating                               Book-Title  \\\n",
              "1    278418  0446364193            0  Along Came a Spider (Alex Cross Novels)   \n",
              "3      7346  0446364193            0  Along Came a Spider (Alex Cross Novels)   \n",
              "4      8362  0446364193            0  Along Came a Spider (Alex Cross Novels)   \n",
              "8     14521  0446364193            0  Along Came a Spider (Alex Cross Novels)   \n",
              "10    16795  0446364193            8  Along Came a Spider (Alex Cross Novels)   \n",
              "\n",
              "    totalRatingCount                       Location  \n",
              "1                198           omaha, nebraska, usa  \n",
              "3                198     sunnyvale, california, usa  \n",
              "4                198   los angeles, california, usa  \n",
              "8                198  providence, rhode island, usa  \n",
              "10               198  mechanicsville, maryland, usa  "
            ],
            "text/html": [
              "\n",
              "  <div id=\"df-03b637bd-94e7-484f-91b9-e1852663c4fe\">\n",
              "    <div class=\"colab-df-container\">\n",
              "      <div>\n",
              "<style scoped>\n",
              "    .dataframe tbody tr th:only-of-type {\n",
              "        vertical-align: middle;\n",
              "    }\n",
              "\n",
              "    .dataframe tbody tr th {\n",
              "        vertical-align: top;\n",
              "    }\n",
              "\n",
              "    .dataframe thead th {\n",
              "        text-align: right;\n",
              "    }\n",
              "</style>\n",
              "<table border=\"1\" class=\"dataframe\">\n",
              "  <thead>\n",
              "    <tr style=\"text-align: right;\">\n",
              "      <th></th>\n",
              "      <th>User-ID</th>\n",
              "      <th>ISBN</th>\n",
              "      <th>Book-Rating</th>\n",
              "      <th>Book-Title</th>\n",
              "      <th>totalRatingCount</th>\n",
              "      <th>Location</th>\n",
              "    </tr>\n",
              "  </thead>\n",
              "  <tbody>\n",
              "    <tr>\n",
              "      <th>1</th>\n",
              "      <td>278418</td>\n",
              "      <td>0446364193</td>\n",
              "      <td>0</td>\n",
              "      <td>Along Came a Spider (Alex Cross Novels)</td>\n",
              "      <td>198</td>\n",
              "      <td>omaha, nebraska, usa</td>\n",
              "    </tr>\n",
              "    <tr>\n",
              "      <th>3</th>\n",
              "      <td>7346</td>\n",
              "      <td>0446364193</td>\n",
              "      <td>0</td>\n",
              "      <td>Along Came a Spider (Alex Cross Novels)</td>\n",
              "      <td>198</td>\n",
              "      <td>sunnyvale, california, usa</td>\n",
              "    </tr>\n",
              "    <tr>\n",
              "      <th>4</th>\n",
              "      <td>8362</td>\n",
              "      <td>0446364193</td>\n",
              "      <td>0</td>\n",
              "      <td>Along Came a Spider (Alex Cross Novels)</td>\n",
              "      <td>198</td>\n",
              "      <td>los angeles, california, usa</td>\n",
              "    </tr>\n",
              "    <tr>\n",
              "      <th>8</th>\n",
              "      <td>14521</td>\n",
              "      <td>0446364193</td>\n",
              "      <td>0</td>\n",
              "      <td>Along Came a Spider (Alex Cross Novels)</td>\n",
              "      <td>198</td>\n",
              "      <td>providence, rhode island, usa</td>\n",
              "    </tr>\n",
              "    <tr>\n",
              "      <th>10</th>\n",
              "      <td>16795</td>\n",
              "      <td>0446364193</td>\n",
              "      <td>8</td>\n",
              "      <td>Along Came a Spider (Alex Cross Novels)</td>\n",
              "      <td>198</td>\n",
              "      <td>mechanicsville, maryland, usa</td>\n",
              "    </tr>\n",
              "  </tbody>\n",
              "</table>\n",
              "</div>\n",
              "      <button class=\"colab-df-convert\" onclick=\"convertToInteractive('df-03b637bd-94e7-484f-91b9-e1852663c4fe')\"\n",
              "              title=\"Convert this dataframe to an interactive table.\"\n",
              "              style=\"display:none;\">\n",
              "        \n",
              "  <svg xmlns=\"http://www.w3.org/2000/svg\" height=\"24px\"viewBox=\"0 0 24 24\"\n",
              "       width=\"24px\">\n",
              "    <path d=\"M0 0h24v24H0V0z\" fill=\"none\"/>\n",
              "    <path d=\"M18.56 5.44l.94 2.06.94-2.06 2.06-.94-2.06-.94-.94-2.06-.94 2.06-2.06.94zm-11 1L8.5 8.5l.94-2.06 2.06-.94-2.06-.94L8.5 2.5l-.94 2.06-2.06.94zm10 10l.94 2.06.94-2.06 2.06-.94-2.06-.94-.94-2.06-.94 2.06-2.06.94z\"/><path d=\"M17.41 7.96l-1.37-1.37c-.4-.4-.92-.59-1.43-.59-.52 0-1.04.2-1.43.59L10.3 9.45l-7.72 7.72c-.78.78-.78 2.05 0 2.83L4 21.41c.39.39.9.59 1.41.59.51 0 1.02-.2 1.41-.59l7.78-7.78 2.81-2.81c.8-.78.8-2.07 0-2.86zM5.41 20L4 18.59l7.72-7.72 1.47 1.35L5.41 20z\"/>\n",
              "  </svg>\n",
              "      </button>\n",
              "      \n",
              "  <style>\n",
              "    .colab-df-container {\n",
              "      display:flex;\n",
              "      flex-wrap:wrap;\n",
              "      gap: 12px;\n",
              "    }\n",
              "\n",
              "    .colab-df-convert {\n",
              "      background-color: #E8F0FE;\n",
              "      border: none;\n",
              "      border-radius: 50%;\n",
              "      cursor: pointer;\n",
              "      display: none;\n",
              "      fill: #1967D2;\n",
              "      height: 32px;\n",
              "      padding: 0 0 0 0;\n",
              "      width: 32px;\n",
              "    }\n",
              "\n",
              "    .colab-df-convert:hover {\n",
              "      background-color: #E2EBFA;\n",
              "      box-shadow: 0px 1px 2px rgba(60, 64, 67, 0.3), 0px 1px 3px 1px rgba(60, 64, 67, 0.15);\n",
              "      fill: #174EA6;\n",
              "    }\n",
              "\n",
              "    [theme=dark] .colab-df-convert {\n",
              "      background-color: #3B4455;\n",
              "      fill: #D2E3FC;\n",
              "    }\n",
              "\n",
              "    [theme=dark] .colab-df-convert:hover {\n",
              "      background-color: #434B5C;\n",
              "      box-shadow: 0px 1px 3px 1px rgba(0, 0, 0, 0.15);\n",
              "      filter: drop-shadow(0px 1px 2px rgba(0, 0, 0, 0.3));\n",
              "      fill: #FFFFFF;\n",
              "    }\n",
              "  </style>\n",
              "\n",
              "      <script>\n",
              "        const buttonEl =\n",
              "          document.querySelector('#df-03b637bd-94e7-484f-91b9-e1852663c4fe button.colab-df-convert');\n",
              "        buttonEl.style.display =\n",
              "          google.colab.kernel.accessAllowed ? 'block' : 'none';\n",
              "\n",
              "        async function convertToInteractive(key) {\n",
              "          const element = document.querySelector('#df-03b637bd-94e7-484f-91b9-e1852663c4fe');\n",
              "          const dataTable =\n",
              "            await google.colab.kernel.invokeFunction('convertToInteractive',\n",
              "                                                     [key], {});\n",
              "          if (!dataTable) return;\n",
              "\n",
              "          const docLinkHtml = 'Like what you see? Visit the ' +\n",
              "            '<a target=\"_blank\" href=https://colab.research.google.com/notebooks/data_table.ipynb>data table notebook</a>'\n",
              "            + ' to learn more about interactive tables.';\n",
              "          element.innerHTML = '';\n",
              "          dataTable['output_type'] = 'display_data';\n",
              "          await google.colab.output.renderOutput(dataTable, element);\n",
              "          const docLink = document.createElement('div');\n",
              "          docLink.innerHTML = docLinkHtml;\n",
              "          element.appendChild(docLink);\n",
              "        }\n",
              "      </script>\n",
              "    </div>\n",
              "  </div>\n",
              "  "
            ]
          },
          "metadata": {},
          "execution_count": 26
        }
      ]
    },
    {
      "cell_type": "markdown",
      "source": [
        "**Implementing KNN**"
      ],
      "metadata": {
        "id": "Vt8YBtvTSmG7"
      }
    },
    {
      "cell_type": "markdown",
      "source": [
        "We use unsupervised algorithms with sklearn.neighbors. The algorithm we use to compute the nearest neighbors is “brute”, and we specify “metric=cosine” so that the algorithm will calculate the cosine similarity between rating vectors. Finally, we fit the model."
      ],
      "metadata": {
        "id": "UKS7Do3ETtGU"
      }
    },
    {
      "cell_type": "code",
      "source": [
        "from scipy.sparse import csr_matrix\n",
        "from sklearn.neighbors import NearestNeighbors\n",
        "\n",
        "india_us_user_rating = india_us_user_rating.drop_duplicates(['User-ID', 'Book-Title'])  #dropping duplicates since we dont need it in the pivot matrix\n",
        "india_us_user_rating_pivot = india_us_user_rating.pivot(index = 'Book-Title', columns = 'User-ID', values = 'Book-Rating').fillna(0) #filling nan values with zeroes\n",
        "plt.spy(india_us_user_rating_pivot) #checking the non-zero values in the matrix\n",
        "india_us_user_rating_matrix = csr_matrix(india_us_user_rating_pivot.values)\n",
        "model_knn = NearestNeighbors(metric = 'cosine', algorithm = 'brute')\n",
        "model_knn.fit(india_us_user_rating_matrix)"
      ],
      "metadata": {
        "colab": {
          "base_uri": "https://localhost:8080/",
          "height": 286
        },
        "id": "C7Ud6WgE0idO",
        "outputId": "0c688a3c-b36c-42e3-94fb-26c4375f08b1"
      },
      "execution_count": null,
      "outputs": [
        {
          "output_type": "execute_result",
          "data": {
            "text/plain": [
              "NearestNeighbors(algorithm='brute', metric='cosine')"
            ]
          },
          "metadata": {},
          "execution_count": 27
        },
        {
          "output_type": "display_data",
          "data": {
            "text/plain": [
              "<Figure size 432x288 with 1 Axes>"
            ],
            "image/png": "[encoded data removed]"
          },
          "metadata": {
            "needs_background": "light"
          }
        }
      ]
    },
    {
      "cell_type": "code",
      "source": [
        "plt.spy(india_us_user_rating_matrix)"
      ],
      "metadata": {
        "colab": {
          "base_uri": "https://localhost:8080/",
          "height": 286
        },
        "id": "_tuZlNaJOToC",
        "outputId": "29b25ea7-1c0b-4f5c-b450-3d848a2eac45"
      },
      "execution_count": null,
      "outputs": [
        {
          "output_type": "execute_result",
          "data": {
            "text/plain": [
              "<matplotlib.lines.Line2D at 0x7f2ef742d7d0>"
            ]
          },
          "metadata": {},
          "execution_count": 28
        },
        {
          "output_type": "display_data",
          "data": {
            "text/plain": [
              "<Figure size 432x288 with 1 Axes>"
            ],
            "image/png": "[encoded data removed]"
          },
          "metadata": {
            "needs_background": "light"
          }
        }
      ]
    },
    {
      "cell_type": "code",
      "source": [
        "india_us_user_rating_pivot.shape[1]"
      ],
      "metadata": {
        "colab": {
          "base_uri": "https://localhost:8080/"
        },
        "id": "laL5dTFBbMOr",
        "outputId": "8cb28f26-7de6-4cab-e165-61cc2220106d"
      },
      "execution_count": null,
      "outputs": [
        {
          "output_type": "execute_result",
          "data": {
            "text/plain": [
              "2105"
            ]
          },
          "metadata": {},
          "execution_count": 29
        }
      ]
    },
    {
      "cell_type": "code",
      "source": [
        "random_userbook_rating_index = np.random.choice(india_us_user_rating_pivot.shape[0]) #pick a random row from the pivot table\n",
        "distances, indices = model_knn.kneighbors(india_us_user_rating_pivot.iloc[random_userbook_rating_index,].values.reshape(1, -1), n_neighbors = 6) # provide the row as features to the kNN\n",
        "for i in range(0, len(distances.flatten())):   #loop through all the recomendations\n",
        "    if i == 0:  #selected book \n",
        "        print('Recommendations for {0}:\\n'.format(india_us_user_rating_pivot.index[random_userbook_rating_index])) \n",
        "    else:  \n",
        "        #recomendations based on cosine distance of the books from selected book\n",
        "        print('{0}: {1}, with distance of {2}:'.format(i,india_us_user_rating_pivot.index[indices.flatten()[i]], distances.flatten()[i]))\n",
        "        "
      ],
      "metadata": {
        "id": "Y59lz_Cf0irS",
        "colab": {
          "base_uri": "https://localhost:8080/"
        },
        "outputId": "10b1851a-649f-43ae-a53f-5f3c8bd0bb4c"
      },
      "execution_count": null,
      "outputs": [
        {
          "output_type": "stream",
          "name": "stdout",
          "text": [
            "Recommendations for Seven Habits Of Highly Effective People:\n",
            "\n",
            "1: Roses Are Red, with distance of 0.791786291900214:\n",
            "2: Cloud Nine, with distance of 0.8101173794225327:\n",
            "3: Welcome to Temptation, with distance of 0.8113921834581342:\n",
            "4: Soul Harvest: The World Takes Sides (Left Behind No. 4), with distance of 0.8207133987264067:\n",
            "5: Songs in Ordinary Time (Oprah's Book Club (Paperback)), with distance of 0.83151127568241:\n"
          ]
        }
      ]
    },
    {
      "cell_type": "code",
      "source": [
        "random_userbook_rating_index = np.random.choice(india_us_user_rating_pivot.shape[0]) #pick a random row from the pivot table\n",
        "distances, indices = model_knn.kneighbors(india_us_user_rating_pivot.iloc[random_userbook_rating_index,].values.reshape(1, -1), n_neighbors = 6) # provide the row as features to the kNN\n",
        "for i in range(0, len(distances.flatten())):\n",
        "    if i == 0:\n",
        "        print('Recommendations for {0}:\\n'.format(india_us_user_rating_pivot.index[random_userbook_rating_index]))\n",
        "    else:\n",
        "        print('{0}: {1}, with distance of {2}:'.format(i,india_us_user_rating_pivot.index[indices.flatten()[i]], distances.flatten()[i]))"
      ],
      "metadata": {
        "colab": {
          "base_uri": "https://localhost:8080/"
        },
        "id": "4aDE04rieMWH",
        "outputId": "cd9f5c90-1508-4763-eaa9-1e59328f020d"
      },
      "execution_count": null,
      "outputs": [
        {
          "output_type": "stream",
          "name": "stdout",
          "text": [
            "Recommendations for Angela's Ashes: A Memoir:\n",
            "\n",
            "1: The Crimson Petal and the White, with distance of 0.21432579868161383:\n",
            "2: C Is for Corpse (Kinsey Millhone Mysteries (Paperback)), with distance of 0.6034547223227122:\n",
            "3: The No. 1 Ladies' Detective Agency (Today Show Book Club #8), with distance of 0.6428458944403548:\n",
            "4: We Were the Mulvaneys, with distance of 0.6631392315733924:\n",
            "5: The Bridges of Madison County, with distance of 0.6956521739130435:\n"
          ]
        }
      ]
    },
    {
      "cell_type": "markdown",
      "source": [
        "We have sucessfully impleted collaborative filering using KNN. The user-interacction matrix that we ended up with was quite small after all the constraints. Lets try to implement matrix factorisation **without any regional constraints**. \n",
        "\n",
        "This time we will apply the **matrix-factorisation method/SVD** method for recommendations. We will assume some latent interactions between the users and items. Then we will try to come up with the user item interaction matrix by ourselves using SVD, in the process we would be filling the non-interacted items with a rating. We can rank these up for the best recommendations. "
      ],
      "metadata": {
        "id": "t_tPqZdS_E1Z"
      }
    },
    {
      "cell_type": "markdown",
      "source": [
        "# Implementing **Matrix Factorisation** without regional constraints. "
      ],
      "metadata": {
        "id": "ldKsXnFbLeIK"
      }
    },
    {
      "cell_type": "code",
      "source": [
        "#we will be using this matrix for the matrix factorisation method. \n",
        "rating_popular_book.drop(columns=['ISBN','totalRatingCount'], inplace = True) #removing useless columns"
      ],
      "metadata": {
        "colab": {
          "base_uri": "https://localhost:8080/"
        },
        "id": "WdOWZScq_jHq",
        "outputId": "44c50625-83ac-41c4-cd39-5e108f07a22d"
      },
      "execution_count": 14,
      "outputs": [
        {
          "output_type": "stream",
          "name": "stderr",
          "text": [
            "/usr/local/lib/python3.7/dist-packages/pandas/core/frame.py:4913: SettingWithCopyWarning: \n",
            "A value is trying to be set on a copy of a slice from a DataFrame\n",
            "\n",
            "See the caveats in the documentation: https://pandas.pydata.org/pandas-docs/stable/user_guide/indexing.html#returning-a-view-versus-a-copy\n",
            "  errors=errors,\n"
          ]
        }
      ]
    },
    {
      "cell_type": "code",
      "source": [
        "rating_popular_book['User-ID'].value_counts() #checking user-id counts\n",
        "#since we are going to stratify 'User-ID' for our test train split, lets make sure all the user-ids have multiple instances"
      ],
      "metadata": {
        "colab": {
          "base_uri": "https://localhost:8080/"
        },
        "id": "OlprfG8FBRpN",
        "outputId": "3d1a84f4-3f0a-4586-9bd2-f7a472c32547"
      },
      "execution_count": 15,
      "outputs": [
        {
          "output_type": "execute_result",
          "data": {
            "text/plain": [
              "11676     1546\n",
              "35859      704\n",
              "76352      625\n",
              "16795      580\n",
              "153662     573\n",
              "          ... \n",
              "21155        1\n",
              "32110        1\n",
              "77039        1\n",
              "643          1\n",
              "257198       1\n",
              "Name: User-ID, Length: 3274, dtype: int64"
            ]
          },
          "metadata": {},
          "execution_count": 15
        }
      ]
    },
    {
      "cell_type": "code",
      "source": [
        "#counting # of user-ids with 1 rating\n",
        "k = rating_popular_book['User-ID'].value_counts().reset_index() #creating a matrix with user-id counts\n",
        "k[k['User-ID'] == 1].shape[0]   #checking the number of User_ids which have only been repeated once"
      ],
      "metadata": {
        "colab": {
          "base_uri": "https://localhost:8080/"
        },
        "id": "peRgDs9VBAj0",
        "outputId": "052f9117-6812-4b16-c3b0-da3a0383c022"
      },
      "execution_count": 16,
      "outputs": [
        {
          "output_type": "execute_result",
          "data": {
            "text/plain": [
              "114"
            ]
          },
          "metadata": {},
          "execution_count": 16
        }
      ]
    },
    {
      "cell_type": "code",
      "source": [
        "rating_popular_book = rating_popular_book[rating_popular_book.duplicated(subset=[\"User-ID\"], keep=False)] #removing the rows with unique user_ID, since we need more than 1 to straify."
      ],
      "metadata": {
        "id": "hlOXtUWMKchu"
      },
      "execution_count": 17,
      "outputs": []
    },
    {
      "cell_type": "code",
      "source": [
        "rating_popular_book.drop_duplicates(inplace = True)\n",
        "rating_popular_book.head(10)"
      ],
      "metadata": {
        "colab": {
          "base_uri": "https://localhost:8080/",
          "height": 450
        },
        "id": "6LJg3TsCSzCc",
        "outputId": "1a6e73ff-dc76-4ff2-d07b-61e89d92ed72"
      },
      "execution_count": 18,
      "outputs": [
        {
          "output_type": "stream",
          "name": "stderr",
          "text": [
            "/usr/local/lib/python3.7/dist-packages/pandas/util/_decorators.py:311: SettingWithCopyWarning: \n",
            "A value is trying to be set on a copy of a slice from a DataFrame\n",
            "\n",
            "See the caveats in the documentation: https://pandas.pydata.org/pandas-docs/stable/user_guide/indexing.html#returning-a-view-versus-a-copy\n",
            "  return func(*args, **kwargs)\n"
          ]
        },
        {
          "output_type": "execute_result",
          "data": {
            "text/plain": [
              "    User-ID  Book-Rating                               Book-Title\n",
              "1    278418            0  Along Came a Spider (Alex Cross Novels)\n",
              "2      5483            0  Along Came a Spider (Alex Cross Novels)\n",
              "3      7346            0  Along Came a Spider (Alex Cross Novels)\n",
              "4      8362            0  Along Came a Spider (Alex Cross Novels)\n",
              "5      9177            7  Along Came a Spider (Alex Cross Novels)\n",
              "6     11400            0  Along Came a Spider (Alex Cross Novels)\n",
              "7     11676            8  Along Came a Spider (Alex Cross Novels)\n",
              "8     14521            0  Along Came a Spider (Alex Cross Novels)\n",
              "9     15418            0  Along Came a Spider (Alex Cross Novels)\n",
              "10    16795            8  Along Came a Spider (Alex Cross Novels)"
            ],
            "text/html": [
              "\n",
              "  <div id=\"df-e85695f5-afdb-4d50-8ddc-6ce97f3a09d8\">\n",
              "    <div class=\"colab-df-container\">\n",
              "      <div>\n",
              "<style scoped>\n",
              "    .dataframe tbody tr th:only-of-type {\n",
              "        vertical-align: middle;\n",
              "    }\n",
              "\n",
              "    .dataframe tbody tr th {\n",
              "        vertical-align: top;\n",
              "    }\n",
              "\n",
              "    .dataframe thead th {\n",
              "        text-align: right;\n",
              "    }\n",
              "</style>\n",
              "<table border=\"1\" class=\"dataframe\">\n",
              "  <thead>\n",
              "    <tr style=\"text-align: right;\">\n",
              "      <th></th>\n",
              "      <th>User-ID</th>\n",
              "      <th>Book-Rating</th>\n",
              "      <th>Book-Title</th>\n",
              "    </tr>\n",
              "  </thead>\n",
              "  <tbody>\n",
              "    <tr>\n",
              "      <th>1</th>\n",
              "      <td>278418</td>\n",
              "      <td>0</td>\n",
              "      <td>Along Came a Spider (Alex Cross Novels)</td>\n",
              "    </tr>\n",
              "    <tr>\n",
              "      <th>2</th>\n",
              "      <td>5483</td>\n",
              "      <td>0</td>\n",
              "      <td>Along Came a Spider (Alex Cross Novels)</td>\n",
              "    </tr>\n",
              "    <tr>\n",
              "      <th>3</th>\n",
              "      <td>7346</td>\n",
              "      <td>0</td>\n",
              "      <td>Along Came a Spider (Alex Cross Novels)</td>\n",
              "    </tr>\n",
              "    <tr>\n",
              "      <th>4</th>\n",
              "      <td>8362</td>\n",
              "      <td>0</td>\n",
              "      <td>Along Came a Spider (Alex Cross Novels)</td>\n",
              "    </tr>\n",
              "    <tr>\n",
              "      <th>5</th>\n",
              "      <td>9177</td>\n",
              "      <td>7</td>\n",
              "      <td>Along Came a Spider (Alex Cross Novels)</td>\n",
              "    </tr>\n",
              "    <tr>\n",
              "      <th>6</th>\n",
              "      <td>11400</td>\n",
              "      <td>0</td>\n",
              "      <td>Along Came a Spider (Alex Cross Novels)</td>\n",
              "    </tr>\n",
              "    <tr>\n",
              "      <th>7</th>\n",
              "      <td>11676</td>\n",
              "      <td>8</td>\n",
              "      <td>Along Came a Spider (Alex Cross Novels)</td>\n",
              "    </tr>\n",
              "    <tr>\n",
              "      <th>8</th>\n",
              "      <td>14521</td>\n",
              "      <td>0</td>\n",
              "      <td>Along Came a Spider (Alex Cross Novels)</td>\n",
              "    </tr>\n",
              "    <tr>\n",
              "      <th>9</th>\n",
              "      <td>15418</td>\n",
              "      <td>0</td>\n",
              "      <td>Along Came a Spider (Alex Cross Novels)</td>\n",
              "    </tr>\n",
              "    <tr>\n",
              "      <th>10</th>\n",
              "      <td>16795</td>\n",
              "      <td>8</td>\n",
              "      <td>Along Came a Spider (Alex Cross Novels)</td>\n",
              "    </tr>\n",
              "  </tbody>\n",
              "</table>\n",
              "</div>\n",
              "      <button class=\"colab-df-convert\" onclick=\"convertToInteractive('df-e85695f5-afdb-4d50-8ddc-6ce97f3a09d8')\"\n",
              "              title=\"Convert this dataframe to an interactive table.\"\n",
              "              style=\"display:none;\">\n",
              "        \n",
              "  <svg xmlns=\"http://www.w3.org/2000/svg\" height=\"24px\"viewBox=\"0 0 24 24\"\n",
              "       width=\"24px\">\n",
              "    <path d=\"M0 0h24v24H0V0z\" fill=\"none\"/>\n",
              "    <path d=\"M18.56 5.44l.94 2.06.94-2.06 2.06-.94-2.06-.94-.94-2.06-.94 2.06-2.06.94zm-11 1L8.5 8.5l.94-2.06 2.06-.94-2.06-.94L8.5 2.5l-.94 2.06-2.06.94zm10 10l.94 2.06.94-2.06 2.06-.94-2.06-.94-.94-2.06-.94 2.06-2.06.94z\"/><path d=\"M17.41 7.96l-1.37-1.37c-.4-.4-.92-.59-1.43-.59-.52 0-1.04.2-1.43.59L10.3 9.45l-7.72 7.72c-.78.78-.78 2.05 0 2.83L4 21.41c.39.39.9.59 1.41.59.51 0 1.02-.2 1.41-.59l7.78-7.78 2.81-2.81c.8-.78.8-2.07 0-2.86zM5.41 20L4 18.59l7.72-7.72 1.47 1.35L5.41 20z\"/>\n",
              "  </svg>\n",
              "      </button>\n",
              "      \n",
              "  <style>\n",
              "    .colab-df-container {\n",
              "      display:flex;\n",
              "      flex-wrap:wrap;\n",
              "      gap: 12px;\n",
              "    }\n",
              "\n",
              "    .colab-df-convert {\n",
              "      background-color: #E8F0FE;\n",
              "      border: none;\n",
              "      border-radius: 50%;\n",
              "      cursor: pointer;\n",
              "      display: none;\n",
              "      fill: #1967D2;\n",
              "      height: 32px;\n",
              "      padding: 0 0 0 0;\n",
              "      width: 32px;\n",
              "    }\n",
              "\n",
              "    .colab-df-convert:hover {\n",
              "      background-color: #E2EBFA;\n",
              "      box-shadow: 0px 1px 2px rgba(60, 64, 67, 0.3), 0px 1px 3px 1px rgba(60, 64, 67, 0.15);\n",
              "      fill: #174EA6;\n",
              "    }\n",
              "\n",
              "    [theme=dark] .colab-df-convert {\n",
              "      background-color: #3B4455;\n",
              "      fill: #D2E3FC;\n",
              "    }\n",
              "\n",
              "    [theme=dark] .colab-df-convert:hover {\n",
              "      background-color: #434B5C;\n",
              "      box-shadow: 0px 1px 3px 1px rgba(0, 0, 0, 0.15);\n",
              "      filter: drop-shadow(0px 1px 2px rgba(0, 0, 0, 0.3));\n",
              "      fill: #FFFFFF;\n",
              "    }\n",
              "  </style>\n",
              "\n",
              "      <script>\n",
              "        const buttonEl =\n",
              "          document.querySelector('#df-e85695f5-afdb-4d50-8ddc-6ce97f3a09d8 button.colab-df-convert');\n",
              "        buttonEl.style.display =\n",
              "          google.colab.kernel.accessAllowed ? 'block' : 'none';\n",
              "\n",
              "        async function convertToInteractive(key) {\n",
              "          const element = document.querySelector('#df-e85695f5-afdb-4d50-8ddc-6ce97f3a09d8');\n",
              "          const dataTable =\n",
              "            await google.colab.kernel.invokeFunction('convertToInteractive',\n",
              "                                                     [key], {});\n",
              "          if (!dataTable) return;\n",
              "\n",
              "          const docLinkHtml = 'Like what you see? Visit the ' +\n",
              "            '<a target=\"_blank\" href=https://colab.research.google.com/notebooks/data_table.ipynb>data table notebook</a>'\n",
              "            + ' to learn more about interactive tables.';\n",
              "          element.innerHTML = '';\n",
              "          dataTable['output_type'] = 'display_data';\n",
              "          await google.colab.output.renderOutput(dataTable, element);\n",
              "          const docLink = document.createElement('div');\n",
              "          docLink.innerHTML = docLinkHtml;\n",
              "          element.appendChild(docLink);\n",
              "        }\n",
              "      </script>\n",
              "    </div>\n",
              "  </div>\n",
              "  "
            ]
          },
          "metadata": {},
          "execution_count": 18
        }
      ]
    },
    {
      "cell_type": "markdown",
      "source": [
        "Since we will be developing an evaluation system for the recommendation system, We need to do a test train split. "
      ],
      "metadata": {
        "id": "MHLbtoXH6jUK"
      }
    },
    {
      "cell_type": "code",
      "source": [
        "interactions_train_df, interactions_test_df = train_test_split(rating_popular_book, #spliting the user-item rating dataframe                                        \n",
        "                                   stratify=rating_popular_book.loc[:,'User-ID'],          #stratify using user-id column\n",
        "                                   test_size=0.20,                                   #using 20 percent data as test set\n",
        "                                   random_state=42)\n",
        "\n",
        "print('# interactions on Train set: %d' % len(interactions_train_df))\n",
        "print('# interactions on Test set: %d' % len(interactions_test_df))"
      ],
      "metadata": {
        "colab": {
          "base_uri": "https://localhost:8080/"
        },
        "id": "AsUm73pD65yj",
        "outputId": "dd984b6d-db6d-414e-dfed-749d22e31eec"
      },
      "execution_count": 19,
      "outputs": [
        {
          "output_type": "stream",
          "name": "stdout",
          "text": [
            "# interactions on Train set: 107327\n",
            "# interactions on Test set: 26832\n"
          ]
        }
      ]
    },
    {
      "cell_type": "code",
      "source": [
        "#Creating a sparse pivot table with users in rows and items in columns\n",
        "pivot_matrix = interactions_train_df.pivot_table(index='User-ID', columns='Book-Title', values='Book-Rating', aggfunc='sum').fillna(0) #agreegating any duplicate entries #filling nan values with 0\n",
        "plt.spy(pivot_matrix)  # visualising the sparse matrix\n",
        "pivot_matrix"
      ],
      "metadata": {
        "colab": {
          "base_uri": "https://localhost:8080/",
          "height": 962
        },
        "id": "sns4sIqEkEZ8",
        "outputId": "57ca2711-c3ff-4111-ebd2-68375193a3c9"
      },
      "execution_count": 20,
      "outputs": [
        {
          "output_type": "execute_result",
          "data": {
            "text/plain": [
              "Book-Title  1984  1st to Die: A Novel  2010: Odyssey Two  204 Rosewood Lane  \\\n",
              "User-ID                                                                       \n",
              "243          0.0                  0.0                0.0                0.0   \n",
              "254          9.0                  0.0                0.0                0.0   \n",
              "507          0.0                  0.0                0.0                0.0   \n",
              "638          0.0                  0.0                0.0                0.0   \n",
              "741          0.0                  0.0                0.0                0.0   \n",
              "...          ...                  ...                ...                ...   \n",
              "278188       0.0                  0.0                0.0                0.0   \n",
              "278418       0.0                  0.0                0.0                0.0   \n",
              "278582       0.0                  0.0                0.0                0.0   \n",
              "278633       0.0                  0.0                0.0                0.0   \n",
              "278843       0.0                  0.0                0.0                0.0   \n",
              "\n",
              "Book-Title  24 Hours  2nd Chance  4 Blondes  84 Charing Cross Road  \\\n",
              "User-ID                                                              \n",
              "243              0.0         0.0        0.0                    0.0   \n",
              "254              0.0         0.0        0.0                    0.0   \n",
              "507              0.0         0.0        0.0                    0.0   \n",
              "638              0.0         9.0        0.0                    0.0   \n",
              "741              0.0         0.0        0.0                    0.0   \n",
              "...              ...         ...        ...                    ...   \n",
              "278188           0.0         0.0        0.0                    0.0   \n",
              "278418           0.0         0.0        0.0                    0.0   \n",
              "278582           0.0         0.0        0.0                    0.0   \n",
              "278633           0.0         0.0        0.0                    0.0   \n",
              "278843           0.0         0.0        0.0                    0.0   \n",
              "\n",
              "Book-Title  A 2nd Helping of Chicken Soup for the Soul (Chicken Soup for the Soul Series (Paper))  \\\n",
              "User-ID                                                                                             \n",
              "243                                                       0.0                                       \n",
              "254                                                       0.0                                       \n",
              "507                                                       0.0                                       \n",
              "638                                                       0.0                                       \n",
              "741                                                       0.0                                       \n",
              "...                                                       ...                                       \n",
              "278188                                                    0.0                                       \n",
              "278418                                                    0.0                                       \n",
              "278582                                                    0.0                                       \n",
              "278633                                                    0.0                                       \n",
              "278843                                                    0.0                                       \n",
              "\n",
              "Book-Title  A Beautiful Mind: The Life of Mathematical Genius and Nobel Laureate John Nash  \\\n",
              "User-ID                                                                                      \n",
              "243                                                       0.0                                \n",
              "254                                                       0.0                                \n",
              "507                                                       0.0                                \n",
              "638                                                       0.0                                \n",
              "741                                                       0.0                                \n",
              "...                                                       ...                                \n",
              "278188                                                    0.0                                \n",
              "278418                                                    0.0                                \n",
              "278582                                                    0.0                                \n",
              "278633                                                    0.0                                \n",
              "278843                                                    0.0                                \n",
              "\n",
              "Book-Title  ...  Women Who Run with the Wolves  \\\n",
              "User-ID     ...                                  \n",
              "243         ...                            0.0   \n",
              "254         ...                            0.0   \n",
              "507         ...                            0.0   \n",
              "638         ...                            0.0   \n",
              "741         ...                            0.0   \n",
              "...         ...                            ...   \n",
              "278188      ...                            0.0   \n",
              "278418      ...                            0.0   \n",
              "278582      ...                            0.0   \n",
              "278633      ...                            0.0   \n",
              "278843      ...                            0.0   \n",
              "\n",
              "Book-Title  Word Freak: Heartbreak, Triumph, Genius, and Obsession in the World of Competitive Scrabble Players  \\\n",
              "User-ID                                                                                                           \n",
              "243                                                       0.0                                                     \n",
              "254                                                       0.0                                                     \n",
              "507                                                       0.0                                                     \n",
              "638                                                       0.0                                                     \n",
              "741                                                       0.0                                                     \n",
              "...                                                       ...                                                     \n",
              "278188                                                    0.0                                                     \n",
              "278418                                                    0.0                                                     \n",
              "278582                                                    0.0                                                     \n",
              "278633                                                    0.0                                                     \n",
              "278843                                                    0.0                                                     \n",
              "\n",
              "Book-Title  Writ of Execution  Wuthering Heights  \\\n",
              "User-ID                                            \n",
              "243                       0.0                0.0   \n",
              "254                       0.0                0.0   \n",
              "507                       0.0                0.0   \n",
              "638                       0.0                0.0   \n",
              "741                       0.0                0.0   \n",
              "...                       ...                ...   \n",
              "278188                    0.0                0.0   \n",
              "278418                    0.0                0.0   \n",
              "278582                    0.0                0.0   \n",
              "278633                    0.0                0.0   \n",
              "278843                    0.0                0.0   \n",
              "\n",
              "Book-Title  Wuthering Heights (Penguin Classics)  Year of Wonders  \\\n",
              "User-ID                                                             \n",
              "243                                          0.0              0.0   \n",
              "254                                          0.0              0.0   \n",
              "507                                          0.0              0.0   \n",
              "638                                          0.0              0.0   \n",
              "741                                          0.0              0.0   \n",
              "...                                          ...              ...   \n",
              "278188                                       0.0              0.0   \n",
              "278418                                       0.0              0.0   \n",
              "278582                                       0.0              0.0   \n",
              "278633                                       0.0              0.0   \n",
              "278843                                       0.0              0.0   \n",
              "\n",
              "Book-Title  You Belong To Me  \\\n",
              "User-ID                        \n",
              "243                      0.0   \n",
              "254                      0.0   \n",
              "507                      0.0   \n",
              "638                      0.0   \n",
              "741                      0.0   \n",
              "...                      ...   \n",
              "278188                   0.0   \n",
              "278418                   0.0   \n",
              "278582                   0.0   \n",
              "278633                   0.0   \n",
              "278843                   0.0   \n",
              "\n",
              "Book-Title  Zen and the Art of Motorcycle Maintenance: An Inquiry into Values  \\\n",
              "User-ID                                                                         \n",
              "243                                                       0.0                   \n",
              "254                                                       0.0                   \n",
              "507                                                       0.0                   \n",
              "638                                                       0.0                   \n",
              "741                                                       0.0                   \n",
              "...                                                       ...                   \n",
              "278188                                                    0.0                   \n",
              "278418                                                    0.0                   \n",
              "278582                                                    0.0                   \n",
              "278633                                                    0.0                   \n",
              "278843                                                    0.0                   \n",
              "\n",
              "Book-Title  Zoya  \\O\\\" Is for Outlaw\"  \n",
              "User-ID                                \n",
              "243          0.0                  0.0  \n",
              "254          0.0                  0.0  \n",
              "507          0.0                  0.0  \n",
              "638          0.0                  0.0  \n",
              "741          0.0                  0.0  \n",
              "...          ...                  ...  \n",
              "278188       0.0                  0.0  \n",
              "278418       0.0                  0.0  \n",
              "278582       0.0                  0.0  \n",
              "278633       0.0                  0.0  \n",
              "278843       0.0                  0.0  \n",
              "\n",
              "[3160 rows x 1388 columns]"
            ],
            "text/html": [
              "\n",
              "  <div id=\"df-773fcc68-9335-4dd0-8860-fddfeec47035\">\n",
              "    <div class=\"colab-df-container\">\n",
              "      <div>\n",
              "<style scoped>\n",
              "    .dataframe tbody tr th:only-of-type {\n",
              "        vertical-align: middle;\n",
              "    }\n",
              "\n",
              "    .dataframe tbody tr th {\n",
              "        vertical-align: top;\n",
              "    }\n",
              "\n",
              "    .dataframe thead th {\n",
              "        text-align: right;\n",
              "    }\n",
              "</style>\n",
              "<table border=\"1\" class=\"dataframe\">\n",
              "  <thead>\n",
              "    <tr style=\"text-align: right;\">\n",
              "      <th>Book-Title</th>\n",
              "      <th>1984</th>\n",
              "      <th>1st to Die: A Novel</th>\n",
              "      <th>2010: Odyssey Two</th>\n",
              "      <th>204 Rosewood Lane</th>\n",
              "      <th>24 Hours</th>\n",
              "      <th>2nd Chance</th>\n",
              "      <th>4 Blondes</th>\n",
              "      <th>84 Charing Cross Road</th>\n",
              "      <th>A 2nd Helping of Chicken Soup for the Soul (Chicken Soup for the Soul Series (Paper))</th>\n",
              "      <th>A Beautiful Mind: The Life of Mathematical Genius and Nobel Laureate John Nash</th>\n",
              "      <th>...</th>\n",
              "      <th>Women Who Run with the Wolves</th>\n",
              "      <th>Word Freak: Heartbreak, Triumph, Genius, and Obsession in the World of Competitive Scrabble Players</th>\n",
              "      <th>Writ of Execution</th>\n",
              "      <th>Wuthering Heights</th>\n",
              "      <th>Wuthering Heights (Penguin Classics)</th>\n",
              "      <th>Year of Wonders</th>\n",
              "      <th>You Belong To Me</th>\n",
              "      <th>Zen and the Art of Motorcycle Maintenance: An Inquiry into Values</th>\n",
              "      <th>Zoya</th>\n",
              "      <th>\\O\\\" Is for Outlaw\"</th>\n",
              "    </tr>\n",
              "    <tr>\n",
              "      <th>User-ID</th>\n",
              "      <th></th>\n",
              "      <th></th>\n",
              "      <th></th>\n",
              "      <th></th>\n",
              "      <th></th>\n",
              "      <th></th>\n",
              "      <th></th>\n",
              "      <th></th>\n",
              "      <th></th>\n",
              "      <th></th>\n",
              "      <th></th>\n",
              "      <th></th>\n",
              "      <th></th>\n",
              "      <th></th>\n",
              "      <th></th>\n",
              "      <th></th>\n",
              "      <th></th>\n",
              "      <th></th>\n",
              "      <th></th>\n",
              "      <th></th>\n",
              "      <th></th>\n",
              "    </tr>\n",
              "  </thead>\n",
              "  <tbody>\n",
              "    <tr>\n",
              "      <th>243</th>\n",
              "      <td>0.0</td>\n",
              "      <td>0.0</td>\n",
              "      <td>0.0</td>\n",
              "      <td>0.0</td>\n",
              "      <td>0.0</td>\n",
              "      <td>0.0</td>\n",
              "      <td>0.0</td>\n",
              "      <td>0.0</td>\n",
              "      <td>0.0</td>\n",
              "      <td>0.0</td>\n",
              "      <td>...</td>\n",
              "      <td>0.0</td>\n",
              "      <td>0.0</td>\n",
              "      <td>0.0</td>\n",
              "      <td>0.0</td>\n",
              "      <td>0.0</td>\n",
              "      <td>0.0</td>\n",
              "      <td>0.0</td>\n",
              "      <td>0.0</td>\n",
              "      <td>0.0</td>\n",
              "      <td>0.0</td>\n",
              "    </tr>\n",
              "    <tr>\n",
              "      <th>254</th>\n",
              "      <td>9.0</td>\n",
              "      <td>0.0</td>\n",
              "      <td>0.0</td>\n",
              "      <td>0.0</td>\n",
              "      <td>0.0</td>\n",
              "      <td>0.0</td>\n",
              "      <td>0.0</td>\n",
              "      <td>0.0</td>\n",
              "      <td>0.0</td>\n",
              "      <td>0.0</td>\n",
              "      <td>...</td>\n",
              "      <td>0.0</td>\n",
              "      <td>0.0</td>\n",
              "      <td>0.0</td>\n",
              "      <td>0.0</td>\n",
              "      <td>0.0</td>\n",
              "      <td>0.0</td>\n",
              "      <td>0.0</td>\n",
              "      <td>0.0</td>\n",
              "      <td>0.0</td>\n",
              "      <td>0.0</td>\n",
              "    </tr>\n",
              "    <tr>\n",
              "      <th>507</th>\n",
              "      <td>0.0</td>\n",
              "      <td>0.0</td>\n",
              "      <td>0.0</td>\n",
              "      <td>0.0</td>\n",
              "      <td>0.0</td>\n",
              "      <td>0.0</td>\n",
              "      <td>0.0</td>\n",
              "      <td>0.0</td>\n",
              "      <td>0.0</td>\n",
              "      <td>0.0</td>\n",
              "      <td>...</td>\n",
              "      <td>0.0</td>\n",
              "      <td>0.0</td>\n",
              "      <td>0.0</td>\n",
              "      <td>0.0</td>\n",
              "      <td>0.0</td>\n",
              "      <td>0.0</td>\n",
              "      <td>0.0</td>\n",
              "      <td>0.0</td>\n",
              "      <td>0.0</td>\n",
              "      <td>0.0</td>\n",
              "    </tr>\n",
              "    <tr>\n",
              "      <th>638</th>\n",
              "      <td>0.0</td>\n",
              "      <td>0.0</td>\n",
              "      <td>0.0</td>\n",
              "      <td>0.0</td>\n",
              "      <td>0.0</td>\n",
              "      <td>9.0</td>\n",
              "      <td>0.0</td>\n",
              "      <td>0.0</td>\n",
              "      <td>0.0</td>\n",
              "      <td>0.0</td>\n",
              "      <td>...</td>\n",
              "      <td>0.0</td>\n",
              "      <td>0.0</td>\n",
              "      <td>0.0</td>\n",
              "      <td>0.0</td>\n",
              "      <td>0.0</td>\n",
              "      <td>0.0</td>\n",
              "      <td>0.0</td>\n",
              "      <td>0.0</td>\n",
              "      <td>0.0</td>\n",
              "      <td>0.0</td>\n",
              "    </tr>\n",
              "    <tr>\n",
              "      <th>741</th>\n",
              "      <td>0.0</td>\n",
              "      <td>0.0</td>\n",
              "      <td>0.0</td>\n",
              "      <td>0.0</td>\n",
              "      <td>0.0</td>\n",
              "      <td>0.0</td>\n",
              "      <td>0.0</td>\n",
              "      <td>0.0</td>\n",
              "      <td>0.0</td>\n",
              "      <td>0.0</td>\n",
              "      <td>...</td>\n",
              "      <td>0.0</td>\n",
              "      <td>0.0</td>\n",
              "      <td>0.0</td>\n",
              "      <td>0.0</td>\n",
              "      <td>0.0</td>\n",
              "      <td>0.0</td>\n",
              "      <td>0.0</td>\n",
              "      <td>0.0</td>\n",
              "      <td>0.0</td>\n",
              "      <td>0.0</td>\n",
              "    </tr>\n",
              "    <tr>\n",
              "      <th>...</th>\n",
              "      <td>...</td>\n",
              "      <td>...</td>\n",
              "      <td>...</td>\n",
              "      <td>...</td>\n",
              "      <td>...</td>\n",
              "      <td>...</td>\n",
              "      <td>...</td>\n",
              "      <td>...</td>\n",
              "      <td>...</td>\n",
              "      <td>...</td>\n",
              "      <td>...</td>\n",
              "      <td>...</td>\n",
              "      <td>...</td>\n",
              "      <td>...</td>\n",
              "      <td>...</td>\n",
              "      <td>...</td>\n",
              "      <td>...</td>\n",
              "      <td>...</td>\n",
              "      <td>...</td>\n",
              "      <td>...</td>\n",
              "      <td>...</td>\n",
              "    </tr>\n",
              "    <tr>\n",
              "      <th>278188</th>\n",
              "      <td>0.0</td>\n",
              "      <td>0.0</td>\n",
              "      <td>0.0</td>\n",
              "      <td>0.0</td>\n",
              "      <td>0.0</td>\n",
              "      <td>0.0</td>\n",
              "      <td>0.0</td>\n",
              "      <td>0.0</td>\n",
              "      <td>0.0</td>\n",
              "      <td>0.0</td>\n",
              "      <td>...</td>\n",
              "      <td>0.0</td>\n",
              "      <td>0.0</td>\n",
              "      <td>0.0</td>\n",
              "      <td>0.0</td>\n",
              "      <td>0.0</td>\n",
              "      <td>0.0</td>\n",
              "      <td>0.0</td>\n",
              "      <td>0.0</td>\n",
              "      <td>0.0</td>\n",
              "      <td>0.0</td>\n",
              "    </tr>\n",
              "    <tr>\n",
              "      <th>278418</th>\n",
              "      <td>0.0</td>\n",
              "      <td>0.0</td>\n",
              "      <td>0.0</td>\n",
              "      <td>0.0</td>\n",
              "      <td>0.0</td>\n",
              "      <td>0.0</td>\n",
              "      <td>0.0</td>\n",
              "      <td>0.0</td>\n",
              "      <td>0.0</td>\n",
              "      <td>0.0</td>\n",
              "      <td>...</td>\n",
              "      <td>0.0</td>\n",
              "      <td>0.0</td>\n",
              "      <td>0.0</td>\n",
              "      <td>0.0</td>\n",
              "      <td>0.0</td>\n",
              "      <td>0.0</td>\n",
              "      <td>0.0</td>\n",
              "      <td>0.0</td>\n",
              "      <td>0.0</td>\n",
              "      <td>0.0</td>\n",
              "    </tr>\n",
              "    <tr>\n",
              "      <th>278582</th>\n",
              "      <td>0.0</td>\n",
              "      <td>0.0</td>\n",
              "      <td>0.0</td>\n",
              "      <td>0.0</td>\n",
              "      <td>0.0</td>\n",
              "      <td>0.0</td>\n",
              "      <td>0.0</td>\n",
              "      <td>0.0</td>\n",
              "      <td>0.0</td>\n",
              "      <td>0.0</td>\n",
              "      <td>...</td>\n",
              "      <td>0.0</td>\n",
              "      <td>0.0</td>\n",
              "      <td>0.0</td>\n",
              "      <td>0.0</td>\n",
              "      <td>0.0</td>\n",
              "      <td>0.0</td>\n",
              "      <td>0.0</td>\n",
              "      <td>0.0</td>\n",
              "      <td>0.0</td>\n",
              "      <td>0.0</td>\n",
              "    </tr>\n",
              "    <tr>\n",
              "      <th>278633</th>\n",
              "      <td>0.0</td>\n",
              "      <td>0.0</td>\n",
              "      <td>0.0</td>\n",
              "      <td>0.0</td>\n",
              "      <td>0.0</td>\n",
              "      <td>0.0</td>\n",
              "      <td>0.0</td>\n",
              "      <td>0.0</td>\n",
              "      <td>0.0</td>\n",
              "      <td>0.0</td>\n",
              "      <td>...</td>\n",
              "      <td>0.0</td>\n",
              "      <td>0.0</td>\n",
              "      <td>0.0</td>\n",
              "      <td>0.0</td>\n",
              "      <td>0.0</td>\n",
              "      <td>0.0</td>\n",
              "      <td>0.0</td>\n",
              "      <td>0.0</td>\n",
              "      <td>0.0</td>\n",
              "      <td>0.0</td>\n",
              "    </tr>\n",
              "    <tr>\n",
              "      <th>278843</th>\n",
              "      <td>0.0</td>\n",
              "      <td>0.0</td>\n",
              "      <td>0.0</td>\n",
              "      <td>0.0</td>\n",
              "      <td>0.0</td>\n",
              "      <td>0.0</td>\n",
              "      <td>0.0</td>\n",
              "      <td>0.0</td>\n",
              "      <td>0.0</td>\n",
              "      <td>0.0</td>\n",
              "      <td>...</td>\n",
              "      <td>0.0</td>\n",
              "      <td>0.0</td>\n",
              "      <td>0.0</td>\n",
              "      <td>0.0</td>\n",
              "      <td>0.0</td>\n",
              "      <td>0.0</td>\n",
              "      <td>0.0</td>\n",
              "      <td>0.0</td>\n",
              "      <td>0.0</td>\n",
              "      <td>0.0</td>\n",
              "    </tr>\n",
              "  </tbody>\n",
              "</table>\n",
              "<p>3160 rows × 1388 columns</p>\n",
              "</div>\n",
              "      <button class=\"colab-df-convert\" onclick=\"convertToInteractive('df-773fcc68-9335-4dd0-8860-fddfeec47035')\"\n",
              "              title=\"Convert this dataframe to an interactive table.\"\n",
              "              style=\"display:none;\">\n",
              "        \n",
              "  <svg xmlns=\"http://www.w3.org/2000/svg\" height=\"24px\"viewBox=\"0 0 24 24\"\n",
              "       width=\"24px\">\n",
              "    <path d=\"M0 0h24v24H0V0z\" fill=\"none\"/>\n",
              "    <path d=\"M18.56 5.44l.94 2.06.94-2.06 2.06-.94-2.06-.94-.94-2.06-.94 2.06-2.06.94zm-11 1L8.5 8.5l.94-2.06 2.06-.94-2.06-.94L8.5 2.5l-.94 2.06-2.06.94zm10 10l.94 2.06.94-2.06 2.06-.94-2.06-.94-.94-2.06-.94 2.06-2.06.94z\"/><path d=\"M17.41 7.96l-1.37-1.37c-.4-.4-.92-.59-1.43-.59-.52 0-1.04.2-1.43.59L10.3 9.45l-7.72 7.72c-.78.78-.78 2.05 0 2.83L4 21.41c.39.39.9.59 1.41.59.51 0 1.02-.2 1.41-.59l7.78-7.78 2.81-2.81c.8-.78.8-2.07 0-2.86zM5.41 20L4 18.59l7.72-7.72 1.47 1.35L5.41 20z\"/>\n",
              "  </svg>\n",
              "      </button>\n",
              "      \n",
              "  <style>\n",
              "    .colab-df-container {\n",
              "      display:flex;\n",
              "      flex-wrap:wrap;\n",
              "      gap: 12px;\n",
              "    }\n",
              "\n",
              "    .colab-df-convert {\n",
              "      background-color: #E8F0FE;\n",
              "      border: none;\n",
              "      border-radius: 50%;\n",
              "      cursor: pointer;\n",
              "      display: none;\n",
              "      fill: #1967D2;\n",
              "      height: 32px;\n",
              "      padding: 0 0 0 0;\n",
              "      width: 32px;\n",
              "    }\n",
              "\n",
              "    .colab-df-convert:hover {\n",
              "      background-color: #E2EBFA;\n",
              "      box-shadow: 0px 1px 2px rgba(60, 64, 67, 0.3), 0px 1px 3px 1px rgba(60, 64, 67, 0.15);\n",
              "      fill: #174EA6;\n",
              "    }\n",
              "\n",
              "    [theme=dark] .colab-df-convert {\n",
              "      background-color: #3B4455;\n",
              "      fill: #D2E3FC;\n",
              "    }\n",
              "\n",
              "    [theme=dark] .colab-df-convert:hover {\n",
              "      background-color: #434B5C;\n",
              "      box-shadow: 0px 1px 3px 1px rgba(0, 0, 0, 0.15);\n",
              "      filter: drop-shadow(0px 1px 2px rgba(0, 0, 0, 0.3));\n",
              "      fill: #FFFFFF;\n",
              "    }\n",
              "  </style>\n",
              "\n",
              "      <script>\n",
              "        const buttonEl =\n",
              "          document.querySelector('#df-773fcc68-9335-4dd0-8860-fddfeec47035 button.colab-df-convert');\n",
              "        buttonEl.style.display =\n",
              "          google.colab.kernel.accessAllowed ? 'block' : 'none';\n",
              "\n",
              "        async function convertToInteractive(key) {\n",
              "          const element = document.querySelector('#df-773fcc68-9335-4dd0-8860-fddfeec47035');\n",
              "          const dataTable =\n",
              "            await google.colab.kernel.invokeFunction('convertToInteractive',\n",
              "                                                     [key], {});\n",
              "          if (!dataTable) return;\n",
              "\n",
              "          const docLinkHtml = 'Like what you see? Visit the ' +\n",
              "            '<a target=\"_blank\" href=https://colab.research.google.com/notebooks/data_table.ipynb>data table notebook</a>'\n",
              "            + ' to learn more about interactive tables.';\n",
              "          element.innerHTML = '';\n",
              "          dataTable['output_type'] = 'display_data';\n",
              "          await google.colab.output.renderOutput(dataTable, element);\n",
              "          const docLink = document.createElement('div');\n",
              "          docLink.innerHTML = docLinkHtml;\n",
              "          element.appendChild(docLink);\n",
              "        }\n",
              "      </script>\n",
              "    </div>\n",
              "  </div>\n",
              "  "
            ]
          },
          "metadata": {},
          "execution_count": 20
        },
        {
          "output_type": "display_data",
          "data": {
            "text/plain": [
              "<Figure size 432x288 with 1 Axes>"
            ],
            "image/png": "[encoded data removed]"
          },
          "metadata": {
            "needs_background": "light"
          }
        }
      ]
    },
    {
      "cell_type": "code",
      "source": [
        "from scipy.sparse.linalg import svds\n",
        "# The number of factors to factor the user-item matrix.\n",
        "NUMBER_OF_FACTORS_MF = 15\n",
        "\n",
        "#Performs matrix factorization of the original user item matrix\n",
        "U, sigma, Vt = svds(pivot_matrix, k = NUMBER_OF_FACTORS_MF)"
      ],
      "metadata": {
        "id": "8vL5XrIakEdF"
      },
      "execution_count": 21,
      "outputs": []
    },
    {
      "cell_type": "code",
      "source": [
        "#checking shapes\n",
        "print(U.shape)\n",
        "print(sigma.shape)\n",
        "print(Vt.shape)"
      ],
      "metadata": {
        "colab": {
          "base_uri": "https://localhost:8080/"
        },
        "id": "Gkj9qZIokEf6",
        "outputId": "5e2fbde3-f65b-4251-bece-b9ad8aa289ef"
      },
      "execution_count": 22,
      "outputs": [
        {
          "output_type": "stream",
          "name": "stdout",
          "text": [
            "(3160, 15)\n",
            "(15,)\n",
            "(15, 1388)\n"
          ]
        }
      ]
    },
    {
      "cell_type": "code",
      "source": [
        "sigma"
      ],
      "metadata": {
        "colab": {
          "base_uri": "https://localhost:8080/"
        },
        "id": "jGvZSLEZEGqi",
        "outputId": "c4033538-5ee4-4946-c39f-9b8eab239fc8"
      },
      "execution_count": 23,
      "outputs": [
        {
          "output_type": "execute_result",
          "data": {
            "text/plain": [
              "array([102.64282866, 104.14509991, 105.63581134, 107.40139552,\n",
              "       108.21391414, 112.58900599, 116.39487734, 119.00598201,\n",
              "       121.35875999, 129.66673451, 143.77277009, 154.29425051,\n",
              "       157.37440403, 168.98612117, 315.80167559])"
            ]
          },
          "metadata": {},
          "execution_count": 23
        }
      ]
    },
    {
      "cell_type": "markdown",
      "source": [
        "Sigma here is an 1-d array with 15 elements we need to convert it to a diagonal matrix so that the matrix multiplication goes smoothly and the dimensions are correct."
      ],
      "metadata": {
        "id": "dNxc1v4REJEa"
      }
    },
    {
      "cell_type": "code",
      "source": [
        "#making sigma a diagonal matrix\n",
        "sigma = np.diag(sigma)"
      ],
      "metadata": {
        "id": "CPkDwT2EEkPv"
      },
      "execution_count": 24,
      "outputs": []
    },
    {
      "cell_type": "code",
      "source": [
        "#reconstructing the original matrix without any zeros \n",
        "all_user_predicted_ratings = np.dot(np.dot(U, sigma), Vt) \n",
        "all_user_predicted_ratings "
      ],
      "metadata": {
        "colab": {
          "base_uri": "https://localhost:8080/"
        },
        "id": "NNV0Cj31AFNM",
        "outputId": "e1b31eee-6aab-4324-dfbd-8e9a456bc259"
      },
      "execution_count": 25,
      "outputs": [
        {
          "output_type": "execute_result",
          "data": {
            "text/plain": [
              "array([[ 0.07831169,  0.28809135, -0.05987431, ...,  0.0023029 ,\n",
              "         0.01904172,  0.03237394],\n",
              "       [ 0.72217337, -0.2408723 ,  0.12697158, ...,  0.10299453,\n",
              "        -0.1092843 , -0.08781371],\n",
              "       [ 0.07406308,  0.06711496,  0.01656322, ...,  0.02645115,\n",
              "        -0.00957172,  0.02069292],\n",
              "       ...,\n",
              "       [-0.03366059,  0.47107149, -0.00170053, ...,  0.00963403,\n",
              "        -0.05168145,  0.41409815],\n",
              "       [-0.20896504,  0.49168467, -0.0185815 , ..., -0.01539093,\n",
              "         0.2027585 , -0.12402904],\n",
              "       [ 0.14345853,  0.17779363,  0.05815941, ...,  0.16057147,\n",
              "         0.0162529 , -0.07573075]])"
            ]
          },
          "metadata": {},
          "execution_count": 25
        }
      ]
    },
    {
      "cell_type": "code",
      "source": [
        "#checking if martix shape is same as the original matrix\n",
        "all_user_predicted_ratings.shape"
      ],
      "metadata": {
        "colab": {
          "base_uri": "https://localhost:8080/"
        },
        "id": "snpDB6KaDyPh",
        "outputId": "e5deb9e8-c5f2-46d3-a70e-cf8aedbbedf2"
      },
      "execution_count": 26,
      "outputs": [
        {
          "output_type": "execute_result",
          "data": {
            "text/plain": [
              "(3160, 1388)"
            ]
          },
          "metadata": {},
          "execution_count": 26
        }
      ]
    },
    {
      "cell_type": "code",
      "source": [
        "# converting back to a dataframe\n",
        "# defining index as book-title\n",
        "# defining the columns as all the filtered user-ids\n",
        "prediction_df = pd.DataFrame(all_user_predicted_ratings.transpose(), index= pivot_matrix.columns, columns=pivot_matrix.index) "
      ],
      "metadata": {
        "id": "-MG0U370W02O"
      },
      "execution_count": 27,
      "outputs": []
    },
    {
      "cell_type": "code",
      "source": [
        "prediction_df"
      ],
      "metadata": {
        "colab": {
          "base_uri": "https://localhost:8080/",
          "height": 727
        },
        "id": "wttI5UYJXw6w",
        "outputId": "c9160d68-6b20-4e76-ae64-fd470c3e4360"
      },
      "execution_count": 28,
      "outputs": [
        {
          "output_type": "execute_result",
          "data": {
            "text/plain": [
              "User-ID                                               243       254     \\\n",
              "Book-Title                                                               \n",
              "1984                                                0.078312  0.722173   \n",
              "1st to Die: A Novel                                 0.288091 -0.240872   \n",
              "2010: Odyssey Two                                  -0.059874  0.126972   \n",
              "204 Rosewood Lane                                  -0.037039 -0.046640   \n",
              "24 Hours                                            0.027190  0.156728   \n",
              "...                                                      ...       ...   \n",
              "Year of Wonders                                     0.275314 -0.058480   \n",
              "You Belong To Me                                    0.078173  0.279694   \n",
              "Zen and the Art of Motorcycle Maintenance: An I...  0.002303  0.102995   \n",
              "Zoya                                                0.019042 -0.109284   \n",
              "\\O\\\" Is for Outlaw\"                                 0.032374 -0.087814   \n",
              "\n",
              "User-ID                                               507       638     \\\n",
              "Book-Title                                                               \n",
              "1984                                                0.074063  0.316916   \n",
              "1st to Die: A Novel                                 0.067115  0.493063   \n",
              "2010: Odyssey Two                                   0.016563 -0.065790   \n",
              "204 Rosewood Lane                                   0.044110  0.216825   \n",
              "24 Hours                                            0.029255  0.129316   \n",
              "...                                                      ...       ...   \n",
              "Year of Wonders                                     0.024676  0.308737   \n",
              "You Belong To Me                                   -0.017976 -0.270285   \n",
              "Zen and the Art of Motorcycle Maintenance: An I...  0.026451 -0.257474   \n",
              "Zoya                                               -0.009572  0.262357   \n",
              "\\O\\\" Is for Outlaw\"                                 0.020693  0.092857   \n",
              "\n",
              "User-ID                                             741       882     \\\n",
              "Book-Title                                                             \n",
              "1984                                                   0.0  0.326251   \n",
              "1st to Die: A Novel                                    0.0  0.076661   \n",
              "2010: Odyssey Two                                      0.0  0.099510   \n",
              "204 Rosewood Lane                                      0.0  0.002028   \n",
              "24 Hours                                               0.0  0.034671   \n",
              "...                                                    ...       ...   \n",
              "Year of Wonders                                        0.0  0.365453   \n",
              "You Belong To Me                                       0.0  0.151927   \n",
              "Zen and the Art of Motorcycle Maintenance: An I...     0.0  0.248131   \n",
              "Zoya                                                   0.0 -0.010516   \n",
              "\\O\\\" Is for Outlaw\"                                    0.0 -0.098838   \n",
              "\n",
              "User-ID                                               929       1025    \\\n",
              "Book-Title                                                               \n",
              "1984                                                0.268172  0.097105   \n",
              "1st to Die: A Novel                                -0.021846 -0.091436   \n",
              "2010: Odyssey Two                                   0.101754  0.009741   \n",
              "204 Rosewood Lane                                  -0.039388 -0.005729   \n",
              "24 Hours                                            0.018901 -0.014110   \n",
              "...                                                      ...       ...   \n",
              "Year of Wonders                                     0.128019  0.076569   \n",
              "You Belong To Me                                   -0.060024 -0.069308   \n",
              "Zen and the Art of Motorcycle Maintenance: An I...  0.172262  0.052206   \n",
              "Zoya                                               -0.011257 -0.028754   \n",
              "\\O\\\" Is for Outlaw\"                                 0.114997  0.036082   \n",
              "\n",
              "User-ID                                               1211      1424    ...  \\\n",
              "Book-Title                                                              ...   \n",
              "1984                                                0.097692  0.104299  ...   \n",
              "1st to Die: A Novel                                 0.153738  0.049661  ...   \n",
              "2010: Odyssey Two                                  -0.030161  0.029572  ...   \n",
              "204 Rosewood Lane                                   0.049553 -0.057323  ...   \n",
              "24 Hours                                            0.030308 -0.020937  ...   \n",
              "...                                                      ...       ...  ...   \n",
              "Year of Wonders                                     0.102664  0.203266  ...   \n",
              "You Belong To Me                                    0.147749 -0.014244  ...   \n",
              "Zen and the Art of Motorcycle Maintenance: An I...  0.014027  0.115813  ...   \n",
              "Zoya                                                0.009137 -0.004814  ...   \n",
              "\\O\\\" Is for Outlaw\"                                -0.128237 -0.028765  ...   \n",
              "\n",
              "User-ID                                               277928    277965  \\\n",
              "Book-Title                                                               \n",
              "1984                                                0.054319  0.040176   \n",
              "1st to Die: A Novel                                 0.040731  0.159338   \n",
              "2010: Odyssey Two                                  -0.021704 -0.037910   \n",
              "204 Rosewood Lane                                  -0.012999  0.011223   \n",
              "24 Hours                                            0.046818  0.005826   \n",
              "...                                                      ...       ...   \n",
              "Year of Wonders                                    -0.027567  0.099664   \n",
              "You Belong To Me                                    0.018296  0.013844   \n",
              "Zen and the Art of Motorcycle Maintenance: An I... -0.038521  0.000686   \n",
              "Zoya                                                0.057203  0.043742   \n",
              "\\O\\\" Is for Outlaw\"                                 0.021843  0.056264   \n",
              "\n",
              "User-ID                                               278026    278137  \\\n",
              "Book-Title                                                               \n",
              "1984                                               -0.083306  0.257352   \n",
              "1st to Die: A Novel                                 0.571516 -0.006343   \n",
              "2010: Odyssey Two                                   0.055791  0.098980   \n",
              "204 Rosewood Lane                                   0.110877 -0.028277   \n",
              "24 Hours                                            0.016878  0.003977   \n",
              "...                                                      ...       ...   \n",
              "Year of Wonders                                     0.012403  0.058252   \n",
              "You Belong To Me                                    0.127969 -0.184287   \n",
              "Zen and the Art of Motorcycle Maintenance: An I...  0.075946  0.172756   \n",
              "Zoya                                                0.026295  0.027464   \n",
              "\\O\\\" Is for Outlaw\"                                 0.180584 -0.028097   \n",
              "\n",
              "User-ID                                             278144    278188  \\\n",
              "Book-Title                                                             \n",
              "1984                                                   0.0  0.069914   \n",
              "1st to Die: A Novel                                    0.0  0.226944   \n",
              "2010: Odyssey Two                                      0.0 -0.000464   \n",
              "204 Rosewood Lane                                      0.0 -0.022164   \n",
              "24 Hours                                               0.0  0.061226   \n",
              "...                                                    ...       ...   \n",
              "Year of Wonders                                        0.0 -0.019674   \n",
              "You Belong To Me                                       0.0  0.006854   \n",
              "Zen and the Art of Motorcycle Maintenance: An I...     0.0 -0.002482   \n",
              "Zoya                                                   0.0  0.078837   \n",
              "\\O\\\" Is for Outlaw\"                                    0.0 -0.004292   \n",
              "\n",
              "User-ID                                               278418    278582  \\\n",
              "Book-Title                                                               \n",
              "1984                                                0.009089 -0.033661   \n",
              "1st to Die: A Novel                                 0.036485  0.471071   \n",
              "2010: Odyssey Two                                   0.092353 -0.001701   \n",
              "204 Rosewood Lane                                   0.036037  0.155142   \n",
              "24 Hours                                            0.016150  0.011238   \n",
              "...                                                      ...       ...   \n",
              "Year of Wonders                                     0.023531 -0.109061   \n",
              "You Belong To Me                                    0.072615  0.039710   \n",
              "Zen and the Art of Motorcycle Maintenance: An I...  0.094948  0.009634   \n",
              "Zoya                                                0.003072 -0.051681   \n",
              "\\O\\\" Is for Outlaw\"                                 0.038935  0.414098   \n",
              "\n",
              "User-ID                                               278633    278843  \n",
              "Book-Title                                                              \n",
              "1984                                               -0.208965  0.143459  \n",
              "1st to Die: A Novel                                 0.491685  0.177794  \n",
              "2010: Odyssey Two                                  -0.018582  0.058159  \n",
              "204 Rosewood Lane                                   0.002465 -0.059686  \n",
              "24 Hours                                           -0.069275  0.003661  \n",
              "...                                                      ...       ...  \n",
              "Year of Wonders                                     0.254900  0.088352  \n",
              "You Belong To Me                                    0.145223  0.029655  \n",
              "Zen and the Art of Motorcycle Maintenance: An I... -0.015391  0.160571  \n",
              "Zoya                                                0.202758  0.016253  \n",
              "\\O\\\" Is for Outlaw\"                                -0.124029 -0.075731  \n",
              "\n",
              "[1388 rows x 3160 columns]"
            ],
            "text/html": [
              "\n",
              "  <div id=\"df-893453ca-782e-43e9-89f3-a011b38b793d\">\n",
              "    <div class=\"colab-df-container\">\n",
              "      <div>\n",
              "<style scoped>\n",
              "    .dataframe tbody tr th:only-of-type {\n",
              "        vertical-align: middle;\n",
              "    }\n",
              "\n",
              "    .dataframe tbody tr th {\n",
              "        vertical-align: top;\n",
              "    }\n",
              "\n",
              "    .dataframe thead th {\n",
              "        text-align: right;\n",
              "    }\n",
              "</style>\n",
              "<table border=\"1\" class=\"dataframe\">\n",
              "  <thead>\n",
              "    <tr style=\"text-align: right;\">\n",
              "      <th>User-ID</th>\n",
              "      <th>243</th>\n",
              "      <th>254</th>\n",
              "      <th>507</th>\n",
              "      <th>638</th>\n",
              "      <th>741</th>\n",
              "      <th>882</th>\n",
              "      <th>929</th>\n",
              "      <th>1025</th>\n",
              "      <th>1211</th>\n",
              "      <th>1424</th>\n",
              "      <th>...</th>\n",
              "      <th>277928</th>\n",
              "      <th>277965</th>\n",
              "      <th>278026</th>\n",
              "      <th>278137</th>\n",
              "      <th>278144</th>\n",
              "      <th>278188</th>\n",
              "      <th>278418</th>\n",
              "      <th>278582</th>\n",
              "      <th>278633</th>\n",
              "      <th>278843</th>\n",
              "    </tr>\n",
              "    <tr>\n",
              "      <th>Book-Title</th>\n",
              "      <th></th>\n",
              "      <th></th>\n",
              "      <th></th>\n",
              "      <th></th>\n",
              "      <th></th>\n",
              "      <th></th>\n",
              "      <th></th>\n",
              "      <th></th>\n",
              "      <th></th>\n",
              "      <th></th>\n",
              "      <th></th>\n",
              "      <th></th>\n",
              "      <th></th>\n",
              "      <th></th>\n",
              "      <th></th>\n",
              "      <th></th>\n",
              "      <th></th>\n",
              "      <th></th>\n",
              "      <th></th>\n",
              "      <th></th>\n",
              "      <th></th>\n",
              "    </tr>\n",
              "  </thead>\n",
              "  <tbody>\n",
              "    <tr>\n",
              "      <th>1984</th>\n",
              "      <td>0.078312</td>\n",
              "      <td>0.722173</td>\n",
              "      <td>0.074063</td>\n",
              "      <td>0.316916</td>\n",
              "      <td>0.0</td>\n",
              "      <td>0.326251</td>\n",
              "      <td>0.268172</td>\n",
              "      <td>0.097105</td>\n",
              "      <td>0.097692</td>\n",
              "      <td>0.104299</td>\n",
              "      <td>...</td>\n",
              "      <td>0.054319</td>\n",
              "      <td>0.040176</td>\n",
              "      <td>-0.083306</td>\n",
              "      <td>0.257352</td>\n",
              "      <td>0.0</td>\n",
              "      <td>0.069914</td>\n",
              "      <td>0.009089</td>\n",
              "      <td>-0.033661</td>\n",
              "      <td>-0.208965</td>\n",
              "      <td>0.143459</td>\n",
              "    </tr>\n",
              "    <tr>\n",
              "      <th>1st to Die: A Novel</th>\n",
              "      <td>0.288091</td>\n",
              "      <td>-0.240872</td>\n",
              "      <td>0.067115</td>\n",
              "      <td>0.493063</td>\n",
              "      <td>0.0</td>\n",
              "      <td>0.076661</td>\n",
              "      <td>-0.021846</td>\n",
              "      <td>-0.091436</td>\n",
              "      <td>0.153738</td>\n",
              "      <td>0.049661</td>\n",
              "      <td>...</td>\n",
              "      <td>0.040731</td>\n",
              "      <td>0.159338</td>\n",
              "      <td>0.571516</td>\n",
              "      <td>-0.006343</td>\n",
              "      <td>0.0</td>\n",
              "      <td>0.226944</td>\n",
              "      <td>0.036485</td>\n",
              "      <td>0.471071</td>\n",
              "      <td>0.491685</td>\n",
              "      <td>0.177794</td>\n",
              "    </tr>\n",
              "    <tr>\n",
              "      <th>2010: Odyssey Two</th>\n",
              "      <td>-0.059874</td>\n",
              "      <td>0.126972</td>\n",
              "      <td>0.016563</td>\n",
              "      <td>-0.065790</td>\n",
              "      <td>0.0</td>\n",
              "      <td>0.099510</td>\n",
              "      <td>0.101754</td>\n",
              "      <td>0.009741</td>\n",
              "      <td>-0.030161</td>\n",
              "      <td>0.029572</td>\n",
              "      <td>...</td>\n",
              "      <td>-0.021704</td>\n",
              "      <td>-0.037910</td>\n",
              "      <td>0.055791</td>\n",
              "      <td>0.098980</td>\n",
              "      <td>0.0</td>\n",
              "      <td>-0.000464</td>\n",
              "      <td>0.092353</td>\n",
              "      <td>-0.001701</td>\n",
              "      <td>-0.018582</td>\n",
              "      <td>0.058159</td>\n",
              "    </tr>\n",
              "    <tr>\n",
              "      <th>204 Rosewood Lane</th>\n",
              "      <td>-0.037039</td>\n",
              "      <td>-0.046640</td>\n",
              "      <td>0.044110</td>\n",
              "      <td>0.216825</td>\n",
              "      <td>0.0</td>\n",
              "      <td>0.002028</td>\n",
              "      <td>-0.039388</td>\n",
              "      <td>-0.005729</td>\n",
              "      <td>0.049553</td>\n",
              "      <td>-0.057323</td>\n",
              "      <td>...</td>\n",
              "      <td>-0.012999</td>\n",
              "      <td>0.011223</td>\n",
              "      <td>0.110877</td>\n",
              "      <td>-0.028277</td>\n",
              "      <td>0.0</td>\n",
              "      <td>-0.022164</td>\n",
              "      <td>0.036037</td>\n",
              "      <td>0.155142</td>\n",
              "      <td>0.002465</td>\n",
              "      <td>-0.059686</td>\n",
              "    </tr>\n",
              "    <tr>\n",
              "      <th>24 Hours</th>\n",
              "      <td>0.027190</td>\n",
              "      <td>0.156728</td>\n",
              "      <td>0.029255</td>\n",
              "      <td>0.129316</td>\n",
              "      <td>0.0</td>\n",
              "      <td>0.034671</td>\n",
              "      <td>0.018901</td>\n",
              "      <td>-0.014110</td>\n",
              "      <td>0.030308</td>\n",
              "      <td>-0.020937</td>\n",
              "      <td>...</td>\n",
              "      <td>0.046818</td>\n",
              "      <td>0.005826</td>\n",
              "      <td>0.016878</td>\n",
              "      <td>0.003977</td>\n",
              "      <td>0.0</td>\n",
              "      <td>0.061226</td>\n",
              "      <td>0.016150</td>\n",
              "      <td>0.011238</td>\n",
              "      <td>-0.069275</td>\n",
              "      <td>0.003661</td>\n",
              "    </tr>\n",
              "    <tr>\n",
              "      <th>...</th>\n",
              "      <td>...</td>\n",
              "      <td>...</td>\n",
              "      <td>...</td>\n",
              "      <td>...</td>\n",
              "      <td>...</td>\n",
              "      <td>...</td>\n",
              "      <td>...</td>\n",
              "      <td>...</td>\n",
              "      <td>...</td>\n",
              "      <td>...</td>\n",
              "      <td>...</td>\n",
              "      <td>...</td>\n",
              "      <td>...</td>\n",
              "      <td>...</td>\n",
              "      <td>...</td>\n",
              "      <td>...</td>\n",
              "      <td>...</td>\n",
              "      <td>...</td>\n",
              "      <td>...</td>\n",
              "      <td>...</td>\n",
              "      <td>...</td>\n",
              "    </tr>\n",
              "    <tr>\n",
              "      <th>Year of Wonders</th>\n",
              "      <td>0.275314</td>\n",
              "      <td>-0.058480</td>\n",
              "      <td>0.024676</td>\n",
              "      <td>0.308737</td>\n",
              "      <td>0.0</td>\n",
              "      <td>0.365453</td>\n",
              "      <td>0.128019</td>\n",
              "      <td>0.076569</td>\n",
              "      <td>0.102664</td>\n",
              "      <td>0.203266</td>\n",
              "      <td>...</td>\n",
              "      <td>-0.027567</td>\n",
              "      <td>0.099664</td>\n",
              "      <td>0.012403</td>\n",
              "      <td>0.058252</td>\n",
              "      <td>0.0</td>\n",
              "      <td>-0.019674</td>\n",
              "      <td>0.023531</td>\n",
              "      <td>-0.109061</td>\n",
              "      <td>0.254900</td>\n",
              "      <td>0.088352</td>\n",
              "    </tr>\n",
              "    <tr>\n",
              "      <th>You Belong To Me</th>\n",
              "      <td>0.078173</td>\n",
              "      <td>0.279694</td>\n",
              "      <td>-0.017976</td>\n",
              "      <td>-0.270285</td>\n",
              "      <td>0.0</td>\n",
              "      <td>0.151927</td>\n",
              "      <td>-0.060024</td>\n",
              "      <td>-0.069308</td>\n",
              "      <td>0.147749</td>\n",
              "      <td>-0.014244</td>\n",
              "      <td>...</td>\n",
              "      <td>0.018296</td>\n",
              "      <td>0.013844</td>\n",
              "      <td>0.127969</td>\n",
              "      <td>-0.184287</td>\n",
              "      <td>0.0</td>\n",
              "      <td>0.006854</td>\n",
              "      <td>0.072615</td>\n",
              "      <td>0.039710</td>\n",
              "      <td>0.145223</td>\n",
              "      <td>0.029655</td>\n",
              "    </tr>\n",
              "    <tr>\n",
              "      <th>Zen and the Art of Motorcycle Maintenance: An Inquiry into Values</th>\n",
              "      <td>0.002303</td>\n",
              "      <td>0.102995</td>\n",
              "      <td>0.026451</td>\n",
              "      <td>-0.257474</td>\n",
              "      <td>0.0</td>\n",
              "      <td>0.248131</td>\n",
              "      <td>0.172262</td>\n",
              "      <td>0.052206</td>\n",
              "      <td>0.014027</td>\n",
              "      <td>0.115813</td>\n",
              "      <td>...</td>\n",
              "      <td>-0.038521</td>\n",
              "      <td>0.000686</td>\n",
              "      <td>0.075946</td>\n",
              "      <td>0.172756</td>\n",
              "      <td>0.0</td>\n",
              "      <td>-0.002482</td>\n",
              "      <td>0.094948</td>\n",
              "      <td>0.009634</td>\n",
              "      <td>-0.015391</td>\n",
              "      <td>0.160571</td>\n",
              "    </tr>\n",
              "    <tr>\n",
              "      <th>Zoya</th>\n",
              "      <td>0.019042</td>\n",
              "      <td>-0.109284</td>\n",
              "      <td>-0.009572</td>\n",
              "      <td>0.262357</td>\n",
              "      <td>0.0</td>\n",
              "      <td>-0.010516</td>\n",
              "      <td>-0.011257</td>\n",
              "      <td>-0.028754</td>\n",
              "      <td>0.009137</td>\n",
              "      <td>-0.004814</td>\n",
              "      <td>...</td>\n",
              "      <td>0.057203</td>\n",
              "      <td>0.043742</td>\n",
              "      <td>0.026295</td>\n",
              "      <td>0.027464</td>\n",
              "      <td>0.0</td>\n",
              "      <td>0.078837</td>\n",
              "      <td>0.003072</td>\n",
              "      <td>-0.051681</td>\n",
              "      <td>0.202758</td>\n",
              "      <td>0.016253</td>\n",
              "    </tr>\n",
              "    <tr>\n",
              "      <th>\\O\\\" Is for Outlaw\"</th>\n",
              "      <td>0.032374</td>\n",
              "      <td>-0.087814</td>\n",
              "      <td>0.020693</td>\n",
              "      <td>0.092857</td>\n",
              "      <td>0.0</td>\n",
              "      <td>-0.098838</td>\n",
              "      <td>0.114997</td>\n",
              "      <td>0.036082</td>\n",
              "      <td>-0.128237</td>\n",
              "      <td>-0.028765</td>\n",
              "      <td>...</td>\n",
              "      <td>0.021843</td>\n",
              "      <td>0.056264</td>\n",
              "      <td>0.180584</td>\n",
              "      <td>-0.028097</td>\n",
              "      <td>0.0</td>\n",
              "      <td>-0.004292</td>\n",
              "      <td>0.038935</td>\n",
              "      <td>0.414098</td>\n",
              "      <td>-0.124029</td>\n",
              "      <td>-0.075731</td>\n",
              "    </tr>\n",
              "  </tbody>\n",
              "</table>\n",
              "<p>1388 rows × 3160 columns</p>\n",
              "</div>\n",
              "      <button class=\"colab-df-convert\" onclick=\"convertToInteractive('df-893453ca-782e-43e9-89f3-a011b38b793d')\"\n",
              "              title=\"Convert this dataframe to an interactive table.\"\n",
              "              style=\"display:none;\">\n",
              "        \n",
              "  <svg xmlns=\"http://www.w3.org/2000/svg\" height=\"24px\"viewBox=\"0 0 24 24\"\n",
              "       width=\"24px\">\n",
              "    <path d=\"M0 0h24v24H0V0z\" fill=\"none\"/>\n",
              "    <path d=\"M18.56 5.44l.94 2.06.94-2.06 2.06-.94-2.06-.94-.94-2.06-.94 2.06-2.06.94zm-11 1L8.5 8.5l.94-2.06 2.06-.94-2.06-.94L8.5 2.5l-.94 2.06-2.06.94zm10 10l.94 2.06.94-2.06 2.06-.94-2.06-.94-.94-2.06-.94 2.06-2.06.94z\"/><path d=\"M17.41 7.96l-1.37-1.37c-.4-.4-.92-.59-1.43-.59-.52 0-1.04.2-1.43.59L10.3 9.45l-7.72 7.72c-.78.78-.78 2.05 0 2.83L4 21.41c.39.39.9.59 1.41.59.51 0 1.02-.2 1.41-.59l7.78-7.78 2.81-2.81c.8-.78.8-2.07 0-2.86zM5.41 20L4 18.59l7.72-7.72 1.47 1.35L5.41 20z\"/>\n",
              "  </svg>\n",
              "      </button>\n",
              "      \n",
              "  <style>\n",
              "    .colab-df-container {\n",
              "      display:flex;\n",
              "      flex-wrap:wrap;\n",
              "      gap: 12px;\n",
              "    }\n",
              "\n",
              "    .colab-df-convert {\n",
              "      background-color: #E8F0FE;\n",
              "      border: none;\n",
              "      border-radius: 50%;\n",
              "      cursor: pointer;\n",
              "      display: none;\n",
              "      fill: #1967D2;\n",
              "      height: 32px;\n",
              "      padding: 0 0 0 0;\n",
              "      width: 32px;\n",
              "    }\n",
              "\n",
              "    .colab-df-convert:hover {\n",
              "      background-color: #E2EBFA;\n",
              "      box-shadow: 0px 1px 2px rgba(60, 64, 67, 0.3), 0px 1px 3px 1px rgba(60, 64, 67, 0.15);\n",
              "      fill: #174EA6;\n",
              "    }\n",
              "\n",
              "    [theme=dark] .colab-df-convert {\n",
              "      background-color: #3B4455;\n",
              "      fill: #D2E3FC;\n",
              "    }\n",
              "\n",
              "    [theme=dark] .colab-df-convert:hover {\n",
              "      background-color: #434B5C;\n",
              "      box-shadow: 0px 1px 3px 1px rgba(0, 0, 0, 0.15);\n",
              "      filter: drop-shadow(0px 1px 2px rgba(0, 0, 0, 0.3));\n",
              "      fill: #FFFFFF;\n",
              "    }\n",
              "  </style>\n",
              "\n",
              "      <script>\n",
              "        const buttonEl =\n",
              "          document.querySelector('#df-893453ca-782e-43e9-89f3-a011b38b793d button.colab-df-convert');\n",
              "        buttonEl.style.display =\n",
              "          google.colab.kernel.accessAllowed ? 'block' : 'none';\n",
              "\n",
              "        async function convertToInteractive(key) {\n",
              "          const element = document.querySelector('#df-893453ca-782e-43e9-89f3-a011b38b793d');\n",
              "          const dataTable =\n",
              "            await google.colab.kernel.invokeFunction('convertToInteractive',\n",
              "                                                     [key], {});\n",
              "          if (!dataTable) return;\n",
              "\n",
              "          const docLinkHtml = 'Like what you see? Visit the ' +\n",
              "            '<a target=\"_blank\" href=https://colab.research.google.com/notebooks/data_table.ipynb>data table notebook</a>'\n",
              "            + ' to learn more about interactive tables.';\n",
              "          element.innerHTML = '';\n",
              "          dataTable['output_type'] = 'display_data';\n",
              "          await google.colab.output.renderOutput(dataTable, element);\n",
              "          const docLink = document.createElement('div');\n",
              "          docLink.innerHTML = docLinkHtml;\n",
              "          element.appendChild(docLink);\n",
              "        }\n",
              "      </script>\n",
              "    </div>\n",
              "  </div>\n",
              "  "
            ]
          },
          "metadata": {},
          "execution_count": 28
        }
      ]
    },
    {
      "cell_type": "markdown",
      "source": [
        "Now we have all the potential ratings for all the items and users. All thats left is to pick up these ratings of previously uninteracted items for each indivisual user and sort them in descending order to have a recommendation list for that user.\n",
        "\n",
        "We also have to ignore the books which the user has already read and rated. Lets try it for a random user  638."
      ],
      "metadata": {
        "id": "28RIOQTwtHsS"
      }
    },
    {
      "cell_type": "code",
      "source": [
        "a = pivot_matrix.loc[638,:].reset_index() #making a data frame of ratings for an user\n",
        "unread_books = a[a[638] < 0.1]['Book-Title']      # filtering the books user has not read  #keeping a non-zero threshold to include all the uninteracted books\n",
        "unread_books  #books user hasnt interacted with yet "
      ],
      "metadata": {
        "colab": {
          "base_uri": "https://localhost:8080/"
        },
        "id": "7id9MVgjPfMR",
        "outputId": "fe0c71f1-b2af-4cbb-9fa7-2bcc39fd4e25"
      },
      "execution_count": 29,
      "outputs": [
        {
          "output_type": "execute_result",
          "data": {
            "text/plain": [
              "0                                                    1984\n",
              "1                                     1st to Die: A Novel\n",
              "2                                       2010: Odyssey Two\n",
              "3                                       204 Rosewood Lane\n",
              "4                                                24 Hours\n",
              "                              ...                        \n",
              "1383                                      Year of Wonders\n",
              "1384                                     You Belong To Me\n",
              "1385    Zen and the Art of Motorcycle Maintenance: An ...\n",
              "1386                                                 Zoya\n",
              "1387                                  \\O\\\" Is for Outlaw\"\n",
              "Name: Book-Title, Length: 1366, dtype: object"
            ]
          },
          "metadata": {},
          "execution_count": 29
        }
      ]
    },
    {
      "cell_type": "code",
      "source": [
        "sorted_user_predictions = prediction_df[638].sort_values(ascending=False).reset_index().rename(columns = {638:'RecommendationStrength'})   #best recommendations for the user \n",
        "#making sure the recommendations are uninteracted books\n",
        "recommendations = sorted_user_predictions[sorted_user_predictions['Book-Title'].isin(unread_books)].sort_values('RecommendationStrength', ascending = False)\n",
        "recommendations.set_index('Book-Title', inplace=True) #setting books as index"
      ],
      "metadata": {
        "id": "TNqj3_4xS5_X"
      },
      "execution_count": 30,
      "outputs": []
    },
    {
      "cell_type": "code",
      "source": [
        "#extracting the top 5 recommendations. \n",
        "list(recommendations.index[0:5])"
      ],
      "metadata": {
        "colab": {
          "base_uri": "https://localhost:8080/"
        },
        "id": "chtaKKUsVNN9",
        "outputId": "44f00c9e-4ded-4bde-97a0-e452b21e7c6b"
      },
      "execution_count": 31,
      "outputs": [
        {
          "output_type": "execute_result",
          "data": {
            "text/plain": [
              "['The Fellowship of the Ring (The Lord of the Rings, Part 1)',\n",
              " \"Where the Heart Is (Oprah's Book Club (Paperback))\",\n",
              " 'The Return of the King (The Lord of the Rings, Part 3)',\n",
              " 'A Painted House',\n",
              " 'The Notebook']"
            ]
          },
          "metadata": {},
          "execution_count": 31
        }
      ]
    },
    {
      "cell_type": "markdown",
      "source": [
        "Now that we have successfully gotten recomendations for a user. Lets write a function to do the same for a chosen user. "
      ],
      "metadata": {
        "id": "HDlKKZ2YWYnH"
      }
    },
    {
      "cell_type": "code",
      "source": [
        "def recommend_book(user_id):\n",
        "  a = pivot_matrix.loc[user_id,:].reset_index() #making a data frame of ratings for an user\n",
        "  unread_books = a[a[user_id] < 0.1]['Book-Title']      # filtering the books user has not read, uninteracted items are rated zero. \n",
        "  sorted_user_predictions = prediction_df[user_id].sort_values(ascending=False).reset_index().rename(columns = {user_id:'RecommendationStrength'})# getting best recommendations from the reconstructed matrix\n",
        "  recommendations = sorted_user_predictions[sorted_user_predictions['Book-Title'].isin(unread_books)].sort_values('RecommendationStrength', ascending = False) #making sure we are not recommending already interacted items. \n",
        "  recommendations.set_index('Book-Title', inplace=True) #setting index as book title\n",
        "  return list(recommendations.index[0:5]) #extracting the enquired information"
      ],
      "metadata": {
        "id": "vyEHCEesfjV1"
      },
      "execution_count": 32,
      "outputs": []
    },
    {
      "cell_type": "code",
      "source": [
        "recommend_book(638)"
      ],
      "metadata": {
        "colab": {
          "base_uri": "https://localhost:8080/"
        },
        "id": "WdT1wHxcYlC6",
        "outputId": "4540dc8b-0f93-4345-e2e8-e48d03094602"
      },
      "execution_count": 33,
      "outputs": [
        {
          "output_type": "execute_result",
          "data": {
            "text/plain": [
              "['The Fellowship of the Ring (The Lord of the Rings, Part 1)',\n",
              " \"Where the Heart Is (Oprah's Book Club (Paperback))\",\n",
              " 'The Return of the King (The Lord of the Rings, Part 3)',\n",
              " 'A Painted House',\n",
              " 'The Notebook']"
            ]
          },
          "metadata": {},
          "execution_count": 33
        }
      ]
    },
    {
      "cell_type": "code",
      "source": [
        "prediction_df.columns"
      ],
      "metadata": {
        "colab": {
          "base_uri": "https://localhost:8080/"
        },
        "id": "gyuIzvzALyl8",
        "outputId": "67030347-d4a6-4bea-b4f2-560b16c572e8"
      },
      "execution_count": 34,
      "outputs": [
        {
          "output_type": "execute_result",
          "data": {
            "text/plain": [
              "Int64Index([   243,    254,    507,    638,    741,    882,    929,   1025,\n",
              "              1211,   1424,\n",
              "            ...\n",
              "            277928, 277965, 278026, 278137, 278144, 278188, 278418, 278582,\n",
              "            278633, 278843],\n",
              "           dtype='int64', name='User-ID', length=3160)"
            ]
          },
          "metadata": {},
          "execution_count": 34
        }
      ]
    },
    {
      "cell_type": "markdown",
      "source": [
        "# Evaluation "
      ],
      "metadata": {
        "id": "4qW8I1fPceWx"
      }
    },
    {
      "cell_type": "code",
      "source": [
        "#settinng User-Id as index in all our interactions data frame (full,train,test)\n",
        "full_df_indexed = rating_popular_book.set_index('User-ID')\n",
        "interactions_train_indexed_df = interactions_train_df.set_index('User-ID')\n",
        "interactions_test_indexed_df = interactions_test_df.set_index('User-ID')"
      ],
      "metadata": {
        "id": "_JwEmzo9hKR1"
      },
      "execution_count": 36,
      "outputs": []
    },
    {
      "cell_type": "code",
      "source": [
        "# Function for getting the set of items which a user has interacted with\n",
        "def get_items_interacted(user,interactions_df):\n",
        "  interacted_items = interactions_df.loc[user]['Book-Title']  #interacted-books for the user\n",
        "  return set(interacted_items)  #converting to set\n",
        "\n",
        "# Function for getting the set of items which a user has not interacted with in training set\n",
        "def non_inter_items_train(user, seed = 42): \n",
        "  interacted_items = get_items_interacted(user, interactions_train_indexed_df)                            # taking all the interacted items from train set\n",
        "  all_items = set(interactions_train_df['Book-Title'])                                                    # all the items in train set\n",
        "  non_interacted_items = all_items - interacted_items                                                     # non-interacted items\n",
        "  random.seed(seed)                                                                                       # defining a random seed for consistency across users\n",
        "  non_interacted_items_sample = random.sample(non_interacted_items, 100)                                  # taking 100 non interacted items\n",
        "  return set(non_interacted_items_sample)                                                                 # set of the 100 non-interacted items from the train\n",
        "\n",
        "# Function to recommend the highest predicted rating content that the user hasn't seen yet\n",
        "def recommend_items(user_id, items_to_ignore=[], topn=10):\n",
        "  sorted_user_predictions = prediction_df[user_id].sort_values(ascending=False).reset_index().rename(columns = {user_id:'RecommendationStrength'})\n",
        "  recommendations_df = sorted_user_predictions[~sorted_user_predictions['Book-Title'].isin(items_to_ignore)].sort_values('RecommendationStrength', ascending = False)\n",
        "  return recommendations_df\n",
        "\n",
        "# Function to verify whether a particular item_id was present in the set of top N recommended items\n",
        "def top_n(book_name, recommended_items, topn):\n",
        "  try:\n",
        "      index = next(i for i, c in enumerate(recommended_items) if c == book_name)  #getting the item rank according to recommendation strength\n",
        "  except:\n",
        "      index = -1   #default value for index                                                            \n",
        "  hit = int(index in range(0, topn))            # hit is integer of true or false/ true when rank is in topn\n",
        "  return hit, index"
      ],
      "metadata": {
        "id": "3Kp_0TGHRHta"
      },
      "execution_count": 58,
      "outputs": []
    },
    {
      "cell_type": "code",
      "source": [
        "# testing recommend items function\n",
        "ri = recommend_items(638 ,items_to_ignore=get_items_interacted(638, interactions_train_indexed_df), topn=10000000000) #keeping top n very high to get the full recommendations list\n",
        "ri"
      ],
      "metadata": {
        "colab": {
          "base_uri": "https://localhost:8080/",
          "height": 424
        },
        "id": "OcuQzp_QJBLh",
        "outputId": "0e5c1ad1-3aaa-4996-c814-684e4789c94e"
      },
      "execution_count": 54,
      "outputs": [
        {
          "output_type": "execute_result",
          "data": {
            "text/plain": [
              "                                             Book-Title  \\\n",
              "1     The Fellowship of the Ring (The Lord of the Ri...   \n",
              "3     Where the Heart Is (Oprah's Book Club (Paperba...   \n",
              "4     The Return of the King (The Lord of the Rings,...   \n",
              "5                                       A Painted House   \n",
              "8                                 Bridget Jones's Diary   \n",
              "...                                                 ...   \n",
              "1383                                  The Tommyknockers   \n",
              "1384                            The Secret Life of Bees   \n",
              "1385               The Hitchhiker's Guide to the Galaxy   \n",
              "1386                                 Four Past Midnight   \n",
              "1387  Harry Potter and the Sorcerer's Stone (Harry P...   \n",
              "\n",
              "      RecommendationStrength  \n",
              "1                   3.116856  \n",
              "3                   2.367475  \n",
              "4                   2.149879  \n",
              "5                   1.951930  \n",
              "8                   1.472597  \n",
              "...                      ...  \n",
              "1383               -0.466395  \n",
              "1384               -0.504884  \n",
              "1385               -0.537858  \n",
              "1386               -0.546200  \n",
              "1387               -1.072996  \n",
              "\n",
              "[1359 rows x 2 columns]"
            ],
            "text/html": [
              "\n",
              "  <div id=\"df-0cea0609-cb2f-4e83-a56c-867baa658f55\">\n",
              "    <div class=\"colab-df-container\">\n",
              "      <div>\n",
              "<style scoped>\n",
              "    .dataframe tbody tr th:only-of-type {\n",
              "        vertical-align: middle;\n",
              "    }\n",
              "\n",
              "    .dataframe tbody tr th {\n",
              "        vertical-align: top;\n",
              "    }\n",
              "\n",
              "    .dataframe thead th {\n",
              "        text-align: right;\n",
              "    }\n",
              "</style>\n",
              "<table border=\"1\" class=\"dataframe\">\n",
              "  <thead>\n",
              "    <tr style=\"text-align: right;\">\n",
              "      <th></th>\n",
              "      <th>Book-Title</th>\n",
              "      <th>RecommendationStrength</th>\n",
              "    </tr>\n",
              "  </thead>\n",
              "  <tbody>\n",
              "    <tr>\n",
              "      <th>1</th>\n",
              "      <td>The Fellowship of the Ring (The Lord of the Ri...</td>\n",
              "      <td>3.116856</td>\n",
              "    </tr>\n",
              "    <tr>\n",
              "      <th>3</th>\n",
              "      <td>Where the Heart Is (Oprah's Book Club (Paperba...</td>\n",
              "      <td>2.367475</td>\n",
              "    </tr>\n",
              "    <tr>\n",
              "      <th>4</th>\n",
              "      <td>The Return of the King (The Lord of the Rings,...</td>\n",
              "      <td>2.149879</td>\n",
              "    </tr>\n",
              "    <tr>\n",
              "      <th>5</th>\n",
              "      <td>A Painted House</td>\n",
              "      <td>1.951930</td>\n",
              "    </tr>\n",
              "    <tr>\n",
              "      <th>8</th>\n",
              "      <td>Bridget Jones's Diary</td>\n",
              "      <td>1.472597</td>\n",
              "    </tr>\n",
              "    <tr>\n",
              "      <th>...</th>\n",
              "      <td>...</td>\n",
              "      <td>...</td>\n",
              "    </tr>\n",
              "    <tr>\n",
              "      <th>1383</th>\n",
              "      <td>The Tommyknockers</td>\n",
              "      <td>-0.466395</td>\n",
              "    </tr>\n",
              "    <tr>\n",
              "      <th>1384</th>\n",
              "      <td>The Secret Life of Bees</td>\n",
              "      <td>-0.504884</td>\n",
              "    </tr>\n",
              "    <tr>\n",
              "      <th>1385</th>\n",
              "      <td>The Hitchhiker's Guide to the Galaxy</td>\n",
              "      <td>-0.537858</td>\n",
              "    </tr>\n",
              "    <tr>\n",
              "      <th>1386</th>\n",
              "      <td>Four Past Midnight</td>\n",
              "      <td>-0.546200</td>\n",
              "    </tr>\n",
              "    <tr>\n",
              "      <th>1387</th>\n",
              "      <td>Harry Potter and the Sorcerer's Stone (Harry P...</td>\n",
              "      <td>-1.072996</td>\n",
              "    </tr>\n",
              "  </tbody>\n",
              "</table>\n",
              "<p>1359 rows × 2 columns</p>\n",
              "</div>\n",
              "      <button class=\"colab-df-convert\" onclick=\"convertToInteractive('df-0cea0609-cb2f-4e83-a56c-867baa658f55')\"\n",
              "              title=\"Convert this dataframe to an interactive table.\"\n",
              "              style=\"display:none;\">\n",
              "        \n",
              "  <svg xmlns=\"http://www.w3.org/2000/svg\" height=\"24px\"viewBox=\"0 0 24 24\"\n",
              "       width=\"24px\">\n",
              "    <path d=\"M0 0h24v24H0V0z\" fill=\"none\"/>\n",
              "    <path d=\"M18.56 5.44l.94 2.06.94-2.06 2.06-.94-2.06-.94-.94-2.06-.94 2.06-2.06.94zm-11 1L8.5 8.5l.94-2.06 2.06-.94-2.06-.94L8.5 2.5l-.94 2.06-2.06.94zm10 10l.94 2.06.94-2.06 2.06-.94-2.06-.94-.94-2.06-.94 2.06-2.06.94z\"/><path d=\"M17.41 7.96l-1.37-1.37c-.4-.4-.92-.59-1.43-.59-.52 0-1.04.2-1.43.59L10.3 9.45l-7.72 7.72c-.78.78-.78 2.05 0 2.83L4 21.41c.39.39.9.59 1.41.59.51 0 1.02-.2 1.41-.59l7.78-7.78 2.81-2.81c.8-.78.8-2.07 0-2.86zM5.41 20L4 18.59l7.72-7.72 1.47 1.35L5.41 20z\"/>\n",
              "  </svg>\n",
              "      </button>\n",
              "      \n",
              "  <style>\n",
              "    .colab-df-container {\n",
              "      display:flex;\n",
              "      flex-wrap:wrap;\n",
              "      gap: 12px;\n",
              "    }\n",
              "\n",
              "    .colab-df-convert {\n",
              "      background-color: #E8F0FE;\n",
              "      border: none;\n",
              "      border-radius: 50%;\n",
              "      cursor: pointer;\n",
              "      display: none;\n",
              "      fill: #1967D2;\n",
              "      height: 32px;\n",
              "      padding: 0 0 0 0;\n",
              "      width: 32px;\n",
              "    }\n",
              "\n",
              "    .colab-df-convert:hover {\n",
              "      background-color: #E2EBFA;\n",
              "      box-shadow: 0px 1px 2px rgba(60, 64, 67, 0.3), 0px 1px 3px 1px rgba(60, 64, 67, 0.15);\n",
              "      fill: #174EA6;\n",
              "    }\n",
              "\n",
              "    [theme=dark] .colab-df-convert {\n",
              "      background-color: #3B4455;\n",
              "      fill: #D2E3FC;\n",
              "    }\n",
              "\n",
              "    [theme=dark] .colab-df-convert:hover {\n",
              "      background-color: #434B5C;\n",
              "      box-shadow: 0px 1px 3px 1px rgba(0, 0, 0, 0.15);\n",
              "      filter: drop-shadow(0px 1px 2px rgba(0, 0, 0, 0.3));\n",
              "      fill: #FFFFFF;\n",
              "    }\n",
              "  </style>\n",
              "\n",
              "      <script>\n",
              "        const buttonEl =\n",
              "          document.querySelector('#df-0cea0609-cb2f-4e83-a56c-867baa658f55 button.colab-df-convert');\n",
              "        buttonEl.style.display =\n",
              "          google.colab.kernel.accessAllowed ? 'block' : 'none';\n",
              "\n",
              "        async function convertToInteractive(key) {\n",
              "          const element = document.querySelector('#df-0cea0609-cb2f-4e83-a56c-867baa658f55');\n",
              "          const dataTable =\n",
              "            await google.colab.kernel.invokeFunction('convertToInteractive',\n",
              "                                                     [key], {});\n",
              "          if (!dataTable) return;\n",
              "\n",
              "          const docLinkHtml = 'Like what you see? Visit the ' +\n",
              "            '<a target=\"_blank\" href=https://colab.research.google.com/notebooks/data_table.ipynb>data table notebook</a>'\n",
              "            + ' to learn more about interactive tables.';\n",
              "          element.innerHTML = '';\n",
              "          dataTable['output_type'] = 'display_data';\n",
              "          await google.colab.output.renderOutput(dataTable, element);\n",
              "          const docLink = document.createElement('div');\n",
              "          docLink.innerHTML = docLinkHtml;\n",
              "          element.appendChild(docLink);\n",
              "        }\n",
              "      </script>\n",
              "    </div>\n",
              "  </div>\n",
              "  "
            ]
          },
          "metadata": {},
          "execution_count": 54
        }
      ]
    },
    {
      "cell_type": "code",
      "source": [
        "#testing the top_n function\n",
        "recs = ri['Book-Title'].values\n",
        "top_n(\"The Secret Life of Bees\", recs, 10)"
      ],
      "metadata": {
        "colab": {
          "base_uri": "https://localhost:8080/"
        },
        "id": "PxEzKeGwu3JZ",
        "outputId": "d89ee9f9-cb6d-42ae-f4df-a5f90b52a770"
      },
      "execution_count": 65,
      "outputs": [
        {
          "output_type": "execute_result",
          "data": {
            "text/plain": [
              "(0, 1355)"
            ]
          },
          "metadata": {},
          "execution_count": 65
        }
      ]
    },
    {
      "cell_type": "code",
      "source": [
        "#testing the interacted items function\n",
        "print('The items user number 638 has interacted with in the test-set:\\n', get_items_interacted(638,interactions_test_indexed_df))"
      ],
      "metadata": {
        "colab": {
          "base_uri": "https://localhost:8080/"
        },
        "id": "xHIMnjudewax",
        "outputId": "5dfd8aac-6b6c-4c31-c74b-9656deba5058"
      },
      "execution_count": null,
      "outputs": [
        {
          "output_type": "stream",
          "name": "stdout",
          "text": [
            "The items user number 638 has interacted with in the test-set:\n",
            " {'The Guardian', 'A Walk to Remember', 'Bridget Jones : The Edge of Reason', \"Daddy's Little Girl\", 'The Da Vinci Code', 'Big Trouble', \"He Sees You When You're Sleeping : A Novel\"}\n"
          ]
        }
      ]
    },
    {
      "cell_type": "code",
      "source": [
        "#testing non-interacted items function\n",
        "print('100 items user 638 has never interacted with in the train set:')                   \n",
        "non_inter_items_train(638)                                                 "
      ],
      "metadata": {
        "colab": {
          "base_uri": "https://localhost:8080/"
        },
        "id": "GbmQ0tBYfjto",
        "outputId": "2fb5dcf6-8e5e-448f-baeb-412954bb6054"
      },
      "execution_count": null,
      "outputs": [
        {
          "output_type": "stream",
          "name": "stdout",
          "text": [
            "100 items user 638 has never interacted with in the train set:\n"
          ]
        },
        {
          "output_type": "execute_result",
          "data": {
            "text/plain": [
              "{'204 Rosewood Lane',\n",
              " 'A Day Late and a Dollar Short',\n",
              " 'A Painted House',\n",
              " 'A Son of the Circus',\n",
              " 'A Thin Dark Line (Mysteries &amp; Horror)',\n",
              " 'After the Fire',\n",
              " 'Alaska',\n",
              " 'All the Pretty Horses (The Border Trilogy, Vol 1)',\n",
              " 'Angels &amp; Demons',\n",
              " 'Answered Prayers',\n",
              " 'Artemis Fowl (Artemis Fowl, Book 1)',\n",
              " 'At Home in Mitford (The Mitford Years)',\n",
              " 'Between Friends',\n",
              " 'By the Light of the Moon',\n",
              " 'Chicken Soup for the Teenage Soul (Chicken Soup for the Soul)',\n",
              " 'Circle of Friends',\n",
              " 'Couplehood',\n",
              " 'Crazy for You',\n",
              " \"Daddy's Little Girl\",\n",
              " 'Daughter of Fortune: A Novel',\n",
              " 'Deja Dead',\n",
              " 'Digital Fortress : A Thriller',\n",
              " 'Eva Luna',\n",
              " 'Follow the Stars Home',\n",
              " 'Forever... : A Novel of Good and Evil, Love and Hope',\n",
              " \"Full Tilt (Janet Evanovich's Full Series)\",\n",
              " 'Girl with a Pearl Earring',\n",
              " 'Granny Dan',\n",
              " 'Ground Zero and Beyond',\n",
              " 'Guardian',\n",
              " 'High Five (A Stephanie Plum Novel)',\n",
              " 'High Tide',\n",
              " 'Holes (Yearling Newbery)',\n",
              " 'If Tomorrow Comes',\n",
              " 'Irish Rebel (Special Edition, 1328)',\n",
              " 'Irresistible Forces',\n",
              " \"Jewel (Oprah's Book Club)\",\n",
              " 'Julie of the Wolves (Julie of the Wolves)',\n",
              " 'Lasher: Lives of the Mayfair Witches (Lives of the Mayfair Witches)',\n",
              " 'Lawless',\n",
              " 'Let Me Call You Sweetheart',\n",
              " 'Lucky : A Memoir',\n",
              " 'Lucky You',\n",
              " 'Men Are from Mars, Women Are from Venus: A Practical Guide for Improving Communication and Getting What You Want in Your Relationships',\n",
              " 'Naked in Death',\n",
              " 'Neverwhere',\n",
              " 'No Safe Place',\n",
              " 'On Wings of Eagles',\n",
              " 'P Is for Peril (Kinsey Millhone Mysteries (Hardcover))',\n",
              " 'Patriot Games',\n",
              " 'Plum Island',\n",
              " 'Politically Correct Bedtime Stories: Modern Tales for Our Life and Times',\n",
              " 'Possessing the Secret of Joy',\n",
              " 'Presumed Innocent',\n",
              " 'Prime Cut',\n",
              " 'Public Secrets',\n",
              " 'Rose Madder',\n",
              " 'Sanctuary',\n",
              " 'Second Child',\n",
              " 'Seduction in Death',\n",
              " 'Sense and Sensibility',\n",
              " 'Shogun',\n",
              " 'Sisterhood of the Traveling Pants',\n",
              " 'Sleep No More',\n",
              " 'Smart Women',\n",
              " 'Stillwatch',\n",
              " 'Summer Island',\n",
              " 'The Andromeda Strain',\n",
              " 'The Bad Place',\n",
              " 'The Ballad of Frankie Silver',\n",
              " 'The Beach House',\n",
              " \"The Bonesetter's Daughter\",\n",
              " 'The Bonfire of the Vanities',\n",
              " 'The Bridge Across Forever',\n",
              " 'The Cat Who Tailed a Thief',\n",
              " 'The Chosen',\n",
              " 'The Corrections: A Novel',\n",
              " \"The Dive From Clausen's Pier (Alex Awards)\",\n",
              " 'The Drawing of the Three (The Dark Tower, Book 2)',\n",
              " 'The Firm',\n",
              " 'The Flanders Panel',\n",
              " 'The Girl Who Loved Tom Gordon : A Novel',\n",
              " 'The Glass Lake',\n",
              " 'The Joy Luck Club',\n",
              " 'The Jury',\n",
              " 'The Little Friend',\n",
              " 'The Lovely Bones',\n",
              " 'The Other Boleyn Girl',\n",
              " 'The Pelican Brief',\n",
              " 'The Silver Chair',\n",
              " 'The Songcatcher: A Ballad Novel',\n",
              " 'The Stone Diaries',\n",
              " 'The World According to Garp',\n",
              " 'Three Weeks in Paris',\n",
              " 'Timeline',\n",
              " 'Touching Evil',\n",
              " 'True Blue',\n",
              " 'Unspeakable',\n",
              " 'Wuthering Heights (Penguin Classics)',\n",
              " 'Year of Wonders'}"
            ]
          },
          "metadata": {},
          "execution_count": 54
        }
      ]
    },
    {
      "cell_type": "code",
      "source": [
        ""
      ],
      "metadata": {
        "id": "5RUsrNyWZX9e"
      },
      "execution_count": null,
      "outputs": []
    },
    {
      "cell_type": "code",
      "source": [
        ""
      ],
      "metadata": {
        "id": "FYFrLlIFZX_8"
      },
      "execution_count": null,
      "outputs": []
    },
    {
      "cell_type": "code",
      "source": [
        ""
      ],
      "metadata": {
        "id": "menh16GfZYEE"
      },
      "execution_count": null,
      "outputs": []
    },
    {
      "cell_type": "markdown",
      "source": [
        "This brings us to the end of our exercise.\n",
        "We had also tried running a recommendation system with the whole data set but we kept running into memory problems even after different approaches. SO we put some constraints on the data set and tried collaborative filtering for our recommendations. We used both memory-based and model-based approaches for our recommendation system. \n",
        "\n",
        "Thanks for reading!"
      ],
      "metadata": {
        "id": "jf3318CGY4Bq"
      }
    }
  ]
}